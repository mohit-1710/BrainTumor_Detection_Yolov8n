{
 "cells": [
  {
   "cell_type": "code",
   "execution_count": 1,
   "id": "37abc6b0-6641-4d7d-8ec8-fa3abfa3d4e8",
   "metadata": {},
   "outputs": [],
   "source": [
    "import torch\n",
    "from ultralytics import YOLO\n",
    "import ipywidgets as widgets\n",
    "from IPython.display import display\n",
    "from PIL import Image\n",
    "import io\n"
   ]
  },
  {
   "cell_type": "code",
   "execution_count": 2,
   "id": "458d1c33-9d93-4f26-ad77-eb30886e2ea7",
   "metadata": {},
   "outputs": [
    {
     "name": "stdout",
     "output_type": "stream",
     "text": [
      "Downloading https://github.com/ultralytics/assets/releases/download/v8.2.0/yolov8n.pt to 'yolov8n.pt'...\n"
     ]
    },
    {
     "name": "stderr",
     "output_type": "stream",
     "text": [
      "100%|████████████████████████████████████████████████████████████████████████████████████| 6.25M/6.25M [00:03<00:00, 2.02MB/s]\n"
     ]
    }
   ],
   "source": [
    "# Load the pre-trained YOLOv8 model\n",
    "model = YOLO('yolov8n.pt')  # Change to 'yolov8m.pt', 'yolov8l.pt', etc. based on your needs\n"
   ]
  },
  {
   "cell_type": "code",
   "execution_count": 3,
   "id": "8cc32007-25b6-40b6-9a93-c2a9117bf394",
   "metadata": {},
   "outputs": [
    {
     "name": "stdout",
     "output_type": "stream",
     "text": [
      "New https://pypi.org/project/ultralytics/8.3.1 available  Update with 'pip install -U ultralytics'\n",
      "Ultralytics YOLOv8.2.103  Python-3.12.6 torch-2.4.1+cu118 CUDA:0 (NVIDIA GeForce RTX 4050 Laptop GPU, 6140MiB)\n",
      "\u001b[34m\u001b[1mengine\\trainer: \u001b[0mtask=detect, mode=train, model=yolov8n.pt, data=C:\\Users\\Mohit\\OneDrive\\Desktop\\BrainTumorDetectionYolov\\BrainTumorDetectionYolov9\\data.yaml, epochs=100, time=None, patience=100, batch=16, imgsz=640, save=True, save_period=-1, cache=False, device=cuda, workers=8, project=None, name=train, exist_ok=False, pretrained=True, optimizer=auto, verbose=True, seed=0, deterministic=True, single_cls=False, rect=False, cos_lr=False, close_mosaic=10, resume=False, amp=False, fraction=1.0, profile=False, freeze=None, multi_scale=False, overlap_mask=True, mask_ratio=4, dropout=0.0, val=True, split=val, save_json=False, save_hybrid=False, conf=None, iou=0.7, max_det=300, half=False, dnn=False, plots=True, source=None, vid_stride=1, stream_buffer=False, visualize=False, augment=False, agnostic_nms=False, classes=None, retina_masks=False, embed=None, show=False, save_frames=False, save_txt=False, save_conf=False, save_crop=False, show_labels=True, show_conf=True, show_boxes=True, line_width=None, format=torchscript, keras=False, optimize=False, int8=False, dynamic=False, simplify=True, opset=None, workspace=4, nms=False, lr0=0.01, lrf=0.01, momentum=0.937, weight_decay=0.0005, warmup_epochs=3.0, warmup_momentum=0.8, warmup_bias_lr=0.1, box=7.5, cls=0.5, dfl=1.5, pose=12.0, kobj=1.0, label_smoothing=0.0, nbs=64, hsv_h=0.015, hsv_s=0.7, hsv_v=0.4, degrees=0.0, translate=0.1, scale=0.5, shear=0.0, perspective=0.0, flipud=0.0, fliplr=0.5, bgr=0.0, mosaic=1.0, mixup=0.0, copy_paste=0.0, auto_augment=randaugment, erasing=0.4, crop_fraction=1.0, cfg=None, tracker=botsort.yaml, save_dir=runs\\detect\\train\n",
      "Overriding model.yaml nc=80 with nc=3\n",
      "\n",
      "                   from  n    params  module                                       arguments                     \n",
      "  0                  -1  1       464  ultralytics.nn.modules.conv.Conv             [3, 16, 3, 2]                 \n",
      "  1                  -1  1      4672  ultralytics.nn.modules.conv.Conv             [16, 32, 3, 2]                \n",
      "  2                  -1  1      7360  ultralytics.nn.modules.block.C2f             [32, 32, 1, True]             \n",
      "  3                  -1  1     18560  ultralytics.nn.modules.conv.Conv             [32, 64, 3, 2]                \n",
      "  4                  -1  2     49664  ultralytics.nn.modules.block.C2f             [64, 64, 2, True]             \n",
      "  5                  -1  1     73984  ultralytics.nn.modules.conv.Conv             [64, 128, 3, 2]               \n",
      "  6                  -1  2    197632  ultralytics.nn.modules.block.C2f             [128, 128, 2, True]           \n",
      "  7                  -1  1    295424  ultralytics.nn.modules.conv.Conv             [128, 256, 3, 2]              \n",
      "  8                  -1  1    460288  ultralytics.nn.modules.block.C2f             [256, 256, 1, True]           \n",
      "  9                  -1  1    164608  ultralytics.nn.modules.block.SPPF            [256, 256, 5]                 \n",
      " 10                  -1  1         0  torch.nn.modules.upsampling.Upsample         [None, 2, 'nearest']          \n",
      " 11             [-1, 6]  1         0  ultralytics.nn.modules.conv.Concat           [1]                           \n",
      " 12                  -1  1    148224  ultralytics.nn.modules.block.C2f             [384, 128, 1]                 \n",
      " 13                  -1  1         0  torch.nn.modules.upsampling.Upsample         [None, 2, 'nearest']          \n",
      " 14             [-1, 4]  1         0  ultralytics.nn.modules.conv.Concat           [1]                           \n",
      " 15                  -1  1     37248  ultralytics.nn.modules.block.C2f             [192, 64, 1]                  \n",
      " 16                  -1  1     36992  ultralytics.nn.modules.conv.Conv             [64, 64, 3, 2]                \n",
      " 17            [-1, 12]  1         0  ultralytics.nn.modules.conv.Concat           [1]                           \n",
      " 18                  -1  1    123648  ultralytics.nn.modules.block.C2f             [192, 128, 1]                 \n",
      " 19                  -1  1    147712  ultralytics.nn.modules.conv.Conv             [128, 128, 3, 2]              \n",
      " 20             [-1, 9]  1         0  ultralytics.nn.modules.conv.Concat           [1]                           \n",
      " 21                  -1  1    493056  ultralytics.nn.modules.block.C2f             [384, 256, 1]                 \n",
      " 22        [15, 18, 21]  1    751897  ultralytics.nn.modules.head.Detect           [3, [64, 128, 256]]           \n",
      "Model summary: 225 layers, 3,011,433 parameters, 3,011,417 gradients, 8.2 GFLOPs\n",
      "\n",
      "Transferred 319/355 items from pretrained weights\n",
      "Freezing layer 'model.22.dfl.conv.weight'\n"
     ]
    },
    {
     "name": "stderr",
     "output_type": "stream",
     "text": [
      "\u001b[34m\u001b[1mtrain: \u001b[0mScanning C:\\Users\\Mohit\\OneDrive\\Desktop\\BrainTumorDetectionYolov\\BrainTumorDetectionYolov9\\train\\labels.cache... 6930 \u001b[0m\n",
      "\u001b[34m\u001b[1mval: \u001b[0mScanning C:\\Users\\Mohit\\OneDrive\\Desktop\\BrainTumorDetectionYolov\\BrainTumorDetectionYolov9\\valid\\labels.cache... 1980 im\u001b[0m\n"
     ]
    },
    {
     "name": "stdout",
     "output_type": "stream",
     "text": [
      "Plotting labels to runs\\detect\\train\\labels.jpg... \n",
      "\u001b[34m\u001b[1moptimizer:\u001b[0m 'optimizer=auto' found, ignoring 'lr0=0.01' and 'momentum=0.937' and determining best 'optimizer', 'lr0' and 'momentum' automatically... \n",
      "\u001b[34m\u001b[1moptimizer:\u001b[0m SGD(lr=0.01, momentum=0.9) with parameter groups 57 weight(decay=0.0), 64 weight(decay=0.0005), 63 bias(decay=0.0)\n",
      "Image sizes 640 train, 640 val\n",
      "Using 8 dataloader workers\n",
      "Logging results to \u001b[1mruns\\detect\\train\u001b[0m\n",
      "Starting training for 100 epochs...\n",
      "\n",
      "      Epoch    GPU_mem   box_loss   cls_loss   dfl_loss  Instances       Size\n"
     ]
    },
    {
     "name": "stderr",
     "output_type": "stream",
     "text": [
      "      1/100      4.34G      1.798      3.146      1.895          5        640: 100%|██████████| 434/434 [01:40<00:00,  4.33it/\n",
      "                 Class     Images  Instances      Box(P          R      mAP50  mAP50-95): 100%|██████████| 62/62 [00:16<00:00,\n"
     ]
    },
    {
     "name": "stdout",
     "output_type": "stream",
     "text": [
      "                   all       1980       4380      0.395      0.318      0.304      0.127\n",
      "\n",
      "      Epoch    GPU_mem   box_loss   cls_loss   dfl_loss  Instances       Size\n"
     ]
    },
    {
     "name": "stderr",
     "output_type": "stream",
     "text": [
      "      2/100       4.4G      1.701      2.377      1.789          6        640: 100%|██████████| 434/434 [01:34<00:00,  4.59it/\n",
      "                 Class     Images  Instances      Box(P          R      mAP50  mAP50-95): 100%|██████████| 62/62 [00:15<00:00,\n"
     ]
    },
    {
     "name": "stdout",
     "output_type": "stream",
     "text": [
      "                   all       1980       4380      0.523      0.402      0.396      0.162\n",
      "\n",
      "      Epoch    GPU_mem   box_loss   cls_loss   dfl_loss  Instances       Size\n"
     ]
    },
    {
     "name": "stderr",
     "output_type": "stream",
     "text": [
      "      3/100      4.39G      1.747      2.181      1.828          5        640: 100%|██████████| 434/434 [01:33<00:00,  4.62it/\n",
      "                 Class     Images  Instances      Box(P          R      mAP50  mAP50-95): 100%|██████████| 62/62 [00:14<00:00,\n"
     ]
    },
    {
     "name": "stdout",
     "output_type": "stream",
     "text": [
      "                   all       1980       4380      0.462      0.392      0.377      0.161\n",
      "\n",
      "      Epoch    GPU_mem   box_loss   cls_loss   dfl_loss  Instances       Size\n"
     ]
    },
    {
     "name": "stderr",
     "output_type": "stream",
     "text": [
      "      4/100      4.39G      1.778      2.084      1.872         14        640: 100%|██████████| 434/434 [01:31<00:00,  4.77it/\n",
      "                 Class     Images  Instances      Box(P          R      mAP50  mAP50-95): 100%|██████████| 62/62 [00:14<00:00,\n"
     ]
    },
    {
     "name": "stdout",
     "output_type": "stream",
     "text": [
      "                   all       1980       4380      0.606      0.446       0.47      0.211\n",
      "\n",
      "      Epoch    GPU_mem   box_loss   cls_loss   dfl_loss  Instances       Size\n"
     ]
    },
    {
     "name": "stderr",
     "output_type": "stream",
     "text": [
      "      5/100      4.39G      1.751      1.976      1.837         15        640: 100%|██████████| 434/434 [01:30<00:00,  4.80it/\n",
      "                 Class     Images  Instances      Box(P          R      mAP50  mAP50-95): 100%|██████████| 62/62 [00:14<00:00,"
     ]
    },
    {
     "name": "stdout",
     "output_type": "stream",
     "text": [
      "                   all       1980       4380      0.596      0.481        0.5      0.239\n"
     ]
    },
    {
     "name": "stderr",
     "output_type": "stream",
     "text": [
      "\n"
     ]
    },
    {
     "name": "stdout",
     "output_type": "stream",
     "text": [
      "\n",
      "      Epoch    GPU_mem   box_loss   cls_loss   dfl_loss  Instances       Size\n"
     ]
    },
    {
     "name": "stderr",
     "output_type": "stream",
     "text": [
      "      6/100      4.35G       1.72      1.863      1.821          4        640: 100%|██████████| 434/434 [01:30<00:00,  4.79it/\n",
      "                 Class     Images  Instances      Box(P          R      mAP50  mAP50-95): 100%|██████████| 62/62 [00:14<00:00,\n"
     ]
    },
    {
     "name": "stdout",
     "output_type": "stream",
     "text": [
      "                   all       1980       4380      0.642       0.48      0.515      0.231\n",
      "\n",
      "      Epoch    GPU_mem   box_loss   cls_loss   dfl_loss  Instances       Size\n"
     ]
    },
    {
     "name": "stderr",
     "output_type": "stream",
     "text": [
      "      7/100      4.39G      1.698      1.783      1.809          8        640: 100%|██████████| 434/434 [01:31<00:00,  4.76it/\n",
      "                 Class     Images  Instances      Box(P          R      mAP50  mAP50-95): 100%|██████████| 62/62 [00:15<00:00,\n"
     ]
    },
    {
     "name": "stdout",
     "output_type": "stream",
     "text": [
      "                   all       1980       4380      0.678      0.514      0.555      0.274\n",
      "\n",
      "      Epoch    GPU_mem   box_loss   cls_loss   dfl_loss  Instances       Size\n"
     ]
    },
    {
     "name": "stderr",
     "output_type": "stream",
     "text": [
      "      8/100      4.38G      1.678      1.719      1.795          5        640: 100%|██████████| 434/434 [01:31<00:00,  4.74it/\n",
      "                 Class     Images  Instances      Box(P          R      mAP50  mAP50-95): 100%|██████████| 62/62 [00:14<00:00,"
     ]
    },
    {
     "name": "stdout",
     "output_type": "stream",
     "text": [
      "                   all       1980       4380      0.707      0.538      0.583      0.286\n"
     ]
    },
    {
     "name": "stderr",
     "output_type": "stream",
     "text": [
      "\n"
     ]
    },
    {
     "name": "stdout",
     "output_type": "stream",
     "text": [
      "\n",
      "      Epoch    GPU_mem   box_loss   cls_loss   dfl_loss  Instances       Size\n"
     ]
    },
    {
     "name": "stderr",
     "output_type": "stream",
     "text": [
      "      9/100      4.38G      1.661      1.676      1.778         12        640: 100%|██████████| 434/434 [01:31<00:00,  4.76it/\n",
      "                 Class     Images  Instances      Box(P          R      mAP50  mAP50-95): 100%|██████████| 62/62 [00:14<00:00,"
     ]
    },
    {
     "name": "stdout",
     "output_type": "stream",
     "text": [
      "                   all       1980       4380      0.699      0.543      0.587      0.291\n"
     ]
    },
    {
     "name": "stderr",
     "output_type": "stream",
     "text": [
      "\n"
     ]
    },
    {
     "name": "stdout",
     "output_type": "stream",
     "text": [
      "\n",
      "      Epoch    GPU_mem   box_loss   cls_loss   dfl_loss  Instances       Size\n"
     ]
    },
    {
     "name": "stderr",
     "output_type": "stream",
     "text": [
      "     10/100      4.39G      1.656      1.648      1.765          2        640: 100%|██████████| 434/434 [01:30<00:00,  4.81it/\n",
      "                 Class     Images  Instances      Box(P          R      mAP50  mAP50-95): 100%|██████████| 62/62 [00:14<00:00,"
     ]
    },
    {
     "name": "stdout",
     "output_type": "stream",
     "text": [
      "                   all       1980       4380      0.721      0.557       0.61      0.315\n"
     ]
    },
    {
     "name": "stderr",
     "output_type": "stream",
     "text": [
      "\n"
     ]
    },
    {
     "name": "stdout",
     "output_type": "stream",
     "text": [
      "\n",
      "      Epoch    GPU_mem   box_loss   cls_loss   dfl_loss  Instances       Size\n"
     ]
    },
    {
     "name": "stderr",
     "output_type": "stream",
     "text": [
      "     11/100      4.38G      1.644      1.602      1.761          3        640: 100%|██████████| 434/434 [01:30<00:00,  4.78it/\n",
      "                 Class     Images  Instances      Box(P          R      mAP50  mAP50-95): 100%|██████████| 62/62 [00:14<00:00,"
     ]
    },
    {
     "name": "stdout",
     "output_type": "stream",
     "text": [
      "                   all       1980       4380      0.662      0.511      0.549      0.273\n"
     ]
    },
    {
     "name": "stderr",
     "output_type": "stream",
     "text": [
      "\n"
     ]
    },
    {
     "name": "stdout",
     "output_type": "stream",
     "text": [
      "\n",
      "      Epoch    GPU_mem   box_loss   cls_loss   dfl_loss  Instances       Size\n"
     ]
    },
    {
     "name": "stderr",
     "output_type": "stream",
     "text": [
      "     12/100      4.39G      1.623      1.557      1.743          4        640: 100%|██████████| 434/434 [01:30<00:00,  4.79it/\n",
      "                 Class     Images  Instances      Box(P          R      mAP50  mAP50-95): 100%|██████████| 62/62 [00:14<00:00,"
     ]
    },
    {
     "name": "stdout",
     "output_type": "stream",
     "text": [
      "                   all       1980       4380      0.735      0.551      0.612      0.316\n"
     ]
    },
    {
     "name": "stderr",
     "output_type": "stream",
     "text": [
      "\n"
     ]
    },
    {
     "name": "stdout",
     "output_type": "stream",
     "text": [
      "\n",
      "      Epoch    GPU_mem   box_loss   cls_loss   dfl_loss  Instances       Size\n"
     ]
    },
    {
     "name": "stderr",
     "output_type": "stream",
     "text": [
      "     13/100      4.38G      1.604      1.529      1.725          8        640: 100%|██████████| 434/434 [01:30<00:00,  4.82it/\n",
      "                 Class     Images  Instances      Box(P          R      mAP50  mAP50-95): 100%|██████████| 62/62 [00:14<00:00,"
     ]
    },
    {
     "name": "stdout",
     "output_type": "stream",
     "text": [
      "                   all       1980       4380       0.77      0.561       0.63      0.335\n"
     ]
    },
    {
     "name": "stderr",
     "output_type": "stream",
     "text": [
      "\n"
     ]
    },
    {
     "name": "stdout",
     "output_type": "stream",
     "text": [
      "\n",
      "      Epoch    GPU_mem   box_loss   cls_loss   dfl_loss  Instances       Size\n"
     ]
    },
    {
     "name": "stderr",
     "output_type": "stream",
     "text": [
      "     14/100      4.37G      1.593      1.501       1.72         13        640: 100%|██████████| 434/434 [01:30<00:00,  4.80it/\n",
      "                 Class     Images  Instances      Box(P          R      mAP50  mAP50-95): 100%|██████████| 62/62 [00:14<00:00,"
     ]
    },
    {
     "name": "stdout",
     "output_type": "stream",
     "text": [
      "                   all       1980       4380      0.736      0.541      0.604      0.323\n"
     ]
    },
    {
     "name": "stderr",
     "output_type": "stream",
     "text": [
      "\n"
     ]
    },
    {
     "name": "stdout",
     "output_type": "stream",
     "text": [
      "\n",
      "      Epoch    GPU_mem   box_loss   cls_loss   dfl_loss  Instances       Size\n"
     ]
    },
    {
     "name": "stderr",
     "output_type": "stream",
     "text": [
      "     15/100      4.37G      1.582       1.47      1.708          5        640: 100%|██████████| 434/434 [01:29<00:00,  4.83it/\n",
      "                 Class     Images  Instances      Box(P          R      mAP50  mAP50-95): 100%|██████████| 62/62 [00:14<00:00,"
     ]
    },
    {
     "name": "stdout",
     "output_type": "stream",
     "text": [
      "                   all       1980       4380      0.773      0.564      0.639       0.34\n"
     ]
    },
    {
     "name": "stderr",
     "output_type": "stream",
     "text": [
      "\n"
     ]
    },
    {
     "name": "stdout",
     "output_type": "stream",
     "text": [
      "\n",
      "      Epoch    GPU_mem   box_loss   cls_loss   dfl_loss  Instances       Size\n"
     ]
    },
    {
     "name": "stderr",
     "output_type": "stream",
     "text": [
      "     16/100      4.37G      1.578      1.459      1.706          9        640: 100%|██████████| 434/434 [01:31<00:00,  4.76it/\n",
      "                 Class     Images  Instances      Box(P          R      mAP50  mAP50-95): 100%|██████████| 62/62 [00:14<00:00,"
     ]
    },
    {
     "name": "stdout",
     "output_type": "stream",
     "text": [
      "                   all       1980       4380      0.782      0.579      0.651      0.347\n"
     ]
    },
    {
     "name": "stderr",
     "output_type": "stream",
     "text": [
      "\n"
     ]
    },
    {
     "name": "stdout",
     "output_type": "stream",
     "text": [
      "\n",
      "      Epoch    GPU_mem   box_loss   cls_loss   dfl_loss  Instances       Size\n"
     ]
    },
    {
     "name": "stderr",
     "output_type": "stream",
     "text": [
      "     17/100      4.38G       1.56      1.416      1.688         11        640: 100%|██████████| 434/434 [01:29<00:00,  4.83it/\n",
      "                 Class     Images  Instances      Box(P          R      mAP50  mAP50-95): 100%|██████████| 62/62 [00:14<00:00,"
     ]
    },
    {
     "name": "stdout",
     "output_type": "stream",
     "text": [
      "                   all       1980       4380      0.783      0.576      0.649      0.357\n"
     ]
    },
    {
     "name": "stderr",
     "output_type": "stream",
     "text": [
      "\n"
     ]
    },
    {
     "name": "stdout",
     "output_type": "stream",
     "text": [
      "\n",
      "      Epoch    GPU_mem   box_loss   cls_loss   dfl_loss  Instances       Size\n"
     ]
    },
    {
     "name": "stderr",
     "output_type": "stream",
     "text": [
      "     18/100      4.38G      1.551       1.41      1.679          7        640: 100%|██████████| 434/434 [01:30<00:00,  4.80it/\n",
      "                 Class     Images  Instances      Box(P          R      mAP50  mAP50-95): 100%|██████████| 62/62 [00:14<00:00,"
     ]
    },
    {
     "name": "stdout",
     "output_type": "stream",
     "text": [
      "                   all       1980       4380      0.792      0.592      0.659      0.354\n"
     ]
    },
    {
     "name": "stderr",
     "output_type": "stream",
     "text": [
      "\n"
     ]
    },
    {
     "name": "stdout",
     "output_type": "stream",
     "text": [
      "\n",
      "      Epoch    GPU_mem   box_loss   cls_loss   dfl_loss  Instances       Size\n"
     ]
    },
    {
     "name": "stderr",
     "output_type": "stream",
     "text": [
      "     19/100      4.38G      1.547      1.402      1.676          5        640: 100%|██████████| 434/434 [01:31<00:00,  4.76it/\n",
      "                 Class     Images  Instances      Box(P          R      mAP50  mAP50-95): 100%|██████████| 62/62 [00:14<00:00,"
     ]
    },
    {
     "name": "stdout",
     "output_type": "stream",
     "text": [
      "                   all       1980       4380      0.783        0.6      0.667      0.371\n"
     ]
    },
    {
     "name": "stderr",
     "output_type": "stream",
     "text": [
      "\n"
     ]
    },
    {
     "name": "stdout",
     "output_type": "stream",
     "text": [
      "\n",
      "      Epoch    GPU_mem   box_loss   cls_loss   dfl_loss  Instances       Size\n"
     ]
    },
    {
     "name": "stderr",
     "output_type": "stream",
     "text": [
      "     20/100      4.38G       1.54      1.364       1.67          6        640: 100%|██████████| 434/434 [01:30<00:00,  4.78it/\n",
      "                 Class     Images  Instances      Box(P          R      mAP50  mAP50-95): 100%|██████████| 62/62 [00:14<00:00,"
     ]
    },
    {
     "name": "stdout",
     "output_type": "stream",
     "text": [
      "                   all       1980       4380      0.789      0.611      0.675      0.371\n"
     ]
    },
    {
     "name": "stderr",
     "output_type": "stream",
     "text": [
      "\n"
     ]
    },
    {
     "name": "stdout",
     "output_type": "stream",
     "text": [
      "\n",
      "      Epoch    GPU_mem   box_loss   cls_loss   dfl_loss  Instances       Size\n"
     ]
    },
    {
     "name": "stderr",
     "output_type": "stream",
     "text": [
      "     21/100      4.38G      1.525      1.371      1.662          8        640: 100%|██████████| 434/434 [01:30<00:00,  4.77it/\n",
      "                 Class     Images  Instances      Box(P          R      mAP50  mAP50-95): 100%|██████████| 62/62 [00:14<00:00,"
     ]
    },
    {
     "name": "stdout",
     "output_type": "stream",
     "text": [
      "                   all       1980       4380      0.801       0.61      0.679      0.373\n"
     ]
    },
    {
     "name": "stderr",
     "output_type": "stream",
     "text": [
      "\n"
     ]
    },
    {
     "name": "stdout",
     "output_type": "stream",
     "text": [
      "\n",
      "      Epoch    GPU_mem   box_loss   cls_loss   dfl_loss  Instances       Size\n"
     ]
    },
    {
     "name": "stderr",
     "output_type": "stream",
     "text": [
      "     22/100      4.38G      1.505      1.328      1.647          8        640: 100%|██████████| 434/434 [01:30<00:00,  4.78it/\n",
      "                 Class     Images  Instances      Box(P          R      mAP50  mAP50-95): 100%|██████████| 62/62 [00:14<00:00,"
     ]
    },
    {
     "name": "stdout",
     "output_type": "stream",
     "text": [
      "                   all       1980       4380       0.79      0.608      0.681      0.377\n"
     ]
    },
    {
     "name": "stderr",
     "output_type": "stream",
     "text": [
      "\n"
     ]
    },
    {
     "name": "stdout",
     "output_type": "stream",
     "text": [
      "\n",
      "      Epoch    GPU_mem   box_loss   cls_loss   dfl_loss  Instances       Size\n"
     ]
    },
    {
     "name": "stderr",
     "output_type": "stream",
     "text": [
      "     23/100      4.38G      1.516      1.318      1.653          5        640: 100%|██████████| 434/434 [01:31<00:00,  4.77it/\n",
      "                 Class     Images  Instances      Box(P          R      mAP50  mAP50-95): 100%|██████████| 62/62 [00:15<00:00,"
     ]
    },
    {
     "name": "stdout",
     "output_type": "stream",
     "text": [
      "                   all       1980       4380      0.805      0.609      0.682      0.374\n"
     ]
    },
    {
     "name": "stderr",
     "output_type": "stream",
     "text": [
      "\n"
     ]
    },
    {
     "name": "stdout",
     "output_type": "stream",
     "text": [
      "\n",
      "      Epoch    GPU_mem   box_loss   cls_loss   dfl_loss  Instances       Size\n"
     ]
    },
    {
     "name": "stderr",
     "output_type": "stream",
     "text": [
      "     24/100      4.38G      1.489      1.306      1.632          6        640: 100%|██████████| 434/434 [01:30<00:00,  4.80it/\n",
      "                 Class     Images  Instances      Box(P          R      mAP50  mAP50-95): 100%|██████████| 62/62 [00:14<00:00,"
     ]
    },
    {
     "name": "stdout",
     "output_type": "stream",
     "text": [
      "                   all       1980       4380      0.815      0.605      0.686      0.383\n"
     ]
    },
    {
     "name": "stderr",
     "output_type": "stream",
     "text": [
      "\n"
     ]
    },
    {
     "name": "stdout",
     "output_type": "stream",
     "text": [
      "\n",
      "      Epoch    GPU_mem   box_loss   cls_loss   dfl_loss  Instances       Size\n"
     ]
    },
    {
     "name": "stderr",
     "output_type": "stream",
     "text": [
      "     25/100      4.38G      1.493      1.303      1.634         10        640: 100%|██████████| 434/434 [01:30<00:00,  4.80it/\n",
      "                 Class     Images  Instances      Box(P          R      mAP50  mAP50-95): 100%|██████████| 62/62 [00:14<00:00,"
     ]
    },
    {
     "name": "stdout",
     "output_type": "stream",
     "text": [
      "                   all       1980       4380      0.817      0.618      0.693      0.385\n"
     ]
    },
    {
     "name": "stderr",
     "output_type": "stream",
     "text": [
      "\n"
     ]
    },
    {
     "name": "stdout",
     "output_type": "stream",
     "text": [
      "\n",
      "      Epoch    GPU_mem   box_loss   cls_loss   dfl_loss  Instances       Size\n"
     ]
    },
    {
     "name": "stderr",
     "output_type": "stream",
     "text": [
      "     26/100      4.38G      1.484      1.278      1.625          3        640: 100%|██████████| 434/434 [01:30<00:00,  4.79it/\n",
      "                 Class     Images  Instances      Box(P          R      mAP50  mAP50-95): 100%|██████████| 62/62 [00:14<00:00,"
     ]
    },
    {
     "name": "stdout",
     "output_type": "stream",
     "text": [
      "                   all       1980       4380       0.81      0.612      0.686      0.381\n"
     ]
    },
    {
     "name": "stderr",
     "output_type": "stream",
     "text": [
      "\n"
     ]
    },
    {
     "name": "stdout",
     "output_type": "stream",
     "text": [
      "\n",
      "      Epoch    GPU_mem   box_loss   cls_loss   dfl_loss  Instances       Size\n"
     ]
    },
    {
     "name": "stderr",
     "output_type": "stream",
     "text": [
      "     27/100      4.37G      1.473      1.261       1.62          9        640: 100%|██████████| 434/434 [01:30<00:00,  4.81it/\n",
      "                 Class     Images  Instances      Box(P          R      mAP50  mAP50-95): 100%|██████████| 62/62 [00:14<00:00,"
     ]
    },
    {
     "name": "stdout",
     "output_type": "stream",
     "text": [
      "                   all       1980       4380        0.8      0.635      0.698      0.392\n"
     ]
    },
    {
     "name": "stderr",
     "output_type": "stream",
     "text": [
      "\n"
     ]
    },
    {
     "name": "stdout",
     "output_type": "stream",
     "text": [
      "\n",
      "      Epoch    GPU_mem   box_loss   cls_loss   dfl_loss  Instances       Size\n"
     ]
    },
    {
     "name": "stderr",
     "output_type": "stream",
     "text": [
      "     28/100      4.37G       1.47      1.268      1.614          8        640: 100%|██████████| 434/434 [01:31<00:00,  4.76it/\n",
      "                 Class     Images  Instances      Box(P          R      mAP50  mAP50-95): 100%|██████████| 62/62 [00:14<00:00,"
     ]
    },
    {
     "name": "stdout",
     "output_type": "stream",
     "text": [
      "                   all       1980       4380       0.81      0.631      0.705      0.401\n"
     ]
    },
    {
     "name": "stderr",
     "output_type": "stream",
     "text": [
      "\n"
     ]
    },
    {
     "name": "stdout",
     "output_type": "stream",
     "text": [
      "\n",
      "      Epoch    GPU_mem   box_loss   cls_loss   dfl_loss  Instances       Size\n"
     ]
    },
    {
     "name": "stderr",
     "output_type": "stream",
     "text": [
      "                 Class     Images  Instances      Box(P          R      mAP50  mAP50-95): 100%|██████████| 62/62 [00:14<00:00,"
     ]
    },
    {
     "name": "stdout",
     "output_type": "stream",
     "text": [
      "                   all       1980       4380      0.806       0.64      0.706      0.403\n"
     ]
    },
    {
     "name": "stderr",
     "output_type": "stream",
     "text": [
      "\n"
     ]
    },
    {
     "name": "stdout",
     "output_type": "stream",
     "text": [
      "\n",
      "      Epoch    GPU_mem   box_loss   cls_loss   dfl_loss  Instances       Size\n"
     ]
    },
    {
     "name": "stderr",
     "output_type": "stream",
     "text": [
      "     30/100      4.37G      1.442      1.217      1.589          5        640: 100%|██████████| 434/434 [01:30<00:00,  4.79it/\n",
      "                 Class     Images  Instances      Box(P          R      mAP50  mAP50-95): 100%|██████████| 62/62 [00:14<00:00,"
     ]
    },
    {
     "name": "stdout",
     "output_type": "stream",
     "text": [
      "                   all       1980       4380      0.825      0.637      0.709      0.404\n"
     ]
    },
    {
     "name": "stderr",
     "output_type": "stream",
     "text": [
      "\n"
     ]
    },
    {
     "name": "stdout",
     "output_type": "stream",
     "text": [
      "\n",
      "      Epoch    GPU_mem   box_loss   cls_loss   dfl_loss  Instances       Size\n"
     ]
    },
    {
     "name": "stderr",
     "output_type": "stream",
     "text": [
      "     31/100      4.38G      1.438      1.204      1.579         10        640: 100%|██████████| 434/434 [01:31<00:00,  4.75it/\n",
      "                 Class     Images  Instances      Box(P          R      mAP50  mAP50-95): 100%|██████████| 62/62 [00:14<00:00,"
     ]
    },
    {
     "name": "stdout",
     "output_type": "stream",
     "text": [
      "                   all       1980       4380        0.8      0.638      0.704        0.4\n"
     ]
    },
    {
     "name": "stderr",
     "output_type": "stream",
     "text": [
      "\n"
     ]
    },
    {
     "name": "stdout",
     "output_type": "stream",
     "text": [
      "\n",
      "      Epoch    GPU_mem   box_loss   cls_loss   dfl_loss  Instances       Size\n"
     ]
    },
    {
     "name": "stderr",
     "output_type": "stream",
     "text": [
      "     32/100      4.37G      1.442      1.209      1.589          4        640: 100%|██████████| 434/434 [01:30<00:00,  4.81it/\n",
      "                 Class     Images  Instances      Box(P          R      mAP50  mAP50-95): 100%|██████████| 62/62 [00:14<00:00,"
     ]
    },
    {
     "name": "stdout",
     "output_type": "stream",
     "text": [
      "                   all       1980       4380      0.807      0.652      0.715      0.415\n"
     ]
    },
    {
     "name": "stderr",
     "output_type": "stream",
     "text": [
      "\n"
     ]
    },
    {
     "name": "stdout",
     "output_type": "stream",
     "text": [
      "\n",
      "      Epoch    GPU_mem   box_loss   cls_loss   dfl_loss  Instances       Size\n"
     ]
    },
    {
     "name": "stderr",
     "output_type": "stream",
     "text": [
      "     33/100      4.38G      1.427      1.171      1.574          4        640: 100%|██████████| 434/434 [01:31<00:00,  4.75it/\n",
      "                 Class     Images  Instances      Box(P          R      mAP50  mAP50-95): 100%|██████████| 62/62 [00:14<00:00,"
     ]
    },
    {
     "name": "stdout",
     "output_type": "stream",
     "text": [
      "                   all       1980       4380      0.835      0.634      0.714      0.415\n"
     ]
    },
    {
     "name": "stderr",
     "output_type": "stream",
     "text": [
      "\n"
     ]
    },
    {
     "name": "stdout",
     "output_type": "stream",
     "text": [
      "\n",
      "      Epoch    GPU_mem   box_loss   cls_loss   dfl_loss  Instances       Size\n"
     ]
    },
    {
     "name": "stderr",
     "output_type": "stream",
     "text": [
      "     34/100      4.37G      1.414      1.194       1.57          8        640: 100%|██████████| 434/434 [01:29<00:00,  4.83it/\n",
      "                 Class     Images  Instances      Box(P          R      mAP50  mAP50-95): 100%|██████████| 62/62 [00:14<00:00,"
     ]
    },
    {
     "name": "stdout",
     "output_type": "stream",
     "text": [
      "                   all       1980       4380      0.827      0.636      0.711      0.415\n"
     ]
    },
    {
     "name": "stderr",
     "output_type": "stream",
     "text": [
      "\n"
     ]
    },
    {
     "name": "stdout",
     "output_type": "stream",
     "text": [
      "\n",
      "      Epoch    GPU_mem   box_loss   cls_loss   dfl_loss  Instances       Size\n"
     ]
    },
    {
     "name": "stderr",
     "output_type": "stream",
     "text": [
      "     35/100      4.38G      1.406      1.168      1.562          8        640: 100%|██████████| 434/434 [01:30<00:00,  4.78it/\n",
      "                 Class     Images  Instances      Box(P          R      mAP50  mAP50-95): 100%|██████████| 62/62 [00:14<00:00,"
     ]
    },
    {
     "name": "stdout",
     "output_type": "stream",
     "text": [
      "                   all       1980       4380      0.815       0.65       0.72      0.416\n"
     ]
    },
    {
     "name": "stderr",
     "output_type": "stream",
     "text": [
      "\n"
     ]
    },
    {
     "name": "stdout",
     "output_type": "stream",
     "text": [
      "\n",
      "      Epoch    GPU_mem   box_loss   cls_loss   dfl_loss  Instances       Size\n"
     ]
    },
    {
     "name": "stderr",
     "output_type": "stream",
     "text": [
      "     36/100      4.37G      1.394      1.161      1.553          7        640: 100%|██████████| 434/434 [01:30<00:00,  4.81it/\n",
      "                 Class     Images  Instances      Box(P          R      mAP50  mAP50-95): 100%|██████████| 62/62 [00:14<00:00,"
     ]
    },
    {
     "name": "stdout",
     "output_type": "stream",
     "text": [
      "                   all       1980       4380      0.825      0.643      0.714      0.415\n"
     ]
    },
    {
     "name": "stderr",
     "output_type": "stream",
     "text": [
      "\n"
     ]
    },
    {
     "name": "stdout",
     "output_type": "stream",
     "text": [
      "\n",
      "      Epoch    GPU_mem   box_loss   cls_loss   dfl_loss  Instances       Size\n"
     ]
    },
    {
     "name": "stderr",
     "output_type": "stream",
     "text": [
      "     37/100      4.38G       1.39      1.149       1.55          7        640: 100%|██████████| 434/434 [01:30<00:00,  4.80it/\n",
      "                 Class     Images  Instances      Box(P          R      mAP50  mAP50-95): 100%|██████████| 62/62 [00:13<00:00,"
     ]
    },
    {
     "name": "stdout",
     "output_type": "stream",
     "text": [
      "                   all       1980       4380      0.831      0.657      0.728      0.425\n"
     ]
    },
    {
     "name": "stderr",
     "output_type": "stream",
     "text": [
      "\n"
     ]
    },
    {
     "name": "stdout",
     "output_type": "stream",
     "text": [
      "\n",
      "      Epoch    GPU_mem   box_loss   cls_loss   dfl_loss  Instances       Size\n"
     ]
    },
    {
     "name": "stderr",
     "output_type": "stream",
     "text": [
      "     38/100      4.38G      1.397      1.148      1.553          8        640: 100%|██████████| 434/434 [01:30<00:00,  4.78it/\n",
      "                 Class     Images  Instances      Box(P          R      mAP50  mAP50-95): 100%|██████████| 62/62 [00:14<00:00,"
     ]
    },
    {
     "name": "stdout",
     "output_type": "stream",
     "text": [
      "                   all       1980       4380      0.839      0.652       0.73      0.427\n"
     ]
    },
    {
     "name": "stderr",
     "output_type": "stream",
     "text": [
      "\n"
     ]
    },
    {
     "name": "stdout",
     "output_type": "stream",
     "text": [
      "\n",
      "      Epoch    GPU_mem   box_loss   cls_loss   dfl_loss  Instances       Size\n"
     ]
    },
    {
     "name": "stderr",
     "output_type": "stream",
     "text": [
      "     39/100      4.38G      1.387      1.142      1.549         10        640: 100%|██████████| 434/434 [01:30<00:00,  4.82it/\n",
      "                 Class     Images  Instances      Box(P          R      mAP50  mAP50-95): 100%|██████████| 62/62 [00:14<00:00,"
     ]
    },
    {
     "name": "stdout",
     "output_type": "stream",
     "text": [
      "                   all       1980       4380      0.834      0.647      0.728      0.432\n"
     ]
    },
    {
     "name": "stderr",
     "output_type": "stream",
     "text": [
      "\n"
     ]
    },
    {
     "name": "stdout",
     "output_type": "stream",
     "text": [
      "\n",
      "      Epoch    GPU_mem   box_loss   cls_loss   dfl_loss  Instances       Size\n"
     ]
    },
    {
     "name": "stderr",
     "output_type": "stream",
     "text": [
      "     40/100      4.38G      1.382      1.135      1.545          4        640: 100%|██████████| 434/434 [01:30<00:00,  4.80it/\n",
      "                 Class     Images  Instances      Box(P          R      mAP50  mAP50-95): 100%|██████████| 62/62 [00:14<00:00,"
     ]
    },
    {
     "name": "stdout",
     "output_type": "stream",
     "text": [
      "                   all       1980       4380      0.834      0.656      0.732      0.435\n"
     ]
    },
    {
     "name": "stderr",
     "output_type": "stream",
     "text": [
      "\n"
     ]
    },
    {
     "name": "stdout",
     "output_type": "stream",
     "text": [
      "\n",
      "      Epoch    GPU_mem   box_loss   cls_loss   dfl_loss  Instances       Size\n"
     ]
    },
    {
     "name": "stderr",
     "output_type": "stream",
     "text": [
      "     41/100      4.39G      1.362      1.124      1.527         10        640: 100%|██████████| 434/434 [01:30<00:00,  4.78it/\n",
      "                 Class     Images  Instances      Box(P          R      mAP50  mAP50-95): 100%|██████████| 62/62 [00:15<00:00,"
     ]
    },
    {
     "name": "stdout",
     "output_type": "stream",
     "text": [
      "                   all       1980       4380      0.832      0.666      0.736      0.434\n"
     ]
    },
    {
     "name": "stderr",
     "output_type": "stream",
     "text": [
      "\n"
     ]
    },
    {
     "name": "stdout",
     "output_type": "stream",
     "text": [
      "\n",
      "      Epoch    GPU_mem   box_loss   cls_loss   dfl_loss  Instances       Size\n"
     ]
    },
    {
     "name": "stderr",
     "output_type": "stream",
     "text": [
      "     42/100      4.37G      1.367      1.103      1.521          6        640: 100%|██████████| 434/434 [01:32<00:00,  4.71it/\n",
      "                 Class     Images  Instances      Box(P          R      mAP50  mAP50-95): 100%|██████████| 62/62 [00:14<00:00,"
     ]
    },
    {
     "name": "stdout",
     "output_type": "stream",
     "text": [
      "                   all       1980       4380      0.835      0.662      0.736      0.437\n"
     ]
    },
    {
     "name": "stderr",
     "output_type": "stream",
     "text": [
      "\n"
     ]
    },
    {
     "name": "stdout",
     "output_type": "stream",
     "text": [
      "\n",
      "      Epoch    GPU_mem   box_loss   cls_loss   dfl_loss  Instances       Size\n"
     ]
    },
    {
     "name": "stderr",
     "output_type": "stream",
     "text": [
      "     43/100      4.38G      1.345      1.084      1.515          6        640: 100%|██████████| 434/434 [01:30<00:00,  4.80it/\n",
      "                 Class     Images  Instances      Box(P          R      mAP50  mAP50-95): 100%|██████████| 62/62 [00:14<00:00,"
     ]
    },
    {
     "name": "stdout",
     "output_type": "stream",
     "text": [
      "                   all       1980       4380      0.854      0.667      0.744      0.445\n"
     ]
    },
    {
     "name": "stderr",
     "output_type": "stream",
     "text": [
      "\n"
     ]
    },
    {
     "name": "stdout",
     "output_type": "stream",
     "text": [
      "\n",
      "      Epoch    GPU_mem   box_loss   cls_loss   dfl_loss  Instances       Size\n"
     ]
    },
    {
     "name": "stderr",
     "output_type": "stream",
     "text": [
      "     44/100      4.38G      1.344      1.094      1.519          6        640: 100%|██████████| 434/434 [01:30<00:00,  4.82it/\n",
      "                 Class     Images  Instances      Box(P          R      mAP50  mAP50-95): 100%|██████████| 62/62 [00:14<00:00,"
     ]
    },
    {
     "name": "stdout",
     "output_type": "stream",
     "text": [
      "                   all       1980       4380      0.844      0.673      0.742      0.441\n"
     ]
    },
    {
     "name": "stderr",
     "output_type": "stream",
     "text": [
      "\n"
     ]
    },
    {
     "name": "stdout",
     "output_type": "stream",
     "text": [
      "\n",
      "      Epoch    GPU_mem   box_loss   cls_loss   dfl_loss  Instances       Size\n"
     ]
    },
    {
     "name": "stderr",
     "output_type": "stream",
     "text": [
      "     45/100      4.38G      1.347      1.083      1.514         13        640: 100%|██████████| 434/434 [01:31<00:00,  4.75it/\n",
      "                 Class     Images  Instances      Box(P          R      mAP50  mAP50-95): 100%|██████████| 62/62 [00:14<00:00,"
     ]
    },
    {
     "name": "stdout",
     "output_type": "stream",
     "text": [
      "                   all       1980       4380      0.846      0.667      0.744      0.448\n"
     ]
    },
    {
     "name": "stderr",
     "output_type": "stream",
     "text": [
      "\n"
     ]
    },
    {
     "name": "stdout",
     "output_type": "stream",
     "text": [
      "\n",
      "      Epoch    GPU_mem   box_loss   cls_loss   dfl_loss  Instances       Size\n"
     ]
    },
    {
     "name": "stderr",
     "output_type": "stream",
     "text": [
      "     46/100      4.38G      1.321       1.06      1.502          3        640: 100%|██████████| 434/434 [01:30<00:00,  4.81it/\n",
      "                 Class     Images  Instances      Box(P          R      mAP50  mAP50-95): 100%|██████████| 62/62 [00:14<00:00,"
     ]
    },
    {
     "name": "stdout",
     "output_type": "stream",
     "text": [
      "                   all       1980       4380      0.853      0.671      0.746       0.45\n"
     ]
    },
    {
     "name": "stderr",
     "output_type": "stream",
     "text": [
      "\n"
     ]
    },
    {
     "name": "stdout",
     "output_type": "stream",
     "text": [
      "\n",
      "      Epoch    GPU_mem   box_loss   cls_loss   dfl_loss  Instances       Size\n"
     ]
    },
    {
     "name": "stderr",
     "output_type": "stream",
     "text": [
      "     47/100      4.38G      1.331       1.06      1.499         12        640: 100%|██████████| 434/434 [01:30<00:00,  4.78it/\n",
      "                 Class     Images  Instances      Box(P          R      mAP50  mAP50-95): 100%|██████████| 62/62 [00:14<00:00,"
     ]
    },
    {
     "name": "stdout",
     "output_type": "stream",
     "text": [
      "                   all       1980       4380      0.849       0.67      0.747      0.452\n"
     ]
    },
    {
     "name": "stderr",
     "output_type": "stream",
     "text": [
      "\n"
     ]
    },
    {
     "name": "stdout",
     "output_type": "stream",
     "text": [
      "\n",
      "      Epoch    GPU_mem   box_loss   cls_loss   dfl_loss  Instances       Size\n"
     ]
    },
    {
     "name": "stderr",
     "output_type": "stream",
     "text": [
      "     48/100      4.38G      1.325      1.051      1.502          5        640: 100%|██████████| 434/434 [01:30<00:00,  4.81it/\n",
      "                 Class     Images  Instances      Box(P          R      mAP50  mAP50-95): 100%|██████████| 62/62 [00:14<00:00,"
     ]
    },
    {
     "name": "stdout",
     "output_type": "stream",
     "text": [
      "                   all       1980       4380      0.858      0.665       0.75      0.452\n"
     ]
    },
    {
     "name": "stderr",
     "output_type": "stream",
     "text": [
      "\n"
     ]
    },
    {
     "name": "stdout",
     "output_type": "stream",
     "text": [
      "\n",
      "      Epoch    GPU_mem   box_loss   cls_loss   dfl_loss  Instances       Size\n"
     ]
    },
    {
     "name": "stderr",
     "output_type": "stream",
     "text": [
      "     49/100      4.38G      1.313      1.035      1.493          9        640: 100%|██████████| 434/434 [01:29<00:00,  4.84it/\n",
      "                 Class     Images  Instances      Box(P          R      mAP50  mAP50-95): 100%|██████████| 62/62 [00:13<00:00,"
     ]
    },
    {
     "name": "stdout",
     "output_type": "stream",
     "text": [
      "                   all       1980       4380      0.852      0.669      0.748      0.453\n"
     ]
    },
    {
     "name": "stderr",
     "output_type": "stream",
     "text": [
      "\n"
     ]
    },
    {
     "name": "stdout",
     "output_type": "stream",
     "text": [
      "\n",
      "      Epoch    GPU_mem   box_loss   cls_loss   dfl_loss  Instances       Size\n"
     ]
    },
    {
     "name": "stderr",
     "output_type": "stream",
     "text": [
      "     50/100      4.37G      1.319      1.047      1.491          4        640: 100%|██████████| 434/434 [01:30<00:00,  4.80it/\n",
      "                 Class     Images  Instances      Box(P          R      mAP50  mAP50-95): 100%|██████████| 62/62 [00:14<00:00,"
     ]
    },
    {
     "name": "stdout",
     "output_type": "stream",
     "text": [
      "                   all       1980       4380      0.836      0.686      0.754      0.455\n"
     ]
    },
    {
     "name": "stderr",
     "output_type": "stream",
     "text": [
      "\n"
     ]
    },
    {
     "name": "stdout",
     "output_type": "stream",
     "text": [
      "\n",
      "      Epoch    GPU_mem   box_loss   cls_loss   dfl_loss  Instances       Size\n"
     ]
    },
    {
     "name": "stderr",
     "output_type": "stream",
     "text": [
      "     51/100      4.38G      1.308      1.029      1.483         10        640: 100%|██████████| 434/434 [01:30<00:00,  4.82it/\n",
      "                 Class     Images  Instances      Box(P          R      mAP50  mAP50-95): 100%|██████████| 62/62 [00:15<00:00,"
     ]
    },
    {
     "name": "stdout",
     "output_type": "stream",
     "text": [
      "                   all       1980       4380      0.846      0.683      0.757      0.462\n"
     ]
    },
    {
     "name": "stderr",
     "output_type": "stream",
     "text": [
      "\n"
     ]
    },
    {
     "name": "stdout",
     "output_type": "stream",
     "text": [
      "\n",
      "      Epoch    GPU_mem   box_loss   cls_loss   dfl_loss  Instances       Size\n"
     ]
    },
    {
     "name": "stderr",
     "output_type": "stream",
     "text": [
      "     52/100      4.38G      1.302      1.029      1.482          8        640: 100%|██████████| 434/434 [01:31<00:00,  4.75it/\n",
      "                 Class     Images  Instances      Box(P          R      mAP50  mAP50-95): 100%|██████████| 62/62 [00:15<00:00,"
     ]
    },
    {
     "name": "stdout",
     "output_type": "stream",
     "text": [
      "                   all       1980       4380      0.862      0.677      0.757      0.463\n"
     ]
    },
    {
     "name": "stderr",
     "output_type": "stream",
     "text": [
      "\n"
     ]
    },
    {
     "name": "stdout",
     "output_type": "stream",
     "text": [
      "\n",
      "      Epoch    GPU_mem   box_loss   cls_loss   dfl_loss  Instances       Size\n"
     ]
    },
    {
     "name": "stderr",
     "output_type": "stream",
     "text": [
      "     53/100      4.38G      1.291       1.01      1.465          4        640: 100%|██████████| 434/434 [01:31<00:00,  4.75it/\n",
      "                 Class     Images  Instances      Box(P          R      mAP50  mAP50-95): 100%|██████████| 62/62 [00:14<00:00,"
     ]
    },
    {
     "name": "stdout",
     "output_type": "stream",
     "text": [
      "                   all       1980       4380      0.864      0.678      0.756      0.465\n"
     ]
    },
    {
     "name": "stderr",
     "output_type": "stream",
     "text": [
      "\n"
     ]
    },
    {
     "name": "stdout",
     "output_type": "stream",
     "text": [
      "\n",
      "      Epoch    GPU_mem   box_loss   cls_loss   dfl_loss  Instances       Size\n"
     ]
    },
    {
     "name": "stderr",
     "output_type": "stream",
     "text": [
      "     54/100      4.38G      1.285      1.011      1.471          7        640: 100%|██████████| 434/434 [01:30<00:00,  4.78it/\n",
      "                 Class     Images  Instances      Box(P          R      mAP50  mAP50-95): 100%|██████████| 62/62 [00:15<00:00,"
     ]
    },
    {
     "name": "stdout",
     "output_type": "stream",
     "text": [
      "                   all       1980       4380      0.859      0.683      0.759      0.468\n"
     ]
    },
    {
     "name": "stderr",
     "output_type": "stream",
     "text": [
      "\n"
     ]
    },
    {
     "name": "stdout",
     "output_type": "stream",
     "text": [
      "\n",
      "      Epoch    GPU_mem   box_loss   cls_loss   dfl_loss  Instances       Size\n"
     ]
    },
    {
     "name": "stderr",
     "output_type": "stream",
     "text": [
      "     55/100      4.38G      1.278     0.9956      1.464          4        640: 100%|██████████| 434/434 [01:30<00:00,  4.77it/\n",
      "                 Class     Images  Instances      Box(P          R      mAP50  mAP50-95): 100%|██████████| 62/62 [00:14<00:00,"
     ]
    },
    {
     "name": "stdout",
     "output_type": "stream",
     "text": [
      "                   all       1980       4380      0.859      0.678      0.757      0.461\n"
     ]
    },
    {
     "name": "stderr",
     "output_type": "stream",
     "text": [
      "\n"
     ]
    },
    {
     "name": "stdout",
     "output_type": "stream",
     "text": [
      "\n",
      "      Epoch    GPU_mem   box_loss   cls_loss   dfl_loss  Instances       Size\n"
     ]
    },
    {
     "name": "stderr",
     "output_type": "stream",
     "text": [
      "     56/100      4.37G      1.277     0.9943      1.458          5        640: 100%|██████████| 434/434 [01:30<00:00,  4.80it/\n",
      "                 Class     Images  Instances      Box(P          R      mAP50  mAP50-95): 100%|██████████| 62/62 [00:14<00:00,"
     ]
    },
    {
     "name": "stdout",
     "output_type": "stream",
     "text": [
      "                   all       1980       4380      0.852      0.686      0.762      0.468\n"
     ]
    },
    {
     "name": "stderr",
     "output_type": "stream",
     "text": [
      "\n"
     ]
    },
    {
     "name": "stdout",
     "output_type": "stream",
     "text": [
      "\n",
      "      Epoch    GPU_mem   box_loss   cls_loss   dfl_loss  Instances       Size\n"
     ]
    },
    {
     "name": "stderr",
     "output_type": "stream",
     "text": [
      "     57/100      4.38G      1.268     0.9931       1.45          7        640: 100%|██████████| 434/434 [01:30<00:00,  4.80it/\n",
      "                 Class     Images  Instances      Box(P          R      mAP50  mAP50-95): 100%|██████████| 62/62 [00:14<00:00,"
     ]
    },
    {
     "name": "stdout",
     "output_type": "stream",
     "text": [
      "                   all       1980       4380      0.872      0.675       0.76      0.469\n"
     ]
    },
    {
     "name": "stderr",
     "output_type": "stream",
     "text": [
      "\n"
     ]
    },
    {
     "name": "stdout",
     "output_type": "stream",
     "text": [
      "\n",
      "      Epoch    GPU_mem   box_loss   cls_loss   dfl_loss  Instances       Size\n"
     ]
    },
    {
     "name": "stderr",
     "output_type": "stream",
     "text": [
      "     58/100      4.38G      1.256     0.9775      1.447          7        640: 100%|██████████| 434/434 [01:30<00:00,  4.81it/\n",
      "                 Class     Images  Instances      Box(P          R      mAP50  mAP50-95): 100%|██████████| 62/62 [00:14<00:00,"
     ]
    },
    {
     "name": "stdout",
     "output_type": "stream",
     "text": [
      "                   all       1980       4380      0.857      0.685      0.763      0.472\n"
     ]
    },
    {
     "name": "stderr",
     "output_type": "stream",
     "text": [
      "\n"
     ]
    },
    {
     "name": "stdout",
     "output_type": "stream",
     "text": [
      "\n",
      "      Epoch    GPU_mem   box_loss   cls_loss   dfl_loss  Instances       Size\n"
     ]
    },
    {
     "name": "stderr",
     "output_type": "stream",
     "text": [
      "     59/100      4.38G      1.255     0.9782      1.446          6        640: 100%|██████████| 434/434 [01:31<00:00,  4.76it/\n",
      "                 Class     Images  Instances      Box(P          R      mAP50  mAP50-95): 100%|██████████| 62/62 [00:14<00:00,"
     ]
    },
    {
     "name": "stdout",
     "output_type": "stream",
     "text": [
      "                   all       1980       4380      0.859      0.683      0.763      0.473\n"
     ]
    },
    {
     "name": "stderr",
     "output_type": "stream",
     "text": [
      "\n"
     ]
    },
    {
     "name": "stdout",
     "output_type": "stream",
     "text": [
      "\n",
      "      Epoch    GPU_mem   box_loss   cls_loss   dfl_loss  Instances       Size\n"
     ]
    },
    {
     "name": "stderr",
     "output_type": "stream",
     "text": [
      "     60/100      4.37G      1.249     0.9647      1.435          6        640: 100%|██████████| 434/434 [01:31<00:00,  4.72it/\n",
      "                 Class     Images  Instances      Box(P          R      mAP50  mAP50-95): 100%|██████████| 62/62 [00:15<00:00,"
     ]
    },
    {
     "name": "stdout",
     "output_type": "stream",
     "text": [
      "                   all       1980       4380      0.851      0.687      0.764      0.476\n"
     ]
    },
    {
     "name": "stderr",
     "output_type": "stream",
     "text": [
      "\n"
     ]
    },
    {
     "name": "stdout",
     "output_type": "stream",
     "text": [
      "\n",
      "      Epoch    GPU_mem   box_loss   cls_loss   dfl_loss  Instances       Size\n"
     ]
    },
    {
     "name": "stderr",
     "output_type": "stream",
     "text": [
      "     61/100      4.37G      1.245     0.9616      1.434          6        640: 100%|██████████| 434/434 [01:32<00:00,  4.72it/\n",
      "                 Class     Images  Instances      Box(P          R      mAP50  mAP50-95): 100%|██████████| 62/62 [00:14<00:00,"
     ]
    },
    {
     "name": "stdout",
     "output_type": "stream",
     "text": [
      "                   all       1980       4380       0.85      0.695      0.768      0.478\n"
     ]
    },
    {
     "name": "stderr",
     "output_type": "stream",
     "text": [
      "\n"
     ]
    },
    {
     "name": "stdout",
     "output_type": "stream",
     "text": [
      "\n",
      "      Epoch    GPU_mem   box_loss   cls_loss   dfl_loss  Instances       Size\n"
     ]
    },
    {
     "name": "stderr",
     "output_type": "stream",
     "text": [
      "     62/100      4.37G      1.244     0.9579      1.438          6        640: 100%|██████████| 434/434 [01:32<00:00,  4.69it/\n",
      "                 Class     Images  Instances      Box(P          R      mAP50  mAP50-95): 100%|██████████| 62/62 [00:15<00:00,"
     ]
    },
    {
     "name": "stdout",
     "output_type": "stream",
     "text": [
      "                   all       1980       4380      0.855      0.696      0.772       0.48\n"
     ]
    },
    {
     "name": "stderr",
     "output_type": "stream",
     "text": [
      "\n"
     ]
    },
    {
     "name": "stdout",
     "output_type": "stream",
     "text": [
      "\n",
      "      Epoch    GPU_mem   box_loss   cls_loss   dfl_loss  Instances       Size\n"
     ]
    },
    {
     "name": "stderr",
     "output_type": "stream",
     "text": [
      "     63/100      4.38G      1.232     0.9485      1.435         10        640: 100%|██████████| 434/434 [01:31<00:00,  4.75it/\n",
      "                 Class     Images  Instances      Box(P          R      mAP50  mAP50-95): 100%|██████████| 62/62 [00:14<00:00,"
     ]
    },
    {
     "name": "stdout",
     "output_type": "stream",
     "text": [
      "                   all       1980       4380      0.854      0.699      0.774      0.485\n"
     ]
    },
    {
     "name": "stderr",
     "output_type": "stream",
     "text": [
      "\n"
     ]
    },
    {
     "name": "stdout",
     "output_type": "stream",
     "text": [
      "\n",
      "      Epoch    GPU_mem   box_loss   cls_loss   dfl_loss  Instances       Size\n"
     ]
    },
    {
     "name": "stderr",
     "output_type": "stream",
     "text": [
      "     64/100      4.37G      1.229     0.9445      1.422         11        640: 100%|██████████| 434/434 [01:30<00:00,  4.78it/\n",
      "                 Class     Images  Instances      Box(P          R      mAP50  mAP50-95): 100%|██████████| 62/62 [00:13<00:00,"
     ]
    },
    {
     "name": "stdout",
     "output_type": "stream",
     "text": [
      "                   all       1980       4380      0.859      0.701      0.775      0.486\n"
     ]
    },
    {
     "name": "stderr",
     "output_type": "stream",
     "text": [
      "\n"
     ]
    },
    {
     "name": "stdout",
     "output_type": "stream",
     "text": [
      "\n",
      "      Epoch    GPU_mem   box_loss   cls_loss   dfl_loss  Instances       Size\n"
     ]
    },
    {
     "name": "stderr",
     "output_type": "stream",
     "text": [
      "     65/100      4.36G      1.219     0.9395      1.424         10        640: 100%|██████████| 434/434 [01:31<00:00,  4.72it/\n",
      "                 Class     Images  Instances      Box(P          R      mAP50  mAP50-95): 100%|██████████| 62/62 [00:14<00:00,"
     ]
    },
    {
     "name": "stdout",
     "output_type": "stream",
     "text": [
      "                   all       1980       4380       0.87      0.694      0.773      0.485\n"
     ]
    },
    {
     "name": "stderr",
     "output_type": "stream",
     "text": [
      "\n"
     ]
    },
    {
     "name": "stdout",
     "output_type": "stream",
     "text": [
      "\n",
      "      Epoch    GPU_mem   box_loss   cls_loss   dfl_loss  Instances       Size\n"
     ]
    },
    {
     "name": "stderr",
     "output_type": "stream",
     "text": [
      "     66/100      4.37G      1.218     0.9235       1.42          7        640: 100%|██████████| 434/434 [01:31<00:00,  4.76it/\n",
      "                 Class     Images  Instances      Box(P          R      mAP50  mAP50-95): 100%|██████████| 62/62 [00:14<00:00,"
     ]
    },
    {
     "name": "stdout",
     "output_type": "stream",
     "text": [
      "                   all       1980       4380      0.875      0.691      0.775      0.487\n"
     ]
    },
    {
     "name": "stderr",
     "output_type": "stream",
     "text": [
      "\n"
     ]
    },
    {
     "name": "stdout",
     "output_type": "stream",
     "text": [
      "\n",
      "      Epoch    GPU_mem   box_loss   cls_loss   dfl_loss  Instances       Size\n"
     ]
    },
    {
     "name": "stderr",
     "output_type": "stream",
     "text": [
      "     67/100      4.38G       1.22     0.9345      1.416         13        640: 100%|██████████| 434/434 [01:30<00:00,  4.80it/\n",
      "                 Class     Images  Instances      Box(P          R      mAP50  mAP50-95): 100%|██████████| 62/62 [00:14<00:00,"
     ]
    },
    {
     "name": "stdout",
     "output_type": "stream",
     "text": [
      "                   all       1980       4380      0.862      0.696      0.775      0.486\n"
     ]
    },
    {
     "name": "stderr",
     "output_type": "stream",
     "text": [
      "\n"
     ]
    },
    {
     "name": "stdout",
     "output_type": "stream",
     "text": [
      "\n",
      "      Epoch    GPU_mem   box_loss   cls_loss   dfl_loss  Instances       Size\n"
     ]
    },
    {
     "name": "stderr",
     "output_type": "stream",
     "text": [
      "     68/100      4.37G        1.2     0.9029      1.403         12        640: 100%|██████████| 434/434 [01:30<00:00,  4.81it/\n",
      "                 Class     Images  Instances      Box(P          R      mAP50  mAP50-95): 100%|██████████| 62/62 [00:14<00:00,"
     ]
    },
    {
     "name": "stdout",
     "output_type": "stream",
     "text": [
      "                   all       1980       4380      0.868      0.701      0.777      0.488\n"
     ]
    },
    {
     "name": "stderr",
     "output_type": "stream",
     "text": [
      "\n"
     ]
    },
    {
     "name": "stdout",
     "output_type": "stream",
     "text": [
      "\n",
      "      Epoch    GPU_mem   box_loss   cls_loss   dfl_loss  Instances       Size\n"
     ]
    },
    {
     "name": "stderr",
     "output_type": "stream",
     "text": [
      "     69/100      4.36G      1.194     0.9045      1.398          8        640: 100%|██████████| 434/434 [01:30<00:00,  4.78it/\n",
      "                 Class     Images  Instances      Box(P          R      mAP50  mAP50-95): 100%|██████████| 62/62 [00:14<00:00,"
     ]
    },
    {
     "name": "stdout",
     "output_type": "stream",
     "text": [
      "                   all       1980       4380      0.867      0.699      0.776      0.492\n"
     ]
    },
    {
     "name": "stderr",
     "output_type": "stream",
     "text": [
      "\n"
     ]
    },
    {
     "name": "stdout",
     "output_type": "stream",
     "text": [
      "\n",
      "      Epoch    GPU_mem   box_loss   cls_loss   dfl_loss  Instances       Size\n"
     ]
    },
    {
     "name": "stderr",
     "output_type": "stream",
     "text": [
      "     70/100      4.37G      1.197     0.9074      1.397          9        640: 100%|██████████| 434/434 [01:30<00:00,  4.79it/\n",
      "                 Class     Images  Instances      Box(P          R      mAP50  mAP50-95): 100%|██████████| 62/62 [00:14<00:00,"
     ]
    },
    {
     "name": "stdout",
     "output_type": "stream",
     "text": [
      "                   all       1980       4380      0.873        0.7      0.779      0.491\n"
     ]
    },
    {
     "name": "stderr",
     "output_type": "stream",
     "text": [
      "\n"
     ]
    },
    {
     "name": "stdout",
     "output_type": "stream",
     "text": [
      "\n",
      "      Epoch    GPU_mem   box_loss   cls_loss   dfl_loss  Instances       Size\n"
     ]
    },
    {
     "name": "stderr",
     "output_type": "stream",
     "text": [
      "     71/100      4.38G      1.179     0.8935      1.392          4        640: 100%|██████████| 434/434 [01:30<00:00,  4.80it/\n",
      "                 Class     Images  Instances      Box(P          R      mAP50  mAP50-95): 100%|██████████| 62/62 [00:14<00:00,"
     ]
    },
    {
     "name": "stdout",
     "output_type": "stream",
     "text": [
      "                   all       1980       4380      0.864      0.703      0.778      0.493\n"
     ]
    },
    {
     "name": "stderr",
     "output_type": "stream",
     "text": [
      "\n"
     ]
    },
    {
     "name": "stdout",
     "output_type": "stream",
     "text": [
      "\n",
      "      Epoch    GPU_mem   box_loss   cls_loss   dfl_loss  Instances       Size\n"
     ]
    },
    {
     "name": "stderr",
     "output_type": "stream",
     "text": [
      "     72/100      4.37G      1.178     0.8977      1.394          4        640: 100%|██████████| 434/434 [01:31<00:00,  4.72it/\n",
      "                 Class     Images  Instances      Box(P          R      mAP50  mAP50-95): 100%|██████████| 62/62 [00:20<00:00,"
     ]
    },
    {
     "name": "stdout",
     "output_type": "stream",
     "text": [
      "                   all       1980       4380      0.874      0.708      0.781      0.495\n"
     ]
    },
    {
     "name": "stderr",
     "output_type": "stream",
     "text": [
      "\n"
     ]
    },
    {
     "name": "stdout",
     "output_type": "stream",
     "text": [
      "\n",
      "      Epoch    GPU_mem   box_loss   cls_loss   dfl_loss  Instances       Size\n"
     ]
    },
    {
     "name": "stderr",
     "output_type": "stream",
     "text": [
      "     73/100      4.37G      1.178     0.8946      1.385          4        640: 100%|██████████| 434/434 [01:47<00:00,  4.05it/\n",
      "                 Class     Images  Instances      Box(P          R      mAP50  mAP50-95): 100%|██████████| 62/62 [00:24<00:00,"
     ]
    },
    {
     "name": "stdout",
     "output_type": "stream",
     "text": [
      "                   all       1980       4380      0.866      0.704       0.78      0.496\n"
     ]
    },
    {
     "name": "stderr",
     "output_type": "stream",
     "text": [
      "\n"
     ]
    },
    {
     "name": "stdout",
     "output_type": "stream",
     "text": [
      "\n",
      "      Epoch    GPU_mem   box_loss   cls_loss   dfl_loss  Instances       Size\n"
     ]
    },
    {
     "name": "stderr",
     "output_type": "stream",
     "text": [
      "     74/100      4.37G      1.181     0.8891       1.39          6        640: 100%|██████████| 434/434 [01:47<00:00,  4.05it/\n",
      "                 Class     Images  Instances      Box(P          R      mAP50  mAP50-95): 100%|██████████| 62/62 [00:23<00:00,"
     ]
    },
    {
     "name": "stdout",
     "output_type": "stream",
     "text": [
      "                   all       1980       4380      0.866      0.703      0.779      0.495\n"
     ]
    },
    {
     "name": "stderr",
     "output_type": "stream",
     "text": [
      "\n"
     ]
    },
    {
     "name": "stdout",
     "output_type": "stream",
     "text": [
      "\n",
      "      Epoch    GPU_mem   box_loss   cls_loss   dfl_loss  Instances       Size\n"
     ]
    },
    {
     "name": "stderr",
     "output_type": "stream",
     "text": [
      "     75/100      4.37G      1.179     0.8884      1.386          8        640: 100%|██████████| 434/434 [01:47<00:00,  4.03it/\n",
      "                 Class     Images  Instances      Box(P          R      mAP50  mAP50-95): 100%|██████████| 62/62 [00:23<00:00,"
     ]
    },
    {
     "name": "stdout",
     "output_type": "stream",
     "text": [
      "                   all       1980       4380      0.887      0.699      0.781      0.497\n"
     ]
    },
    {
     "name": "stderr",
     "output_type": "stream",
     "text": [
      "\n"
     ]
    },
    {
     "name": "stdout",
     "output_type": "stream",
     "text": [
      "\n",
      "      Epoch    GPU_mem   box_loss   cls_loss   dfl_loss  Instances       Size\n"
     ]
    },
    {
     "name": "stderr",
     "output_type": "stream",
     "text": [
      "     76/100      4.37G      1.163     0.8705      1.371          6        640: 100%|██████████| 434/434 [01:47<00:00,  4.04it/\n",
      "                 Class     Images  Instances      Box(P          R      mAP50  mAP50-95): 100%|██████████| 62/62 [00:23<00:00,"
     ]
    },
    {
     "name": "stdout",
     "output_type": "stream",
     "text": [
      "                   all       1980       4380      0.884      0.704      0.784        0.5\n"
     ]
    },
    {
     "name": "stderr",
     "output_type": "stream",
     "text": [
      "\n"
     ]
    },
    {
     "name": "stdout",
     "output_type": "stream",
     "text": [
      "\n",
      "      Epoch    GPU_mem   box_loss   cls_loss   dfl_loss  Instances       Size\n"
     ]
    },
    {
     "name": "stderr",
     "output_type": "stream",
     "text": [
      "     77/100      4.39G       1.15     0.8681       1.37         12        640: 100%|██████████| 434/434 [01:46<00:00,  4.06it/\n",
      "                 Class     Images  Instances      Box(P          R      mAP50  mAP50-95): 100%|██████████| 62/62 [00:25<00:00,"
     ]
    },
    {
     "name": "stdout",
     "output_type": "stream",
     "text": [
      "                   all       1980       4380      0.869      0.707      0.783      0.502\n"
     ]
    },
    {
     "name": "stderr",
     "output_type": "stream",
     "text": [
      "\n"
     ]
    },
    {
     "name": "stdout",
     "output_type": "stream",
     "text": [
      "\n",
      "      Epoch    GPU_mem   box_loss   cls_loss   dfl_loss  Instances       Size\n"
     ]
    },
    {
     "name": "stderr",
     "output_type": "stream",
     "text": [
      "     78/100      4.37G      1.158     0.8643      1.371          7        640: 100%|██████████| 434/434 [01:46<00:00,  4.07it/\n",
      "                 Class     Images  Instances      Box(P          R      mAP50  mAP50-95): 100%|██████████| 62/62 [00:23<00:00,"
     ]
    },
    {
     "name": "stdout",
     "output_type": "stream",
     "text": [
      "                   all       1980       4380      0.883      0.704      0.785      0.503\n"
     ]
    },
    {
     "name": "stderr",
     "output_type": "stream",
     "text": [
      "\n"
     ]
    },
    {
     "name": "stdout",
     "output_type": "stream",
     "text": [
      "\n",
      "      Epoch    GPU_mem   box_loss   cls_loss   dfl_loss  Instances       Size\n"
     ]
    },
    {
     "name": "stderr",
     "output_type": "stream",
     "text": [
      "     79/100      4.38G      1.146     0.8545      1.361         12        640: 100%|██████████| 434/434 [01:46<00:00,  4.08it/\n",
      "                 Class     Images  Instances      Box(P          R      mAP50  mAP50-95): 100%|██████████| 62/62 [00:23<00:00,"
     ]
    },
    {
     "name": "stdout",
     "output_type": "stream",
     "text": [
      "                   all       1980       4380      0.868      0.711      0.782      0.502\n"
     ]
    },
    {
     "name": "stderr",
     "output_type": "stream",
     "text": [
      "\n"
     ]
    },
    {
     "name": "stdout",
     "output_type": "stream",
     "text": [
      "\n",
      "      Epoch    GPU_mem   box_loss   cls_loss   dfl_loss  Instances       Size\n"
     ]
    },
    {
     "name": "stderr",
     "output_type": "stream",
     "text": [
      "     80/100      4.37G      1.143     0.8553      1.366          7        640: 100%|██████████| 434/434 [01:46<00:00,  4.07it/\n",
      "                 Class     Images  Instances      Box(P          R      mAP50  mAP50-95): 100%|██████████| 62/62 [00:24<00:00,"
     ]
    },
    {
     "name": "stdout",
     "output_type": "stream",
     "text": [
      "                   all       1980       4380      0.882      0.712      0.788      0.504\n"
     ]
    },
    {
     "name": "stderr",
     "output_type": "stream",
     "text": [
      "\n"
     ]
    },
    {
     "name": "stdout",
     "output_type": "stream",
     "text": [
      "\n",
      "      Epoch    GPU_mem   box_loss   cls_loss   dfl_loss  Instances       Size\n"
     ]
    },
    {
     "name": "stderr",
     "output_type": "stream",
     "text": [
      "     81/100      4.38G      1.129     0.8428      1.358          8        640: 100%|██████████| 434/434 [01:46<00:00,  4.08it/\n",
      "                 Class     Images  Instances      Box(P          R      mAP50  mAP50-95): 100%|██████████| 62/62 [00:24<00:00,"
     ]
    },
    {
     "name": "stdout",
     "output_type": "stream",
     "text": [
      "                   all       1980       4380       0.88      0.707      0.785      0.504\n"
     ]
    },
    {
     "name": "stderr",
     "output_type": "stream",
     "text": [
      "\n"
     ]
    },
    {
     "name": "stdout",
     "output_type": "stream",
     "text": [
      "\n",
      "      Epoch    GPU_mem   box_loss   cls_loss   dfl_loss  Instances       Size\n"
     ]
    },
    {
     "name": "stderr",
     "output_type": "stream",
     "text": [
      "     82/100      4.37G      1.127     0.8414      1.352         16        640: 100%|██████████| 434/434 [01:46<00:00,  4.09it/\n",
      "                 Class     Images  Instances      Box(P          R      mAP50  mAP50-95): 100%|██████████| 62/62 [00:23<00:00,"
     ]
    },
    {
     "name": "stdout",
     "output_type": "stream",
     "text": [
      "                   all       1980       4380      0.883      0.706      0.784      0.505\n"
     ]
    },
    {
     "name": "stderr",
     "output_type": "stream",
     "text": [
      "\n"
     ]
    },
    {
     "name": "stdout",
     "output_type": "stream",
     "text": [
      "\n",
      "      Epoch    GPU_mem   box_loss   cls_loss   dfl_loss  Instances       Size\n"
     ]
    },
    {
     "name": "stderr",
     "output_type": "stream",
     "text": [
      "     83/100      4.38G      1.131      0.842      1.353         11        640: 100%|██████████| 434/434 [01:47<00:00,  4.04it/\n",
      "                 Class     Images  Instances      Box(P          R      mAP50  mAP50-95): 100%|██████████| 62/62 [00:25<00:00,"
     ]
    },
    {
     "name": "stdout",
     "output_type": "stream",
     "text": [
      "                   all       1980       4380       0.88      0.708      0.786      0.506\n"
     ]
    },
    {
     "name": "stderr",
     "output_type": "stream",
     "text": [
      "\n"
     ]
    },
    {
     "name": "stdout",
     "output_type": "stream",
     "text": [
      "\n",
      "      Epoch    GPU_mem   box_loss   cls_loss   dfl_loss  Instances       Size\n"
     ]
    },
    {
     "name": "stderr",
     "output_type": "stream",
     "text": [
      "     84/100      4.37G      1.124     0.8371       1.35         14        640: 100%|██████████| 434/434 [01:47<00:00,  4.03it/\n",
      "                 Class     Images  Instances      Box(P          R      mAP50  mAP50-95): 100%|██████████| 62/62 [00:23<00:00,"
     ]
    },
    {
     "name": "stdout",
     "output_type": "stream",
     "text": [
      "                   all       1980       4380      0.896      0.701      0.786      0.505\n"
     ]
    },
    {
     "name": "stderr",
     "output_type": "stream",
     "text": [
      "\n"
     ]
    },
    {
     "name": "stdout",
     "output_type": "stream",
     "text": [
      "\n",
      "      Epoch    GPU_mem   box_loss   cls_loss   dfl_loss  Instances       Size\n"
     ]
    },
    {
     "name": "stderr",
     "output_type": "stream",
     "text": [
      "     85/100      4.38G      1.106     0.8174      1.339          7        640: 100%|██████████| 434/434 [01:49<00:00,  3.95it/\n",
      "                 Class     Images  Instances      Box(P          R      mAP50  mAP50-95): 100%|██████████| 62/62 [00:22<00:00,"
     ]
    },
    {
     "name": "stdout",
     "output_type": "stream",
     "text": [
      "                   all       1980       4380      0.891      0.702      0.787      0.507\n"
     ]
    },
    {
     "name": "stderr",
     "output_type": "stream",
     "text": [
      "\n"
     ]
    },
    {
     "name": "stdout",
     "output_type": "stream",
     "text": [
      "\n",
      "      Epoch    GPU_mem   box_loss   cls_loss   dfl_loss  Instances       Size\n"
     ]
    },
    {
     "name": "stderr",
     "output_type": "stream",
     "text": [
      "     86/100      4.37G       1.11     0.8186      1.337         17        640: 100%|██████████| 434/434 [01:47<00:00,  4.04it/\n",
      "                 Class     Images  Instances      Box(P          R      mAP50  mAP50-95): 100%|██████████| 62/62 [00:24<00:00,"
     ]
    },
    {
     "name": "stdout",
     "output_type": "stream",
     "text": [
      "                   all       1980       4380      0.884      0.709      0.787      0.507\n"
     ]
    },
    {
     "name": "stderr",
     "output_type": "stream",
     "text": [
      "\n"
     ]
    },
    {
     "name": "stdout",
     "output_type": "stream",
     "text": [
      "\n",
      "      Epoch    GPU_mem   box_loss   cls_loss   dfl_loss  Instances       Size\n"
     ]
    },
    {
     "name": "stderr",
     "output_type": "stream",
     "text": [
      "     87/100      4.38G      1.106      0.822       1.34          8        640: 100%|██████████| 434/434 [01:56<00:00,  3.72it/\n",
      "                 Class     Images  Instances      Box(P          R      mAP50  mAP50-95): 100%|██████████| 62/62 [00:23<00:00,"
     ]
    },
    {
     "name": "stdout",
     "output_type": "stream",
     "text": [
      "                   all       1980       4380      0.884      0.708      0.788      0.507\n"
     ]
    },
    {
     "name": "stderr",
     "output_type": "stream",
     "text": [
      "\n"
     ]
    },
    {
     "name": "stdout",
     "output_type": "stream",
     "text": [
      "\n",
      "      Epoch    GPU_mem   box_loss   cls_loss   dfl_loss  Instances       Size\n"
     ]
    },
    {
     "name": "stderr",
     "output_type": "stream",
     "text": [
      "     88/100      4.37G        1.1     0.8166      1.334         12        640: 100%|██████████| 434/434 [01:48<00:00,  3.99it/\n",
      "                 Class     Images  Instances      Box(P          R      mAP50  mAP50-95): 100%|██████████| 62/62 [00:24<00:00,"
     ]
    },
    {
     "name": "stdout",
     "output_type": "stream",
     "text": [
      "                   all       1980       4380      0.877      0.708      0.787      0.508\n"
     ]
    },
    {
     "name": "stderr",
     "output_type": "stream",
     "text": [
      "\n"
     ]
    },
    {
     "name": "stdout",
     "output_type": "stream",
     "text": [
      "\n",
      "      Epoch    GPU_mem   box_loss   cls_loss   dfl_loss  Instances       Size\n"
     ]
    },
    {
     "name": "stderr",
     "output_type": "stream",
     "text": [
      "     89/100      4.38G      1.109     0.8261       1.34         11        640: 100%|██████████| 434/434 [01:50<00:00,  3.94it/\n",
      "                 Class     Images  Instances      Box(P          R      mAP50  mAP50-95): 100%|██████████| 62/62 [00:24<00:00,"
     ]
    },
    {
     "name": "stdout",
     "output_type": "stream",
     "text": [
      "                   all       1980       4380       0.88      0.709      0.787      0.509\n"
     ]
    },
    {
     "name": "stderr",
     "output_type": "stream",
     "text": [
      "\n"
     ]
    },
    {
     "name": "stdout",
     "output_type": "stream",
     "text": [
      "\n",
      "      Epoch    GPU_mem   box_loss   cls_loss   dfl_loss  Instances       Size\n"
     ]
    },
    {
     "name": "stderr",
     "output_type": "stream",
     "text": [
      "     90/100      4.37G      1.098     0.8077      1.328          7        640: 100%|██████████| 434/434 [01:52<00:00,  3.87it/\n",
      "                 Class     Images  Instances      Box(P          R      mAP50  mAP50-95): 100%|██████████| 62/62 [00:26<00:00,"
     ]
    },
    {
     "name": "stdout",
     "output_type": "stream",
     "text": [
      "                   all       1980       4380      0.882      0.712      0.787       0.51\n"
     ]
    },
    {
     "name": "stderr",
     "output_type": "stream",
     "text": [
      "\n"
     ]
    },
    {
     "name": "stdout",
     "output_type": "stream",
     "text": [
      "Closing dataloader mosaic\n",
      "\n",
      "      Epoch    GPU_mem   box_loss   cls_loss   dfl_loss  Instances       Size\n"
     ]
    },
    {
     "name": "stderr",
     "output_type": "stream",
     "text": [
      "     91/100      4.36G      1.057     0.7225      1.372          6        640: 100%|██████████| 434/434 [01:49<00:00,  3.95it/\n",
      "                 Class     Images  Instances      Box(P          R      mAP50  mAP50-95): 100%|██████████| 62/62 [00:22<00:00,"
     ]
    },
    {
     "name": "stdout",
     "output_type": "stream",
     "text": [
      "                   all       1980       4380      0.885       0.71      0.788      0.509\n"
     ]
    },
    {
     "name": "stderr",
     "output_type": "stream",
     "text": [
      "\n"
     ]
    },
    {
     "name": "stdout",
     "output_type": "stream",
     "text": [
      "\n",
      "      Epoch    GPU_mem   box_loss   cls_loss   dfl_loss  Instances       Size\n"
     ]
    },
    {
     "name": "stderr",
     "output_type": "stream",
     "text": [
      "     92/100      4.35G       1.04     0.7031      1.363          3        640: 100%|██████████| 434/434 [01:46<00:00,  4.07it/\n",
      "                 Class     Images  Instances      Box(P          R      mAP50  mAP50-95): 100%|██████████| 62/62 [00:23<00:00,"
     ]
    },
    {
     "name": "stdout",
     "output_type": "stream",
     "text": [
      "                   all       1980       4380       0.89      0.705      0.788       0.51\n"
     ]
    },
    {
     "name": "stderr",
     "output_type": "stream",
     "text": [
      "\n"
     ]
    },
    {
     "name": "stdout",
     "output_type": "stream",
     "text": [
      "\n",
      "      Epoch    GPU_mem   box_loss   cls_loss   dfl_loss  Instances       Size\n"
     ]
    },
    {
     "name": "stderr",
     "output_type": "stream",
     "text": [
      "     93/100      4.36G      1.019     0.6878      1.349          4        640: 100%|██████████| 434/434 [01:47<00:00,  4.04it/\n",
      "                 Class     Images  Instances      Box(P          R      mAP50  mAP50-95): 100%|██████████| 62/62 [00:24<00:00,"
     ]
    },
    {
     "name": "stdout",
     "output_type": "stream",
     "text": [
      "                   all       1980       4380      0.883       0.71      0.789      0.512\n"
     ]
    },
    {
     "name": "stderr",
     "output_type": "stream",
     "text": [
      "\n"
     ]
    },
    {
     "name": "stdout",
     "output_type": "stream",
     "text": [
      "\n",
      "      Epoch    GPU_mem   box_loss   cls_loss   dfl_loss  Instances       Size\n"
     ]
    },
    {
     "name": "stderr",
     "output_type": "stream",
     "text": [
      "     94/100      4.35G      1.014      0.683      1.339          6        640: 100%|██████████| 434/434 [01:46<00:00,  4.08it/\n",
      "                 Class     Images  Instances      Box(P          R      mAP50  mAP50-95): 100%|██████████| 62/62 [00:23<00:00,"
     ]
    },
    {
     "name": "stdout",
     "output_type": "stream",
     "text": [
      "                   all       1980       4380      0.891      0.708       0.79      0.513\n"
     ]
    },
    {
     "name": "stderr",
     "output_type": "stream",
     "text": [
      "\n"
     ]
    },
    {
     "name": "stdout",
     "output_type": "stream",
     "text": [
      "\n",
      "      Epoch    GPU_mem   box_loss   cls_loss   dfl_loss  Instances       Size\n"
     ]
    },
    {
     "name": "stderr",
     "output_type": "stream",
     "text": [
      "     95/100      4.36G      1.001     0.6725      1.332          5        640: 100%|██████████| 434/434 [01:46<00:00,  4.09it/\n",
      "                 Class     Images  Instances      Box(P          R      mAP50  mAP50-95): 100%|██████████| 62/62 [00:22<00:00,"
     ]
    },
    {
     "name": "stdout",
     "output_type": "stream",
     "text": [
      "                   all       1980       4380      0.888      0.713      0.791      0.514\n"
     ]
    },
    {
     "name": "stderr",
     "output_type": "stream",
     "text": [
      "\n"
     ]
    },
    {
     "name": "stdout",
     "output_type": "stream",
     "text": [
      "\n",
      "      Epoch    GPU_mem   box_loss   cls_loss   dfl_loss  Instances       Size\n"
     ]
    },
    {
     "name": "stderr",
     "output_type": "stream",
     "text": [
      "     96/100      4.35G     0.9935     0.6637      1.326          5        640: 100%|██████████| 434/434 [01:48<00:00,  4.00it/\n",
      "                 Class     Images  Instances      Box(P          R      mAP50  mAP50-95): 100%|██████████| 62/62 [00:22<00:00,"
     ]
    },
    {
     "name": "stdout",
     "output_type": "stream",
     "text": [
      "                   all       1980       4380      0.887      0.712      0.792      0.514\n"
     ]
    },
    {
     "name": "stderr",
     "output_type": "stream",
     "text": [
      "\n"
     ]
    },
    {
     "name": "stdout",
     "output_type": "stream",
     "text": [
      "\n",
      "      Epoch    GPU_mem   box_loss   cls_loss   dfl_loss  Instances       Size\n"
     ]
    },
    {
     "name": "stderr",
     "output_type": "stream",
     "text": [
      "     97/100      4.35G     0.9868      0.662      1.321          6        640: 100%|██████████| 434/434 [01:46<00:00,  4.06it/\n",
      "                 Class     Images  Instances      Box(P          R      mAP50  mAP50-95): 100%|██████████| 62/62 [00:23<00:00,"
     ]
    },
    {
     "name": "stdout",
     "output_type": "stream",
     "text": [
      "                   all       1980       4380       0.88       0.72      0.792      0.515\n"
     ]
    },
    {
     "name": "stderr",
     "output_type": "stream",
     "text": [
      "\n"
     ]
    },
    {
     "name": "stdout",
     "output_type": "stream",
     "text": [
      "\n",
      "      Epoch    GPU_mem   box_loss   cls_loss   dfl_loss  Instances       Size\n"
     ]
    },
    {
     "name": "stderr",
     "output_type": "stream",
     "text": [
      "     98/100      4.35G     0.9778     0.6562      1.314          6        640: 100%|██████████| 434/434 [01:47<00:00,  4.05it/\n",
      "                 Class     Images  Instances      Box(P          R      mAP50  mAP50-95): 100%|██████████| 62/62 [00:23<00:00,"
     ]
    },
    {
     "name": "stdout",
     "output_type": "stream",
     "text": [
      "                   all       1980       4380      0.875      0.718      0.792      0.516\n"
     ]
    },
    {
     "name": "stderr",
     "output_type": "stream",
     "text": [
      "\n"
     ]
    },
    {
     "name": "stdout",
     "output_type": "stream",
     "text": [
      "\n",
      "      Epoch    GPU_mem   box_loss   cls_loss   dfl_loss  Instances       Size\n"
     ]
    },
    {
     "name": "stderr",
     "output_type": "stream",
     "text": [
      "     99/100      4.36G     0.9821     0.6602      1.321          6        640: 100%|██████████| 434/434 [01:48<00:00,  4.01it/\n",
      "                 Class     Images  Instances      Box(P          R      mAP50  mAP50-95): 100%|██████████| 62/62 [00:22<00:00,"
     ]
    },
    {
     "name": "stdout",
     "output_type": "stream",
     "text": [
      "                   all       1980       4380      0.885      0.715      0.792      0.516\n"
     ]
    },
    {
     "name": "stderr",
     "output_type": "stream",
     "text": [
      "\n"
     ]
    },
    {
     "name": "stdout",
     "output_type": "stream",
     "text": [
      "\n",
      "      Epoch    GPU_mem   box_loss   cls_loss   dfl_loss  Instances       Size\n"
     ]
    },
    {
     "name": "stderr",
     "output_type": "stream",
     "text": [
      "    100/100      4.35G     0.9731     0.6565      1.315          5        640: 100%|██████████| 434/434 [01:46<00:00,  4.09it/\n",
      "                 Class     Images  Instances      Box(P          R      mAP50  mAP50-95): 100%|██████████| 62/62 [00:22<00:00,"
     ]
    },
    {
     "name": "stdout",
     "output_type": "stream",
     "text": [
      "                   all       1980       4380      0.884      0.716      0.793      0.516\n"
     ]
    },
    {
     "name": "stderr",
     "output_type": "stream",
     "text": [
      "\n"
     ]
    },
    {
     "name": "stdout",
     "output_type": "stream",
     "text": [
      "\n",
      "100 epochs completed in 3.172 hours.\n",
      "Optimizer stripped from runs\\detect\\train\\weights\\last.pt, 6.3MB\n",
      "Optimizer stripped from runs\\detect\\train\\weights\\best.pt, 6.3MB\n",
      "\n",
      "Validating runs\\detect\\train\\weights\\best.pt...\n",
      "Ultralytics YOLOv8.2.103  Python-3.12.6 torch-2.4.1+cu118 CUDA:0 (NVIDIA GeForce RTX 4050 Laptop GPU, 6140MiB)\n",
      "Model summary (fused): 168 layers, 3,006,233 parameters, 0 gradients, 8.1 GFLOPs\n"
     ]
    },
    {
     "name": "stderr",
     "output_type": "stream",
     "text": [
      "                 Class     Images  Instances      Box(P          R      mAP50  mAP50-95): 100%|██████████| 62/62 [00:26<00:00,\n"
     ]
    },
    {
     "name": "stdout",
     "output_type": "stream",
     "text": [
      "                   all       1980       4380      0.885      0.715      0.793      0.516\n",
      "                label0       1246       1246      0.861      0.632      0.731      0.435\n",
      "                label1       1944       1944      0.908      0.819      0.873      0.626\n",
      "                label2       1190       1190      0.884      0.694      0.776      0.487\n",
      "Speed: 0.3ms preprocess, 3.3ms inference, 0.0ms loss, 2.1ms postprocess per image\n",
      "Results saved to \u001b[1mruns\\detect\\train\u001b[0m\n"
     ]
    },
    {
     "data": {
      "text/plain": [
       "ultralytics.utils.metrics.DetMetrics object with attributes:\n",
       "\n",
       "ap_class_index: array([0, 1, 2])\n",
       "box: ultralytics.utils.metrics.Metric object\n",
       "confusion_matrix: <ultralytics.utils.metrics.ConfusionMatrix object at 0x00000277FD8580E0>\n",
       "curves: ['Precision-Recall(B)', 'F1-Confidence(B)', 'Precision-Confidence(B)', 'Recall-Confidence(B)']\n",
       "curves_results: [[array([          0,    0.001001,    0.002002,    0.003003,    0.004004,    0.005005,    0.006006,    0.007007,    0.008008,    0.009009,     0.01001,    0.011011,    0.012012,    0.013013,    0.014014,    0.015015,    0.016016,    0.017017,    0.018018,    0.019019,     0.02002,    0.021021,    0.022022,    0.023023,\n",
       "          0.024024,    0.025025,    0.026026,    0.027027,    0.028028,    0.029029,     0.03003,    0.031031,    0.032032,    0.033033,    0.034034,    0.035035,    0.036036,    0.037037,    0.038038,    0.039039,     0.04004,    0.041041,    0.042042,    0.043043,    0.044044,    0.045045,    0.046046,    0.047047,\n",
       "          0.048048,    0.049049,     0.05005,    0.051051,    0.052052,    0.053053,    0.054054,    0.055055,    0.056056,    0.057057,    0.058058,    0.059059,     0.06006,    0.061061,    0.062062,    0.063063,    0.064064,    0.065065,    0.066066,    0.067067,    0.068068,    0.069069,     0.07007,    0.071071,\n",
       "          0.072072,    0.073073,    0.074074,    0.075075,    0.076076,    0.077077,    0.078078,    0.079079,     0.08008,    0.081081,    0.082082,    0.083083,    0.084084,    0.085085,    0.086086,    0.087087,    0.088088,    0.089089,     0.09009,    0.091091,    0.092092,    0.093093,    0.094094,    0.095095,\n",
       "          0.096096,    0.097097,    0.098098,    0.099099,      0.1001,      0.1011,      0.1021,      0.1031,      0.1041,     0.10511,     0.10611,     0.10711,     0.10811,     0.10911,     0.11011,     0.11111,     0.11211,     0.11311,     0.11411,     0.11512,     0.11612,     0.11712,     0.11812,     0.11912,\n",
       "           0.12012,     0.12112,     0.12212,     0.12312,     0.12412,     0.12513,     0.12613,     0.12713,     0.12813,     0.12913,     0.13013,     0.13113,     0.13213,     0.13313,     0.13413,     0.13514,     0.13614,     0.13714,     0.13814,     0.13914,     0.14014,     0.14114,     0.14214,     0.14314,\n",
       "           0.14414,     0.14515,     0.14615,     0.14715,     0.14815,     0.14915,     0.15015,     0.15115,     0.15215,     0.15315,     0.15415,     0.15516,     0.15616,     0.15716,     0.15816,     0.15916,     0.16016,     0.16116,     0.16216,     0.16316,     0.16416,     0.16517,     0.16617,     0.16717,\n",
       "           0.16817,     0.16917,     0.17017,     0.17117,     0.17217,     0.17317,     0.17417,     0.17518,     0.17618,     0.17718,     0.17818,     0.17918,     0.18018,     0.18118,     0.18218,     0.18318,     0.18418,     0.18519,     0.18619,     0.18719,     0.18819,     0.18919,     0.19019,     0.19119,\n",
       "           0.19219,     0.19319,     0.19419,      0.1952,      0.1962,      0.1972,      0.1982,      0.1992,      0.2002,      0.2012,      0.2022,      0.2032,      0.2042,     0.20521,     0.20621,     0.20721,     0.20821,     0.20921,     0.21021,     0.21121,     0.21221,     0.21321,     0.21421,     0.21522,\n",
       "           0.21622,     0.21722,     0.21822,     0.21922,     0.22022,     0.22122,     0.22222,     0.22322,     0.22422,     0.22523,     0.22623,     0.22723,     0.22823,     0.22923,     0.23023,     0.23123,     0.23223,     0.23323,     0.23423,     0.23524,     0.23624,     0.23724,     0.23824,     0.23924,\n",
       "           0.24024,     0.24124,     0.24224,     0.24324,     0.24424,     0.24525,     0.24625,     0.24725,     0.24825,     0.24925,     0.25025,     0.25125,     0.25225,     0.25325,     0.25425,     0.25526,     0.25626,     0.25726,     0.25826,     0.25926,     0.26026,     0.26126,     0.26226,     0.26326,\n",
       "           0.26426,     0.26527,     0.26627,     0.26727,     0.26827,     0.26927,     0.27027,     0.27127,     0.27227,     0.27327,     0.27427,     0.27528,     0.27628,     0.27728,     0.27828,     0.27928,     0.28028,     0.28128,     0.28228,     0.28328,     0.28428,     0.28529,     0.28629,     0.28729,\n",
       "           0.28829,     0.28929,     0.29029,     0.29129,     0.29229,     0.29329,     0.29429,      0.2953,      0.2963,      0.2973,      0.2983,      0.2993,      0.3003,      0.3013,      0.3023,      0.3033,      0.3043,     0.30531,     0.30631,     0.30731,     0.30831,     0.30931,     0.31031,     0.31131,\n",
       "           0.31231,     0.31331,     0.31431,     0.31532,     0.31632,     0.31732,     0.31832,     0.31932,     0.32032,     0.32132,     0.32232,     0.32332,     0.32432,     0.32533,     0.32633,     0.32733,     0.32833,     0.32933,     0.33033,     0.33133,     0.33233,     0.33333,     0.33433,     0.33534,\n",
       "           0.33634,     0.33734,     0.33834,     0.33934,     0.34034,     0.34134,     0.34234,     0.34334,     0.34434,     0.34535,     0.34635,     0.34735,     0.34835,     0.34935,     0.35035,     0.35135,     0.35235,     0.35335,     0.35435,     0.35536,     0.35636,     0.35736,     0.35836,     0.35936,\n",
       "           0.36036,     0.36136,     0.36236,     0.36336,     0.36436,     0.36537,     0.36637,     0.36737,     0.36837,     0.36937,     0.37037,     0.37137,     0.37237,     0.37337,     0.37437,     0.37538,     0.37638,     0.37738,     0.37838,     0.37938,     0.38038,     0.38138,     0.38238,     0.38338,\n",
       "           0.38438,     0.38539,     0.38639,     0.38739,     0.38839,     0.38939,     0.39039,     0.39139,     0.39239,     0.39339,     0.39439,      0.3954,      0.3964,      0.3974,      0.3984,      0.3994,      0.4004,      0.4014,      0.4024,      0.4034,      0.4044,     0.40541,     0.40641,     0.40741,\n",
       "           0.40841,     0.40941,     0.41041,     0.41141,     0.41241,     0.41341,     0.41441,     0.41542,     0.41642,     0.41742,     0.41842,     0.41942,     0.42042,     0.42142,     0.42242,     0.42342,     0.42442,     0.42543,     0.42643,     0.42743,     0.42843,     0.42943,     0.43043,     0.43143,\n",
       "           0.43243,     0.43343,     0.43443,     0.43544,     0.43644,     0.43744,     0.43844,     0.43944,     0.44044,     0.44144,     0.44244,     0.44344,     0.44444,     0.44545,     0.44645,     0.44745,     0.44845,     0.44945,     0.45045,     0.45145,     0.45245,     0.45345,     0.45445,     0.45546,\n",
       "           0.45646,     0.45746,     0.45846,     0.45946,     0.46046,     0.46146,     0.46246,     0.46346,     0.46446,     0.46547,     0.46647,     0.46747,     0.46847,     0.46947,     0.47047,     0.47147,     0.47247,     0.47347,     0.47447,     0.47548,     0.47648,     0.47748,     0.47848,     0.47948,\n",
       "           0.48048,     0.48148,     0.48248,     0.48348,     0.48448,     0.48549,     0.48649,     0.48749,     0.48849,     0.48949,     0.49049,     0.49149,     0.49249,     0.49349,     0.49449,      0.4955,      0.4965,      0.4975,      0.4985,      0.4995,      0.5005,      0.5015,      0.5025,      0.5035,\n",
       "            0.5045,     0.50551,     0.50651,     0.50751,     0.50851,     0.50951,     0.51051,     0.51151,     0.51251,     0.51351,     0.51451,     0.51552,     0.51652,     0.51752,     0.51852,     0.51952,     0.52052,     0.52152,     0.52252,     0.52352,     0.52452,     0.52553,     0.52653,     0.52753,\n",
       "           0.52853,     0.52953,     0.53053,     0.53153,     0.53253,     0.53353,     0.53453,     0.53554,     0.53654,     0.53754,     0.53854,     0.53954,     0.54054,     0.54154,     0.54254,     0.54354,     0.54454,     0.54555,     0.54655,     0.54755,     0.54855,     0.54955,     0.55055,     0.55155,\n",
       "           0.55255,     0.55355,     0.55455,     0.55556,     0.55656,     0.55756,     0.55856,     0.55956,     0.56056,     0.56156,     0.56256,     0.56356,     0.56456,     0.56557,     0.56657,     0.56757,     0.56857,     0.56957,     0.57057,     0.57157,     0.57257,     0.57357,     0.57457,     0.57558,\n",
       "           0.57658,     0.57758,     0.57858,     0.57958,     0.58058,     0.58158,     0.58258,     0.58358,     0.58458,     0.58559,     0.58659,     0.58759,     0.58859,     0.58959,     0.59059,     0.59159,     0.59259,     0.59359,     0.59459,      0.5956,      0.5966,      0.5976,      0.5986,      0.5996,\n",
       "            0.6006,      0.6016,      0.6026,      0.6036,      0.6046,     0.60561,     0.60661,     0.60761,     0.60861,     0.60961,     0.61061,     0.61161,     0.61261,     0.61361,     0.61461,     0.61562,     0.61662,     0.61762,     0.61862,     0.61962,     0.62062,     0.62162,     0.62262,     0.62362,\n",
       "           0.62462,     0.62563,     0.62663,     0.62763,     0.62863,     0.62963,     0.63063,     0.63163,     0.63263,     0.63363,     0.63463,     0.63564,     0.63664,     0.63764,     0.63864,     0.63964,     0.64064,     0.64164,     0.64264,     0.64364,     0.64464,     0.64565,     0.64665,     0.64765,\n",
       "           0.64865,     0.64965,     0.65065,     0.65165,     0.65265,     0.65365,     0.65465,     0.65566,     0.65666,     0.65766,     0.65866,     0.65966,     0.66066,     0.66166,     0.66266,     0.66366,     0.66466,     0.66567,     0.66667,     0.66767,     0.66867,     0.66967,     0.67067,     0.67167,\n",
       "           0.67267,     0.67367,     0.67467,     0.67568,     0.67668,     0.67768,     0.67868,     0.67968,     0.68068,     0.68168,     0.68268,     0.68368,     0.68468,     0.68569,     0.68669,     0.68769,     0.68869,     0.68969,     0.69069,     0.69169,     0.69269,     0.69369,     0.69469,      0.6957,\n",
       "            0.6967,      0.6977,      0.6987,      0.6997,      0.7007,      0.7017,      0.7027,      0.7037,      0.7047,     0.70571,     0.70671,     0.70771,     0.70871,     0.70971,     0.71071,     0.71171,     0.71271,     0.71371,     0.71471,     0.71572,     0.71672,     0.71772,     0.71872,     0.71972,\n",
       "           0.72072,     0.72172,     0.72272,     0.72372,     0.72472,     0.72573,     0.72673,     0.72773,     0.72873,     0.72973,     0.73073,     0.73173,     0.73273,     0.73373,     0.73473,     0.73574,     0.73674,     0.73774,     0.73874,     0.73974,     0.74074,     0.74174,     0.74274,     0.74374,\n",
       "           0.74474,     0.74575,     0.74675,     0.74775,     0.74875,     0.74975,     0.75075,     0.75175,     0.75275,     0.75375,     0.75475,     0.75576,     0.75676,     0.75776,     0.75876,     0.75976,     0.76076,     0.76176,     0.76276,     0.76376,     0.76476,     0.76577,     0.76677,     0.76777,\n",
       "           0.76877,     0.76977,     0.77077,     0.77177,     0.77277,     0.77377,     0.77477,     0.77578,     0.77678,     0.77778,     0.77878,     0.77978,     0.78078,     0.78178,     0.78278,     0.78378,     0.78478,     0.78579,     0.78679,     0.78779,     0.78879,     0.78979,     0.79079,     0.79179,\n",
       "           0.79279,     0.79379,     0.79479,      0.7958,      0.7968,      0.7978,      0.7988,      0.7998,      0.8008,      0.8018,      0.8028,      0.8038,      0.8048,     0.80581,     0.80681,     0.80781,     0.80881,     0.80981,     0.81081,     0.81181,     0.81281,     0.81381,     0.81481,     0.81582,\n",
       "           0.81682,     0.81782,     0.81882,     0.81982,     0.82082,     0.82182,     0.82282,     0.82382,     0.82482,     0.82583,     0.82683,     0.82783,     0.82883,     0.82983,     0.83083,     0.83183,     0.83283,     0.83383,     0.83483,     0.83584,     0.83684,     0.83784,     0.83884,     0.83984,\n",
       "           0.84084,     0.84184,     0.84284,     0.84384,     0.84484,     0.84585,     0.84685,     0.84785,     0.84885,     0.84985,     0.85085,     0.85185,     0.85285,     0.85385,     0.85485,     0.85586,     0.85686,     0.85786,     0.85886,     0.85986,     0.86086,     0.86186,     0.86286,     0.86386,\n",
       "           0.86486,     0.86587,     0.86687,     0.86787,     0.86887,     0.86987,     0.87087,     0.87187,     0.87287,     0.87387,     0.87487,     0.87588,     0.87688,     0.87788,     0.87888,     0.87988,     0.88088,     0.88188,     0.88288,     0.88388,     0.88488,     0.88589,     0.88689,     0.88789,\n",
       "           0.88889,     0.88989,     0.89089,     0.89189,     0.89289,     0.89389,     0.89489,      0.8959,      0.8969,      0.8979,      0.8989,      0.8999,      0.9009,      0.9019,      0.9029,      0.9039,      0.9049,     0.90591,     0.90691,     0.90791,     0.90891,     0.90991,     0.91091,     0.91191,\n",
       "           0.91291,     0.91391,     0.91491,     0.91592,     0.91692,     0.91792,     0.91892,     0.91992,     0.92092,     0.92192,     0.92292,     0.92392,     0.92492,     0.92593,     0.92693,     0.92793,     0.92893,     0.92993,     0.93093,     0.93193,     0.93293,     0.93393,     0.93493,     0.93594,\n",
       "           0.93694,     0.93794,     0.93894,     0.93994,     0.94094,     0.94194,     0.94294,     0.94394,     0.94494,     0.94595,     0.94695,     0.94795,     0.94895,     0.94995,     0.95095,     0.95195,     0.95295,     0.95395,     0.95495,     0.95596,     0.95696,     0.95796,     0.95896,     0.95996,\n",
       "           0.96096,     0.96196,     0.96296,     0.96396,     0.96496,     0.96597,     0.96697,     0.96797,     0.96897,     0.96997,     0.97097,     0.97197,     0.97297,     0.97397,     0.97497,     0.97598,     0.97698,     0.97798,     0.97898,     0.97998,     0.98098,     0.98198,     0.98298,     0.98398,\n",
       "           0.98498,     0.98599,     0.98699,     0.98799,     0.98899,     0.98999,     0.99099,     0.99199,     0.99299,     0.99399,     0.99499,       0.996,       0.997,       0.998,       0.999,           1]), array([[          1,           1,           1, ...,  0.00061454,  0.00030727,           0],\n",
       "       [          1,           1,           1, ...,   0.0015362,   0.0007681,           0],\n",
       "       [          1,           1,           1, ...,  0.00059026,  0.00029513,           0]]), 'Recall', 'Precision'], [array([          0,    0.001001,    0.002002,    0.003003,    0.004004,    0.005005,    0.006006,    0.007007,    0.008008,    0.009009,     0.01001,    0.011011,    0.012012,    0.013013,    0.014014,    0.015015,    0.016016,    0.017017,    0.018018,    0.019019,     0.02002,    0.021021,    0.022022,    0.023023,\n",
       "          0.024024,    0.025025,    0.026026,    0.027027,    0.028028,    0.029029,     0.03003,    0.031031,    0.032032,    0.033033,    0.034034,    0.035035,    0.036036,    0.037037,    0.038038,    0.039039,     0.04004,    0.041041,    0.042042,    0.043043,    0.044044,    0.045045,    0.046046,    0.047047,\n",
       "          0.048048,    0.049049,     0.05005,    0.051051,    0.052052,    0.053053,    0.054054,    0.055055,    0.056056,    0.057057,    0.058058,    0.059059,     0.06006,    0.061061,    0.062062,    0.063063,    0.064064,    0.065065,    0.066066,    0.067067,    0.068068,    0.069069,     0.07007,    0.071071,\n",
       "          0.072072,    0.073073,    0.074074,    0.075075,    0.076076,    0.077077,    0.078078,    0.079079,     0.08008,    0.081081,    0.082082,    0.083083,    0.084084,    0.085085,    0.086086,    0.087087,    0.088088,    0.089089,     0.09009,    0.091091,    0.092092,    0.093093,    0.094094,    0.095095,\n",
       "          0.096096,    0.097097,    0.098098,    0.099099,      0.1001,      0.1011,      0.1021,      0.1031,      0.1041,     0.10511,     0.10611,     0.10711,     0.10811,     0.10911,     0.11011,     0.11111,     0.11211,     0.11311,     0.11411,     0.11512,     0.11612,     0.11712,     0.11812,     0.11912,\n",
       "           0.12012,     0.12112,     0.12212,     0.12312,     0.12412,     0.12513,     0.12613,     0.12713,     0.12813,     0.12913,     0.13013,     0.13113,     0.13213,     0.13313,     0.13413,     0.13514,     0.13614,     0.13714,     0.13814,     0.13914,     0.14014,     0.14114,     0.14214,     0.14314,\n",
       "           0.14414,     0.14515,     0.14615,     0.14715,     0.14815,     0.14915,     0.15015,     0.15115,     0.15215,     0.15315,     0.15415,     0.15516,     0.15616,     0.15716,     0.15816,     0.15916,     0.16016,     0.16116,     0.16216,     0.16316,     0.16416,     0.16517,     0.16617,     0.16717,\n",
       "           0.16817,     0.16917,     0.17017,     0.17117,     0.17217,     0.17317,     0.17417,     0.17518,     0.17618,     0.17718,     0.17818,     0.17918,     0.18018,     0.18118,     0.18218,     0.18318,     0.18418,     0.18519,     0.18619,     0.18719,     0.18819,     0.18919,     0.19019,     0.19119,\n",
       "           0.19219,     0.19319,     0.19419,      0.1952,      0.1962,      0.1972,      0.1982,      0.1992,      0.2002,      0.2012,      0.2022,      0.2032,      0.2042,     0.20521,     0.20621,     0.20721,     0.20821,     0.20921,     0.21021,     0.21121,     0.21221,     0.21321,     0.21421,     0.21522,\n",
       "           0.21622,     0.21722,     0.21822,     0.21922,     0.22022,     0.22122,     0.22222,     0.22322,     0.22422,     0.22523,     0.22623,     0.22723,     0.22823,     0.22923,     0.23023,     0.23123,     0.23223,     0.23323,     0.23423,     0.23524,     0.23624,     0.23724,     0.23824,     0.23924,\n",
       "           0.24024,     0.24124,     0.24224,     0.24324,     0.24424,     0.24525,     0.24625,     0.24725,     0.24825,     0.24925,     0.25025,     0.25125,     0.25225,     0.25325,     0.25425,     0.25526,     0.25626,     0.25726,     0.25826,     0.25926,     0.26026,     0.26126,     0.26226,     0.26326,\n",
       "           0.26426,     0.26527,     0.26627,     0.26727,     0.26827,     0.26927,     0.27027,     0.27127,     0.27227,     0.27327,     0.27427,     0.27528,     0.27628,     0.27728,     0.27828,     0.27928,     0.28028,     0.28128,     0.28228,     0.28328,     0.28428,     0.28529,     0.28629,     0.28729,\n",
       "           0.28829,     0.28929,     0.29029,     0.29129,     0.29229,     0.29329,     0.29429,      0.2953,      0.2963,      0.2973,      0.2983,      0.2993,      0.3003,      0.3013,      0.3023,      0.3033,      0.3043,     0.30531,     0.30631,     0.30731,     0.30831,     0.30931,     0.31031,     0.31131,\n",
       "           0.31231,     0.31331,     0.31431,     0.31532,     0.31632,     0.31732,     0.31832,     0.31932,     0.32032,     0.32132,     0.32232,     0.32332,     0.32432,     0.32533,     0.32633,     0.32733,     0.32833,     0.32933,     0.33033,     0.33133,     0.33233,     0.33333,     0.33433,     0.33534,\n",
       "           0.33634,     0.33734,     0.33834,     0.33934,     0.34034,     0.34134,     0.34234,     0.34334,     0.34434,     0.34535,     0.34635,     0.34735,     0.34835,     0.34935,     0.35035,     0.35135,     0.35235,     0.35335,     0.35435,     0.35536,     0.35636,     0.35736,     0.35836,     0.35936,\n",
       "           0.36036,     0.36136,     0.36236,     0.36336,     0.36436,     0.36537,     0.36637,     0.36737,     0.36837,     0.36937,     0.37037,     0.37137,     0.37237,     0.37337,     0.37437,     0.37538,     0.37638,     0.37738,     0.37838,     0.37938,     0.38038,     0.38138,     0.38238,     0.38338,\n",
       "           0.38438,     0.38539,     0.38639,     0.38739,     0.38839,     0.38939,     0.39039,     0.39139,     0.39239,     0.39339,     0.39439,      0.3954,      0.3964,      0.3974,      0.3984,      0.3994,      0.4004,      0.4014,      0.4024,      0.4034,      0.4044,     0.40541,     0.40641,     0.40741,\n",
       "           0.40841,     0.40941,     0.41041,     0.41141,     0.41241,     0.41341,     0.41441,     0.41542,     0.41642,     0.41742,     0.41842,     0.41942,     0.42042,     0.42142,     0.42242,     0.42342,     0.42442,     0.42543,     0.42643,     0.42743,     0.42843,     0.42943,     0.43043,     0.43143,\n",
       "           0.43243,     0.43343,     0.43443,     0.43544,     0.43644,     0.43744,     0.43844,     0.43944,     0.44044,     0.44144,     0.44244,     0.44344,     0.44444,     0.44545,     0.44645,     0.44745,     0.44845,     0.44945,     0.45045,     0.45145,     0.45245,     0.45345,     0.45445,     0.45546,\n",
       "           0.45646,     0.45746,     0.45846,     0.45946,     0.46046,     0.46146,     0.46246,     0.46346,     0.46446,     0.46547,     0.46647,     0.46747,     0.46847,     0.46947,     0.47047,     0.47147,     0.47247,     0.47347,     0.47447,     0.47548,     0.47648,     0.47748,     0.47848,     0.47948,\n",
       "           0.48048,     0.48148,     0.48248,     0.48348,     0.48448,     0.48549,     0.48649,     0.48749,     0.48849,     0.48949,     0.49049,     0.49149,     0.49249,     0.49349,     0.49449,      0.4955,      0.4965,      0.4975,      0.4985,      0.4995,      0.5005,      0.5015,      0.5025,      0.5035,\n",
       "            0.5045,     0.50551,     0.50651,     0.50751,     0.50851,     0.50951,     0.51051,     0.51151,     0.51251,     0.51351,     0.51451,     0.51552,     0.51652,     0.51752,     0.51852,     0.51952,     0.52052,     0.52152,     0.52252,     0.52352,     0.52452,     0.52553,     0.52653,     0.52753,\n",
       "           0.52853,     0.52953,     0.53053,     0.53153,     0.53253,     0.53353,     0.53453,     0.53554,     0.53654,     0.53754,     0.53854,     0.53954,     0.54054,     0.54154,     0.54254,     0.54354,     0.54454,     0.54555,     0.54655,     0.54755,     0.54855,     0.54955,     0.55055,     0.55155,\n",
       "           0.55255,     0.55355,     0.55455,     0.55556,     0.55656,     0.55756,     0.55856,     0.55956,     0.56056,     0.56156,     0.56256,     0.56356,     0.56456,     0.56557,     0.56657,     0.56757,     0.56857,     0.56957,     0.57057,     0.57157,     0.57257,     0.57357,     0.57457,     0.57558,\n",
       "           0.57658,     0.57758,     0.57858,     0.57958,     0.58058,     0.58158,     0.58258,     0.58358,     0.58458,     0.58559,     0.58659,     0.58759,     0.58859,     0.58959,     0.59059,     0.59159,     0.59259,     0.59359,     0.59459,      0.5956,      0.5966,      0.5976,      0.5986,      0.5996,\n",
       "            0.6006,      0.6016,      0.6026,      0.6036,      0.6046,     0.60561,     0.60661,     0.60761,     0.60861,     0.60961,     0.61061,     0.61161,     0.61261,     0.61361,     0.61461,     0.61562,     0.61662,     0.61762,     0.61862,     0.61962,     0.62062,     0.62162,     0.62262,     0.62362,\n",
       "           0.62462,     0.62563,     0.62663,     0.62763,     0.62863,     0.62963,     0.63063,     0.63163,     0.63263,     0.63363,     0.63463,     0.63564,     0.63664,     0.63764,     0.63864,     0.63964,     0.64064,     0.64164,     0.64264,     0.64364,     0.64464,     0.64565,     0.64665,     0.64765,\n",
       "           0.64865,     0.64965,     0.65065,     0.65165,     0.65265,     0.65365,     0.65465,     0.65566,     0.65666,     0.65766,     0.65866,     0.65966,     0.66066,     0.66166,     0.66266,     0.66366,     0.66466,     0.66567,     0.66667,     0.66767,     0.66867,     0.66967,     0.67067,     0.67167,\n",
       "           0.67267,     0.67367,     0.67467,     0.67568,     0.67668,     0.67768,     0.67868,     0.67968,     0.68068,     0.68168,     0.68268,     0.68368,     0.68468,     0.68569,     0.68669,     0.68769,     0.68869,     0.68969,     0.69069,     0.69169,     0.69269,     0.69369,     0.69469,      0.6957,\n",
       "            0.6967,      0.6977,      0.6987,      0.6997,      0.7007,      0.7017,      0.7027,      0.7037,      0.7047,     0.70571,     0.70671,     0.70771,     0.70871,     0.70971,     0.71071,     0.71171,     0.71271,     0.71371,     0.71471,     0.71572,     0.71672,     0.71772,     0.71872,     0.71972,\n",
       "           0.72072,     0.72172,     0.72272,     0.72372,     0.72472,     0.72573,     0.72673,     0.72773,     0.72873,     0.72973,     0.73073,     0.73173,     0.73273,     0.73373,     0.73473,     0.73574,     0.73674,     0.73774,     0.73874,     0.73974,     0.74074,     0.74174,     0.74274,     0.74374,\n",
       "           0.74474,     0.74575,     0.74675,     0.74775,     0.74875,     0.74975,     0.75075,     0.75175,     0.75275,     0.75375,     0.75475,     0.75576,     0.75676,     0.75776,     0.75876,     0.75976,     0.76076,     0.76176,     0.76276,     0.76376,     0.76476,     0.76577,     0.76677,     0.76777,\n",
       "           0.76877,     0.76977,     0.77077,     0.77177,     0.77277,     0.77377,     0.77477,     0.77578,     0.77678,     0.77778,     0.77878,     0.77978,     0.78078,     0.78178,     0.78278,     0.78378,     0.78478,     0.78579,     0.78679,     0.78779,     0.78879,     0.78979,     0.79079,     0.79179,\n",
       "           0.79279,     0.79379,     0.79479,      0.7958,      0.7968,      0.7978,      0.7988,      0.7998,      0.8008,      0.8018,      0.8028,      0.8038,      0.8048,     0.80581,     0.80681,     0.80781,     0.80881,     0.80981,     0.81081,     0.81181,     0.81281,     0.81381,     0.81481,     0.81582,\n",
       "           0.81682,     0.81782,     0.81882,     0.81982,     0.82082,     0.82182,     0.82282,     0.82382,     0.82482,     0.82583,     0.82683,     0.82783,     0.82883,     0.82983,     0.83083,     0.83183,     0.83283,     0.83383,     0.83483,     0.83584,     0.83684,     0.83784,     0.83884,     0.83984,\n",
       "           0.84084,     0.84184,     0.84284,     0.84384,     0.84484,     0.84585,     0.84685,     0.84785,     0.84885,     0.84985,     0.85085,     0.85185,     0.85285,     0.85385,     0.85485,     0.85586,     0.85686,     0.85786,     0.85886,     0.85986,     0.86086,     0.86186,     0.86286,     0.86386,\n",
       "           0.86486,     0.86587,     0.86687,     0.86787,     0.86887,     0.86987,     0.87087,     0.87187,     0.87287,     0.87387,     0.87487,     0.87588,     0.87688,     0.87788,     0.87888,     0.87988,     0.88088,     0.88188,     0.88288,     0.88388,     0.88488,     0.88589,     0.88689,     0.88789,\n",
       "           0.88889,     0.88989,     0.89089,     0.89189,     0.89289,     0.89389,     0.89489,      0.8959,      0.8969,      0.8979,      0.8989,      0.8999,      0.9009,      0.9019,      0.9029,      0.9039,      0.9049,     0.90591,     0.90691,     0.90791,     0.90891,     0.90991,     0.91091,     0.91191,\n",
       "           0.91291,     0.91391,     0.91491,     0.91592,     0.91692,     0.91792,     0.91892,     0.91992,     0.92092,     0.92192,     0.92292,     0.92392,     0.92492,     0.92593,     0.92693,     0.92793,     0.92893,     0.92993,     0.93093,     0.93193,     0.93293,     0.93393,     0.93493,     0.93594,\n",
       "           0.93694,     0.93794,     0.93894,     0.93994,     0.94094,     0.94194,     0.94294,     0.94394,     0.94494,     0.94595,     0.94695,     0.94795,     0.94895,     0.94995,     0.95095,     0.95195,     0.95295,     0.95395,     0.95495,     0.95596,     0.95696,     0.95796,     0.95896,     0.95996,\n",
       "           0.96096,     0.96196,     0.96296,     0.96396,     0.96496,     0.96597,     0.96697,     0.96797,     0.96897,     0.96997,     0.97097,     0.97197,     0.97297,     0.97397,     0.97497,     0.97598,     0.97698,     0.97798,     0.97898,     0.97998,     0.98098,     0.98198,     0.98298,     0.98398,\n",
       "           0.98498,     0.98599,     0.98699,     0.98799,     0.98899,     0.98999,     0.99099,     0.99199,     0.99299,     0.99399,     0.99499,       0.996,       0.997,       0.998,       0.999,           1]), array([[    0.07273,    0.072768,     0.11034, ...,           0,           0,           0],\n",
       "       [    0.10571,     0.10582,       0.182, ...,           0,           0,           0],\n",
       "       [   0.072655,    0.072694,     0.11365, ...,           0,           0,           0]]), 'Confidence', 'F1'], [array([          0,    0.001001,    0.002002,    0.003003,    0.004004,    0.005005,    0.006006,    0.007007,    0.008008,    0.009009,     0.01001,    0.011011,    0.012012,    0.013013,    0.014014,    0.015015,    0.016016,    0.017017,    0.018018,    0.019019,     0.02002,    0.021021,    0.022022,    0.023023,\n",
       "          0.024024,    0.025025,    0.026026,    0.027027,    0.028028,    0.029029,     0.03003,    0.031031,    0.032032,    0.033033,    0.034034,    0.035035,    0.036036,    0.037037,    0.038038,    0.039039,     0.04004,    0.041041,    0.042042,    0.043043,    0.044044,    0.045045,    0.046046,    0.047047,\n",
       "          0.048048,    0.049049,     0.05005,    0.051051,    0.052052,    0.053053,    0.054054,    0.055055,    0.056056,    0.057057,    0.058058,    0.059059,     0.06006,    0.061061,    0.062062,    0.063063,    0.064064,    0.065065,    0.066066,    0.067067,    0.068068,    0.069069,     0.07007,    0.071071,\n",
       "          0.072072,    0.073073,    0.074074,    0.075075,    0.076076,    0.077077,    0.078078,    0.079079,     0.08008,    0.081081,    0.082082,    0.083083,    0.084084,    0.085085,    0.086086,    0.087087,    0.088088,    0.089089,     0.09009,    0.091091,    0.092092,    0.093093,    0.094094,    0.095095,\n",
       "          0.096096,    0.097097,    0.098098,    0.099099,      0.1001,      0.1011,      0.1021,      0.1031,      0.1041,     0.10511,     0.10611,     0.10711,     0.10811,     0.10911,     0.11011,     0.11111,     0.11211,     0.11311,     0.11411,     0.11512,     0.11612,     0.11712,     0.11812,     0.11912,\n",
       "           0.12012,     0.12112,     0.12212,     0.12312,     0.12412,     0.12513,     0.12613,     0.12713,     0.12813,     0.12913,     0.13013,     0.13113,     0.13213,     0.13313,     0.13413,     0.13514,     0.13614,     0.13714,     0.13814,     0.13914,     0.14014,     0.14114,     0.14214,     0.14314,\n",
       "           0.14414,     0.14515,     0.14615,     0.14715,     0.14815,     0.14915,     0.15015,     0.15115,     0.15215,     0.15315,     0.15415,     0.15516,     0.15616,     0.15716,     0.15816,     0.15916,     0.16016,     0.16116,     0.16216,     0.16316,     0.16416,     0.16517,     0.16617,     0.16717,\n",
       "           0.16817,     0.16917,     0.17017,     0.17117,     0.17217,     0.17317,     0.17417,     0.17518,     0.17618,     0.17718,     0.17818,     0.17918,     0.18018,     0.18118,     0.18218,     0.18318,     0.18418,     0.18519,     0.18619,     0.18719,     0.18819,     0.18919,     0.19019,     0.19119,\n",
       "           0.19219,     0.19319,     0.19419,      0.1952,      0.1962,      0.1972,      0.1982,      0.1992,      0.2002,      0.2012,      0.2022,      0.2032,      0.2042,     0.20521,     0.20621,     0.20721,     0.20821,     0.20921,     0.21021,     0.21121,     0.21221,     0.21321,     0.21421,     0.21522,\n",
       "           0.21622,     0.21722,     0.21822,     0.21922,     0.22022,     0.22122,     0.22222,     0.22322,     0.22422,     0.22523,     0.22623,     0.22723,     0.22823,     0.22923,     0.23023,     0.23123,     0.23223,     0.23323,     0.23423,     0.23524,     0.23624,     0.23724,     0.23824,     0.23924,\n",
       "           0.24024,     0.24124,     0.24224,     0.24324,     0.24424,     0.24525,     0.24625,     0.24725,     0.24825,     0.24925,     0.25025,     0.25125,     0.25225,     0.25325,     0.25425,     0.25526,     0.25626,     0.25726,     0.25826,     0.25926,     0.26026,     0.26126,     0.26226,     0.26326,\n",
       "           0.26426,     0.26527,     0.26627,     0.26727,     0.26827,     0.26927,     0.27027,     0.27127,     0.27227,     0.27327,     0.27427,     0.27528,     0.27628,     0.27728,     0.27828,     0.27928,     0.28028,     0.28128,     0.28228,     0.28328,     0.28428,     0.28529,     0.28629,     0.28729,\n",
       "           0.28829,     0.28929,     0.29029,     0.29129,     0.29229,     0.29329,     0.29429,      0.2953,      0.2963,      0.2973,      0.2983,      0.2993,      0.3003,      0.3013,      0.3023,      0.3033,      0.3043,     0.30531,     0.30631,     0.30731,     0.30831,     0.30931,     0.31031,     0.31131,\n",
       "           0.31231,     0.31331,     0.31431,     0.31532,     0.31632,     0.31732,     0.31832,     0.31932,     0.32032,     0.32132,     0.32232,     0.32332,     0.32432,     0.32533,     0.32633,     0.32733,     0.32833,     0.32933,     0.33033,     0.33133,     0.33233,     0.33333,     0.33433,     0.33534,\n",
       "           0.33634,     0.33734,     0.33834,     0.33934,     0.34034,     0.34134,     0.34234,     0.34334,     0.34434,     0.34535,     0.34635,     0.34735,     0.34835,     0.34935,     0.35035,     0.35135,     0.35235,     0.35335,     0.35435,     0.35536,     0.35636,     0.35736,     0.35836,     0.35936,\n",
       "           0.36036,     0.36136,     0.36236,     0.36336,     0.36436,     0.36537,     0.36637,     0.36737,     0.36837,     0.36937,     0.37037,     0.37137,     0.37237,     0.37337,     0.37437,     0.37538,     0.37638,     0.37738,     0.37838,     0.37938,     0.38038,     0.38138,     0.38238,     0.38338,\n",
       "           0.38438,     0.38539,     0.38639,     0.38739,     0.38839,     0.38939,     0.39039,     0.39139,     0.39239,     0.39339,     0.39439,      0.3954,      0.3964,      0.3974,      0.3984,      0.3994,      0.4004,      0.4014,      0.4024,      0.4034,      0.4044,     0.40541,     0.40641,     0.40741,\n",
       "           0.40841,     0.40941,     0.41041,     0.41141,     0.41241,     0.41341,     0.41441,     0.41542,     0.41642,     0.41742,     0.41842,     0.41942,     0.42042,     0.42142,     0.42242,     0.42342,     0.42442,     0.42543,     0.42643,     0.42743,     0.42843,     0.42943,     0.43043,     0.43143,\n",
       "           0.43243,     0.43343,     0.43443,     0.43544,     0.43644,     0.43744,     0.43844,     0.43944,     0.44044,     0.44144,     0.44244,     0.44344,     0.44444,     0.44545,     0.44645,     0.44745,     0.44845,     0.44945,     0.45045,     0.45145,     0.45245,     0.45345,     0.45445,     0.45546,\n",
       "           0.45646,     0.45746,     0.45846,     0.45946,     0.46046,     0.46146,     0.46246,     0.46346,     0.46446,     0.46547,     0.46647,     0.46747,     0.46847,     0.46947,     0.47047,     0.47147,     0.47247,     0.47347,     0.47447,     0.47548,     0.47648,     0.47748,     0.47848,     0.47948,\n",
       "           0.48048,     0.48148,     0.48248,     0.48348,     0.48448,     0.48549,     0.48649,     0.48749,     0.48849,     0.48949,     0.49049,     0.49149,     0.49249,     0.49349,     0.49449,      0.4955,      0.4965,      0.4975,      0.4985,      0.4995,      0.5005,      0.5015,      0.5025,      0.5035,\n",
       "            0.5045,     0.50551,     0.50651,     0.50751,     0.50851,     0.50951,     0.51051,     0.51151,     0.51251,     0.51351,     0.51451,     0.51552,     0.51652,     0.51752,     0.51852,     0.51952,     0.52052,     0.52152,     0.52252,     0.52352,     0.52452,     0.52553,     0.52653,     0.52753,\n",
       "           0.52853,     0.52953,     0.53053,     0.53153,     0.53253,     0.53353,     0.53453,     0.53554,     0.53654,     0.53754,     0.53854,     0.53954,     0.54054,     0.54154,     0.54254,     0.54354,     0.54454,     0.54555,     0.54655,     0.54755,     0.54855,     0.54955,     0.55055,     0.55155,\n",
       "           0.55255,     0.55355,     0.55455,     0.55556,     0.55656,     0.55756,     0.55856,     0.55956,     0.56056,     0.56156,     0.56256,     0.56356,     0.56456,     0.56557,     0.56657,     0.56757,     0.56857,     0.56957,     0.57057,     0.57157,     0.57257,     0.57357,     0.57457,     0.57558,\n",
       "           0.57658,     0.57758,     0.57858,     0.57958,     0.58058,     0.58158,     0.58258,     0.58358,     0.58458,     0.58559,     0.58659,     0.58759,     0.58859,     0.58959,     0.59059,     0.59159,     0.59259,     0.59359,     0.59459,      0.5956,      0.5966,      0.5976,      0.5986,      0.5996,\n",
       "            0.6006,      0.6016,      0.6026,      0.6036,      0.6046,     0.60561,     0.60661,     0.60761,     0.60861,     0.60961,     0.61061,     0.61161,     0.61261,     0.61361,     0.61461,     0.61562,     0.61662,     0.61762,     0.61862,     0.61962,     0.62062,     0.62162,     0.62262,     0.62362,\n",
       "           0.62462,     0.62563,     0.62663,     0.62763,     0.62863,     0.62963,     0.63063,     0.63163,     0.63263,     0.63363,     0.63463,     0.63564,     0.63664,     0.63764,     0.63864,     0.63964,     0.64064,     0.64164,     0.64264,     0.64364,     0.64464,     0.64565,     0.64665,     0.64765,\n",
       "           0.64865,     0.64965,     0.65065,     0.65165,     0.65265,     0.65365,     0.65465,     0.65566,     0.65666,     0.65766,     0.65866,     0.65966,     0.66066,     0.66166,     0.66266,     0.66366,     0.66466,     0.66567,     0.66667,     0.66767,     0.66867,     0.66967,     0.67067,     0.67167,\n",
       "           0.67267,     0.67367,     0.67467,     0.67568,     0.67668,     0.67768,     0.67868,     0.67968,     0.68068,     0.68168,     0.68268,     0.68368,     0.68468,     0.68569,     0.68669,     0.68769,     0.68869,     0.68969,     0.69069,     0.69169,     0.69269,     0.69369,     0.69469,      0.6957,\n",
       "            0.6967,      0.6977,      0.6987,      0.6997,      0.7007,      0.7017,      0.7027,      0.7037,      0.7047,     0.70571,     0.70671,     0.70771,     0.70871,     0.70971,     0.71071,     0.71171,     0.71271,     0.71371,     0.71471,     0.71572,     0.71672,     0.71772,     0.71872,     0.71972,\n",
       "           0.72072,     0.72172,     0.72272,     0.72372,     0.72472,     0.72573,     0.72673,     0.72773,     0.72873,     0.72973,     0.73073,     0.73173,     0.73273,     0.73373,     0.73473,     0.73574,     0.73674,     0.73774,     0.73874,     0.73974,     0.74074,     0.74174,     0.74274,     0.74374,\n",
       "           0.74474,     0.74575,     0.74675,     0.74775,     0.74875,     0.74975,     0.75075,     0.75175,     0.75275,     0.75375,     0.75475,     0.75576,     0.75676,     0.75776,     0.75876,     0.75976,     0.76076,     0.76176,     0.76276,     0.76376,     0.76476,     0.76577,     0.76677,     0.76777,\n",
       "           0.76877,     0.76977,     0.77077,     0.77177,     0.77277,     0.77377,     0.77477,     0.77578,     0.77678,     0.77778,     0.77878,     0.77978,     0.78078,     0.78178,     0.78278,     0.78378,     0.78478,     0.78579,     0.78679,     0.78779,     0.78879,     0.78979,     0.79079,     0.79179,\n",
       "           0.79279,     0.79379,     0.79479,      0.7958,      0.7968,      0.7978,      0.7988,      0.7998,      0.8008,      0.8018,      0.8028,      0.8038,      0.8048,     0.80581,     0.80681,     0.80781,     0.80881,     0.80981,     0.81081,     0.81181,     0.81281,     0.81381,     0.81481,     0.81582,\n",
       "           0.81682,     0.81782,     0.81882,     0.81982,     0.82082,     0.82182,     0.82282,     0.82382,     0.82482,     0.82583,     0.82683,     0.82783,     0.82883,     0.82983,     0.83083,     0.83183,     0.83283,     0.83383,     0.83483,     0.83584,     0.83684,     0.83784,     0.83884,     0.83984,\n",
       "           0.84084,     0.84184,     0.84284,     0.84384,     0.84484,     0.84585,     0.84685,     0.84785,     0.84885,     0.84985,     0.85085,     0.85185,     0.85285,     0.85385,     0.85485,     0.85586,     0.85686,     0.85786,     0.85886,     0.85986,     0.86086,     0.86186,     0.86286,     0.86386,\n",
       "           0.86486,     0.86587,     0.86687,     0.86787,     0.86887,     0.86987,     0.87087,     0.87187,     0.87287,     0.87387,     0.87487,     0.87588,     0.87688,     0.87788,     0.87888,     0.87988,     0.88088,     0.88188,     0.88288,     0.88388,     0.88488,     0.88589,     0.88689,     0.88789,\n",
       "           0.88889,     0.88989,     0.89089,     0.89189,     0.89289,     0.89389,     0.89489,      0.8959,      0.8969,      0.8979,      0.8989,      0.8999,      0.9009,      0.9019,      0.9029,      0.9039,      0.9049,     0.90591,     0.90691,     0.90791,     0.90891,     0.90991,     0.91091,     0.91191,\n",
       "           0.91291,     0.91391,     0.91491,     0.91592,     0.91692,     0.91792,     0.91892,     0.91992,     0.92092,     0.92192,     0.92292,     0.92392,     0.92492,     0.92593,     0.92693,     0.92793,     0.92893,     0.92993,     0.93093,     0.93193,     0.93293,     0.93393,     0.93493,     0.93594,\n",
       "           0.93694,     0.93794,     0.93894,     0.93994,     0.94094,     0.94194,     0.94294,     0.94394,     0.94494,     0.94595,     0.94695,     0.94795,     0.94895,     0.94995,     0.95095,     0.95195,     0.95295,     0.95395,     0.95495,     0.95596,     0.95696,     0.95796,     0.95896,     0.95996,\n",
       "           0.96096,     0.96196,     0.96296,     0.96396,     0.96496,     0.96597,     0.96697,     0.96797,     0.96897,     0.96997,     0.97097,     0.97197,     0.97297,     0.97397,     0.97497,     0.97598,     0.97698,     0.97798,     0.97898,     0.97998,     0.98098,     0.98198,     0.98298,     0.98398,\n",
       "           0.98498,     0.98599,     0.98699,     0.98799,     0.98899,     0.98999,     0.99099,     0.99199,     0.99299,     0.99399,     0.99499,       0.996,       0.997,       0.998,       0.999,           1]), array([[   0.037939,     0.03796,    0.058912, ...,           1,           1,           1],\n",
       "       [    0.05605,    0.056111,     0.10102, ...,           1,           1,           1],\n",
       "       [   0.037908,    0.037929,    0.060849, ...,           1,           1,           1]]), 'Confidence', 'Precision'], [array([          0,    0.001001,    0.002002,    0.003003,    0.004004,    0.005005,    0.006006,    0.007007,    0.008008,    0.009009,     0.01001,    0.011011,    0.012012,    0.013013,    0.014014,    0.015015,    0.016016,    0.017017,    0.018018,    0.019019,     0.02002,    0.021021,    0.022022,    0.023023,\n",
       "          0.024024,    0.025025,    0.026026,    0.027027,    0.028028,    0.029029,     0.03003,    0.031031,    0.032032,    0.033033,    0.034034,    0.035035,    0.036036,    0.037037,    0.038038,    0.039039,     0.04004,    0.041041,    0.042042,    0.043043,    0.044044,    0.045045,    0.046046,    0.047047,\n",
       "          0.048048,    0.049049,     0.05005,    0.051051,    0.052052,    0.053053,    0.054054,    0.055055,    0.056056,    0.057057,    0.058058,    0.059059,     0.06006,    0.061061,    0.062062,    0.063063,    0.064064,    0.065065,    0.066066,    0.067067,    0.068068,    0.069069,     0.07007,    0.071071,\n",
       "          0.072072,    0.073073,    0.074074,    0.075075,    0.076076,    0.077077,    0.078078,    0.079079,     0.08008,    0.081081,    0.082082,    0.083083,    0.084084,    0.085085,    0.086086,    0.087087,    0.088088,    0.089089,     0.09009,    0.091091,    0.092092,    0.093093,    0.094094,    0.095095,\n",
       "          0.096096,    0.097097,    0.098098,    0.099099,      0.1001,      0.1011,      0.1021,      0.1031,      0.1041,     0.10511,     0.10611,     0.10711,     0.10811,     0.10911,     0.11011,     0.11111,     0.11211,     0.11311,     0.11411,     0.11512,     0.11612,     0.11712,     0.11812,     0.11912,\n",
       "           0.12012,     0.12112,     0.12212,     0.12312,     0.12412,     0.12513,     0.12613,     0.12713,     0.12813,     0.12913,     0.13013,     0.13113,     0.13213,     0.13313,     0.13413,     0.13514,     0.13614,     0.13714,     0.13814,     0.13914,     0.14014,     0.14114,     0.14214,     0.14314,\n",
       "           0.14414,     0.14515,     0.14615,     0.14715,     0.14815,     0.14915,     0.15015,     0.15115,     0.15215,     0.15315,     0.15415,     0.15516,     0.15616,     0.15716,     0.15816,     0.15916,     0.16016,     0.16116,     0.16216,     0.16316,     0.16416,     0.16517,     0.16617,     0.16717,\n",
       "           0.16817,     0.16917,     0.17017,     0.17117,     0.17217,     0.17317,     0.17417,     0.17518,     0.17618,     0.17718,     0.17818,     0.17918,     0.18018,     0.18118,     0.18218,     0.18318,     0.18418,     0.18519,     0.18619,     0.18719,     0.18819,     0.18919,     0.19019,     0.19119,\n",
       "           0.19219,     0.19319,     0.19419,      0.1952,      0.1962,      0.1972,      0.1982,      0.1992,      0.2002,      0.2012,      0.2022,      0.2032,      0.2042,     0.20521,     0.20621,     0.20721,     0.20821,     0.20921,     0.21021,     0.21121,     0.21221,     0.21321,     0.21421,     0.21522,\n",
       "           0.21622,     0.21722,     0.21822,     0.21922,     0.22022,     0.22122,     0.22222,     0.22322,     0.22422,     0.22523,     0.22623,     0.22723,     0.22823,     0.22923,     0.23023,     0.23123,     0.23223,     0.23323,     0.23423,     0.23524,     0.23624,     0.23724,     0.23824,     0.23924,\n",
       "           0.24024,     0.24124,     0.24224,     0.24324,     0.24424,     0.24525,     0.24625,     0.24725,     0.24825,     0.24925,     0.25025,     0.25125,     0.25225,     0.25325,     0.25425,     0.25526,     0.25626,     0.25726,     0.25826,     0.25926,     0.26026,     0.26126,     0.26226,     0.26326,\n",
       "           0.26426,     0.26527,     0.26627,     0.26727,     0.26827,     0.26927,     0.27027,     0.27127,     0.27227,     0.27327,     0.27427,     0.27528,     0.27628,     0.27728,     0.27828,     0.27928,     0.28028,     0.28128,     0.28228,     0.28328,     0.28428,     0.28529,     0.28629,     0.28729,\n",
       "           0.28829,     0.28929,     0.29029,     0.29129,     0.29229,     0.29329,     0.29429,      0.2953,      0.2963,      0.2973,      0.2983,      0.2993,      0.3003,      0.3013,      0.3023,      0.3033,      0.3043,     0.30531,     0.30631,     0.30731,     0.30831,     0.30931,     0.31031,     0.31131,\n",
       "           0.31231,     0.31331,     0.31431,     0.31532,     0.31632,     0.31732,     0.31832,     0.31932,     0.32032,     0.32132,     0.32232,     0.32332,     0.32432,     0.32533,     0.32633,     0.32733,     0.32833,     0.32933,     0.33033,     0.33133,     0.33233,     0.33333,     0.33433,     0.33534,\n",
       "           0.33634,     0.33734,     0.33834,     0.33934,     0.34034,     0.34134,     0.34234,     0.34334,     0.34434,     0.34535,     0.34635,     0.34735,     0.34835,     0.34935,     0.35035,     0.35135,     0.35235,     0.35335,     0.35435,     0.35536,     0.35636,     0.35736,     0.35836,     0.35936,\n",
       "           0.36036,     0.36136,     0.36236,     0.36336,     0.36436,     0.36537,     0.36637,     0.36737,     0.36837,     0.36937,     0.37037,     0.37137,     0.37237,     0.37337,     0.37437,     0.37538,     0.37638,     0.37738,     0.37838,     0.37938,     0.38038,     0.38138,     0.38238,     0.38338,\n",
       "           0.38438,     0.38539,     0.38639,     0.38739,     0.38839,     0.38939,     0.39039,     0.39139,     0.39239,     0.39339,     0.39439,      0.3954,      0.3964,      0.3974,      0.3984,      0.3994,      0.4004,      0.4014,      0.4024,      0.4034,      0.4044,     0.40541,     0.40641,     0.40741,\n",
       "           0.40841,     0.40941,     0.41041,     0.41141,     0.41241,     0.41341,     0.41441,     0.41542,     0.41642,     0.41742,     0.41842,     0.41942,     0.42042,     0.42142,     0.42242,     0.42342,     0.42442,     0.42543,     0.42643,     0.42743,     0.42843,     0.42943,     0.43043,     0.43143,\n",
       "           0.43243,     0.43343,     0.43443,     0.43544,     0.43644,     0.43744,     0.43844,     0.43944,     0.44044,     0.44144,     0.44244,     0.44344,     0.44444,     0.44545,     0.44645,     0.44745,     0.44845,     0.44945,     0.45045,     0.45145,     0.45245,     0.45345,     0.45445,     0.45546,\n",
       "           0.45646,     0.45746,     0.45846,     0.45946,     0.46046,     0.46146,     0.46246,     0.46346,     0.46446,     0.46547,     0.46647,     0.46747,     0.46847,     0.46947,     0.47047,     0.47147,     0.47247,     0.47347,     0.47447,     0.47548,     0.47648,     0.47748,     0.47848,     0.47948,\n",
       "           0.48048,     0.48148,     0.48248,     0.48348,     0.48448,     0.48549,     0.48649,     0.48749,     0.48849,     0.48949,     0.49049,     0.49149,     0.49249,     0.49349,     0.49449,      0.4955,      0.4965,      0.4975,      0.4985,      0.4995,      0.5005,      0.5015,      0.5025,      0.5035,\n",
       "            0.5045,     0.50551,     0.50651,     0.50751,     0.50851,     0.50951,     0.51051,     0.51151,     0.51251,     0.51351,     0.51451,     0.51552,     0.51652,     0.51752,     0.51852,     0.51952,     0.52052,     0.52152,     0.52252,     0.52352,     0.52452,     0.52553,     0.52653,     0.52753,\n",
       "           0.52853,     0.52953,     0.53053,     0.53153,     0.53253,     0.53353,     0.53453,     0.53554,     0.53654,     0.53754,     0.53854,     0.53954,     0.54054,     0.54154,     0.54254,     0.54354,     0.54454,     0.54555,     0.54655,     0.54755,     0.54855,     0.54955,     0.55055,     0.55155,\n",
       "           0.55255,     0.55355,     0.55455,     0.55556,     0.55656,     0.55756,     0.55856,     0.55956,     0.56056,     0.56156,     0.56256,     0.56356,     0.56456,     0.56557,     0.56657,     0.56757,     0.56857,     0.56957,     0.57057,     0.57157,     0.57257,     0.57357,     0.57457,     0.57558,\n",
       "           0.57658,     0.57758,     0.57858,     0.57958,     0.58058,     0.58158,     0.58258,     0.58358,     0.58458,     0.58559,     0.58659,     0.58759,     0.58859,     0.58959,     0.59059,     0.59159,     0.59259,     0.59359,     0.59459,      0.5956,      0.5966,      0.5976,      0.5986,      0.5996,\n",
       "            0.6006,      0.6016,      0.6026,      0.6036,      0.6046,     0.60561,     0.60661,     0.60761,     0.60861,     0.60961,     0.61061,     0.61161,     0.61261,     0.61361,     0.61461,     0.61562,     0.61662,     0.61762,     0.61862,     0.61962,     0.62062,     0.62162,     0.62262,     0.62362,\n",
       "           0.62462,     0.62563,     0.62663,     0.62763,     0.62863,     0.62963,     0.63063,     0.63163,     0.63263,     0.63363,     0.63463,     0.63564,     0.63664,     0.63764,     0.63864,     0.63964,     0.64064,     0.64164,     0.64264,     0.64364,     0.64464,     0.64565,     0.64665,     0.64765,\n",
       "           0.64865,     0.64965,     0.65065,     0.65165,     0.65265,     0.65365,     0.65465,     0.65566,     0.65666,     0.65766,     0.65866,     0.65966,     0.66066,     0.66166,     0.66266,     0.66366,     0.66466,     0.66567,     0.66667,     0.66767,     0.66867,     0.66967,     0.67067,     0.67167,\n",
       "           0.67267,     0.67367,     0.67467,     0.67568,     0.67668,     0.67768,     0.67868,     0.67968,     0.68068,     0.68168,     0.68268,     0.68368,     0.68468,     0.68569,     0.68669,     0.68769,     0.68869,     0.68969,     0.69069,     0.69169,     0.69269,     0.69369,     0.69469,      0.6957,\n",
       "            0.6967,      0.6977,      0.6987,      0.6997,      0.7007,      0.7017,      0.7027,      0.7037,      0.7047,     0.70571,     0.70671,     0.70771,     0.70871,     0.70971,     0.71071,     0.71171,     0.71271,     0.71371,     0.71471,     0.71572,     0.71672,     0.71772,     0.71872,     0.71972,\n",
       "           0.72072,     0.72172,     0.72272,     0.72372,     0.72472,     0.72573,     0.72673,     0.72773,     0.72873,     0.72973,     0.73073,     0.73173,     0.73273,     0.73373,     0.73473,     0.73574,     0.73674,     0.73774,     0.73874,     0.73974,     0.74074,     0.74174,     0.74274,     0.74374,\n",
       "           0.74474,     0.74575,     0.74675,     0.74775,     0.74875,     0.74975,     0.75075,     0.75175,     0.75275,     0.75375,     0.75475,     0.75576,     0.75676,     0.75776,     0.75876,     0.75976,     0.76076,     0.76176,     0.76276,     0.76376,     0.76476,     0.76577,     0.76677,     0.76777,\n",
       "           0.76877,     0.76977,     0.77077,     0.77177,     0.77277,     0.77377,     0.77477,     0.77578,     0.77678,     0.77778,     0.77878,     0.77978,     0.78078,     0.78178,     0.78278,     0.78378,     0.78478,     0.78579,     0.78679,     0.78779,     0.78879,     0.78979,     0.79079,     0.79179,\n",
       "           0.79279,     0.79379,     0.79479,      0.7958,      0.7968,      0.7978,      0.7988,      0.7998,      0.8008,      0.8018,      0.8028,      0.8038,      0.8048,     0.80581,     0.80681,     0.80781,     0.80881,     0.80981,     0.81081,     0.81181,     0.81281,     0.81381,     0.81481,     0.81582,\n",
       "           0.81682,     0.81782,     0.81882,     0.81982,     0.82082,     0.82182,     0.82282,     0.82382,     0.82482,     0.82583,     0.82683,     0.82783,     0.82883,     0.82983,     0.83083,     0.83183,     0.83283,     0.83383,     0.83483,     0.83584,     0.83684,     0.83784,     0.83884,     0.83984,\n",
       "           0.84084,     0.84184,     0.84284,     0.84384,     0.84484,     0.84585,     0.84685,     0.84785,     0.84885,     0.84985,     0.85085,     0.85185,     0.85285,     0.85385,     0.85485,     0.85586,     0.85686,     0.85786,     0.85886,     0.85986,     0.86086,     0.86186,     0.86286,     0.86386,\n",
       "           0.86486,     0.86587,     0.86687,     0.86787,     0.86887,     0.86987,     0.87087,     0.87187,     0.87287,     0.87387,     0.87487,     0.87588,     0.87688,     0.87788,     0.87888,     0.87988,     0.88088,     0.88188,     0.88288,     0.88388,     0.88488,     0.88589,     0.88689,     0.88789,\n",
       "           0.88889,     0.88989,     0.89089,     0.89189,     0.89289,     0.89389,     0.89489,      0.8959,      0.8969,      0.8979,      0.8989,      0.8999,      0.9009,      0.9019,      0.9029,      0.9039,      0.9049,     0.90591,     0.90691,     0.90791,     0.90891,     0.90991,     0.91091,     0.91191,\n",
       "           0.91291,     0.91391,     0.91491,     0.91592,     0.91692,     0.91792,     0.91892,     0.91992,     0.92092,     0.92192,     0.92292,     0.92392,     0.92492,     0.92593,     0.92693,     0.92793,     0.92893,     0.92993,     0.93093,     0.93193,     0.93293,     0.93393,     0.93493,     0.93594,\n",
       "           0.93694,     0.93794,     0.93894,     0.93994,     0.94094,     0.94194,     0.94294,     0.94394,     0.94494,     0.94595,     0.94695,     0.94795,     0.94895,     0.94995,     0.95095,     0.95195,     0.95295,     0.95395,     0.95495,     0.95596,     0.95696,     0.95796,     0.95896,     0.95996,\n",
       "           0.96096,     0.96196,     0.96296,     0.96396,     0.96496,     0.96597,     0.96697,     0.96797,     0.96897,     0.96997,     0.97097,     0.97197,     0.97297,     0.97397,     0.97497,     0.97598,     0.97698,     0.97798,     0.97898,     0.97998,     0.98098,     0.98198,     0.98298,     0.98398,\n",
       "           0.98498,     0.98599,     0.98699,     0.98799,     0.98899,     0.98999,     0.99099,     0.99199,     0.99299,     0.99399,     0.99499,       0.996,       0.997,       0.998,       0.999,           1]), array([[     0.8764,      0.8764,     0.86838, ...,           0,           0,           0],\n",
       "       [    0.92695,     0.92695,      0.9177, ...,           0,           0,           0],\n",
       "       [    0.87143,     0.87143,     0.85882, ...,           0,           0,           0]]), 'Confidence', 'Recall']]\n",
       "fitness: 0.5439164602720082\n",
       "keys: ['metrics/precision(B)', 'metrics/recall(B)', 'metrics/mAP50(B)', 'metrics/mAP50-95(B)']\n",
       "maps: array([    0.43499,      0.6263,     0.48729])\n",
       "names: {0: 'label0', 1: 'label1', 2: 'label2'}\n",
       "plot: True\n",
       "results_dict: {'metrics/precision(B)': 0.8845915896745851, 'metrics/recall(B)': 0.7152954851706258, 'metrics/mAP50(B)': 0.793408739696113, 'metrics/mAP50-95(B)': 0.5161950958915521, 'fitness': 0.5439164602720082}\n",
       "save_dir: WindowsPath('runs/detect/train')\n",
       "speed: {'preprocess': 0.30664915990347813, 'inference': 3.2713763641588613, 'loss': 0.0, 'postprocess': 2.0766617071748987}\n",
       "task: 'detect'"
      ]
     },
     "execution_count": 3,
     "metadata": {},
     "output_type": "execute_result"
    }
   ],
   "source": [
    "# Specify the new data path for training\n",
    "data_path = r\"C:\\Users\\Mohit\\OneDrive\\Desktop\\BrainTumorDetectionYolov\\BrainTumorDetectionYolov9\\data.yaml\"\n",
    "\n",
    "# Start training the model\n",
    "model.train(data=data_path, epochs=100, imgsz=640, batch=16, device='cuda', amp=False)\n"
   ]
  },
  {
   "cell_type": "code",
   "execution_count": 4,
   "id": "3628a3fc-f535-42a5-ac2e-37d441802010",
   "metadata": {},
   "outputs": [],
   "source": [
    "import os\n",
    "import matplotlib.pyplot as plt\n",
    "\n",
    "# Path to test images\n",
    "test_images_folder = r\"C:\\Users\\Mohit\\OneDrive\\Desktop\\BrainTumorDetectionYolov\\BrainTumorDetectionYolov9\\test\\images\"\n",
    "\n",
    "# Load the images for testing\n",
    "test_images = [os.path.join(test_images_folder, img) for img in os.listdir(test_images_folder)]"
   ]
  },
  {
   "cell_type": "code",
   "execution_count": 37,
   "id": "dd4114ee-38ff-4b00-95e4-7dc6ba6107c4",
   "metadata": {},
   "outputs": [
    {
     "name": "stdout",
     "output_type": "stream",
     "text": [
      "\n",
      "image 1/1 C:\\Users\\Mohit\\OneDrive\\Desktop\\BrainTumorDetectionYolov\\BrainTumorDetectionYolov9\\test\\images\\volume_100_slice_105_jpg.rf.cdacd3f7e2631df9516f8f0283ac430c.jpg: 608x640 (no detections), 46.9ms\n",
      "Speed: 15.1ms preprocess, 46.9ms inference, 2.0ms postprocess per image at shape (1, 3, 608, 640)\n",
      "\n",
      "image 1/1 C:\\Users\\Mohit\\OneDrive\\Desktop\\BrainTumorDetectionYolov\\BrainTumorDetectionYolov9\\test\\images\\volume_100_slice_47_jpg.rf.5a4036c4db721c7a2501e756d91915a6.jpg: 608x640 (no detections), 47.0ms\n",
      "Speed: 15.3ms preprocess, 47.0ms inference, 2.0ms postprocess per image at shape (1, 3, 608, 640)\n",
      "\n",
      "image 1/1 C:\\Users\\Mohit\\OneDrive\\Desktop\\BrainTumorDetectionYolov\\BrainTumorDetectionYolov9\\test\\images\\volume_100_slice_48_jpg.rf.7bc34aee05abcdb930d48b8f69044264.jpg: 608x640 (no detections), 44.9ms\n",
      "Speed: 13.6ms preprocess, 44.9ms inference, 3.0ms postprocess per image at shape (1, 3, 608, 640)\n",
      "\n",
      "image 1/1 C:\\Users\\Mohit\\OneDrive\\Desktop\\BrainTumorDetectionYolov\\BrainTumorDetectionYolov9\\test\\images\\volume_100_slice_51_jpg.rf.2d3a12b0725e8a75d332417714bb2993.jpg: 608x640 (no detections), 25.1ms\n",
      "Speed: 7.0ms preprocess, 25.1ms inference, 0.9ms postprocess per image at shape (1, 3, 608, 640)\n",
      "\n",
      "image 1/1 C:\\Users\\Mohit\\OneDrive\\Desktop\\BrainTumorDetectionYolov\\BrainTumorDetectionYolov9\\test\\images\\volume_101_slice_43_jpg.rf.964a4159ddac8cf19c2b53dfb0ab013a.jpg: 608x640 (no detections), 27.2ms\n",
      "Speed: 7.0ms preprocess, 27.2ms inference, 11.0ms postprocess per image at shape (1, 3, 608, 640)\n",
      "\n",
      "image 1/1 C:\\Users\\Mohit\\OneDrive\\Desktop\\BrainTumorDetectionYolov\\BrainTumorDetectionYolov9\\test\\images\\volume_101_slice_68_jpg.rf.db6182e4c713d1735e01cee856c1513c.jpg: 608x640 (no detections), 39.0ms\n",
      "Speed: 8.0ms preprocess, 39.0ms inference, 1.1ms postprocess per image at shape (1, 3, 608, 640)\n",
      "\n",
      "image 1/1 C:\\Users\\Mohit\\OneDrive\\Desktop\\BrainTumorDetectionYolov\\BrainTumorDetectionYolov9\\test\\images\\volume_102_slice_119_jpg.rf.a7f5783ac671b2565c4bc6c9937177d8.jpg: 608x640 (no detections), 19.1ms\n",
      "Speed: 16.5ms preprocess, 19.1ms inference, 1.0ms postprocess per image at shape (1, 3, 608, 640)\n",
      "\n",
      "image 1/1 C:\\Users\\Mohit\\OneDrive\\Desktop\\BrainTumorDetectionYolov\\BrainTumorDetectionYolov9\\test\\images\\volume_102_slice_120_jpg.rf.7ffa2fa8f5c9f832dbe72e5eb8fbd4f2.jpg: 608x640 (no detections), 20.0ms\n",
      "Speed: 6.0ms preprocess, 20.0ms inference, 1.0ms postprocess per image at shape (1, 3, 608, 640)\n",
      "\n",
      "image 1/1 C:\\Users\\Mohit\\OneDrive\\Desktop\\BrainTumorDetectionYolov\\BrainTumorDetectionYolov9\\test\\images\\volume_102_slice_82_jpg.rf.f2728d53777c44ff5600e6e07d956e1b.jpg: 608x640 (no detections), 18.0ms\n",
      "Speed: 6.2ms preprocess, 18.0ms inference, 2.0ms postprocess per image at shape (1, 3, 608, 640)\n",
      "\n",
      "image 1/1 C:\\Users\\Mohit\\OneDrive\\Desktop\\BrainTumorDetectionYolov\\BrainTumorDetectionYolov9\\test\\images\\volume_103_slice_68_jpg.rf.d09d3db134c851c100f92f32ec1220ac.jpg: 608x640 (no detections), 15.9ms\n",
      "Speed: 7.1ms preprocess, 15.9ms inference, 3.0ms postprocess per image at shape (1, 3, 608, 640)\n",
      "\n",
      "image 1/1 C:\\Users\\Mohit\\OneDrive\\Desktop\\BrainTumorDetectionYolov\\BrainTumorDetectionYolov9\\test\\images\\volume_104_slice_74_jpg.rf.c780b429b5ee360d9352595ec769c9a8.jpg: 608x640 (no detections), 16.0ms\n",
      "Speed: 7.0ms preprocess, 16.0ms inference, 3.2ms postprocess per image at shape (1, 3, 608, 640)\n",
      "\n",
      "image 1/1 C:\\Users\\Mohit\\OneDrive\\Desktop\\BrainTumorDetectionYolov\\BrainTumorDetectionYolov9\\test\\images\\volume_105_slice_46_jpg.rf.1d93673906404111f3b93a9481b415c5.jpg: 608x640 1 label1, 17.2ms\n",
      "Speed: 6.0ms preprocess, 17.2ms inference, 5.0ms postprocess per image at shape (1, 3, 608, 640)\n",
      "\n",
      "image 1/1 C:\\Users\\Mohit\\OneDrive\\Desktop\\BrainTumorDetectionYolov\\BrainTumorDetectionYolov9\\test\\images\\volume_105_slice_53_jpg.rf.27c58eaa80e42620773164d0ed39d41e.jpg: 608x640 (no detections), 17.0ms\n",
      "Speed: 7.0ms preprocess, 17.0ms inference, 2.0ms postprocess per image at shape (1, 3, 608, 640)\n",
      "\n",
      "image 1/1 C:\\Users\\Mohit\\OneDrive\\Desktop\\BrainTumorDetectionYolov\\BrainTumorDetectionYolov9\\test\\images\\volume_105_slice_72_jpg.rf.4e584f5b15429c58dd446e6e49052c26.jpg: 608x640 (no detections), 18.0ms\n",
      "Speed: 9.0ms preprocess, 18.0ms inference, 2.0ms postprocess per image at shape (1, 3, 608, 640)\n",
      "\n",
      "image 1/1 C:\\Users\\Mohit\\OneDrive\\Desktop\\BrainTumorDetectionYolov\\BrainTumorDetectionYolov9\\test\\images\\volume_106_slice_121_jpg.rf.03ea3ed66ad040437c0e29a70b263c03.jpg: 608x640 (no detections), 18.5ms\n",
      "Speed: 6.0ms preprocess, 18.5ms inference, 1.0ms postprocess per image at shape (1, 3, 608, 640)\n",
      "\n",
      "image 1/1 C:\\Users\\Mohit\\OneDrive\\Desktop\\BrainTumorDetectionYolov\\BrainTumorDetectionYolov9\\test\\images\\volume_106_slice_125_jpg.rf.5381676bdd98b8adca7931b35e2f9c59.jpg: 608x640 (no detections), 18.0ms\n",
      "Speed: 6.0ms preprocess, 18.0ms inference, 1.0ms postprocess per image at shape (1, 3, 608, 640)\n",
      "\n",
      "image 1/1 C:\\Users\\Mohit\\OneDrive\\Desktop\\BrainTumorDetectionYolov\\BrainTumorDetectionYolov9\\test\\images\\volume_106_slice_40_jpg.rf.fccdfec9102a180d6ed7eedd30784417.jpg: 608x640 (no detections), 24.0ms\n",
      "Speed: 6.0ms preprocess, 24.0ms inference, 1.0ms postprocess per image at shape (1, 3, 608, 640)\n",
      "\n",
      "image 1/1 C:\\Users\\Mohit\\OneDrive\\Desktop\\BrainTumorDetectionYolov\\BrainTumorDetectionYolov9\\test\\images\\volume_106_slice_55_jpg.rf.d78f9221cfec84093d5536b41a286a3b.jpg: 608x640 (no detections), 23.0ms\n",
      "Speed: 7.0ms preprocess, 23.0ms inference, 1.0ms postprocess per image at shape (1, 3, 608, 640)\n",
      "\n",
      "image 1/1 C:\\Users\\Mohit\\OneDrive\\Desktop\\BrainTumorDetectionYolov\\BrainTumorDetectionYolov9\\test\\images\\volume_106_slice_71_jpg.rf.3bd3f3fff5fcf1428d9764d6f1c6caae.jpg: 608x640 (no detections), 17.0ms\n",
      "Speed: 7.0ms preprocess, 17.0ms inference, 1.0ms postprocess per image at shape (1, 3, 608, 640)\n",
      "\n",
      "image 1/1 C:\\Users\\Mohit\\OneDrive\\Desktop\\BrainTumorDetectionYolov\\BrainTumorDetectionYolov9\\test\\images\\volume_106_slice_77_jpg.rf.ac7d4c816bcb005044f7df7332a4d899.jpg: 608x640 (no detections), 18.0ms\n",
      "Speed: 7.0ms preprocess, 18.0ms inference, 3.0ms postprocess per image at shape (1, 3, 608, 640)\n",
      "\n",
      "image 1/1 C:\\Users\\Mohit\\OneDrive\\Desktop\\BrainTumorDetectionYolov\\BrainTumorDetectionYolov9\\test\\images\\volume_107_slice_105_jpg.rf.4a15ce6e7d36d24d1d835db28348336d.jpg: 608x640 (no detections), 19.0ms\n",
      "Speed: 7.0ms preprocess, 19.0ms inference, 1.0ms postprocess per image at shape (1, 3, 608, 640)\n",
      "\n",
      "image 1/1 C:\\Users\\Mohit\\OneDrive\\Desktop\\BrainTumorDetectionYolov\\BrainTumorDetectionYolov9\\test\\images\\volume_107_slice_74_jpg.rf.08d77321bbe0678a881d8107e58c2922.jpg: 608x640 (no detections), 18.1ms\n",
      "Speed: 5.0ms preprocess, 18.1ms inference, 1.0ms postprocess per image at shape (1, 3, 608, 640)\n",
      "\n",
      "image 1/1 C:\\Users\\Mohit\\OneDrive\\Desktop\\BrainTumorDetectionYolov\\BrainTumorDetectionYolov9\\test\\images\\volume_108_slice_60_jpg.rf.91cc776b676c45b97f6a603e1ecfc526.jpg: 608x640 (no detections), 21.0ms\n",
      "Speed: 6.0ms preprocess, 21.0ms inference, 1.4ms postprocess per image at shape (1, 3, 608, 640)\n",
      "\n",
      "image 1/1 C:\\Users\\Mohit\\OneDrive\\Desktop\\BrainTumorDetectionYolov\\BrainTumorDetectionYolov9\\test\\images\\volume_109_slice_119_jpg.rf.5b6a873136398dd013989a206dea84ac.jpg: 608x640 (no detections), 19.1ms\n",
      "Speed: 5.8ms preprocess, 19.1ms inference, 1.0ms postprocess per image at shape (1, 3, 608, 640)\n",
      "\n",
      "image 1/1 C:\\Users\\Mohit\\OneDrive\\Desktop\\BrainTumorDetectionYolov\\BrainTumorDetectionYolov9\\test\\images\\volume_109_slice_79_jpg.rf.0b264e668a47bf9dea17c0b1220ce577.jpg: 608x640 (no detections), 18.0ms\n",
      "Speed: 6.0ms preprocess, 18.0ms inference, 1.0ms postprocess per image at shape (1, 3, 608, 640)\n",
      "\n",
      "image 1/1 C:\\Users\\Mohit\\OneDrive\\Desktop\\BrainTumorDetectionYolov\\BrainTumorDetectionYolov9\\test\\images\\volume_109_slice_96_jpg.rf.a7d4fdcd922e325654b5b4900154b351.jpg: 608x640 (no detections), 17.0ms\n",
      "Speed: 6.0ms preprocess, 17.0ms inference, 2.0ms postprocess per image at shape (1, 3, 608, 640)\n",
      "\n",
      "image 1/1 C:\\Users\\Mohit\\OneDrive\\Desktop\\BrainTumorDetectionYolov\\BrainTumorDetectionYolov9\\test\\images\\volume_109_slice_97_jpg.rf.356cfeb1de233da5cc3bc081118bfabe.jpg: 608x640 (no detections), 20.1ms\n",
      "Speed: 6.0ms preprocess, 20.1ms inference, 1.0ms postprocess per image at shape (1, 3, 608, 640)\n",
      "\n",
      "image 1/1 C:\\Users\\Mohit\\OneDrive\\Desktop\\BrainTumorDetectionYolov\\BrainTumorDetectionYolov9\\test\\images\\volume_10_slice_107_jpg.rf.6ee5e460d1cd2add1ea2b5d2f8c0eba3.jpg: 608x640 (no detections), 15.0ms\n",
      "Speed: 5.7ms preprocess, 15.0ms inference, 1.0ms postprocess per image at shape (1, 3, 608, 640)\n",
      "\n",
      "image 1/1 C:\\Users\\Mohit\\OneDrive\\Desktop\\BrainTumorDetectionYolov\\BrainTumorDetectionYolov9\\test\\images\\volume_10_slice_111_jpg.rf.49db3d90b62ec8a195cf65160bbcabd6.jpg: 608x640 (no detections), 17.0ms\n",
      "Speed: 6.0ms preprocess, 17.0ms inference, 1.0ms postprocess per image at shape (1, 3, 608, 640)\n",
      "\n",
      "image 1/1 C:\\Users\\Mohit\\OneDrive\\Desktop\\BrainTumorDetectionYolov\\BrainTumorDetectionYolov9\\test\\images\\volume_10_slice_91_jpg.rf.dc5b59e89ab6863ef888b0396cc33065.jpg: 608x640 (no detections), 21.0ms\n",
      "Speed: 6.0ms preprocess, 21.0ms inference, 2.0ms postprocess per image at shape (1, 3, 608, 640)\n",
      "\n",
      "image 1/1 C:\\Users\\Mohit\\OneDrive\\Desktop\\BrainTumorDetectionYolov\\BrainTumorDetectionYolov9\\test\\images\\volume_110_slice_109_jpg.rf.c05d2d58aa967d08669ff63627d3ceec.jpg: 608x640 (no detections), 16.3ms\n",
      "Speed: 6.0ms preprocess, 16.3ms inference, 1.0ms postprocess per image at shape (1, 3, 608, 640)\n",
      "\n",
      "image 1/1 C:\\Users\\Mohit\\OneDrive\\Desktop\\BrainTumorDetectionYolov\\BrainTumorDetectionYolov9\\test\\images\\volume_110_slice_89_jpg.rf.6fd4913f264e60059f0c152c0d32c2cb.jpg: 608x640 (no detections), 17.0ms\n",
      "Speed: 5.0ms preprocess, 17.0ms inference, 1.0ms postprocess per image at shape (1, 3, 608, 640)\n",
      "\n",
      "image 1/1 C:\\Users\\Mohit\\OneDrive\\Desktop\\BrainTumorDetectionYolov\\BrainTumorDetectionYolov9\\test\\images\\volume_112_slice_102_jpg.rf.7eee8333f3f9adf0bae88ba04cc07c71.jpg: 608x640 (no detections), 14.3ms\n",
      "Speed: 7.0ms preprocess, 14.3ms inference, 3.0ms postprocess per image at shape (1, 3, 608, 640)\n",
      "\n",
      "image 1/1 C:\\Users\\Mohit\\OneDrive\\Desktop\\BrainTumorDetectionYolov\\BrainTumorDetectionYolov9\\test\\images\\volume_112_slice_40_jpg.rf.c0b34ea99c00c64ca9fccf1bb01e7723.jpg: 608x640 (no detections), 15.5ms\n",
      "Speed: 6.0ms preprocess, 15.5ms inference, 3.0ms postprocess per image at shape (1, 3, 608, 640)\n",
      "\n",
      "image 1/1 C:\\Users\\Mohit\\OneDrive\\Desktop\\BrainTumorDetectionYolov\\BrainTumorDetectionYolov9\\test\\images\\volume_112_slice_42_jpg.rf.da91586963ffde8f4ff417ab31ed212e.jpg: 608x640 (no detections), 18.0ms\n",
      "Speed: 7.4ms preprocess, 18.0ms inference, 2.0ms postprocess per image at shape (1, 3, 608, 640)\n",
      "\n",
      "image 1/1 C:\\Users\\Mohit\\OneDrive\\Desktop\\BrainTumorDetectionYolov\\BrainTumorDetectionYolov9\\test\\images\\volume_112_slice_58_jpg.rf.ed8b2491de424af0a44169b2d302aae4.jpg: 608x640 (no detections), 23.1ms\n",
      "Speed: 7.0ms preprocess, 23.1ms inference, 2.0ms postprocess per image at shape (1, 3, 608, 640)\n",
      "\n",
      "image 1/1 C:\\Users\\Mohit\\OneDrive\\Desktop\\BrainTumorDetectionYolov\\BrainTumorDetectionYolov9\\test\\images\\volume_112_slice_66_jpg.rf.6bfd41be435f4aa47d0a0ffadb070f3c.jpg: 608x640 (no detections), 18.1ms\n",
      "Speed: 6.0ms preprocess, 18.1ms inference, 1.0ms postprocess per image at shape (1, 3, 608, 640)\n",
      "\n",
      "image 1/1 C:\\Users\\Mohit\\OneDrive\\Desktop\\BrainTumorDetectionYolov\\BrainTumorDetectionYolov9\\test\\images\\volume_113_slice_49_jpg.rf.24cbc9eceb62a55209f594c9cf31f323.jpg: 608x640 (no detections), 33.1ms\n",
      "Speed: 6.0ms preprocess, 33.1ms inference, 1.0ms postprocess per image at shape (1, 3, 608, 640)\n",
      "\n",
      "image 1/1 C:\\Users\\Mohit\\OneDrive\\Desktop\\BrainTumorDetectionYolov\\BrainTumorDetectionYolov9\\test\\images\\volume_113_slice_86_jpg.rf.32b565acb758d889c555a89f0a998642.jpg: 608x640 (no detections), 33.0ms\n",
      "Speed: 7.0ms preprocess, 33.0ms inference, 5.0ms postprocess per image at shape (1, 3, 608, 640)\n",
      "\n",
      "image 1/1 C:\\Users\\Mohit\\OneDrive\\Desktop\\BrainTumorDetectionYolov\\BrainTumorDetectionYolov9\\test\\images\\volume_114_slice_102_jpg.rf.83a41645cb68183af88f61bae6725235.jpg: 608x640 (no detections), 28.4ms\n",
      "Speed: 14.0ms preprocess, 28.4ms inference, 1.4ms postprocess per image at shape (1, 3, 608, 640)\n",
      "\n",
      "image 1/1 C:\\Users\\Mohit\\OneDrive\\Desktop\\BrainTumorDetectionYolov\\BrainTumorDetectionYolov9\\test\\images\\volume_114_slice_56_jpg.rf.bd50b21f60e950d0ed633ea8d6c57c6b.jpg: 608x640 (no detections), 18.0ms\n",
      "Speed: 6.0ms preprocess, 18.0ms inference, 2.0ms postprocess per image at shape (1, 3, 608, 640)\n",
      "\n",
      "image 1/1 C:\\Users\\Mohit\\OneDrive\\Desktop\\BrainTumorDetectionYolov\\BrainTumorDetectionYolov9\\test\\images\\volume_114_slice_93_jpg.rf.9c9f0259ac23f7e1ce2948c960c74a10.jpg: 608x640 (no detections), 17.3ms\n",
      "Speed: 7.0ms preprocess, 17.3ms inference, 1.0ms postprocess per image at shape (1, 3, 608, 640)\n",
      "\n",
      "image 1/1 C:\\Users\\Mohit\\OneDrive\\Desktop\\BrainTumorDetectionYolov\\BrainTumorDetectionYolov9\\test\\images\\volume_114_slice_97_jpg.rf.52f327237dc212cf6db2867e8aec3a66.jpg: 608x640 (no detections), 16.8ms\n",
      "Speed: 5.3ms preprocess, 16.8ms inference, 2.0ms postprocess per image at shape (1, 3, 608, 640)\n",
      "\n",
      "image 1/1 C:\\Users\\Mohit\\OneDrive\\Desktop\\BrainTumorDetectionYolov\\BrainTumorDetectionYolov9\\test\\images\\volume_115_slice_122_jpg.rf.cc7f3d8bb3868a2684704a3647633ee9.jpg: 608x640 (no detections), 37.0ms\n",
      "Speed: 10.1ms preprocess, 37.0ms inference, 3.0ms postprocess per image at shape (1, 3, 608, 640)\n",
      "\n",
      "image 1/1 C:\\Users\\Mohit\\OneDrive\\Desktop\\BrainTumorDetectionYolov\\BrainTumorDetectionYolov9\\test\\images\\volume_115_slice_82_jpg.rf.b015652600d589fc884f75950ac0c0eb.jpg: 608x640 (no detections), 18.7ms\n",
      "Speed: 13.0ms preprocess, 18.7ms inference, 0.5ms postprocess per image at shape (1, 3, 608, 640)\n",
      "\n",
      "image 1/1 C:\\Users\\Mohit\\OneDrive\\Desktop\\BrainTumorDetectionYolov\\BrainTumorDetectionYolov9\\test\\images\\volume_117_slice_55_jpg.rf.a4ba63a6af5e8843bdabdbd0e9b22501.jpg: 608x640 (no detections), 17.9ms\n",
      "Speed: 7.0ms preprocess, 17.9ms inference, 1.0ms postprocess per image at shape (1, 3, 608, 640)\n",
      "\n",
      "image 1/1 C:\\Users\\Mohit\\OneDrive\\Desktop\\BrainTumorDetectionYolov\\BrainTumorDetectionYolov9\\test\\images\\volume_117_slice_66_jpg.rf.f8b108a8ac1f469bc4eec79bf56fe425.jpg: 608x640 (no detections), 16.0ms\n",
      "Speed: 6.0ms preprocess, 16.0ms inference, 2.0ms postprocess per image at shape (1, 3, 608, 640)\n",
      "\n",
      "image 1/1 C:\\Users\\Mohit\\OneDrive\\Desktop\\BrainTumorDetectionYolov\\BrainTumorDetectionYolov9\\test\\images\\volume_117_slice_77_jpg.rf.6c9c7504bb692d4c88d21f54ea9e7610.jpg: 608x640 1 label1, 18.7ms\n",
      "Speed: 5.6ms preprocess, 18.7ms inference, 3.0ms postprocess per image at shape (1, 3, 608, 640)\n",
      "\n",
      "image 1/1 C:\\Users\\Mohit\\OneDrive\\Desktop\\BrainTumorDetectionYolov\\BrainTumorDetectionYolov9\\test\\images\\volume_117_slice_81_jpg.rf.73847fed09633a85777ce6922413381b.jpg: 608x640 (no detections), 24.9ms\n",
      "Speed: 5.0ms preprocess, 24.9ms inference, 1.0ms postprocess per image at shape (1, 3, 608, 640)\n",
      "\n",
      "image 1/1 C:\\Users\\Mohit\\OneDrive\\Desktop\\BrainTumorDetectionYolov\\BrainTumorDetectionYolov9\\test\\images\\volume_117_slice_98_jpg.rf.eb432699fce438605a0b5424cee50857.jpg: 608x640 (no detections), 18.8ms\n",
      "Speed: 6.2ms preprocess, 18.8ms inference, 2.0ms postprocess per image at shape (1, 3, 608, 640)\n",
      "\n",
      "image 1/1 C:\\Users\\Mohit\\OneDrive\\Desktop\\BrainTumorDetectionYolov\\BrainTumorDetectionYolov9\\test\\images\\volume_119_slice_48_jpg.rf.098302893595ee32a47ae59673210db6.jpg: 608x640 (no detections), 15.1ms\n",
      "Speed: 6.0ms preprocess, 15.1ms inference, 1.2ms postprocess per image at shape (1, 3, 608, 640)\n",
      "\n",
      "image 1/1 C:\\Users\\Mohit\\OneDrive\\Desktop\\BrainTumorDetectionYolov\\BrainTumorDetectionYolov9\\test\\images\\volume_119_slice_63_jpg.rf.2347adcad1c2cf429dd00701ebae0534.jpg: 608x640 (no detections), 17.3ms\n",
      "Speed: 6.0ms preprocess, 17.3ms inference, 1.0ms postprocess per image at shape (1, 3, 608, 640)\n",
      "\n",
      "image 1/1 C:\\Users\\Mohit\\OneDrive\\Desktop\\BrainTumorDetectionYolov\\BrainTumorDetectionYolov9\\test\\images\\volume_121_slice_102_jpg.rf.0f6efca1ca080ffe8bd4834d6ef0fecb.jpg: 608x640 1 label1, 21.0ms\n",
      "Speed: 6.3ms preprocess, 21.0ms inference, 5.0ms postprocess per image at shape (1, 3, 608, 640)\n",
      "\n",
      "image 1/1 C:\\Users\\Mohit\\OneDrive\\Desktop\\BrainTumorDetectionYolov\\BrainTumorDetectionYolov9\\test\\images\\volume_121_slice_58_jpg.rf.d09920b1773594bad89bf352c7197044.jpg: 608x640 (no detections), 20.0ms\n",
      "Speed: 6.0ms preprocess, 20.0ms inference, 1.0ms postprocess per image at shape (1, 3, 608, 640)\n",
      "\n",
      "image 1/1 C:\\Users\\Mohit\\OneDrive\\Desktop\\BrainTumorDetectionYolov\\BrainTumorDetectionYolov9\\test\\images\\volume_121_slice_77_jpg.rf.b044574f31a8017e238b79897ccd432e.jpg: 608x640 1 label1, 18.1ms\n",
      "Speed: 7.0ms preprocess, 18.1ms inference, 6.0ms postprocess per image at shape (1, 3, 608, 640)\n",
      "\n",
      "image 1/1 C:\\Users\\Mohit\\OneDrive\\Desktop\\BrainTumorDetectionYolov\\BrainTumorDetectionYolov9\\test\\images\\volume_123_slice_31_jpg.rf.2c38f5bd8bbd45c963c9051971e7571f.jpg: 608x640 (no detections), 16.0ms\n",
      "Speed: 7.0ms preprocess, 16.0ms inference, 1.0ms postprocess per image at shape (1, 3, 608, 640)\n",
      "\n",
      "image 1/1 C:\\Users\\Mohit\\OneDrive\\Desktop\\BrainTumorDetectionYolov\\BrainTumorDetectionYolov9\\test\\images\\volume_123_slice_59_jpg.rf.121c2c162a8c1f566ed05a560f3ec4f5.jpg: 608x640 (no detections), 15.2ms\n",
      "Speed: 9.9ms preprocess, 15.2ms inference, 1.0ms postprocess per image at shape (1, 3, 608, 640)\n",
      "\n",
      "image 1/1 C:\\Users\\Mohit\\OneDrive\\Desktop\\BrainTumorDetectionYolov\\BrainTumorDetectionYolov9\\test\\images\\volume_123_slice_79_jpg.rf.cb7347769ca14bb07b0f863df7871155.jpg: 608x640 (no detections), 20.0ms\n",
      "Speed: 7.2ms preprocess, 20.0ms inference, 1.0ms postprocess per image at shape (1, 3, 608, 640)\n",
      "\n",
      "image 1/1 C:\\Users\\Mohit\\OneDrive\\Desktop\\BrainTumorDetectionYolov\\BrainTumorDetectionYolov9\\test\\images\\volume_124_slice_102_jpg.rf.365b269361b0ec57a7131713f3d947e7.jpg: 608x640 (no detections), 15.0ms\n",
      "Speed: 7.0ms preprocess, 15.0ms inference, 1.0ms postprocess per image at shape (1, 3, 608, 640)\n",
      "\n",
      "image 1/1 C:\\Users\\Mohit\\OneDrive\\Desktop\\BrainTumorDetectionYolov\\BrainTumorDetectionYolov9\\test\\images\\volume_124_slice_36_jpg.rf.373b2928f824ec6c7b58ad6b3b6875ef.jpg: 608x640 (no detections), 18.7ms\n",
      "Speed: 7.0ms preprocess, 18.7ms inference, 1.0ms postprocess per image at shape (1, 3, 608, 640)\n",
      "\n",
      "image 1/1 C:\\Users\\Mohit\\OneDrive\\Desktop\\BrainTumorDetectionYolov\\BrainTumorDetectionYolov9\\test\\images\\volume_124_slice_60_jpg.rf.8578e708b9c763eb887cfbb1fd6dd38f.jpg: 608x640 (no detections), 17.0ms\n",
      "Speed: 7.0ms preprocess, 17.0ms inference, 1.7ms postprocess per image at shape (1, 3, 608, 640)\n",
      "\n",
      "image 1/1 C:\\Users\\Mohit\\OneDrive\\Desktop\\BrainTumorDetectionYolov\\BrainTumorDetectionYolov9\\test\\images\\volume_124_slice_97_jpg.rf.9f83447a36bef57bc9f5ad3e85b33351.jpg: 608x640 (no detections), 15.0ms\n",
      "Speed: 6.1ms preprocess, 15.0ms inference, 2.0ms postprocess per image at shape (1, 3, 608, 640)\n",
      "\n",
      "image 1/1 C:\\Users\\Mohit\\OneDrive\\Desktop\\BrainTumorDetectionYolov\\BrainTumorDetectionYolov9\\test\\images\\volume_125_slice_75_jpg.rf.4aa4c62f169ecd57527c97f179519a13.jpg: 608x640 (no detections), 15.0ms\n",
      "Speed: 6.0ms preprocess, 15.0ms inference, 1.0ms postprocess per image at shape (1, 3, 608, 640)\n",
      "\n",
      "image 1/1 C:\\Users\\Mohit\\OneDrive\\Desktop\\BrainTumorDetectionYolov\\BrainTumorDetectionYolov9\\test\\images\\volume_126_slice_74_jpg.rf.d05b56d876b05e86da04704234386a3a.jpg: 608x640 (no detections), 21.0ms\n",
      "Speed: 5.0ms preprocess, 21.0ms inference, 2.0ms postprocess per image at shape (1, 3, 608, 640)\n",
      "\n",
      "image 1/1 C:\\Users\\Mohit\\OneDrive\\Desktop\\BrainTumorDetectionYolov\\BrainTumorDetectionYolov9\\test\\images\\volume_127_slice_49_jpg.rf.141469b339277ac60f51a8e09f93e6c5.jpg: 608x640 (no detections), 21.0ms\n",
      "Speed: 7.0ms preprocess, 21.0ms inference, 2.0ms postprocess per image at shape (1, 3, 608, 640)\n",
      "\n",
      "image 1/1 C:\\Users\\Mohit\\OneDrive\\Desktop\\BrainTumorDetectionYolov\\BrainTumorDetectionYolov9\\test\\images\\volume_127_slice_76_jpg.rf.cacace23d9ad6510e288a0fb8b7330c3.jpg: 608x640 (no detections), 20.0ms\n",
      "Speed: 5.0ms preprocess, 20.0ms inference, 4.0ms postprocess per image at shape (1, 3, 608, 640)\n",
      "\n",
      "image 1/1 C:\\Users\\Mohit\\OneDrive\\Desktop\\BrainTumorDetectionYolov\\BrainTumorDetectionYolov9\\test\\images\\volume_127_slice_81_jpg.rf.a9d15c7b2bea73e8774a34743838b35b.jpg: 608x640 (no detections), 19.0ms\n",
      "Speed: 7.0ms preprocess, 19.0ms inference, 2.0ms postprocess per image at shape (1, 3, 608, 640)\n",
      "\n",
      "image 1/1 C:\\Users\\Mohit\\OneDrive\\Desktop\\BrainTumorDetectionYolov\\BrainTumorDetectionYolov9\\test\\images\\volume_128_slice_58_jpg.rf.aef0be204cff7df97d158cdc96df17b5.jpg: 608x640 (no detections), 15.9ms\n",
      "Speed: 6.0ms preprocess, 15.9ms inference, 1.0ms postprocess per image at shape (1, 3, 608, 640)\n",
      "\n",
      "image 1/1 C:\\Users\\Mohit\\OneDrive\\Desktop\\BrainTumorDetectionYolov\\BrainTumorDetectionYolov9\\test\\images\\volume_128_slice_64_jpg.rf.87cc4d47efecc19144aaf75cccca0d1c.jpg: 608x640 (no detections), 15.5ms\n",
      "Speed: 5.0ms preprocess, 15.5ms inference, 2.0ms postprocess per image at shape (1, 3, 608, 640)\n",
      "\n",
      "image 1/1 C:\\Users\\Mohit\\OneDrive\\Desktop\\BrainTumorDetectionYolov\\BrainTumorDetectionYolov9\\test\\images\\volume_128_slice_85_jpg.rf.ddb6040843389d7da1620507573cd323.jpg: 608x640 (no detections), 24.4ms\n",
      "Speed: 9.1ms preprocess, 24.4ms inference, 2.5ms postprocess per image at shape (1, 3, 608, 640)\n",
      "\n",
      "image 1/1 C:\\Users\\Mohit\\OneDrive\\Desktop\\BrainTumorDetectionYolov\\BrainTumorDetectionYolov9\\test\\images\\volume_128_slice_89_jpg.rf.8b635951ba67b2f8bbddcb1270c26e8b.jpg: 608x640 (no detections), 15.0ms\n",
      "Speed: 6.5ms preprocess, 15.0ms inference, 1.1ms postprocess per image at shape (1, 3, 608, 640)\n",
      "\n",
      "image 1/1 C:\\Users\\Mohit\\OneDrive\\Desktop\\BrainTumorDetectionYolov\\BrainTumorDetectionYolov9\\test\\images\\volume_129_slice_96_jpg.rf.40774c48375aa66d158dd3e5daeedd66.jpg: 608x640 (no detections), 15.5ms\n",
      "Speed: 5.4ms preprocess, 15.5ms inference, 2.0ms postprocess per image at shape (1, 3, 608, 640)\n",
      "\n",
      "image 1/1 C:\\Users\\Mohit\\OneDrive\\Desktop\\BrainTumorDetectionYolov\\BrainTumorDetectionYolov9\\test\\images\\volume_12_slice_43_jpg.rf.c1b22d57b9f2a0af2791af8c2ad0f6be.jpg: 608x640 (no detections), 21.4ms\n",
      "Speed: 8.3ms preprocess, 21.4ms inference, 1.0ms postprocess per image at shape (1, 3, 608, 640)\n",
      "\n",
      "image 1/1 C:\\Users\\Mohit\\OneDrive\\Desktop\\BrainTumorDetectionYolov\\BrainTumorDetectionYolov9\\test\\images\\volume_12_slice_89_jpg.rf.addb37f935c5dbfb4b250c20b9c0ec2e.jpg: 608x640 (no detections), 14.8ms\n",
      "Speed: 5.0ms preprocess, 14.8ms inference, 1.0ms postprocess per image at shape (1, 3, 608, 640)\n",
      "\n",
      "image 1/1 C:\\Users\\Mohit\\OneDrive\\Desktop\\BrainTumorDetectionYolov\\BrainTumorDetectionYolov9\\test\\images\\volume_130_slice_30_jpg.rf.4b318aee59cc84959405d4d22f562509.jpg: 608x640 (no detections), 16.3ms\n",
      "Speed: 4.3ms preprocess, 16.3ms inference, 1.0ms postprocess per image at shape (1, 3, 608, 640)\n",
      "\n",
      "image 1/1 C:\\Users\\Mohit\\OneDrive\\Desktop\\BrainTumorDetectionYolov\\BrainTumorDetectionYolov9\\test\\images\\volume_130_slice_43_jpg.rf.b69042846ed9d6453ff3c01c56060748.jpg: 608x640 (no detections), 18.5ms\n",
      "Speed: 6.0ms preprocess, 18.5ms inference, 1.0ms postprocess per image at shape (1, 3, 608, 640)\n",
      "\n",
      "image 1/1 C:\\Users\\Mohit\\OneDrive\\Desktop\\BrainTumorDetectionYolov\\BrainTumorDetectionYolov9\\test\\images\\volume_130_slice_47_jpg.rf.cb6b52893244d14e20a91bd29c8b67ed.jpg: 608x640 (no detections), 19.0ms\n",
      "Speed: 5.5ms preprocess, 19.0ms inference, 1.0ms postprocess per image at shape (1, 3, 608, 640)\n",
      "\n",
      "image 1/1 C:\\Users\\Mohit\\OneDrive\\Desktop\\BrainTumorDetectionYolov\\BrainTumorDetectionYolov9\\test\\images\\volume_131_slice_117_jpg.rf.c325ca1bb51326082cd65a4815a08784.jpg: 608x640 (no detections), 17.5ms\n",
      "Speed: 6.0ms preprocess, 17.5ms inference, 1.0ms postprocess per image at shape (1, 3, 608, 640)\n",
      "\n",
      "image 1/1 C:\\Users\\Mohit\\OneDrive\\Desktop\\BrainTumorDetectionYolov\\BrainTumorDetectionYolov9\\test\\images\\volume_131_slice_127_jpg.rf.48c6deeb5ef684ec323c359a41726173.jpg: 608x640 (no detections), 16.0ms\n",
      "Speed: 6.0ms preprocess, 16.0ms inference, 2.0ms postprocess per image at shape (1, 3, 608, 640)\n",
      "\n",
      "image 1/1 C:\\Users\\Mohit\\OneDrive\\Desktop\\BrainTumorDetectionYolov\\BrainTumorDetectionYolov9\\test\\images\\volume_131_slice_92_jpg.rf.f796dcdb5b8f3d905811a3f70d141710.jpg: 608x640 1 label1, 17.6ms\n",
      "Speed: 5.0ms preprocess, 17.6ms inference, 5.0ms postprocess per image at shape (1, 3, 608, 640)\n",
      "\n",
      "image 1/1 C:\\Users\\Mohit\\OneDrive\\Desktop\\BrainTumorDetectionYolov\\BrainTumorDetectionYolov9\\test\\images\\volume_132_slice_122_jpg.rf.82102f6c5d6c2c63af482f6645e81d1d.jpg: 608x640 (no detections), 17.0ms\n",
      "Speed: 6.0ms preprocess, 17.0ms inference, 1.0ms postprocess per image at shape (1, 3, 608, 640)\n",
      "\n",
      "image 1/1 C:\\Users\\Mohit\\OneDrive\\Desktop\\BrainTumorDetectionYolov\\BrainTumorDetectionYolov9\\test\\images\\volume_132_slice_139_jpg.rf.cd986d8ea8f66556e30dc654f9dbc429.jpg: 608x640 (no detections), 19.0ms\n",
      "Speed: 7.0ms preprocess, 19.0ms inference, 1.0ms postprocess per image at shape (1, 3, 608, 640)\n",
      "\n",
      "image 1/1 C:\\Users\\Mohit\\OneDrive\\Desktop\\BrainTumorDetectionYolov\\BrainTumorDetectionYolov9\\test\\images\\volume_132_slice_69_jpg.rf.ead16436432a4b29c787558410b4b764.jpg: 608x640 (no detections), 16.7ms\n",
      "Speed: 7.0ms preprocess, 16.7ms inference, 1.0ms postprocess per image at shape (1, 3, 608, 640)\n",
      "\n",
      "image 1/1 C:\\Users\\Mohit\\OneDrive\\Desktop\\BrainTumorDetectionYolov\\BrainTumorDetectionYolov9\\test\\images\\volume_133_slice_100_jpg.rf.3ec32c6981bfc4e926d1891014edfb2b.jpg: 608x640 1 label1, 15.0ms\n",
      "Speed: 7.0ms preprocess, 15.0ms inference, 4.0ms postprocess per image at shape (1, 3, 608, 640)\n",
      "\n",
      "image 1/1 C:\\Users\\Mohit\\OneDrive\\Desktop\\BrainTumorDetectionYolov\\BrainTumorDetectionYolov9\\test\\images\\volume_133_slice_109_jpg.rf.47f1960d610ae0b42532c55bd96ddff7.jpg: 608x640 (no detections), 21.3ms\n",
      "Speed: 6.0ms preprocess, 21.3ms inference, 1.0ms postprocess per image at shape (1, 3, 608, 640)\n",
      "\n",
      "image 1/1 C:\\Users\\Mohit\\OneDrive\\Desktop\\BrainTumorDetectionYolov\\BrainTumorDetectionYolov9\\test\\images\\volume_133_slice_122_jpg.rf.b142d5c0ac9ef851b1ed388b791e8714.jpg: 608x640 (no detections), 14.0ms\n",
      "Speed: 6.0ms preprocess, 14.0ms inference, 1.0ms postprocess per image at shape (1, 3, 608, 640)\n",
      "\n",
      "image 1/1 C:\\Users\\Mohit\\OneDrive\\Desktop\\BrainTumorDetectionYolov\\BrainTumorDetectionYolov9\\test\\images\\volume_133_slice_130_jpg.rf.bb2506fa4cbf8723801f70e163445d0c.jpg: 608x640 (no detections), 19.3ms\n",
      "Speed: 7.0ms preprocess, 19.3ms inference, 2.0ms postprocess per image at shape (1, 3, 608, 640)\n",
      "\n",
      "image 1/1 C:\\Users\\Mohit\\OneDrive\\Desktop\\BrainTumorDetectionYolov\\BrainTumorDetectionYolov9\\test\\images\\volume_133_slice_89_jpg.rf.46b803964484a62583a273dc61c81198.jpg: 608x640 1 label1, 15.0ms\n",
      "Speed: 6.1ms preprocess, 15.0ms inference, 5.0ms postprocess per image at shape (1, 3, 608, 640)\n",
      "\n",
      "image 1/1 C:\\Users\\Mohit\\OneDrive\\Desktop\\BrainTumorDetectionYolov\\BrainTumorDetectionYolov9\\test\\images\\volume_133_slice_93_jpg.rf.c190b329cb48ea3ceac2db37bda90d46.jpg: 608x640 (no detections), 21.5ms\n",
      "Speed: 6.0ms preprocess, 21.5ms inference, 2.0ms postprocess per image at shape (1, 3, 608, 640)\n",
      "\n",
      "image 1/1 C:\\Users\\Mohit\\OneDrive\\Desktop\\BrainTumorDetectionYolov\\BrainTumorDetectionYolov9\\test\\images\\volume_134_slice_105_jpg.rf.38eb8ccf8e6fef0e79d33e01e0bee285.jpg: 608x640 (no detections), 16.3ms\n",
      "Speed: 5.4ms preprocess, 16.3ms inference, 1.0ms postprocess per image at shape (1, 3, 608, 640)\n",
      "\n",
      "image 1/1 C:\\Users\\Mohit\\OneDrive\\Desktop\\BrainTumorDetectionYolov\\BrainTumorDetectionYolov9\\test\\images\\volume_134_slice_107_jpg.rf.dbd50865dd2fe1c2cbe9e3950ab22df7.jpg: 608x640 (no detections), 20.5ms\n",
      "Speed: 6.0ms preprocess, 20.5ms inference, 2.0ms postprocess per image at shape (1, 3, 608, 640)\n",
      "\n",
      "image 1/1 C:\\Users\\Mohit\\OneDrive\\Desktop\\BrainTumorDetectionYolov\\BrainTumorDetectionYolov9\\test\\images\\volume_134_slice_116_jpg.rf.f9560b6fdb5c1a6fabee97a866e7bf48.jpg: 608x640 (no detections), 14.0ms\n",
      "Speed: 6.0ms preprocess, 14.0ms inference, 2.0ms postprocess per image at shape (1, 3, 608, 640)\n",
      "\n",
      "image 1/1 C:\\Users\\Mohit\\OneDrive\\Desktop\\BrainTumorDetectionYolov\\BrainTumorDetectionYolov9\\test\\images\\volume_134_slice_117_jpg.rf.51a3eb4fa20b7c76577e0dbc414cd6eb.jpg: 608x640 (no detections), 16.0ms\n",
      "Speed: 6.0ms preprocess, 16.0ms inference, 1.0ms postprocess per image at shape (1, 3, 608, 640)\n",
      "\n",
      "image 1/1 C:\\Users\\Mohit\\OneDrive\\Desktop\\BrainTumorDetectionYolov\\BrainTumorDetectionYolov9\\test\\images\\volume_134_slice_128_jpg.rf.4d94bc57de9655ddbb0240513c27e020.jpg: 608x640 (no detections), 17.0ms\n",
      "Speed: 6.0ms preprocess, 17.0ms inference, 3.0ms postprocess per image at shape (1, 3, 608, 640)\n",
      "\n",
      "image 1/1 C:\\Users\\Mohit\\OneDrive\\Desktop\\BrainTumorDetectionYolov\\BrainTumorDetectionYolov9\\test\\images\\volume_135_slice_120_jpg.rf.3d19e674b8bc4bcc9ec00630a53819b1.jpg: 608x640 (no detections), 16.3ms\n",
      "Speed: 6.0ms preprocess, 16.3ms inference, 1.0ms postprocess per image at shape (1, 3, 608, 640)\n",
      "\n",
      "image 1/1 C:\\Users\\Mohit\\OneDrive\\Desktop\\BrainTumorDetectionYolov\\BrainTumorDetectionYolov9\\test\\images\\volume_135_slice_67_jpg.rf.73f00c8365b22a862b0516c81f7d5762.jpg: 608x640 (no detections), 17.0ms\n",
      "Speed: 5.0ms preprocess, 17.0ms inference, 1.0ms postprocess per image at shape (1, 3, 608, 640)\n",
      "\n",
      "image 1/1 C:\\Users\\Mohit\\OneDrive\\Desktop\\BrainTumorDetectionYolov\\BrainTumorDetectionYolov9\\test\\images\\volume_136_slice_111_jpg.rf.ea17143818c25b42a2aa3579b54d68a5.jpg: 608x640 (no detections), 16.0ms\n",
      "Speed: 5.0ms preprocess, 16.0ms inference, 1.0ms postprocess per image at shape (1, 3, 608, 640)\n",
      "\n",
      "image 1/1 C:\\Users\\Mohit\\OneDrive\\Desktop\\BrainTumorDetectionYolov\\BrainTumorDetectionYolov9\\test\\images\\volume_136_slice_112_jpg.rf.7fd82b1d044d713df160a506518caa1f.jpg: 608x640 (no detections), 14.0ms\n",
      "Speed: 6.0ms preprocess, 14.0ms inference, 1.0ms postprocess per image at shape (1, 3, 608, 640)\n",
      "\n",
      "image 1/1 C:\\Users\\Mohit\\OneDrive\\Desktop\\BrainTumorDetectionYolov\\BrainTumorDetectionYolov9\\test\\images\\volume_137_slice_91_jpg.rf.2bf07e357993ad2f66710de68306e830.jpg: 608x640 (no detections), 14.4ms\n",
      "Speed: 6.0ms preprocess, 14.4ms inference, 2.0ms postprocess per image at shape (1, 3, 608, 640)\n",
      "\n",
      "image 1/1 C:\\Users\\Mohit\\OneDrive\\Desktop\\BrainTumorDetectionYolov\\BrainTumorDetectionYolov9\\test\\images\\volume_138_slice_75_jpg.rf.15bb9f213d5d6aede5a373a362a42a1c.jpg: 608x640 (no detections), 16.0ms\n",
      "Speed: 6.0ms preprocess, 16.0ms inference, 1.0ms postprocess per image at shape (1, 3, 608, 640)\n",
      "\n",
      "image 1/1 C:\\Users\\Mohit\\OneDrive\\Desktop\\BrainTumorDetectionYolov\\BrainTumorDetectionYolov9\\test\\images\\volume_138_slice_78_jpg.rf.d20926f7780047139724b7388ec09929.jpg: 608x640 1 label1, 18.5ms\n",
      "Speed: 6.0ms preprocess, 18.5ms inference, 3.0ms postprocess per image at shape (1, 3, 608, 640)\n",
      "\n",
      "image 1/1 C:\\Users\\Mohit\\OneDrive\\Desktop\\BrainTumorDetectionYolov\\BrainTumorDetectionYolov9\\test\\images\\volume_138_slice_85_jpg.rf.542576e48fe8f85fc20fa8ff9b9186d0.jpg: 608x640 (no detections), 31.0ms\n",
      "Speed: 6.0ms preprocess, 31.0ms inference, 3.0ms postprocess per image at shape (1, 3, 608, 640)\n",
      "\n",
      "image 1/1 C:\\Users\\Mohit\\OneDrive\\Desktop\\BrainTumorDetectionYolov\\BrainTumorDetectionYolov9\\test\\images\\volume_138_slice_98_jpg.rf.ff3b3150a07540b58bc5fa6e5ace36e4.jpg: 608x640 (no detections), 31.0ms\n",
      "Speed: 10.0ms preprocess, 31.0ms inference, 1.0ms postprocess per image at shape (1, 3, 608, 640)\n",
      "\n",
      "image 1/1 C:\\Users\\Mohit\\OneDrive\\Desktop\\BrainTumorDetectionYolov\\BrainTumorDetectionYolov9\\test\\images\\volume_139_slice_102_jpg.rf.d39ee4f3c8566a01a63c12d74ee97bf5.jpg: 608x640 (no detections), 21.0ms\n",
      "Speed: 7.0ms preprocess, 21.0ms inference, 1.0ms postprocess per image at shape (1, 3, 608, 640)\n",
      "\n",
      "image 1/1 C:\\Users\\Mohit\\OneDrive\\Desktop\\BrainTumorDetectionYolov\\BrainTumorDetectionYolov9\\test\\images\\volume_139_slice_79_jpg.rf.057579a69342f36d5ed36efcd61e283c.jpg: 608x640 (no detections), 102.0ms\n",
      "Speed: 6.0ms preprocess, 102.0ms inference, 2.0ms postprocess per image at shape (1, 3, 608, 640)\n",
      "\n",
      "image 1/1 C:\\Users\\Mohit\\OneDrive\\Desktop\\BrainTumorDetectionYolov\\BrainTumorDetectionYolov9\\test\\images\\volume_13_slice_109_jpg.rf.c29d2ec6d3dda59afc20a24286606764.jpg: 608x640 (no detections), 32.0ms\n",
      "Speed: 9.0ms preprocess, 32.0ms inference, 1.0ms postprocess per image at shape (1, 3, 608, 640)\n",
      "\n",
      "image 1/1 C:\\Users\\Mohit\\OneDrive\\Desktop\\BrainTumorDetectionYolov\\BrainTumorDetectionYolov9\\test\\images\\volume_13_slice_72_jpg.rf.a9585127c857d1805a062677d27fccdc.jpg: 608x640 (no detections), 13.0ms\n",
      "Speed: 6.0ms preprocess, 13.0ms inference, 1.0ms postprocess per image at shape (1, 3, 608, 640)\n",
      "\n",
      "image 1/1 C:\\Users\\Mohit\\OneDrive\\Desktop\\BrainTumorDetectionYolov\\BrainTumorDetectionYolov9\\test\\images\\volume_13_slice_83_jpg.rf.999629d333740c5d9b31db5a3daa8beb.jpg: 608x640 (no detections), 14.0ms\n",
      "Speed: 6.0ms preprocess, 14.0ms inference, 1.0ms postprocess per image at shape (1, 3, 608, 640)\n",
      "\n",
      "image 1/1 C:\\Users\\Mohit\\OneDrive\\Desktop\\BrainTumorDetectionYolov\\BrainTumorDetectionYolov9\\test\\images\\volume_13_slice_94_jpg.rf.6c08a524f4fc77c01a9fca7dbe377dd3.jpg: 608x640 (no detections), 17.0ms\n",
      "Speed: 5.0ms preprocess, 17.0ms inference, 1.0ms postprocess per image at shape (1, 3, 608, 640)\n",
      "\n",
      "image 1/1 C:\\Users\\Mohit\\OneDrive\\Desktop\\BrainTumorDetectionYolov\\BrainTumorDetectionYolov9\\test\\images\\volume_140_slice_110_jpg.rf.df38d71e51b47be1f8ff2c81752c851f.jpg: 608x640 (no detections), 18.0ms\n",
      "Speed: 7.0ms preprocess, 18.0ms inference, 1.0ms postprocess per image at shape (1, 3, 608, 640)\n",
      "\n",
      "image 1/1 C:\\Users\\Mohit\\OneDrive\\Desktop\\BrainTumorDetectionYolov\\BrainTumorDetectionYolov9\\test\\images\\volume_140_slice_116_jpg.rf.ed1c35903175e452b9df83ec5da8e59b.jpg: 608x640 (no detections), 13.0ms\n",
      "Speed: 6.0ms preprocess, 13.0ms inference, 1.0ms postprocess per image at shape (1, 3, 608, 640)\n",
      "\n",
      "image 1/1 C:\\Users\\Mohit\\OneDrive\\Desktop\\BrainTumorDetectionYolov\\BrainTumorDetectionYolov9\\test\\images\\volume_140_slice_125_jpg.rf.90cad4c181e9dbcb11b4a3fd0196720f.jpg: 608x640 (no detections), 15.2ms\n",
      "Speed: 8.0ms preprocess, 15.2ms inference, 1.9ms postprocess per image at shape (1, 3, 608, 640)\n",
      "\n",
      "image 1/1 C:\\Users\\Mohit\\OneDrive\\Desktop\\BrainTumorDetectionYolov\\BrainTumorDetectionYolov9\\test\\images\\volume_140_slice_130_jpg.rf.a6166db79055401363ca4132b89821ff.jpg: 608x640 (no detections), 17.0ms\n",
      "Speed: 6.0ms preprocess, 17.0ms inference, 1.0ms postprocess per image at shape (1, 3, 608, 640)\n",
      "\n",
      "image 1/1 C:\\Users\\Mohit\\OneDrive\\Desktop\\BrainTumorDetectionYolov\\BrainTumorDetectionYolov9\\test\\images\\volume_140_slice_75_jpg.rf.5834d83b19e32ad5f09a9fc844cdd0fb.jpg: 608x640 (no detections), 15.9ms\n",
      "Speed: 6.1ms preprocess, 15.9ms inference, 1.0ms postprocess per image at shape (1, 3, 608, 640)\n",
      "\n",
      "image 1/1 C:\\Users\\Mohit\\OneDrive\\Desktop\\BrainTumorDetectionYolov\\BrainTumorDetectionYolov9\\test\\images\\volume_140_slice_76_jpg.rf.9fd7e5d76bf87ac7d60b12fe24c8d325.jpg: 608x640 (no detections), 14.9ms\n",
      "Speed: 10.1ms preprocess, 14.9ms inference, 1.0ms postprocess per image at shape (1, 3, 608, 640)\n",
      "\n",
      "image 1/1 C:\\Users\\Mohit\\OneDrive\\Desktop\\BrainTumorDetectionYolov\\BrainTumorDetectionYolov9\\test\\images\\volume_140_slice_94_jpg.rf.7a0bd96feedace6d3eb5174643fb8473.jpg: 608x640 1 label1, 11.9ms\n",
      "Speed: 7.1ms preprocess, 11.9ms inference, 4.0ms postprocess per image at shape (1, 3, 608, 640)\n",
      "\n",
      "image 1/1 C:\\Users\\Mohit\\OneDrive\\Desktop\\BrainTumorDetectionYolov\\BrainTumorDetectionYolov9\\test\\images\\volume_141_slice_115_jpg.rf.ab33cdbdf4f0772228162c7d082e1966.jpg: 608x640 (no detections), 14.0ms\n",
      "Speed: 6.0ms preprocess, 14.0ms inference, 2.0ms postprocess per image at shape (1, 3, 608, 640)\n",
      "\n",
      "image 1/1 C:\\Users\\Mohit\\OneDrive\\Desktop\\BrainTumorDetectionYolov\\BrainTumorDetectionYolov9\\test\\images\\volume_141_slice_121_jpg.rf.3fc1a3d15deabe6457c4dd2db188ccbb.jpg: 608x640 (no detections), 14.0ms\n",
      "Speed: 6.0ms preprocess, 14.0ms inference, 1.0ms postprocess per image at shape (1, 3, 608, 640)\n",
      "\n",
      "image 1/1 C:\\Users\\Mohit\\OneDrive\\Desktop\\BrainTumorDetectionYolov\\BrainTumorDetectionYolov9\\test\\images\\volume_143_slice_48_jpg.rf.515918c9fd1011ca046bf7aab2df4d5c.jpg: 608x640 (no detections), 17.0ms\n",
      "Speed: 6.0ms preprocess, 17.0ms inference, 2.0ms postprocess per image at shape (1, 3, 608, 640)\n",
      "\n",
      "image 1/1 C:\\Users\\Mohit\\OneDrive\\Desktop\\BrainTumorDetectionYolov\\BrainTumorDetectionYolov9\\test\\images\\volume_143_slice_53_jpg.rf.96c2ca24990acc118d7ea3fc5118d941.jpg: 608x640 (no detections), 18.4ms\n",
      "Speed: 6.1ms preprocess, 18.4ms inference, 2.0ms postprocess per image at shape (1, 3, 608, 640)\n",
      "\n",
      "image 1/1 C:\\Users\\Mohit\\OneDrive\\Desktop\\BrainTumorDetectionYolov\\BrainTumorDetectionYolov9\\test\\images\\volume_143_slice_72_jpg.rf.3e39e6886066d10fb60bbf52d5572b79.jpg: 608x640 1 label1, 16.0ms\n",
      "Speed: 6.0ms preprocess, 16.0ms inference, 4.0ms postprocess per image at shape (1, 3, 608, 640)\n",
      "\n",
      "image 1/1 C:\\Users\\Mohit\\OneDrive\\Desktop\\BrainTumorDetectionYolov\\BrainTumorDetectionYolov9\\test\\images\\volume_143_slice_83_jpg.rf.91e84b08775ce1ae6cc598427d0893fb.jpg: 608x640 1 label1, 19.5ms\n",
      "Speed: 5.0ms preprocess, 19.5ms inference, 3.0ms postprocess per image at shape (1, 3, 608, 640)\n",
      "\n",
      "image 1/1 C:\\Users\\Mohit\\OneDrive\\Desktop\\BrainTumorDetectionYolov\\BrainTumorDetectionYolov9\\test\\images\\volume_143_slice_96_jpg.rf.9a3596ba554e19b5de501edf7780f21a.jpg: 608x640 (no detections), 19.0ms\n",
      "Speed: 8.0ms preprocess, 19.0ms inference, 1.0ms postprocess per image at shape (1, 3, 608, 640)\n",
      "\n",
      "image 1/1 C:\\Users\\Mohit\\OneDrive\\Desktop\\BrainTumorDetectionYolov\\BrainTumorDetectionYolov9\\test\\images\\volume_145_slice_88_jpg.rf.1c7c163b8df94727e41f8852c224c71f.jpg: 608x640 (no detections), 15.9ms\n",
      "Speed: 7.1ms preprocess, 15.9ms inference, 1.0ms postprocess per image at shape (1, 3, 608, 640)\n",
      "\n",
      "image 1/1 C:\\Users\\Mohit\\OneDrive\\Desktop\\BrainTumorDetectionYolov\\BrainTumorDetectionYolov9\\test\\images\\volume_146_slice_71_jpg.rf.8f956a5b2bb4d67d650f51b2401500c4.jpg: 608x640 (no detections), 13.0ms\n",
      "Speed: 6.9ms preprocess, 13.0ms inference, 1.0ms postprocess per image at shape (1, 3, 608, 640)\n",
      "\n",
      "image 1/1 C:\\Users\\Mohit\\OneDrive\\Desktop\\BrainTumorDetectionYolov\\BrainTumorDetectionYolov9\\test\\images\\volume_146_slice_86_jpg.rf.7c3e0754d583df9659995975a8b1a086.jpg: 608x640 (no detections), 18.2ms\n",
      "Speed: 6.0ms preprocess, 18.2ms inference, 2.0ms postprocess per image at shape (1, 3, 608, 640)\n",
      "\n",
      "image 1/1 C:\\Users\\Mohit\\OneDrive\\Desktop\\BrainTumorDetectionYolov\\BrainTumorDetectionYolov9\\test\\images\\volume_146_slice_93_jpg.rf.5921b32860c1a5b10fc260dbd5fe5ad0.jpg: 608x640 (no detections), 19.1ms\n",
      "Speed: 6.0ms preprocess, 19.1ms inference, 1.0ms postprocess per image at shape (1, 3, 608, 640)\n",
      "\n",
      "image 1/1 C:\\Users\\Mohit\\OneDrive\\Desktop\\BrainTumorDetectionYolov\\BrainTumorDetectionYolov9\\test\\images\\volume_147_slice_45_jpg.rf.0c13217d16297db705363dd79fc7e87b.jpg: 608x640 (no detections), 15.1ms\n",
      "Speed: 7.0ms preprocess, 15.1ms inference, 1.0ms postprocess per image at shape (1, 3, 608, 640)\n",
      "\n",
      "image 1/1 C:\\Users\\Mohit\\OneDrive\\Desktop\\BrainTumorDetectionYolov\\BrainTumorDetectionYolov9\\test\\images\\volume_147_slice_79_jpg.rf.e175f9b7e50d42f5ae07d0e911e69bb2.jpg: 608x640 1 label1, 13.0ms\n",
      "Speed: 9.0ms preprocess, 13.0ms inference, 3.0ms postprocess per image at shape (1, 3, 608, 640)\n",
      "\n",
      "image 1/1 C:\\Users\\Mohit\\OneDrive\\Desktop\\BrainTumorDetectionYolov\\BrainTumorDetectionYolov9\\test\\images\\volume_147_slice_81_jpg.rf.e6919162ae8efb7c1602c98652b5ed50.jpg: 608x640 (no detections), 15.9ms\n",
      "Speed: 7.1ms preprocess, 15.9ms inference, 2.0ms postprocess per image at shape (1, 3, 608, 640)\n",
      "\n",
      "image 1/1 C:\\Users\\Mohit\\OneDrive\\Desktop\\BrainTumorDetectionYolov\\BrainTumorDetectionYolov9\\test\\images\\volume_148_slice_131_jpg.rf.5c1fba25159417dd016dba3ecb1c172b.jpg: 608x640 (no detections), 14.4ms\n",
      "Speed: 5.0ms preprocess, 14.4ms inference, 1.0ms postprocess per image at shape (1, 3, 608, 640)\n",
      "\n",
      "image 1/1 C:\\Users\\Mohit\\OneDrive\\Desktop\\BrainTumorDetectionYolov\\BrainTumorDetectionYolov9\\test\\images\\volume_148_slice_68_jpg.rf.afd0830ca3fc5053fe15d99249b9cc54.jpg: 608x640 (no detections), 16.0ms\n",
      "Speed: 7.0ms preprocess, 16.0ms inference, 1.0ms postprocess per image at shape (1, 3, 608, 640)\n",
      "\n",
      "image 1/1 C:\\Users\\Mohit\\OneDrive\\Desktop\\BrainTumorDetectionYolov\\BrainTumorDetectionYolov9\\test\\images\\volume_148_slice_69_jpg.rf.a826629e0e9e36a38f661e4c84de23bf.jpg: 608x640 (no detections), 13.0ms\n",
      "Speed: 6.0ms preprocess, 13.0ms inference, 1.0ms postprocess per image at shape (1, 3, 608, 640)\n",
      "\n",
      "image 1/1 C:\\Users\\Mohit\\OneDrive\\Desktop\\BrainTumorDetectionYolov\\BrainTumorDetectionYolov9\\test\\images\\volume_149_slice_45_jpg.rf.dbbd44817c4d6570235a5fefa6c6b4eb.jpg: 608x640 (no detections), 15.0ms\n",
      "Speed: 7.3ms preprocess, 15.0ms inference, 1.0ms postprocess per image at shape (1, 3, 608, 640)\n",
      "\n",
      "image 1/1 C:\\Users\\Mohit\\OneDrive\\Desktop\\BrainTumorDetectionYolov\\BrainTumorDetectionYolov9\\test\\images\\volume_149_slice_71_jpg.rf.01e485905c7bcbcda55ed94d7cf39389.jpg: 608x640 (no detections), 16.0ms\n",
      "Speed: 6.0ms preprocess, 16.0ms inference, 2.0ms postprocess per image at shape (1, 3, 608, 640)\n",
      "\n",
      "image 1/1 C:\\Users\\Mohit\\OneDrive\\Desktop\\BrainTumorDetectionYolov\\BrainTumorDetectionYolov9\\test\\images\\volume_14_slice_42_jpg.rf.03456e924ab977416a94fc133e58c1f5.jpg: 608x640 (no detections), 13.0ms\n",
      "Speed: 7.0ms preprocess, 13.0ms inference, 1.0ms postprocess per image at shape (1, 3, 608, 640)\n",
      "\n",
      "image 1/1 C:\\Users\\Mohit\\OneDrive\\Desktop\\BrainTumorDetectionYolov\\BrainTumorDetectionYolov9\\test\\images\\volume_14_slice_44_jpg.rf.cd2331bb85515fa6e126fd22648c8e4b.jpg: 608x640 (no detections), 16.0ms\n",
      "Speed: 8.1ms preprocess, 16.0ms inference, 2.0ms postprocess per image at shape (1, 3, 608, 640)\n",
      "\n",
      "image 1/1 C:\\Users\\Mohit\\OneDrive\\Desktop\\BrainTumorDetectionYolov\\BrainTumorDetectionYolov9\\test\\images\\volume_14_slice_74_jpg.rf.bc297ae6bef4086d430b2760a96fedf7.jpg: 608x640 (no detections), 12.9ms\n",
      "Speed: 7.1ms preprocess, 12.9ms inference, 1.0ms postprocess per image at shape (1, 3, 608, 640)\n",
      "\n",
      "image 1/1 C:\\Users\\Mohit\\OneDrive\\Desktop\\BrainTumorDetectionYolov\\BrainTumorDetectionYolov9\\test\\images\\volume_150_slice_101_jpg.rf.7bece9c45b79e65b4df75658a165755a.jpg: 608x640 (no detections), 16.0ms\n",
      "Speed: 7.0ms preprocess, 16.0ms inference, 1.0ms postprocess per image at shape (1, 3, 608, 640)\n",
      "\n",
      "image 1/1 C:\\Users\\Mohit\\OneDrive\\Desktop\\BrainTumorDetectionYolov\\BrainTumorDetectionYolov9\\test\\images\\volume_150_slice_112_jpg.rf.35954faf07b34bcdbd4f0cebfa8f26f2.jpg: 608x640 (no detections), 14.2ms\n",
      "Speed: 6.1ms preprocess, 14.2ms inference, 1.0ms postprocess per image at shape (1, 3, 608, 640)\n",
      "\n",
      "image 1/1 C:\\Users\\Mohit\\OneDrive\\Desktop\\BrainTumorDetectionYolov\\BrainTumorDetectionYolov9\\test\\images\\volume_150_slice_38_jpg.rf.654b4a7a19e3e075fbab7e4b37955bd0.jpg: 608x640 (no detections), 20.0ms\n",
      "Speed: 6.0ms preprocess, 20.0ms inference, 2.0ms postprocess per image at shape (1, 3, 608, 640)\n",
      "\n",
      "image 1/1 C:\\Users\\Mohit\\OneDrive\\Desktop\\BrainTumorDetectionYolov\\BrainTumorDetectionYolov9\\test\\images\\volume_150_slice_41_jpg.rf.4165335cbdd91c118dbb86505274a568.jpg: 608x640 (no detections), 18.0ms\n",
      "Speed: 6.0ms preprocess, 18.0ms inference, 1.0ms postprocess per image at shape (1, 3, 608, 640)\n",
      "\n",
      "image 1/1 C:\\Users\\Mohit\\OneDrive\\Desktop\\BrainTumorDetectionYolov\\BrainTumorDetectionYolov9\\test\\images\\volume_150_slice_46_jpg.rf.6d4786d55952fc81c35a57aa7f5ec8d2.jpg: 608x640 (no detections), 12.0ms\n",
      "Speed: 5.0ms preprocess, 12.0ms inference, 1.0ms postprocess per image at shape (1, 3, 608, 640)\n",
      "\n",
      "image 1/1 C:\\Users\\Mohit\\OneDrive\\Desktop\\BrainTumorDetectionYolov\\BrainTumorDetectionYolov9\\test\\images\\volume_150_slice_47_jpg.rf.9e7276b16174320dbf20157a204851a6.jpg: 608x640 (no detections), 15.0ms\n",
      "Speed: 6.0ms preprocess, 15.0ms inference, 1.0ms postprocess per image at shape (1, 3, 608, 640)\n",
      "\n",
      "image 1/1 C:\\Users\\Mohit\\OneDrive\\Desktop\\BrainTumorDetectionYolov\\BrainTumorDetectionYolov9\\test\\images\\volume_150_slice_81_jpg.rf.24c4ecaf85bdc8da39aea137165b7041.jpg: 608x640 (no detections), 17.0ms\n",
      "Speed: 6.0ms preprocess, 17.0ms inference, 1.0ms postprocess per image at shape (1, 3, 608, 640)\n",
      "\n",
      "image 1/1 C:\\Users\\Mohit\\OneDrive\\Desktop\\BrainTumorDetectionYolov\\BrainTumorDetectionYolov9\\test\\images\\volume_151_slice_129_jpg.rf.0abab198c052b03be9ddbf46a2483841.jpg: 608x640 (no detections), 96.7ms\n",
      "Speed: 7.1ms preprocess, 96.7ms inference, 9.0ms postprocess per image at shape (1, 3, 608, 640)\n",
      "\n",
      "image 1/1 C:\\Users\\Mohit\\OneDrive\\Desktop\\BrainTumorDetectionYolov\\BrainTumorDetectionYolov9\\test\\images\\volume_151_slice_133_jpg.rf.cec4c83f9f016e7073187b368769daa1.jpg: 608x640 (no detections), 53.3ms\n",
      "Speed: 11.0ms preprocess, 53.3ms inference, 1.0ms postprocess per image at shape (1, 3, 608, 640)\n",
      "\n",
      "image 1/1 C:\\Users\\Mohit\\OneDrive\\Desktop\\BrainTumorDetectionYolov\\BrainTumorDetectionYolov9\\test\\images\\volume_151_slice_95_jpg.rf.88e194c2ef08e7397deb6c0e112cb549.jpg: 608x640 1 label1, 18.5ms\n",
      "Speed: 8.3ms preprocess, 18.5ms inference, 4.0ms postprocess per image at shape (1, 3, 608, 640)\n",
      "\n",
      "image 1/1 C:\\Users\\Mohit\\OneDrive\\Desktop\\BrainTumorDetectionYolov\\BrainTumorDetectionYolov9\\test\\images\\volume_152_slice_103_jpg.rf.f2cf39580da69de42892e0cdc4c5fbc7.jpg: 608x640 (no detections), 14.0ms\n",
      "Speed: 6.0ms preprocess, 14.0ms inference, 2.0ms postprocess per image at shape (1, 3, 608, 640)\n",
      "\n",
      "image 1/1 C:\\Users\\Mohit\\OneDrive\\Desktop\\BrainTumorDetectionYolov\\BrainTumorDetectionYolov9\\test\\images\\volume_152_slice_107_jpg.rf.65370053f2f406d187421fb418a9bd20.jpg: 608x640 (no detections), 15.4ms\n",
      "Speed: 7.0ms preprocess, 15.4ms inference, 1.0ms postprocess per image at shape (1, 3, 608, 640)\n",
      "\n",
      "image 1/1 C:\\Users\\Mohit\\OneDrive\\Desktop\\BrainTumorDetectionYolov\\BrainTumorDetectionYolov9\\test\\images\\volume_152_slice_58_jpg.rf.2ffc9dd397e94135284985a843c071fd.jpg: 608x640 (no detections), 15.0ms\n",
      "Speed: 6.0ms preprocess, 15.0ms inference, 1.0ms postprocess per image at shape (1, 3, 608, 640)\n",
      "\n",
      "image 1/1 C:\\Users\\Mohit\\OneDrive\\Desktop\\BrainTumorDetectionYolov\\BrainTumorDetectionYolov9\\test\\images\\volume_152_slice_69_jpg.rf.1f3e5c6425c3b007ee4f56adda26cf62.jpg: 608x640 (no detections), 19.1ms\n",
      "Speed: 7.0ms preprocess, 19.1ms inference, 2.0ms postprocess per image at shape (1, 3, 608, 640)\n",
      "\n",
      "image 1/1 C:\\Users\\Mohit\\OneDrive\\Desktop\\BrainTumorDetectionYolov\\BrainTumorDetectionYolov9\\test\\images\\volume_153_slice_30_jpg.rf.a27ceb4891649a7e9c4a031179feb45f.jpg: 608x640 (no detections), 12.0ms\n",
      "Speed: 6.0ms preprocess, 12.0ms inference, 2.0ms postprocess per image at shape (1, 3, 608, 640)\n",
      "\n",
      "image 1/1 C:\\Users\\Mohit\\OneDrive\\Desktop\\BrainTumorDetectionYolov\\BrainTumorDetectionYolov9\\test\\images\\volume_153_slice_88_jpg.rf.1683e72215c88dfbbfb3a218c1096a91.jpg: 608x640 1 label1, 14.0ms\n",
      "Speed: 7.0ms preprocess, 14.0ms inference, 2.0ms postprocess per image at shape (1, 3, 608, 640)\n",
      "\n",
      "image 1/1 C:\\Users\\Mohit\\OneDrive\\Desktop\\BrainTumorDetectionYolov\\BrainTumorDetectionYolov9\\test\\images\\volume_154_slice_80_jpg.rf.08b51bce8b5d71ca3f53525f598fa132.jpg: 608x640 (no detections), 13.0ms\n",
      "Speed: 6.0ms preprocess, 13.0ms inference, 1.0ms postprocess per image at shape (1, 3, 608, 640)\n",
      "\n",
      "image 1/1 C:\\Users\\Mohit\\OneDrive\\Desktop\\BrainTumorDetectionYolov\\BrainTumorDetectionYolov9\\test\\images\\volume_154_slice_83_jpg.rf.cc2782978ceab07da0725175a3471e10.jpg: 608x640 (no detections), 13.0ms\n",
      "Speed: 7.0ms preprocess, 13.0ms inference, 1.0ms postprocess per image at shape (1, 3, 608, 640)\n",
      "\n",
      "image 1/1 C:\\Users\\Mohit\\OneDrive\\Desktop\\BrainTumorDetectionYolov\\BrainTumorDetectionYolov9\\test\\images\\volume_154_slice_85_jpg.rf.c58da1f85d473cadd766fcee111f2ee1.jpg: 608x640 (no detections), 13.3ms\n",
      "Speed: 6.0ms preprocess, 13.3ms inference, 1.0ms postprocess per image at shape (1, 3, 608, 640)\n",
      "\n",
      "image 1/1 C:\\Users\\Mohit\\OneDrive\\Desktop\\BrainTumorDetectionYolov\\BrainTumorDetectionYolov9\\test\\images\\volume_155_slice_110_jpg.rf.82dc3527c6f9a81106adbde80f06c304.jpg: 608x640 (no detections), 13.0ms\n",
      "Speed: 6.0ms preprocess, 13.0ms inference, 1.0ms postprocess per image at shape (1, 3, 608, 640)\n",
      "\n",
      "image 1/1 C:\\Users\\Mohit\\OneDrive\\Desktop\\BrainTumorDetectionYolov\\BrainTumorDetectionYolov9\\test\\images\\volume_155_slice_128_jpg.rf.14ea8251db0663414f14f964b2f93b43.jpg: 608x640 (no detections), 17.2ms\n",
      "Speed: 6.0ms preprocess, 17.2ms inference, 1.0ms postprocess per image at shape (1, 3, 608, 640)\n",
      "\n",
      "image 1/1 C:\\Users\\Mohit\\OneDrive\\Desktop\\BrainTumorDetectionYolov\\BrainTumorDetectionYolov9\\test\\images\\volume_155_slice_47_jpg.rf.26b908b6eb587c28e3a09fd19e41a4c2.jpg: 608x640 (no detections), 21.6ms\n",
      "Speed: 7.1ms preprocess, 21.6ms inference, 1.0ms postprocess per image at shape (1, 3, 608, 640)\n",
      "\n",
      "image 1/1 C:\\Users\\Mohit\\OneDrive\\Desktop\\BrainTumorDetectionYolov\\BrainTumorDetectionYolov9\\test\\images\\volume_155_slice_73_jpg.rf.efe43cd1058559a04c03677e8941903d.jpg: 608x640 (no detections), 17.7ms\n",
      "Speed: 7.0ms preprocess, 17.7ms inference, 1.0ms postprocess per image at shape (1, 3, 608, 640)\n",
      "\n",
      "image 1/1 C:\\Users\\Mohit\\OneDrive\\Desktop\\BrainTumorDetectionYolov\\BrainTumorDetectionYolov9\\test\\images\\volume_156_slice_46_jpg.rf.466364a15c48e3ae2c7543be1562b782.jpg: 608x640 (no detections), 20.0ms\n",
      "Speed: 8.0ms preprocess, 20.0ms inference, 2.0ms postprocess per image at shape (1, 3, 608, 640)\n",
      "\n",
      "image 1/1 C:\\Users\\Mohit\\OneDrive\\Desktop\\BrainTumorDetectionYolov\\BrainTumorDetectionYolov9\\test\\images\\volume_156_slice_76_jpg.rf.aba8f0d656f04e3ee4d49be3932dc3a8.jpg: 608x640 (no detections), 13.0ms\n",
      "Speed: 5.0ms preprocess, 13.0ms inference, 1.0ms postprocess per image at shape (1, 3, 608, 640)\n",
      "\n",
      "image 1/1 C:\\Users\\Mohit\\OneDrive\\Desktop\\BrainTumorDetectionYolov\\BrainTumorDetectionYolov9\\test\\images\\volume_156_slice_82_jpg.rf.f7a6eba94bb61c6b93dc0bc83cd7a743.jpg: 608x640 (no detections), 17.0ms\n",
      "Speed: 6.0ms preprocess, 17.0ms inference, 2.0ms postprocess per image at shape (1, 3, 608, 640)\n",
      "\n",
      "image 1/1 C:\\Users\\Mohit\\OneDrive\\Desktop\\BrainTumorDetectionYolov\\BrainTumorDetectionYolov9\\test\\images\\volume_158_slice_33_jpg.rf.ed17707ea6db8197d86cb16208d289fc.jpg: 608x640 (no detections), 12.0ms\n",
      "Speed: 6.0ms preprocess, 12.0ms inference, 1.0ms postprocess per image at shape (1, 3, 608, 640)\n",
      "\n",
      "image 1/1 C:\\Users\\Mohit\\OneDrive\\Desktop\\BrainTumorDetectionYolov\\BrainTumorDetectionYolov9\\test\\images\\volume_158_slice_43_jpg.rf.fb1182ca71936f7e9502bffb515bec53.jpg: 608x640 (no detections), 13.0ms\n",
      "Speed: 8.0ms preprocess, 13.0ms inference, 1.0ms postprocess per image at shape (1, 3, 608, 640)\n",
      "\n",
      "image 1/1 C:\\Users\\Mohit\\OneDrive\\Desktop\\BrainTumorDetectionYolov\\BrainTumorDetectionYolov9\\test\\images\\volume_158_slice_49_jpg.rf.1f5f0ab746893543afc9d7bd6c0aa35a.jpg: 608x640 (no detections), 13.0ms\n",
      "Speed: 6.0ms preprocess, 13.0ms inference, 1.0ms postprocess per image at shape (1, 3, 608, 640)\n",
      "\n",
      "image 1/1 C:\\Users\\Mohit\\OneDrive\\Desktop\\BrainTumorDetectionYolov\\BrainTumorDetectionYolov9\\test\\images\\volume_158_slice_53_jpg.rf.dc79c05981fed0763ffe2f2ca454ae42.jpg: 608x640 (no detections), 12.0ms\n",
      "Speed: 9.1ms preprocess, 12.0ms inference, 1.0ms postprocess per image at shape (1, 3, 608, 640)\n",
      "\n",
      "image 1/1 C:\\Users\\Mohit\\OneDrive\\Desktop\\BrainTumorDetectionYolov\\BrainTumorDetectionYolov9\\test\\images\\volume_158_slice_72_jpg.rf.ce47f9e477ebdc32bdb018c304404c99.jpg: 608x640 (no detections), 14.0ms\n",
      "Speed: 6.0ms preprocess, 14.0ms inference, 1.0ms postprocess per image at shape (1, 3, 608, 640)\n",
      "\n",
      "image 1/1 C:\\Users\\Mohit\\OneDrive\\Desktop\\BrainTumorDetectionYolov\\BrainTumorDetectionYolov9\\test\\images\\volume_15_slice_102_jpg.rf.3c7f1042abea52e7e13a1b9e7b633964.jpg: 608x640 1 label1, 15.7ms\n",
      "Speed: 6.0ms preprocess, 15.7ms inference, 4.0ms postprocess per image at shape (1, 3, 608, 640)\n",
      "\n",
      "image 1/1 C:\\Users\\Mohit\\OneDrive\\Desktop\\BrainTumorDetectionYolov\\BrainTumorDetectionYolov9\\test\\images\\volume_15_slice_99_jpg.rf.fcac2955b29b196147aea05ff11b066b.jpg: 608x640 1 label1, 13.0ms\n",
      "Speed: 7.0ms preprocess, 13.0ms inference, 6.0ms postprocess per image at shape (1, 3, 608, 640)\n",
      "\n",
      "image 1/1 C:\\Users\\Mohit\\OneDrive\\Desktop\\BrainTumorDetectionYolov\\BrainTumorDetectionYolov9\\test\\images\\volume_160_slice_100_jpg.rf.abc166bc9927b7c8e7407f0593c5cc75.jpg: 608x640 (no detections), 11.0ms\n",
      "Speed: 6.0ms preprocess, 11.0ms inference, 2.0ms postprocess per image at shape (1, 3, 608, 640)\n",
      "\n",
      "image 1/1 C:\\Users\\Mohit\\OneDrive\\Desktop\\BrainTumorDetectionYolov\\BrainTumorDetectionYolov9\\test\\images\\volume_160_slice_112_jpg.rf.d4742262e22dd9011ebcfda606952f1d.jpg: 608x640 (no detections), 13.0ms\n",
      "Speed: 6.0ms preprocess, 13.0ms inference, 1.0ms postprocess per image at shape (1, 3, 608, 640)\n",
      "\n",
      "image 1/1 C:\\Users\\Mohit\\OneDrive\\Desktop\\BrainTumorDetectionYolov\\BrainTumorDetectionYolov9\\test\\images\\volume_160_slice_119_jpg.rf.635c8e874da65dcc9ef9cbfab7cb8547.jpg: 608x640 (no detections), 14.0ms\n",
      "Speed: 7.0ms preprocess, 14.0ms inference, 1.0ms postprocess per image at shape (1, 3, 608, 640)\n",
      "\n",
      "image 1/1 C:\\Users\\Mohit\\OneDrive\\Desktop\\BrainTumorDetectionYolov\\BrainTumorDetectionYolov9\\test\\images\\volume_160_slice_43_jpg.rf.bfaebc7cb8a1f83873cf7c815ce72e0f.jpg: 608x640 (no detections), 19.0ms\n",
      "Speed: 6.0ms preprocess, 19.0ms inference, 1.0ms postprocess per image at shape (1, 3, 608, 640)\n",
      "\n",
      "image 1/1 C:\\Users\\Mohit\\OneDrive\\Desktop\\BrainTumorDetectionYolov\\BrainTumorDetectionYolov9\\test\\images\\volume_160_slice_55_jpg.rf.130a2bc342f4500b8ae4ad1a1c619b75.jpg: 608x640 (no detections), 14.0ms\n",
      "Speed: 6.0ms preprocess, 14.0ms inference, 2.0ms postprocess per image at shape (1, 3, 608, 640)\n",
      "\n",
      "image 1/1 C:\\Users\\Mohit\\OneDrive\\Desktop\\BrainTumorDetectionYolov\\BrainTumorDetectionYolov9\\test\\images\\volume_160_slice_57_jpg.rf.f7733ec5d7e073840f294be145c923bc.jpg: 608x640 (no detections), 24.1ms\n",
      "Speed: 6.0ms preprocess, 24.1ms inference, 1.0ms postprocess per image at shape (1, 3, 608, 640)\n",
      "\n",
      "image 1/1 C:\\Users\\Mohit\\OneDrive\\Desktop\\BrainTumorDetectionYolov\\BrainTumorDetectionYolov9\\test\\images\\volume_160_slice_62_jpg.rf.64e05bbaf3ced8aa9bf6b31c8649cbe0.jpg: 608x640 (no detections), 24.0ms\n",
      "Speed: 6.0ms preprocess, 24.0ms inference, 1.0ms postprocess per image at shape (1, 3, 608, 640)\n",
      "\n",
      "image 1/1 C:\\Users\\Mohit\\OneDrive\\Desktop\\BrainTumorDetectionYolov\\BrainTumorDetectionYolov9\\test\\images\\volume_160_slice_97_jpg.rf.05fad41980698dbc7674d595d8a12e33.jpg: 608x640 (no detections), 21.5ms\n",
      "Speed: 6.0ms preprocess, 21.5ms inference, 2.0ms postprocess per image at shape (1, 3, 608, 640)\n",
      "\n",
      "image 1/1 C:\\Users\\Mohit\\OneDrive\\Desktop\\BrainTumorDetectionYolov\\BrainTumorDetectionYolov9\\test\\images\\volume_161_slice_92_jpg.rf.4a9deee0b9bbf499151184d14b0cff25.jpg: 608x640 (no detections), 12.0ms\n",
      "Speed: 7.2ms preprocess, 12.0ms inference, 2.0ms postprocess per image at shape (1, 3, 608, 640)\n",
      "\n",
      "image 1/1 C:\\Users\\Mohit\\OneDrive\\Desktop\\BrainTumorDetectionYolov\\BrainTumorDetectionYolov9\\test\\images\\volume_162_slice_55_jpg.rf.171a642b2aeac326cf1fa0fa561db171.jpg: 608x640 (no detections), 11.0ms\n",
      "Speed: 6.0ms preprocess, 11.0ms inference, 1.0ms postprocess per image at shape (1, 3, 608, 640)\n",
      "\n",
      "image 1/1 C:\\Users\\Mohit\\OneDrive\\Desktop\\BrainTumorDetectionYolov\\BrainTumorDetectionYolov9\\test\\images\\volume_162_slice_77_jpg.rf.26a702e3e3be0ecfc1faf7f41ab88803.jpg: 608x640 (no detections), 16.0ms\n",
      "Speed: 7.3ms preprocess, 16.0ms inference, 1.0ms postprocess per image at shape (1, 3, 608, 640)\n",
      "\n",
      "image 1/1 C:\\Users\\Mohit\\OneDrive\\Desktop\\BrainTumorDetectionYolov\\BrainTumorDetectionYolov9\\test\\images\\volume_162_slice_79_jpg.rf.e28b845c71f3ee8354881073e9b8a64d.jpg: 608x640 (no detections), 26.9ms\n",
      "Speed: 6.0ms preprocess, 26.9ms inference, 2.0ms postprocess per image at shape (1, 3, 608, 640)\n",
      "\n",
      "image 1/1 C:\\Users\\Mohit\\OneDrive\\Desktop\\BrainTumorDetectionYolov\\BrainTumorDetectionYolov9\\test\\images\\volume_162_slice_95_jpg.rf.5434cb07d9db23f4d17c8d334bb81adf.jpg: 608x640 (no detections), 30.0ms\n",
      "Speed: 10.0ms preprocess, 30.0ms inference, 3.0ms postprocess per image at shape (1, 3, 608, 640)\n",
      "\n",
      "image 1/1 C:\\Users\\Mohit\\OneDrive\\Desktop\\BrainTumorDetectionYolov\\BrainTumorDetectionYolov9\\test\\images\\volume_163_slice_100_jpg.rf.98d0d8b64715490ee658b707b2b0d8fd.jpg: 608x640 (no detections), 14.4ms\n",
      "Speed: 9.9ms preprocess, 14.4ms inference, 1.9ms postprocess per image at shape (1, 3, 608, 640)\n",
      "\n",
      "image 1/1 C:\\Users\\Mohit\\OneDrive\\Desktop\\BrainTumorDetectionYolov\\BrainTumorDetectionYolov9\\test\\images\\volume_163_slice_111_jpg.rf.eb5b5b184bcfac3d880008b746b7490c.jpg: 608x640 (no detections), 26.0ms\n",
      "Speed: 6.9ms preprocess, 26.0ms inference, 2.0ms postprocess per image at shape (1, 3, 608, 640)\n",
      "\n",
      "image 1/1 C:\\Users\\Mohit\\OneDrive\\Desktop\\BrainTumorDetectionYolov\\BrainTumorDetectionYolov9\\test\\images\\volume_163_slice_84_jpg.rf.0e32ce44442dcfd78381d406d04b2e9a.jpg: 608x640 (no detections), 14.2ms\n",
      "Speed: 6.2ms preprocess, 14.2ms inference, 2.0ms postprocess per image at shape (1, 3, 608, 640)\n",
      "\n",
      "image 1/1 C:\\Users\\Mohit\\OneDrive\\Desktop\\BrainTumorDetectionYolov\\BrainTumorDetectionYolov9\\test\\images\\volume_163_slice_90_jpg.rf.e2538187a86bac291c31a8e9defe24fd.jpg: 608x640 (no detections), 12.0ms\n",
      "Speed: 6.0ms preprocess, 12.0ms inference, 1.0ms postprocess per image at shape (1, 3, 608, 640)\n",
      "\n",
      "image 1/1 C:\\Users\\Mohit\\OneDrive\\Desktop\\BrainTumorDetectionYolov\\BrainTumorDetectionYolov9\\test\\images\\volume_164_slice_100_jpg.rf.e091d9d2218c712879de5048131030ad.jpg: 608x640 (no detections), 11.9ms\n",
      "Speed: 7.0ms preprocess, 11.9ms inference, 1.0ms postprocess per image at shape (1, 3, 608, 640)\n",
      "\n",
      "image 1/1 C:\\Users\\Mohit\\OneDrive\\Desktop\\BrainTumorDetectionYolov\\BrainTumorDetectionYolov9\\test\\images\\volume_164_slice_103_jpg.rf.c014f181701b468ee31138f9a4979054.jpg: 608x640 1 label1, 15.0ms\n",
      "Speed: 7.4ms preprocess, 15.0ms inference, 2.5ms postprocess per image at shape (1, 3, 608, 640)\n",
      "\n",
      "image 1/1 C:\\Users\\Mohit\\OneDrive\\Desktop\\BrainTumorDetectionYolov\\BrainTumorDetectionYolov9\\test\\images\\volume_164_slice_112_jpg.rf.6ccd5307cee9617ccfd6304b47a48129.jpg: 608x640 (no detections), 31.1ms\n",
      "Speed: 7.0ms preprocess, 31.1ms inference, 2.0ms postprocess per image at shape (1, 3, 608, 640)\n",
      "\n",
      "image 1/1 C:\\Users\\Mohit\\OneDrive\\Desktop\\BrainTumorDetectionYolov\\BrainTumorDetectionYolov9\\test\\images\\volume_165_slice_111_jpg.rf.183f4adc9e329bb344143f026042d5fb.jpg: 608x640 (no detections), 17.9ms\n",
      "Speed: 7.1ms preprocess, 17.9ms inference, 1.0ms postprocess per image at shape (1, 3, 608, 640)\n",
      "\n",
      "image 1/1 C:\\Users\\Mohit\\OneDrive\\Desktop\\BrainTumorDetectionYolov\\BrainTumorDetectionYolov9\\test\\images\\volume_165_slice_115_jpg.rf.91034cc1eed1f6665d2029e305336376.jpg: 608x640 (no detections), 16.0ms\n",
      "Speed: 7.0ms preprocess, 16.0ms inference, 1.0ms postprocess per image at shape (1, 3, 608, 640)\n",
      "\n",
      "image 1/1 C:\\Users\\Mohit\\OneDrive\\Desktop\\BrainTumorDetectionYolov\\BrainTumorDetectionYolov9\\test\\images\\volume_165_slice_45_jpg.rf.2a6a2e7f0961d72dcbd1ece437a90e13.jpg: 608x640 (no detections), 13.1ms\n",
      "Speed: 6.0ms preprocess, 13.1ms inference, 2.0ms postprocess per image at shape (1, 3, 608, 640)\n",
      "\n",
      "image 1/1 C:\\Users\\Mohit\\OneDrive\\Desktop\\BrainTumorDetectionYolov\\BrainTumorDetectionYolov9\\test\\images\\volume_165_slice_96_jpg.rf.bf54e0ef70f38bb109b88602fd6d9683.jpg: 608x640 (no detections), 21.0ms\n",
      "Speed: 7.0ms preprocess, 21.0ms inference, 1.0ms postprocess per image at shape (1, 3, 608, 640)\n",
      "\n",
      "image 1/1 C:\\Users\\Mohit\\OneDrive\\Desktop\\BrainTumorDetectionYolov\\BrainTumorDetectionYolov9\\test\\images\\volume_166_slice_101_jpg.rf.98625ca13a4810058ff0f8d692ef5fc0.jpg: 608x640 (no detections), 11.0ms\n",
      "Speed: 7.0ms preprocess, 11.0ms inference, 1.0ms postprocess per image at shape (1, 3, 608, 640)\n",
      "\n",
      "image 1/1 C:\\Users\\Mohit\\OneDrive\\Desktop\\BrainTumorDetectionYolov\\BrainTumorDetectionYolov9\\test\\images\\volume_166_slice_111_jpg.rf.ecc1577c67f23a5619f6cbf6476082b2.jpg: 608x640 1 label1, 16.1ms\n",
      "Speed: 7.5ms preprocess, 16.1ms inference, 2.0ms postprocess per image at shape (1, 3, 608, 640)\n",
      "\n",
      "image 1/1 C:\\Users\\Mohit\\OneDrive\\Desktop\\BrainTumorDetectionYolov\\BrainTumorDetectionYolov9\\test\\images\\volume_166_slice_121_jpg.rf.87fa29377888205407a2d7c6ff5083c8.jpg: 608x640 (no detections), 14.0ms\n",
      "Speed: 6.0ms preprocess, 14.0ms inference, 1.0ms postprocess per image at shape (1, 3, 608, 640)\n",
      "\n",
      "image 1/1 C:\\Users\\Mohit\\OneDrive\\Desktop\\BrainTumorDetectionYolov\\BrainTumorDetectionYolov9\\test\\images\\volume_166_slice_37_jpg.rf.ae5fb418f9df7629a5fc98499b12a927.jpg: 608x640 (no detections), 15.0ms\n",
      "Speed: 6.0ms preprocess, 15.0ms inference, 1.0ms postprocess per image at shape (1, 3, 608, 640)\n",
      "\n",
      "image 1/1 C:\\Users\\Mohit\\OneDrive\\Desktop\\BrainTumorDetectionYolov\\BrainTumorDetectionYolov9\\test\\images\\volume_166_slice_53_jpg.rf.37398086d2bfc42a36e3bbf65316e3fe.jpg: 608x640 (no detections), 16.0ms\n",
      "Speed: 7.0ms preprocess, 16.0ms inference, 2.0ms postprocess per image at shape (1, 3, 608, 640)\n",
      "\n",
      "image 1/1 C:\\Users\\Mohit\\OneDrive\\Desktop\\BrainTumorDetectionYolov\\BrainTumorDetectionYolov9\\test\\images\\volume_166_slice_83_jpg.rf.10809eb5b79f331072957aaf1c24d5d7.jpg: 608x640 (no detections), 17.0ms\n",
      "Speed: 6.0ms preprocess, 17.0ms inference, 2.0ms postprocess per image at shape (1, 3, 608, 640)\n",
      "\n",
      "image 1/1 C:\\Users\\Mohit\\OneDrive\\Desktop\\BrainTumorDetectionYolov\\BrainTumorDetectionYolov9\\test\\images\\volume_166_slice_89_jpg.rf.f4b26385b36bd732f5ba753ae0cb82b3.jpg: 608x640 (no detections), 13.0ms\n",
      "Speed: 6.0ms preprocess, 13.0ms inference, 1.0ms postprocess per image at shape (1, 3, 608, 640)\n",
      "\n",
      "image 1/1 C:\\Users\\Mohit\\OneDrive\\Desktop\\BrainTumorDetectionYolov\\BrainTumorDetectionYolov9\\test\\images\\volume_166_slice_99_jpg.rf.e09a443621ca97cbfe765ac96dddb629.jpg: 608x640 (no detections), 13.0ms\n",
      "Speed: 6.1ms preprocess, 13.0ms inference, 1.0ms postprocess per image at shape (1, 3, 608, 640)\n",
      "\n",
      "image 1/1 C:\\Users\\Mohit\\OneDrive\\Desktop\\BrainTumorDetectionYolov\\BrainTumorDetectionYolov9\\test\\images\\volume_167_slice_86_jpg.rf.eee6f2c21235e4689cbbbdd03e66c155.jpg: 608x640 (no detections), 13.0ms\n",
      "Speed: 6.0ms preprocess, 13.0ms inference, 1.0ms postprocess per image at shape (1, 3, 608, 640)\n",
      "\n",
      "image 1/1 C:\\Users\\Mohit\\OneDrive\\Desktop\\BrainTumorDetectionYolov\\BrainTumorDetectionYolov9\\test\\images\\volume_168_slice_103_jpg.rf.c095a66b8638f5e2667d9b732fa06995.jpg: 608x640 (no detections), 17.0ms\n",
      "Speed: 7.0ms preprocess, 17.0ms inference, 1.0ms postprocess per image at shape (1, 3, 608, 640)\n",
      "\n",
      "image 1/1 C:\\Users\\Mohit\\OneDrive\\Desktop\\BrainTumorDetectionYolov\\BrainTumorDetectionYolov9\\test\\images\\volume_168_slice_107_jpg.rf.fb31f3cec928513905621cdc70247abb.jpg: 608x640 (no detections), 12.6ms\n",
      "Speed: 5.1ms preprocess, 12.6ms inference, 1.0ms postprocess per image at shape (1, 3, 608, 640)\n",
      "\n",
      "image 1/1 C:\\Users\\Mohit\\OneDrive\\Desktop\\BrainTumorDetectionYolov\\BrainTumorDetectionYolov9\\test\\images\\volume_169_slice_76_jpg.rf.dff648692878bf52691c735da047d83b.jpg: 608x640 (no detections), 16.0ms\n",
      "Speed: 10.0ms preprocess, 16.0ms inference, 2.0ms postprocess per image at shape (1, 3, 608, 640)\n",
      "\n",
      "image 1/1 C:\\Users\\Mohit\\OneDrive\\Desktop\\BrainTumorDetectionYolov\\BrainTumorDetectionYolov9\\test\\images\\volume_16_slice_58_jpg.rf.ef78f1c4b8b4376682b8953d9e483efa.jpg: 608x640 (no detections), 11.0ms\n",
      "Speed: 7.0ms preprocess, 11.0ms inference, 1.0ms postprocess per image at shape (1, 3, 608, 640)\n",
      "\n",
      "image 1/1 C:\\Users\\Mohit\\OneDrive\\Desktop\\BrainTumorDetectionYolov\\BrainTumorDetectionYolov9\\test\\images\\volume_170_slice_39_jpg.rf.0dd36bda35753689cce47ace40d3cbce.jpg: 608x640 (no detections), 12.0ms\n",
      "Speed: 8.0ms preprocess, 12.0ms inference, 1.0ms postprocess per image at shape (1, 3, 608, 640)\n",
      "\n",
      "image 1/1 C:\\Users\\Mohit\\OneDrive\\Desktop\\BrainTumorDetectionYolov\\BrainTumorDetectionYolov9\\test\\images\\volume_170_slice_60_jpg.rf.6b7f0f6d2c1371472b87f95c2480918b.jpg: 608x640 (no detections), 17.0ms\n",
      "Speed: 7.0ms preprocess, 17.0ms inference, 1.0ms postprocess per image at shape (1, 3, 608, 640)\n",
      "\n",
      "image 1/1 C:\\Users\\Mohit\\OneDrive\\Desktop\\BrainTumorDetectionYolov\\BrainTumorDetectionYolov9\\test\\images\\volume_171_slice_122_jpg.rf.53dcfad96d277b05bf902990ca0c38e2.jpg: 608x640 (no detections), 18.9ms\n",
      "Speed: 7.1ms preprocess, 18.9ms inference, 1.0ms postprocess per image at shape (1, 3, 608, 640)\n",
      "\n",
      "image 1/1 C:\\Users\\Mohit\\OneDrive\\Desktop\\BrainTumorDetectionYolov\\BrainTumorDetectionYolov9\\test\\images\\volume_171_slice_131_jpg.rf.7d969fb4f66677d498779328d95474f8.jpg: 608x640 (no detections), 14.5ms\n",
      "Speed: 7.0ms preprocess, 14.5ms inference, 2.0ms postprocess per image at shape (1, 3, 608, 640)\n",
      "\n",
      "image 1/1 C:\\Users\\Mohit\\OneDrive\\Desktop\\BrainTumorDetectionYolov\\BrainTumorDetectionYolov9\\test\\images\\volume_171_slice_55_jpg.rf.484af004c81583576b3483fc3ca445ab.jpg: 608x640 (no detections), 12.0ms\n",
      "Speed: 7.0ms preprocess, 12.0ms inference, 1.0ms postprocess per image at shape (1, 3, 608, 640)\n",
      "\n",
      "image 1/1 C:\\Users\\Mohit\\OneDrive\\Desktop\\BrainTumorDetectionYolov\\BrainTumorDetectionYolov9\\test\\images\\volume_171_slice_58_jpg.rf.7b8ad0a310ed0feb483bd8559bc13065.jpg: 608x640 (no detections), 12.6ms\n",
      "Speed: 6.4ms preprocess, 12.6ms inference, 1.0ms postprocess per image at shape (1, 3, 608, 640)\n",
      "\n",
      "image 1/1 C:\\Users\\Mohit\\OneDrive\\Desktop\\BrainTumorDetectionYolov\\BrainTumorDetectionYolov9\\test\\images\\volume_171_slice_72_jpg.rf.2303d258c009884ed25d79ffa5f04616.jpg: 608x640 (no detections), 19.0ms\n",
      "Speed: 6.0ms preprocess, 19.0ms inference, 2.1ms postprocess per image at shape (1, 3, 608, 640)\n",
      "\n",
      "image 1/1 C:\\Users\\Mohit\\OneDrive\\Desktop\\BrainTumorDetectionYolov\\BrainTumorDetectionYolov9\\test\\images\\volume_171_slice_73_jpg.rf.ee256fdb51f3d05bbf07e7fcac1e9ab6.jpg: 608x640 (no detections), 30.0ms\n",
      "Speed: 9.0ms preprocess, 30.0ms inference, 2.0ms postprocess per image at shape (1, 3, 608, 640)\n",
      "\n",
      "image 1/1 C:\\Users\\Mohit\\OneDrive\\Desktop\\BrainTumorDetectionYolov\\BrainTumorDetectionYolov9\\test\\images\\volume_171_slice_85_jpg.rf.bde1b29a9bafc1c3fb31a2f5a64411de.jpg: 608x640 (no detections), 28.9ms\n",
      "Speed: 10.1ms preprocess, 28.9ms inference, 3.0ms postprocess per image at shape (1, 3, 608, 640)\n",
      "\n",
      "image 1/1 C:\\Users\\Mohit\\OneDrive\\Desktop\\BrainTumorDetectionYolov\\BrainTumorDetectionYolov9\\test\\images\\volume_171_slice_93_jpg.rf.eb8a0ea7eb21845d5712e462355832af.jpg: 608x640 (no detections), 13.0ms\n",
      "Speed: 6.0ms preprocess, 13.0ms inference, 1.0ms postprocess per image at shape (1, 3, 608, 640)\n",
      "\n",
      "image 1/1 C:\\Users\\Mohit\\OneDrive\\Desktop\\BrainTumorDetectionYolov\\BrainTumorDetectionYolov9\\test\\images\\volume_172_slice_66_jpg.rf.563bdc6c8d503c0a767795cae48c6563.jpg: 608x640 (no detections), 13.0ms\n",
      "Speed: 7.0ms preprocess, 13.0ms inference, 1.0ms postprocess per image at shape (1, 3, 608, 640)\n",
      "\n",
      "image 1/1 C:\\Users\\Mohit\\OneDrive\\Desktop\\BrainTumorDetectionYolov\\BrainTumorDetectionYolov9\\test\\images\\volume_173_slice_125_jpg.rf.fe94a5efc54a40e24dee63dbf7cdf83c.jpg: 608x640 (no detections), 13.0ms\n",
      "Speed: 6.0ms preprocess, 13.0ms inference, 1.0ms postprocess per image at shape (1, 3, 608, 640)\n",
      "\n",
      "image 1/1 C:\\Users\\Mohit\\OneDrive\\Desktop\\BrainTumorDetectionYolov\\BrainTumorDetectionYolov9\\test\\images\\volume_173_slice_133_jpg.rf.6f928c9bb269ef65169d9ee4c0a9c94a.jpg: 608x640 (no detections), 14.0ms\n",
      "Speed: 6.0ms preprocess, 14.0ms inference, 1.0ms postprocess per image at shape (1, 3, 608, 640)\n",
      "\n",
      "image 1/1 C:\\Users\\Mohit\\OneDrive\\Desktop\\BrainTumorDetectionYolov\\BrainTumorDetectionYolov9\\test\\images\\volume_174_slice_128_jpg.rf.a8f67b8e6fac9c7b207005beafa2c07e.jpg: 608x640 (no detections), 23.0ms\n",
      "Speed: 6.7ms preprocess, 23.0ms inference, 2.0ms postprocess per image at shape (1, 3, 608, 640)\n",
      "\n",
      "image 1/1 C:\\Users\\Mohit\\OneDrive\\Desktop\\BrainTumorDetectionYolov\\BrainTumorDetectionYolov9\\test\\images\\volume_174_slice_64_jpg.rf.3e9ba62e15da4addbfe1023b24d27a96.jpg: 608x640 (no detections), 13.0ms\n",
      "Speed: 6.0ms preprocess, 13.0ms inference, 1.0ms postprocess per image at shape (1, 3, 608, 640)\n",
      "\n",
      "image 1/1 C:\\Users\\Mohit\\OneDrive\\Desktop\\BrainTumorDetectionYolov\\BrainTumorDetectionYolov9\\test\\images\\volume_174_slice_83_jpg.rf.a361b97f339296eef230cb046a0b7337.jpg: 608x640 (no detections), 16.0ms\n",
      "Speed: 7.0ms preprocess, 16.0ms inference, 2.0ms postprocess per image at shape (1, 3, 608, 640)\n",
      "\n",
      "image 1/1 C:\\Users\\Mohit\\OneDrive\\Desktop\\BrainTumorDetectionYolov\\BrainTumorDetectionYolov9\\test\\images\\volume_174_slice_88_jpg.rf.46bbb0ef1e7f0354fee19741091f17f9.jpg: 608x640 (no detections), 13.0ms\n",
      "Speed: 6.0ms preprocess, 13.0ms inference, 1.4ms postprocess per image at shape (1, 3, 608, 640)\n",
      "\n",
      "image 1/1 C:\\Users\\Mohit\\OneDrive\\Desktop\\BrainTumorDetectionYolov\\BrainTumorDetectionYolov9\\test\\images\\volume_174_slice_90_jpg.rf.7d1db5716477e509a06374013e208f33.jpg: 608x640 1 label1, 12.0ms\n",
      "Speed: 6.0ms preprocess, 12.0ms inference, 3.0ms postprocess per image at shape (1, 3, 608, 640)\n",
      "\n",
      "image 1/1 C:\\Users\\Mohit\\OneDrive\\Desktop\\BrainTumorDetectionYolov\\BrainTumorDetectionYolov9\\test\\images\\volume_175_slice_100_jpg.rf.88a81d7a5df2546248882c4852bcee09.jpg: 608x640 (no detections), 13.4ms\n",
      "Speed: 5.0ms preprocess, 13.4ms inference, 2.0ms postprocess per image at shape (1, 3, 608, 640)\n",
      "\n",
      "image 1/1 C:\\Users\\Mohit\\OneDrive\\Desktop\\BrainTumorDetectionYolov\\BrainTumorDetectionYolov9\\test\\images\\volume_175_slice_101_jpg.rf.b873023a55db11836956279498cbb2b8.jpg: 608x640 (no detections), 11.0ms\n",
      "Speed: 6.0ms preprocess, 11.0ms inference, 1.0ms postprocess per image at shape (1, 3, 608, 640)\n",
      "\n",
      "image 1/1 C:\\Users\\Mohit\\OneDrive\\Desktop\\BrainTumorDetectionYolov\\BrainTumorDetectionYolov9\\test\\images\\volume_175_slice_68_jpg.rf.994ddef164b1af8bc6507536ff7b1ecf.jpg: 608x640 (no detections), 12.0ms\n",
      "Speed: 7.0ms preprocess, 12.0ms inference, 1.0ms postprocess per image at shape (1, 3, 608, 640)\n",
      "\n",
      "image 1/1 C:\\Users\\Mohit\\OneDrive\\Desktop\\BrainTumorDetectionYolov\\BrainTumorDetectionYolov9\\test\\images\\volume_175_slice_78_jpg.rf.d681b01a93811829fe1cde0878b74ccb.jpg: 608x640 (no detections), 11.0ms\n",
      "Speed: 6.0ms preprocess, 11.0ms inference, 1.0ms postprocess per image at shape (1, 3, 608, 640)\n",
      "\n",
      "image 1/1 C:\\Users\\Mohit\\OneDrive\\Desktop\\BrainTumorDetectionYolov\\BrainTumorDetectionYolov9\\test\\images\\volume_175_slice_85_jpg.rf.f0de7043e4cf4e000c0590f843aadfc8.jpg: 608x640 (no detections), 11.0ms\n",
      "Speed: 5.3ms preprocess, 11.0ms inference, 2.0ms postprocess per image at shape (1, 3, 608, 640)\n",
      "\n",
      "image 1/1 C:\\Users\\Mohit\\OneDrive\\Desktop\\BrainTumorDetectionYolov\\BrainTumorDetectionYolov9\\test\\images\\volume_175_slice_89_jpg.rf.f007b1b454d752e63eb60a4e39eef0ee.jpg: 608x640 (no detections), 11.0ms\n",
      "Speed: 6.0ms preprocess, 11.0ms inference, 1.0ms postprocess per image at shape (1, 3, 608, 640)\n",
      "\n",
      "image 1/1 C:\\Users\\Mohit\\OneDrive\\Desktop\\BrainTumorDetectionYolov\\BrainTumorDetectionYolov9\\test\\images\\volume_175_slice_90_jpg.rf.b9622a5d00fac8d5f8bf2148b57617c2.jpg: 608x640 (no detections), 12.0ms\n",
      "Speed: 6.0ms preprocess, 12.0ms inference, 2.0ms postprocess per image at shape (1, 3, 608, 640)\n",
      "\n",
      "image 1/1 C:\\Users\\Mohit\\OneDrive\\Desktop\\BrainTumorDetectionYolov\\BrainTumorDetectionYolov9\\test\\images\\volume_176_slice_113_jpg.rf.965524be1d90ce1227185e86a859c5bc.jpg: 608x640 (no detections), 14.5ms\n",
      "Speed: 5.0ms preprocess, 14.5ms inference, 2.0ms postprocess per image at shape (1, 3, 608, 640)\n",
      "\n",
      "image 1/1 C:\\Users\\Mohit\\OneDrive\\Desktop\\BrainTumorDetectionYolov\\BrainTumorDetectionYolov9\\test\\images\\volume_176_slice_127_jpg.rf.a2ba8ca59a92226f19b37fbd9201d7c0.jpg: 608x640 (no detections), 13.4ms\n",
      "Speed: 7.0ms preprocess, 13.4ms inference, 1.0ms postprocess per image at shape (1, 3, 608, 640)\n",
      "\n",
      "image 1/1 C:\\Users\\Mohit\\OneDrive\\Desktop\\BrainTumorDetectionYolov\\BrainTumorDetectionYolov9\\test\\images\\volume_177_slice_64_jpg.rf.30f72c105ce0d325245ad5eb028b0bdd.jpg: 608x640 (no detections), 12.0ms\n",
      "Speed: 9.1ms preprocess, 12.0ms inference, 2.0ms postprocess per image at shape (1, 3, 608, 640)\n",
      "\n",
      "image 1/1 C:\\Users\\Mohit\\OneDrive\\Desktop\\BrainTumorDetectionYolov\\BrainTumorDetectionYolov9\\test\\images\\volume_178_slice_34_jpg.rf.02671ee118e9a8e95d01ec281ceb6305.jpg: 608x640 (no detections), 12.0ms\n",
      "Speed: 6.0ms preprocess, 12.0ms inference, 1.0ms postprocess per image at shape (1, 3, 608, 640)\n",
      "\n",
      "image 1/1 C:\\Users\\Mohit\\OneDrive\\Desktop\\BrainTumorDetectionYolov\\BrainTumorDetectionYolov9\\test\\images\\volume_178_slice_97_jpg.rf.2f2094593817dc1cc9d61becd17c2d09.jpg: 608x640 (no detections), 12.5ms\n",
      "Speed: 6.0ms preprocess, 12.5ms inference, 1.0ms postprocess per image at shape (1, 3, 608, 640)\n",
      "\n",
      "image 1/1 C:\\Users\\Mohit\\OneDrive\\Desktop\\BrainTumorDetectionYolov\\BrainTumorDetectionYolov9\\test\\images\\volume_179_slice_39_jpg.rf.5eea9f7828e41d204e023ccfda4e1ae9.jpg: 608x640 (no detections), 13.4ms\n",
      "Speed: 7.5ms preprocess, 13.4ms inference, 1.5ms postprocess per image at shape (1, 3, 608, 640)\n",
      "\n",
      "image 1/1 C:\\Users\\Mohit\\OneDrive\\Desktop\\BrainTumorDetectionYolov\\BrainTumorDetectionYolov9\\test\\images\\volume_179_slice_52_jpg.rf.f732a56dac73e65102af6f6d07301c8d.jpg: 608x640 (no detections), 12.0ms\n",
      "Speed: 6.0ms preprocess, 12.0ms inference, 1.0ms postprocess per image at shape (1, 3, 608, 640)\n",
      "\n",
      "image 1/1 C:\\Users\\Mohit\\OneDrive\\Desktop\\BrainTumorDetectionYolov\\BrainTumorDetectionYolov9\\test\\images\\volume_179_slice_82_jpg.rf.526d0260a1f4fc08ea7e104a788fe6f4.jpg: 608x640 (no detections), 17.1ms\n",
      "Speed: 6.0ms preprocess, 17.1ms inference, 2.0ms postprocess per image at shape (1, 3, 608, 640)\n",
      "\n",
      "image 1/1 C:\\Users\\Mohit\\OneDrive\\Desktop\\BrainTumorDetectionYolov\\BrainTumorDetectionYolov9\\test\\images\\volume_17_slice_45_jpg.rf.af29fb6eda49d55ce46c1e69cf27f3b1.jpg: 608x640 (no detections), 12.0ms\n",
      "Speed: 5.0ms preprocess, 12.0ms inference, 1.4ms postprocess per image at shape (1, 3, 608, 640)\n",
      "\n",
      "image 1/1 C:\\Users\\Mohit\\OneDrive\\Desktop\\BrainTumorDetectionYolov\\BrainTumorDetectionYolov9\\test\\images\\volume_17_slice_76_jpg.rf.ab17ba94fdb2f24e33791db3262a8b95.jpg: 608x640 1 label1, 13.0ms\n",
      "Speed: 7.0ms preprocess, 13.0ms inference, 3.0ms postprocess per image at shape (1, 3, 608, 640)\n",
      "\n",
      "image 1/1 C:\\Users\\Mohit\\OneDrive\\Desktop\\BrainTumorDetectionYolov\\BrainTumorDetectionYolov9\\test\\images\\volume_17_slice_89_jpg.rf.703d31ade0854e4307fd213a16b6a31d.jpg: 608x640 (no detections), 13.0ms\n",
      "Speed: 5.0ms preprocess, 13.0ms inference, 1.0ms postprocess per image at shape (1, 3, 608, 640)\n",
      "\n",
      "image 1/1 C:\\Users\\Mohit\\OneDrive\\Desktop\\BrainTumorDetectionYolov\\BrainTumorDetectionYolov9\\test\\images\\volume_17_slice_98_jpg.rf.e968f4bd58de9799cad57e177e6f2943.jpg: 608x640 (no detections), 14.0ms\n",
      "Speed: 6.0ms preprocess, 14.0ms inference, 1.0ms postprocess per image at shape (1, 3, 608, 640)\n",
      "\n",
      "image 1/1 C:\\Users\\Mohit\\OneDrive\\Desktop\\BrainTumorDetectionYolov\\BrainTumorDetectionYolov9\\test\\images\\volume_180_slice_105_jpg.rf.5afe69207dba2d6861d21987111c0837.jpg: 608x640 (no detections), 13.0ms\n",
      "Speed: 7.0ms preprocess, 13.0ms inference, 1.0ms postprocess per image at shape (1, 3, 608, 640)\n",
      "\n",
      "image 1/1 C:\\Users\\Mohit\\OneDrive\\Desktop\\BrainTumorDetectionYolov\\BrainTumorDetectionYolov9\\test\\images\\volume_180_slice_36_jpg.rf.0be68e2e887b7346749c328366bdcf96.jpg: 608x640 (no detections), 12.0ms\n",
      "Speed: 6.0ms preprocess, 12.0ms inference, 1.0ms postprocess per image at shape (1, 3, 608, 640)\n",
      "\n",
      "image 1/1 C:\\Users\\Mohit\\OneDrive\\Desktop\\BrainTumorDetectionYolov\\BrainTumorDetectionYolov9\\test\\images\\volume_180_slice_92_jpg.rf.58dcfaeb317d1ed6f3355a6ac2ee8aea.jpg: 608x640 (no detections), 12.0ms\n",
      "Speed: 5.0ms preprocess, 12.0ms inference, 1.0ms postprocess per image at shape (1, 3, 608, 640)\n",
      "\n",
      "image 1/1 C:\\Users\\Mohit\\OneDrive\\Desktop\\BrainTumorDetectionYolov\\BrainTumorDetectionYolov9\\test\\images\\volume_181_slice_104_jpg.rf.f9e518fa643d6fc79928baad2b140522.jpg: 608x640 (no detections), 12.0ms\n",
      "Speed: 6.0ms preprocess, 12.0ms inference, 1.0ms postprocess per image at shape (1, 3, 608, 640)\n",
      "\n",
      "image 1/1 C:\\Users\\Mohit\\OneDrive\\Desktop\\BrainTumorDetectionYolov\\BrainTumorDetectionYolov9\\test\\images\\volume_181_slice_48_jpg.rf.71bda67957cf8ed4e59b210b0436c5ea.jpg: 608x640 (no detections), 12.0ms\n",
      "Speed: 5.0ms preprocess, 12.0ms inference, 1.0ms postprocess per image at shape (1, 3, 608, 640)\n",
      "\n",
      "image 1/1 C:\\Users\\Mohit\\OneDrive\\Desktop\\BrainTumorDetectionYolov\\BrainTumorDetectionYolov9\\test\\images\\volume_181_slice_51_jpg.rf.c1534e421b34f711b19da650622c756b.jpg: 608x640 (no detections), 11.0ms\n",
      "Speed: 7.0ms preprocess, 11.0ms inference, 1.0ms postprocess per image at shape (1, 3, 608, 640)\n",
      "\n",
      "image 1/1 C:\\Users\\Mohit\\OneDrive\\Desktop\\BrainTumorDetectionYolov\\BrainTumorDetectionYolov9\\test\\images\\volume_181_slice_85_jpg.rf.a58950d1e61db3ead009713295d10ae2.jpg: 608x640 (no detections), 13.0ms\n",
      "Speed: 7.0ms preprocess, 13.0ms inference, 1.0ms postprocess per image at shape (1, 3, 608, 640)\n",
      "\n",
      "image 1/1 C:\\Users\\Mohit\\OneDrive\\Desktop\\BrainTumorDetectionYolov\\BrainTumorDetectionYolov9\\test\\images\\volume_182_slice_82_jpg.rf.eeac21ce7d15bc6854350553fcfbbc63.jpg: 608x640 (no detections), 13.5ms\n",
      "Speed: 6.0ms preprocess, 13.5ms inference, 1.0ms postprocess per image at shape (1, 3, 608, 640)\n",
      "\n",
      "image 1/1 C:\\Users\\Mohit\\OneDrive\\Desktop\\BrainTumorDetectionYolov\\BrainTumorDetectionYolov9\\test\\images\\volume_182_slice_99_jpg.rf.1a32b9fdd4622ec8898f0f2c676ff7de.jpg: 608x640 (no detections), 12.3ms\n",
      "Speed: 8.0ms preprocess, 12.3ms inference, 0.5ms postprocess per image at shape (1, 3, 608, 640)\n",
      "\n",
      "image 1/1 C:\\Users\\Mohit\\OneDrive\\Desktop\\BrainTumorDetectionYolov\\BrainTumorDetectionYolov9\\test\\images\\volume_183_slice_83_jpg.rf.560b66217f70503096cd143456c24957.jpg: 608x640 (no detections), 13.5ms\n",
      "Speed: 7.0ms preprocess, 13.5ms inference, 1.0ms postprocess per image at shape (1, 3, 608, 640)\n",
      "\n",
      "image 1/1 C:\\Users\\Mohit\\OneDrive\\Desktop\\BrainTumorDetectionYolov\\BrainTumorDetectionYolov9\\test\\images\\volume_183_slice_96_jpg.rf.578851c40d223a9306c9774279c84d25.jpg: 608x640 (no detections), 11.0ms\n",
      "Speed: 7.0ms preprocess, 11.0ms inference, 2.0ms postprocess per image at shape (1, 3, 608, 640)\n",
      "\n",
      "image 1/1 C:\\Users\\Mohit\\OneDrive\\Desktop\\BrainTumorDetectionYolov\\BrainTumorDetectionYolov9\\test\\images\\volume_184_slice_42_jpg.rf.fd66b3ba4af10f545e068657d0ec8055.jpg: 608x640 (no detections), 12.0ms\n",
      "Speed: 6.0ms preprocess, 12.0ms inference, 1.0ms postprocess per image at shape (1, 3, 608, 640)\n",
      "\n",
      "image 1/1 C:\\Users\\Mohit\\OneDrive\\Desktop\\BrainTumorDetectionYolov\\BrainTumorDetectionYolov9\\test\\images\\volume_184_slice_59_jpg.rf.bfbfaebf011981af2dd43d56b3dfe2c7.jpg: 608x640 (no detections), 15.0ms\n",
      "Speed: 7.0ms preprocess, 15.0ms inference, 1.0ms postprocess per image at shape (1, 3, 608, 640)\n",
      "\n",
      "image 1/1 C:\\Users\\Mohit\\OneDrive\\Desktop\\BrainTumorDetectionYolov\\BrainTumorDetectionYolov9\\test\\images\\volume_184_slice_77_jpg.rf.a28a161bc90ba24069202b8d3906b044.jpg: 608x640 (no detections), 12.0ms\n",
      "Speed: 6.0ms preprocess, 12.0ms inference, 1.0ms postprocess per image at shape (1, 3, 608, 640)\n",
      "\n",
      "image 1/1 C:\\Users\\Mohit\\OneDrive\\Desktop\\BrainTumorDetectionYolov\\BrainTumorDetectionYolov9\\test\\images\\volume_184_slice_80_jpg.rf.a538eaa9d56ec6b822ae52ec3f542708.jpg: 608x640 (no detections), 15.0ms\n",
      "Speed: 7.0ms preprocess, 15.0ms inference, 1.0ms postprocess per image at shape (1, 3, 608, 640)\n",
      "\n",
      "image 1/1 C:\\Users\\Mohit\\OneDrive\\Desktop\\BrainTumorDetectionYolov\\BrainTumorDetectionYolov9\\test\\images\\volume_185_slice_28_jpg.rf.0301a2fda86ecaf77939b17c22daf511.jpg: 608x640 (no detections), 12.0ms\n",
      "Speed: 6.0ms preprocess, 12.0ms inference, 1.0ms postprocess per image at shape (1, 3, 608, 640)\n",
      "\n",
      "image 1/1 C:\\Users\\Mohit\\OneDrive\\Desktop\\BrainTumorDetectionYolov\\BrainTumorDetectionYolov9\\test\\images\\volume_185_slice_64_jpg.rf.be61ed77fa1caaebc4faea0c8aae7544.jpg: 608x640 (no detections), 12.0ms\n",
      "Speed: 8.0ms preprocess, 12.0ms inference, 1.0ms postprocess per image at shape (1, 3, 608, 640)\n",
      "\n",
      "image 1/1 C:\\Users\\Mohit\\OneDrive\\Desktop\\BrainTumorDetectionYolov\\BrainTumorDetectionYolov9\\test\\images\\volume_185_slice_68_jpg.rf.a127c885529913bee4c373a28ec0d497.jpg: 608x640 (no detections), 13.0ms\n",
      "Speed: 7.0ms preprocess, 13.0ms inference, 1.0ms postprocess per image at shape (1, 3, 608, 640)\n",
      "\n",
      "image 1/1 C:\\Users\\Mohit\\OneDrive\\Desktop\\BrainTumorDetectionYolov\\BrainTumorDetectionYolov9\\test\\images\\volume_186_slice_52_jpg.rf.6b240b71ceb8cbbb05f31077d306d376.jpg: 608x640 (no detections), 12.0ms\n",
      "Speed: 6.0ms preprocess, 12.0ms inference, 1.0ms postprocess per image at shape (1, 3, 608, 640)\n",
      "\n",
      "image 1/1 C:\\Users\\Mohit\\OneDrive\\Desktop\\BrainTumorDetectionYolov\\BrainTumorDetectionYolov9\\test\\images\\volume_187_slice_108_jpg.rf.eb73bd5ec99aec9d7b3b7c6b83afd5d4.jpg: 608x640 (no detections), 13.0ms\n",
      "Speed: 5.0ms preprocess, 13.0ms inference, 1.0ms postprocess per image at shape (1, 3, 608, 640)\n",
      "\n",
      "image 1/1 C:\\Users\\Mohit\\OneDrive\\Desktop\\BrainTumorDetectionYolov\\BrainTumorDetectionYolov9\\test\\images\\volume_187_slice_129_jpg.rf.d326af65be2dbf2ff8da1911d26e18ce.jpg: 608x640 (no detections), 11.0ms\n",
      "Speed: 6.0ms preprocess, 11.0ms inference, 1.0ms postprocess per image at shape (1, 3, 608, 640)\n",
      "\n",
      "image 1/1 C:\\Users\\Mohit\\OneDrive\\Desktop\\BrainTumorDetectionYolov\\BrainTumorDetectionYolov9\\test\\images\\volume_187_slice_98_jpg.rf.ab5f8198b6e0802a3ddd1659f684ba8d.jpg: 608x640 1 label1, 14.0ms\n",
      "Speed: 7.0ms preprocess, 14.0ms inference, 3.0ms postprocess per image at shape (1, 3, 608, 640)\n",
      "\n",
      "image 1/1 C:\\Users\\Mohit\\OneDrive\\Desktop\\BrainTumorDetectionYolov\\BrainTumorDetectionYolov9\\test\\images\\volume_188_slice_65_jpg.rf.458b09ebaccdcac90f822672e45114d6.jpg: 608x640 (no detections), 13.0ms\n",
      "Speed: 7.1ms preprocess, 13.0ms inference, 1.0ms postprocess per image at shape (1, 3, 608, 640)\n",
      "\n",
      "image 1/1 C:\\Users\\Mohit\\OneDrive\\Desktop\\BrainTumorDetectionYolov\\BrainTumorDetectionYolov9\\test\\images\\volume_188_slice_96_jpg.rf.4f1ba93f77e7ddb4720c998b66e497a0.jpg: 608x640 (no detections), 12.0ms\n",
      "Speed: 6.0ms preprocess, 12.0ms inference, 2.0ms postprocess per image at shape (1, 3, 608, 640)\n",
      "\n",
      "image 1/1 C:\\Users\\Mohit\\OneDrive\\Desktop\\BrainTumorDetectionYolov\\BrainTumorDetectionYolov9\\test\\images\\volume_190_slice_46_jpg.rf.c97b67794b7f9ee8724da3f2ef31cce8.jpg: 608x640 (no detections), 16.5ms\n",
      "Speed: 6.0ms preprocess, 16.5ms inference, 1.0ms postprocess per image at shape (1, 3, 608, 640)\n",
      "\n",
      "image 1/1 C:\\Users\\Mohit\\OneDrive\\Desktop\\BrainTumorDetectionYolov\\BrainTumorDetectionYolov9\\test\\images\\volume_190_slice_64_jpg.rf.af95a034c51024cd529ad551f0417f39.jpg: 608x640 (no detections), 12.0ms\n",
      "Speed: 7.0ms preprocess, 12.0ms inference, 1.0ms postprocess per image at shape (1, 3, 608, 640)\n",
      "\n",
      "image 1/1 C:\\Users\\Mohit\\OneDrive\\Desktop\\BrainTumorDetectionYolov\\BrainTumorDetectionYolov9\\test\\images\\volume_190_slice_69_jpg.rf.a97f3f676626ad3e3936feaa0ba384e8.jpg: 608x640 (no detections), 17.0ms\n",
      "Speed: 6.0ms preprocess, 17.0ms inference, 1.0ms postprocess per image at shape (1, 3, 608, 640)\n",
      "\n",
      "image 1/1 C:\\Users\\Mohit\\OneDrive\\Desktop\\BrainTumorDetectionYolov\\BrainTumorDetectionYolov9\\test\\images\\volume_191_slice_101_jpg.rf.b79819a67d73268aea969ecbc693891c.jpg: 608x640 (no detections), 12.0ms\n",
      "Speed: 6.0ms preprocess, 12.0ms inference, 1.0ms postprocess per image at shape (1, 3, 608, 640)\n",
      "\n",
      "image 1/1 C:\\Users\\Mohit\\OneDrive\\Desktop\\BrainTumorDetectionYolov\\BrainTumorDetectionYolov9\\test\\images\\volume_191_slice_105_jpg.rf.480c64d95fd5cd251ec0d93d551f1b61.jpg: 608x640 (no detections), 13.0ms\n",
      "Speed: 6.0ms preprocess, 13.0ms inference, 1.0ms postprocess per image at shape (1, 3, 608, 640)\n",
      "\n",
      "image 1/1 C:\\Users\\Mohit\\OneDrive\\Desktop\\BrainTumorDetectionYolov\\BrainTumorDetectionYolov9\\test\\images\\volume_191_slice_109_jpg.rf.fb98a95f7a931460a1cd3611cbf3853b.jpg: 608x640 (no detections), 14.0ms\n",
      "Speed: 9.0ms preprocess, 14.0ms inference, 1.0ms postprocess per image at shape (1, 3, 608, 640)\n",
      "\n",
      "image 1/1 C:\\Users\\Mohit\\OneDrive\\Desktop\\BrainTumorDetectionYolov\\BrainTumorDetectionYolov9\\test\\images\\volume_191_slice_73_jpg.rf.cc3d341494e7dc3caab9a60dcb32c05f.jpg: 608x640 (no detections), 12.0ms\n",
      "Speed: 7.0ms preprocess, 12.0ms inference, 1.0ms postprocess per image at shape (1, 3, 608, 640)\n",
      "\n",
      "image 1/1 C:\\Users\\Mohit\\OneDrive\\Desktop\\BrainTumorDetectionYolov\\BrainTumorDetectionYolov9\\test\\images\\volume_191_slice_92_jpg.rf.5637dfb7325dd905d87606434c1a70db.jpg: 608x640 (no detections), 14.1ms\n",
      "Speed: 7.0ms preprocess, 14.1ms inference, 1.0ms postprocess per image at shape (1, 3, 608, 640)\n",
      "\n",
      "image 1/1 C:\\Users\\Mohit\\OneDrive\\Desktop\\BrainTumorDetectionYolov\\BrainTumorDetectionYolov9\\test\\images\\volume_192_slice_54_jpg.rf.3a2b9816a9ad93cda591f6a26f80535c.jpg: 608x640 (no detections), 12.0ms\n",
      "Speed: 7.0ms preprocess, 12.0ms inference, 2.0ms postprocess per image at shape (1, 3, 608, 640)\n",
      "\n",
      "image 1/1 C:\\Users\\Mohit\\OneDrive\\Desktop\\BrainTumorDetectionYolov\\BrainTumorDetectionYolov9\\test\\images\\volume_192_slice_60_jpg.rf.8c417661333192a49ca3a75cc00c8415.jpg: 608x640 (no detections), 20.0ms\n",
      "Speed: 10.0ms preprocess, 20.0ms inference, 1.0ms postprocess per image at shape (1, 3, 608, 640)\n",
      "\n",
      "image 1/1 C:\\Users\\Mohit\\OneDrive\\Desktop\\BrainTumorDetectionYolov\\BrainTumorDetectionYolov9\\test\\images\\volume_192_slice_61_jpg.rf.43ed0bbd0426c87b24a6dfb39fa7d36c.jpg: 608x640 (no detections), 13.0ms\n",
      "Speed: 6.0ms preprocess, 13.0ms inference, 1.0ms postprocess per image at shape (1, 3, 608, 640)\n",
      "\n",
      "image 1/1 C:\\Users\\Mohit\\OneDrive\\Desktop\\BrainTumorDetectionYolov\\BrainTumorDetectionYolov9\\test\\images\\volume_193_slice_129_jpg.rf.ad6790ec05f43e8328a15db09c9189d2.jpg: 608x640 (no detections), 12.0ms\n",
      "Speed: 7.0ms preprocess, 12.0ms inference, 1.0ms postprocess per image at shape (1, 3, 608, 640)\n",
      "\n",
      "image 1/1 C:\\Users\\Mohit\\OneDrive\\Desktop\\BrainTumorDetectionYolov\\BrainTumorDetectionYolov9\\test\\images\\volume_194_slice_39_jpg.rf.cf5974873bcec2d8c36e9f094db60c33.jpg: 608x640 (no detections), 20.5ms\n",
      "Speed: 6.0ms preprocess, 20.5ms inference, 2.0ms postprocess per image at shape (1, 3, 608, 640)\n",
      "\n",
      "image 1/1 C:\\Users\\Mohit\\OneDrive\\Desktop\\BrainTumorDetectionYolov\\BrainTumorDetectionYolov9\\test\\images\\volume_194_slice_60_jpg.rf.51640b5c60d4f4c87980c2f0c11f56c6.jpg: 608x640 (no detections), 13.0ms\n",
      "Speed: 9.0ms preprocess, 13.0ms inference, 1.0ms postprocess per image at shape (1, 3, 608, 640)\n",
      "\n",
      "image 1/1 C:\\Users\\Mohit\\OneDrive\\Desktop\\BrainTumorDetectionYolov\\BrainTumorDetectionYolov9\\test\\images\\volume_194_slice_69_jpg.rf.0cc29875899f5ace92fb56dc971ccf03.jpg: 608x640 (no detections), 12.8ms\n",
      "Speed: 7.0ms preprocess, 12.8ms inference, 1.0ms postprocess per image at shape (1, 3, 608, 640)\n",
      "\n",
      "image 1/1 C:\\Users\\Mohit\\OneDrive\\Desktop\\BrainTumorDetectionYolov\\BrainTumorDetectionYolov9\\test\\images\\volume_195_slice_48_jpg.rf.79c380c1cb7c6a64e27251cef0a3bc2b.jpg: 608x640 (no detections), 13.0ms\n",
      "Speed: 7.0ms preprocess, 13.0ms inference, 1.0ms postprocess per image at shape (1, 3, 608, 640)\n",
      "\n",
      "image 1/1 C:\\Users\\Mohit\\OneDrive\\Desktop\\BrainTumorDetectionYolov\\BrainTumorDetectionYolov9\\test\\images\\volume_196_slice_86_jpg.rf.8328050f0f33d4b9a8327d16085ad06f.jpg: 608x640 (no detections), 14.3ms\n",
      "Speed: 6.5ms preprocess, 14.3ms inference, 1.0ms postprocess per image at shape (1, 3, 608, 640)\n",
      "\n",
      "image 1/1 C:\\Users\\Mohit\\OneDrive\\Desktop\\BrainTumorDetectionYolov\\BrainTumorDetectionYolov9\\test\\images\\volume_196_slice_92_jpg.rf.97fbee5828d37972ba817d2c8de9ba33.jpg: 608x640 (no detections), 12.0ms\n",
      "Speed: 6.4ms preprocess, 12.0ms inference, 2.0ms postprocess per image at shape (1, 3, 608, 640)\n",
      "\n",
      "image 1/1 C:\\Users\\Mohit\\OneDrive\\Desktop\\BrainTumorDetectionYolov\\BrainTumorDetectionYolov9\\test\\images\\volume_197_slice_110_jpg.rf.ea3fac6171136375f90b9cf4cb943a90.jpg: 608x640 (no detections), 13.0ms\n",
      "Speed: 6.0ms preprocess, 13.0ms inference, 1.0ms postprocess per image at shape (1, 3, 608, 640)\n",
      "\n",
      "image 1/1 C:\\Users\\Mohit\\OneDrive\\Desktop\\BrainTumorDetectionYolov\\BrainTumorDetectionYolov9\\test\\images\\volume_197_slice_67_jpg.rf.3fca4e16eac077d24ba74380ddcf68ba.jpg: 608x640 (no detections), 14.0ms\n",
      "Speed: 6.0ms preprocess, 14.0ms inference, 1.0ms postprocess per image at shape (1, 3, 608, 640)\n",
      "\n",
      "image 1/1 C:\\Users\\Mohit\\OneDrive\\Desktop\\BrainTumorDetectionYolov\\BrainTumorDetectionYolov9\\test\\images\\volume_197_slice_92_jpg.rf.44c396abdd0b221af72344de5f584612.jpg: 608x640 1 label1, 11.0ms\n",
      "Speed: 7.0ms preprocess, 11.0ms inference, 3.0ms postprocess per image at shape (1, 3, 608, 640)\n",
      "\n",
      "image 1/1 C:\\Users\\Mohit\\OneDrive\\Desktop\\BrainTumorDetectionYolov\\BrainTumorDetectionYolov9\\test\\images\\volume_198_slice_64_jpg.rf.10576514766f59bda587df041495956a.jpg: 608x640 (no detections), 12.0ms\n",
      "Speed: 7.0ms preprocess, 12.0ms inference, 1.0ms postprocess per image at shape (1, 3, 608, 640)\n",
      "\n",
      "image 1/1 C:\\Users\\Mohit\\OneDrive\\Desktop\\BrainTumorDetectionYolov\\BrainTumorDetectionYolov9\\test\\images\\volume_198_slice_67_jpg.rf.944dabeb2e9a2c42152dc39031c3df82.jpg: 608x640 (no detections), 13.1ms\n",
      "Speed: 7.0ms preprocess, 13.1ms inference, 2.0ms postprocess per image at shape (1, 3, 608, 640)\n",
      "\n",
      "image 1/1 C:\\Users\\Mohit\\OneDrive\\Desktop\\BrainTumorDetectionYolov\\BrainTumorDetectionYolov9\\test\\images\\volume_198_slice_82_jpg.rf.745ccd616e62089fea3b2ad584e908f6.jpg: 608x640 (no detections), 14.0ms\n",
      "Speed: 6.0ms preprocess, 14.0ms inference, 1.0ms postprocess per image at shape (1, 3, 608, 640)\n",
      "\n",
      "image 1/1 C:\\Users\\Mohit\\OneDrive\\Desktop\\BrainTumorDetectionYolov\\BrainTumorDetectionYolov9\\test\\images\\volume_199_slice_121_jpg.rf.affa39929cfd53bf5474266b69ca1989.jpg: 608x640 (no detections), 20.0ms\n",
      "Speed: 7.0ms preprocess, 20.0ms inference, 2.0ms postprocess per image at shape (1, 3, 608, 640)\n",
      "\n",
      "image 1/1 C:\\Users\\Mohit\\OneDrive\\Desktop\\BrainTumorDetectionYolov\\BrainTumorDetectionYolov9\\test\\images\\volume_199_slice_80_jpg.rf.dc213397ee057866cee15f755ff5adba.jpg: 608x640 (no detections), 12.0ms\n",
      "Speed: 6.0ms preprocess, 12.0ms inference, 2.0ms postprocess per image at shape (1, 3, 608, 640)\n",
      "\n",
      "image 1/1 C:\\Users\\Mohit\\OneDrive\\Desktop\\BrainTumorDetectionYolov\\BrainTumorDetectionYolov9\\test\\images\\volume_199_slice_86_jpg.rf.68ed741d8618d5bd1cc4a42c49225633.jpg: 608x640 (no detections), 12.0ms\n",
      "Speed: 6.0ms preprocess, 12.0ms inference, 1.0ms postprocess per image at shape (1, 3, 608, 640)\n",
      "\n",
      "image 1/1 C:\\Users\\Mohit\\OneDrive\\Desktop\\BrainTumorDetectionYolov\\BrainTumorDetectionYolov9\\test\\images\\volume_199_slice_97_jpg.rf.5171bd4d0476ab8affceb8a7f8921c9c.jpg: 608x640 1 label1, 12.0ms\n",
      "Speed: 7.0ms preprocess, 12.0ms inference, 3.0ms postprocess per image at shape (1, 3, 608, 640)\n",
      "\n",
      "image 1/1 C:\\Users\\Mohit\\OneDrive\\Desktop\\BrainTumorDetectionYolov\\BrainTumorDetectionYolov9\\test\\images\\volume_1_slice_100_jpg.rf.ede22f04cdff52f80737eaec905f3c15.jpg: 608x640 (no detections), 16.0ms\n",
      "Speed: 9.0ms preprocess, 16.0ms inference, 1.0ms postprocess per image at shape (1, 3, 608, 640)\n",
      "\n",
      "image 1/1 C:\\Users\\Mohit\\OneDrive\\Desktop\\BrainTumorDetectionYolov\\BrainTumorDetectionYolov9\\test\\images\\volume_1_slice_103_jpg.rf.8c572e85e2a3f5d3039868021577e80b.jpg: 608x640 (no detections), 17.0ms\n",
      "Speed: 6.0ms preprocess, 17.0ms inference, 1.0ms postprocess per image at shape (1, 3, 608, 640)\n",
      "\n",
      "image 1/1 C:\\Users\\Mohit\\OneDrive\\Desktop\\BrainTumorDetectionYolov\\BrainTumorDetectionYolov9\\test\\images\\volume_200_slice_48_jpg.rf.632d189303c75a47ca456bcb7c55ff4e.jpg: 608x640 (no detections), 15.0ms\n",
      "Speed: 6.0ms preprocess, 15.0ms inference, 1.0ms postprocess per image at shape (1, 3, 608, 640)\n",
      "\n",
      "image 1/1 C:\\Users\\Mohit\\OneDrive\\Desktop\\BrainTumorDetectionYolov\\BrainTumorDetectionYolov9\\test\\images\\volume_200_slice_80_jpg.rf.706b3f834a8351cadda737f619dd4b3b.jpg: 608x640 (no detections), 12.0ms\n",
      "Speed: 7.0ms preprocess, 12.0ms inference, 2.0ms postprocess per image at shape (1, 3, 608, 640)\n",
      "\n",
      "image 1/1 C:\\Users\\Mohit\\OneDrive\\Desktop\\BrainTumorDetectionYolov\\BrainTumorDetectionYolov9\\test\\images\\volume_200_slice_81_jpg.rf.bf0bb6256acb1759a7a95a5450ab5204.jpg: 608x640 (no detections), 11.9ms\n",
      "Speed: 8.0ms preprocess, 11.9ms inference, 1.0ms postprocess per image at shape (1, 3, 608, 640)\n",
      "\n",
      "image 1/1 C:\\Users\\Mohit\\OneDrive\\Desktop\\BrainTumorDetectionYolov\\BrainTumorDetectionYolov9\\test\\images\\volume_201_slice_113_jpg.rf.adcb00ffb24d6ceba6c3ae6931083175.jpg: 608x640 1 label1, 17.0ms\n",
      "Speed: 6.0ms preprocess, 17.0ms inference, 3.0ms postprocess per image at shape (1, 3, 608, 640)\n",
      "\n",
      "image 1/1 C:\\Users\\Mohit\\OneDrive\\Desktop\\BrainTumorDetectionYolov\\BrainTumorDetectionYolov9\\test\\images\\volume_201_slice_127_jpg.rf.610e06b600e63ec1a03c8a2f13a63668.jpg: 608x640 (no detections), 27.1ms\n",
      "Speed: 6.0ms preprocess, 27.1ms inference, 1.0ms postprocess per image at shape (1, 3, 608, 640)\n",
      "\n",
      "image 1/1 C:\\Users\\Mohit\\OneDrive\\Desktop\\BrainTumorDetectionYolov\\BrainTumorDetectionYolov9\\test\\images\\volume_201_slice_132_jpg.rf.33fc08fe79f65db997e909b55d3faf70.jpg: 608x640 (no detections), 13.0ms\n",
      "Speed: 7.0ms preprocess, 13.0ms inference, 2.0ms postprocess per image at shape (1, 3, 608, 640)\n",
      "\n",
      "image 1/1 C:\\Users\\Mohit\\OneDrive\\Desktop\\BrainTumorDetectionYolov\\BrainTumorDetectionYolov9\\test\\images\\volume_201_slice_67_jpg.rf.a67543077b54dcaea40dd774618ab16c.jpg: 608x640 1 label1, 27.1ms\n",
      "Speed: 6.0ms preprocess, 27.1ms inference, 41.1ms postprocess per image at shape (1, 3, 608, 640)\n",
      "\n",
      "image 1/1 C:\\Users\\Mohit\\OneDrive\\Desktop\\BrainTumorDetectionYolov\\BrainTumorDetectionYolov9\\test\\images\\volume_201_slice_78_jpg.rf.2a945445572cefe6f0cc1811e4c96cf3.jpg: 608x640 (no detections), 30.0ms\n",
      "Speed: 6.0ms preprocess, 30.0ms inference, 2.0ms postprocess per image at shape (1, 3, 608, 640)\n",
      "\n",
      "image 1/1 C:\\Users\\Mohit\\OneDrive\\Desktop\\BrainTumorDetectionYolov\\BrainTumorDetectionYolov9\\test\\images\\volume_202_slice_63_jpg.rf.265d5caab26cc25ed65e002fac5b9bde.jpg: 608x640 (no detections), 31.0ms\n",
      "Speed: 10.0ms preprocess, 31.0ms inference, 2.3ms postprocess per image at shape (1, 3, 608, 640)\n",
      "\n",
      "image 1/1 C:\\Users\\Mohit\\OneDrive\\Desktop\\BrainTumorDetectionYolov\\BrainTumorDetectionYolov9\\test\\images\\volume_202_slice_75_jpg.rf.a18c5d1b28934a4ad12f2e09bc47ecd5.jpg: 608x640 1 label1, 17.0ms\n",
      "Speed: 7.0ms preprocess, 17.0ms inference, 3.0ms postprocess per image at shape (1, 3, 608, 640)\n",
      "\n",
      "image 1/1 C:\\Users\\Mohit\\OneDrive\\Desktop\\BrainTumorDetectionYolov\\BrainTumorDetectionYolov9\\test\\images\\volume_203_slice_36_jpg.rf.f1b702c211dc3b6ac5a15a1e47387248.jpg: 608x640 (no detections), 14.0ms\n",
      "Speed: 7.0ms preprocess, 14.0ms inference, 1.0ms postprocess per image at shape (1, 3, 608, 640)\n",
      "\n",
      "image 1/1 C:\\Users\\Mohit\\OneDrive\\Desktop\\BrainTumorDetectionYolov\\BrainTumorDetectionYolov9\\test\\images\\volume_203_slice_75_jpg.rf.549b108d8ba74e48b2da933ecdc1a3ef.jpg: 608x640 (no detections), 13.0ms\n",
      "Speed: 7.0ms preprocess, 13.0ms inference, 1.0ms postprocess per image at shape (1, 3, 608, 640)\n",
      "\n",
      "image 1/1 C:\\Users\\Mohit\\OneDrive\\Desktop\\BrainTumorDetectionYolov\\BrainTumorDetectionYolov9\\test\\images\\volume_203_slice_79_jpg.rf.6cfc777721ce94c6d668c433688dd198.jpg: 608x640 (no detections), 12.0ms\n",
      "Speed: 5.0ms preprocess, 12.0ms inference, 1.0ms postprocess per image at shape (1, 3, 608, 640)\n",
      "\n",
      "image 1/1 C:\\Users\\Mohit\\OneDrive\\Desktop\\BrainTumorDetectionYolov\\BrainTumorDetectionYolov9\\test\\images\\volume_203_slice_81_jpg.rf.7c2097d52be8462f4818f2784bd9d431.jpg: 608x640 (no detections), 13.2ms\n",
      "Speed: 7.0ms preprocess, 13.2ms inference, 1.0ms postprocess per image at shape (1, 3, 608, 640)\n",
      "\n",
      "image 1/1 C:\\Users\\Mohit\\OneDrive\\Desktop\\BrainTumorDetectionYolov\\BrainTumorDetectionYolov9\\test\\images\\volume_203_slice_88_jpg.rf.486e4ddbfd7764e9c45c53b21068b784.jpg: 608x640 (no detections), 12.2ms\n",
      "Speed: 6.0ms preprocess, 12.2ms inference, 1.0ms postprocess per image at shape (1, 3, 608, 640)\n",
      "\n",
      "image 1/1 C:\\Users\\Mohit\\OneDrive\\Desktop\\BrainTumorDetectionYolov\\BrainTumorDetectionYolov9\\test\\images\\volume_204_slice_41_jpg.rf.a42c05df12dacb51f13a31e151f6f0a3.jpg: 608x640 (no detections), 17.0ms\n",
      "Speed: 6.0ms preprocess, 17.0ms inference, 2.0ms postprocess per image at shape (1, 3, 608, 640)\n",
      "\n",
      "image 1/1 C:\\Users\\Mohit\\OneDrive\\Desktop\\BrainTumorDetectionYolov\\BrainTumorDetectionYolov9\\test\\images\\volume_205_slice_100_jpg.rf.570ff7f2ef5c7f39396a609ce06ed964.jpg: 608x640 (no detections), 13.0ms\n",
      "Speed: 7.0ms preprocess, 13.0ms inference, 1.0ms postprocess per image at shape (1, 3, 608, 640)\n",
      "\n",
      "image 1/1 C:\\Users\\Mohit\\OneDrive\\Desktop\\BrainTumorDetectionYolov\\BrainTumorDetectionYolov9\\test\\images\\volume_205_slice_111_jpg.rf.77daaa26318e0a2d1f37e5224fdd3ca9.jpg: 608x640 (no detections), 13.4ms\n",
      "Speed: 6.0ms preprocess, 13.4ms inference, 1.0ms postprocess per image at shape (1, 3, 608, 640)\n",
      "\n",
      "image 1/1 C:\\Users\\Mohit\\OneDrive\\Desktop\\BrainTumorDetectionYolov\\BrainTumorDetectionYolov9\\test\\images\\volume_205_slice_84_jpg.rf.4457d960fd6beffea475fa1c378d09ff.jpg: 608x640 (no detections), 14.0ms\n",
      "Speed: 6.0ms preprocess, 14.0ms inference, 1.0ms postprocess per image at shape (1, 3, 608, 640)\n",
      "\n",
      "image 1/1 C:\\Users\\Mohit\\OneDrive\\Desktop\\BrainTumorDetectionYolov\\BrainTumorDetectionYolov9\\test\\images\\volume_205_slice_87_jpg.rf.3e1d40c06f07ee9f1825851633c302a1.jpg: 608x640 (no detections), 12.5ms\n",
      "Speed: 7.0ms preprocess, 12.5ms inference, 1.0ms postprocess per image at shape (1, 3, 608, 640)\n",
      "\n",
      "image 1/1 C:\\Users\\Mohit\\OneDrive\\Desktop\\BrainTumorDetectionYolov\\BrainTumorDetectionYolov9\\test\\images\\volume_205_slice_95_jpg.rf.2204ea754b418a6643982e39d6e2234e.jpg: 608x640 (no detections), 12.0ms\n",
      "Speed: 6.0ms preprocess, 12.0ms inference, 1.0ms postprocess per image at shape (1, 3, 608, 640)\n",
      "\n",
      "image 1/1 C:\\Users\\Mohit\\OneDrive\\Desktop\\BrainTumorDetectionYolov\\BrainTumorDetectionYolov9\\test\\images\\volume_205_slice_96_jpg.rf.16130bad0ba809a0d2e391171445a829.jpg: 608x640 (no detections), 12.0ms\n",
      "Speed: 6.0ms preprocess, 12.0ms inference, 1.0ms postprocess per image at shape (1, 3, 608, 640)\n",
      "\n",
      "image 1/1 C:\\Users\\Mohit\\OneDrive\\Desktop\\BrainTumorDetectionYolov\\BrainTumorDetectionYolov9\\test\\images\\volume_206_slice_75_jpg.rf.1c5a71e299fdcecd590c86a5f41498cf.jpg: 608x640 (no detections), 14.0ms\n",
      "Speed: 6.0ms preprocess, 14.0ms inference, 1.0ms postprocess per image at shape (1, 3, 608, 640)\n",
      "\n",
      "image 1/1 C:\\Users\\Mohit\\OneDrive\\Desktop\\BrainTumorDetectionYolov\\BrainTumorDetectionYolov9\\test\\images\\volume_206_slice_82_jpg.rf.dce1b6dd473cf10634336021eb82a2c3.jpg: 608x640 (no detections), 16.5ms\n",
      "Speed: 6.0ms preprocess, 16.5ms inference, 1.0ms postprocess per image at shape (1, 3, 608, 640)\n",
      "\n",
      "image 1/1 C:\\Users\\Mohit\\OneDrive\\Desktop\\BrainTumorDetectionYolov\\BrainTumorDetectionYolov9\\test\\images\\volume_207_slice_63_jpg.rf.2df63a5f1e438c7161b0c015be5ff3ee.jpg: 608x640 (no detections), 11.0ms\n",
      "Speed: 7.0ms preprocess, 11.0ms inference, 1.0ms postprocess per image at shape (1, 3, 608, 640)\n",
      "\n",
      "image 1/1 C:\\Users\\Mohit\\OneDrive\\Desktop\\BrainTumorDetectionYolov\\BrainTumorDetectionYolov9\\test\\images\\volume_207_slice_68_jpg.rf.6c09fc37afa59e5ea8ae069f226be2ad.jpg: 608x640 (no detections), 10.9ms\n",
      "Speed: 7.1ms preprocess, 10.9ms inference, 1.0ms postprocess per image at shape (1, 3, 608, 640)\n",
      "\n",
      "image 1/1 C:\\Users\\Mohit\\OneDrive\\Desktop\\BrainTumorDetectionYolov\\BrainTumorDetectionYolov9\\test\\images\\volume_207_slice_71_jpg.rf.e28998fb983c5855e3bca1fb606c553f.jpg: 608x640 (no detections), 11.0ms\n",
      "Speed: 6.0ms preprocess, 11.0ms inference, 1.0ms postprocess per image at shape (1, 3, 608, 640)\n",
      "\n",
      "image 1/1 C:\\Users\\Mohit\\OneDrive\\Desktop\\BrainTumorDetectionYolov\\BrainTumorDetectionYolov9\\test\\images\\volume_207_slice_82_jpg.rf.77002cbe03c2e900150f5d71eaca740e.jpg: 608x640 (no detections), 12.0ms\n",
      "Speed: 5.0ms preprocess, 12.0ms inference, 1.0ms postprocess per image at shape (1, 3, 608, 640)\n",
      "\n",
      "image 1/1 C:\\Users\\Mohit\\OneDrive\\Desktop\\BrainTumorDetectionYolov\\BrainTumorDetectionYolov9\\test\\images\\volume_208_slice_103_jpg.rf.739337163530f27401ad0bbfcca186c4.jpg: 608x640 (no detections), 12.0ms\n",
      "Speed: 7.0ms preprocess, 12.0ms inference, 1.0ms postprocess per image at shape (1, 3, 608, 640)\n",
      "\n",
      "image 1/1 C:\\Users\\Mohit\\OneDrive\\Desktop\\BrainTumorDetectionYolov\\BrainTumorDetectionYolov9\\test\\images\\volume_208_slice_128_jpg.rf.2a5dc1c7b216522caadc0ce2a4b375e2.jpg: 608x640 (no detections), 12.0ms\n",
      "Speed: 6.0ms preprocess, 12.0ms inference, 1.0ms postprocess per image at shape (1, 3, 608, 640)\n",
      "\n",
      "image 1/1 C:\\Users\\Mohit\\OneDrive\\Desktop\\BrainTumorDetectionYolov\\BrainTumorDetectionYolov9\\test\\images\\volume_208_slice_47_jpg.rf.1a30031f613942460c19500b559fb066.jpg: 608x640 (no detections), 12.0ms\n",
      "Speed: 7.0ms preprocess, 12.0ms inference, 1.0ms postprocess per image at shape (1, 3, 608, 640)\n",
      "\n",
      "image 1/1 C:\\Users\\Mohit\\OneDrive\\Desktop\\BrainTumorDetectionYolov\\BrainTumorDetectionYolov9\\test\\images\\volume_208_slice_57_jpg.rf.795bbdbffdb0c7f3014801b8c145d5ce.jpg: 608x640 (no detections), 12.0ms\n",
      "Speed: 7.0ms preprocess, 12.0ms inference, 1.0ms postprocess per image at shape (1, 3, 608, 640)\n",
      "\n",
      "image 1/1 C:\\Users\\Mohit\\OneDrive\\Desktop\\BrainTumorDetectionYolov\\BrainTumorDetectionYolov9\\test\\images\\volume_208_slice_86_jpg.rf.441c5e772cb78e6437195f45e970440c.jpg: 608x640 1 label1, 13.0ms\n",
      "Speed: 6.0ms preprocess, 13.0ms inference, 2.0ms postprocess per image at shape (1, 3, 608, 640)\n",
      "\n",
      "image 1/1 C:\\Users\\Mohit\\OneDrive\\Desktop\\BrainTumorDetectionYolov\\BrainTumorDetectionYolov9\\test\\images\\volume_208_slice_94_jpg.rf.1eb943d9bc34714ebf8263334450987a.jpg: 608x640 1 label1, 37.0ms\n",
      "Speed: 83.3ms preprocess, 37.0ms inference, 3.0ms postprocess per image at shape (1, 3, 608, 640)\n",
      "\n",
      "image 1/1 C:\\Users\\Mohit\\OneDrive\\Desktop\\BrainTumorDetectionYolov\\BrainTumorDetectionYolov9\\test\\images\\volume_20_slice_31_jpg.rf.d207d5bcc9e5de3b6eec19a5c2364ad8.jpg: 608x640 (no detections), 19.0ms\n",
      "Speed: 8.0ms preprocess, 19.0ms inference, 1.0ms postprocess per image at shape (1, 3, 608, 640)\n",
      "\n",
      "image 1/1 C:\\Users\\Mohit\\OneDrive\\Desktop\\BrainTumorDetectionYolov\\BrainTumorDetectionYolov9\\test\\images\\volume_20_slice_94_jpg.rf.65a2b0cd97727d428825f486b68adf81.jpg: 608x640 (no detections), 18.0ms\n",
      "Speed: 7.0ms preprocess, 18.0ms inference, 2.0ms postprocess per image at shape (1, 3, 608, 640)\n",
      "\n",
      "image 1/1 C:\\Users\\Mohit\\OneDrive\\Desktop\\BrainTumorDetectionYolov\\BrainTumorDetectionYolov9\\test\\images\\volume_210_slice_56_jpg.rf.9eec59ff3f28b068c2d976675368ae18.jpg: 608x640 (no detections), 12.0ms\n",
      "Speed: 7.0ms preprocess, 12.0ms inference, 1.0ms postprocess per image at shape (1, 3, 608, 640)\n",
      "\n",
      "image 1/1 C:\\Users\\Mohit\\OneDrive\\Desktop\\BrainTumorDetectionYolov\\BrainTumorDetectionYolov9\\test\\images\\volume_210_slice_64_jpg.rf.70e95f66da8d531451a73073524c250a.jpg: 608x640 (no detections), 13.0ms\n",
      "Speed: 7.0ms preprocess, 13.0ms inference, 2.0ms postprocess per image at shape (1, 3, 608, 640)\n",
      "\n",
      "image 1/1 C:\\Users\\Mohit\\OneDrive\\Desktop\\BrainTumorDetectionYolov\\BrainTumorDetectionYolov9\\test\\images\\volume_210_slice_67_jpg.rf.c6dcbaea3237ae12184e2e87658bdbff.jpg: 608x640 (no detections), 16.0ms\n",
      "Speed: 7.0ms preprocess, 16.0ms inference, 1.0ms postprocess per image at shape (1, 3, 608, 640)\n",
      "\n",
      "image 1/1 C:\\Users\\Mohit\\OneDrive\\Desktop\\BrainTumorDetectionYolov\\BrainTumorDetectionYolov9\\test\\images\\volume_210_slice_85_jpg.rf.e1b66fb8069c7634a0f46b7f33ee9ad9.jpg: 608x640 (no detections), 13.3ms\n",
      "Speed: 6.0ms preprocess, 13.3ms inference, 1.0ms postprocess per image at shape (1, 3, 608, 640)\n",
      "\n",
      "image 1/1 C:\\Users\\Mohit\\OneDrive\\Desktop\\BrainTumorDetectionYolov\\BrainTumorDetectionYolov9\\test\\images\\volume_210_slice_90_jpg.rf.71e4cebf004ec8f1ee229bac6cc74311.jpg: 608x640 (no detections), 11.0ms\n",
      "Speed: 7.0ms preprocess, 11.0ms inference, 1.0ms postprocess per image at shape (1, 3, 608, 640)\n",
      "\n",
      "image 1/1 C:\\Users\\Mohit\\OneDrive\\Desktop\\BrainTumorDetectionYolov\\BrainTumorDetectionYolov9\\test\\images\\volume_211_slice_57_jpg.rf.b3d7a89bd18074167d80b65533f6e4a8.jpg: 608x640 (no detections), 12.0ms\n",
      "Speed: 6.4ms preprocess, 12.0ms inference, 1.0ms postprocess per image at shape (1, 3, 608, 640)\n",
      "\n",
      "image 1/1 C:\\Users\\Mohit\\OneDrive\\Desktop\\BrainTumorDetectionYolov\\BrainTumorDetectionYolov9\\test\\images\\volume_211_slice_63_jpg.rf.406d70d3b3652f92571fd8187bb102f7.jpg: 608x640 (no detections), 12.0ms\n",
      "Speed: 7.0ms preprocess, 12.0ms inference, 1.0ms postprocess per image at shape (1, 3, 608, 640)\n",
      "\n",
      "image 1/1 C:\\Users\\Mohit\\OneDrive\\Desktop\\BrainTumorDetectionYolov\\BrainTumorDetectionYolov9\\test\\images\\volume_211_slice_77_jpg.rf.74415a52d78152beb2b5afc2ab183415.jpg: 608x640 (no detections), 14.3ms\n",
      "Speed: 6.0ms preprocess, 14.3ms inference, 1.0ms postprocess per image at shape (1, 3, 608, 640)\n",
      "\n",
      "image 1/1 C:\\Users\\Mohit\\OneDrive\\Desktop\\BrainTumorDetectionYolov\\BrainTumorDetectionYolov9\\test\\images\\volume_211_slice_82_jpg.rf.7bce494756b28aadc8cf9a11ec3e114d.jpg: 608x640 (no detections), 11.2ms\n",
      "Speed: 7.0ms preprocess, 11.2ms inference, 1.0ms postprocess per image at shape (1, 3, 608, 640)\n",
      "\n",
      "image 1/1 C:\\Users\\Mohit\\OneDrive\\Desktop\\BrainTumorDetectionYolov\\BrainTumorDetectionYolov9\\test\\images\\volume_211_slice_97_jpg.rf.9180c01478f69ebf5f0b400a48dc3eba.jpg: 608x640 (no detections), 13.0ms\n",
      "Speed: 6.0ms preprocess, 13.0ms inference, 1.0ms postprocess per image at shape (1, 3, 608, 640)\n",
      "\n",
      "image 1/1 C:\\Users\\Mohit\\OneDrive\\Desktop\\BrainTumorDetectionYolov\\BrainTumorDetectionYolov9\\test\\images\\volume_212_slice_74_jpg.rf.a8d7a0fb3a9dcb1894dac70911a8e442.jpg: 608x640 (no detections), 15.0ms\n",
      "Speed: 7.0ms preprocess, 15.0ms inference, 1.0ms postprocess per image at shape (1, 3, 608, 640)\n",
      "\n",
      "image 1/1 C:\\Users\\Mohit\\OneDrive\\Desktop\\BrainTumorDetectionYolov\\BrainTumorDetectionYolov9\\test\\images\\volume_212_slice_88_jpg.rf.ebc27209f4f0ef537c3e87b389c203d5.jpg: 608x640 (no detections), 12.0ms\n",
      "Speed: 6.0ms preprocess, 12.0ms inference, 1.0ms postprocess per image at shape (1, 3, 608, 640)\n",
      "\n",
      "image 1/1 C:\\Users\\Mohit\\OneDrive\\Desktop\\BrainTumorDetectionYolov\\BrainTumorDetectionYolov9\\test\\images\\volume_213_slice_62_jpg.rf.40308a82402554882a417d3c452e2348.jpg: 608x640 (no detections), 13.0ms\n",
      "Speed: 6.0ms preprocess, 13.0ms inference, 1.0ms postprocess per image at shape (1, 3, 608, 640)\n",
      "\n",
      "image 1/1 C:\\Users\\Mohit\\OneDrive\\Desktop\\BrainTumorDetectionYolov\\BrainTumorDetectionYolov9\\test\\images\\volume_213_slice_69_jpg.rf.0beee419ef8362ae077a487701adcdc4.jpg: 608x640 (no detections), 12.0ms\n",
      "Speed: 6.0ms preprocess, 12.0ms inference, 1.0ms postprocess per image at shape (1, 3, 608, 640)\n",
      "\n",
      "image 1/1 C:\\Users\\Mohit\\OneDrive\\Desktop\\BrainTumorDetectionYolov\\BrainTumorDetectionYolov9\\test\\images\\volume_214_slice_52_jpg.rf.e2a4edc872a46c0272a87733b6287f2b.jpg: 608x640 (no detections), 13.0ms\n",
      "Speed: 6.0ms preprocess, 13.0ms inference, 1.0ms postprocess per image at shape (1, 3, 608, 640)\n",
      "\n",
      "image 1/1 C:\\Users\\Mohit\\OneDrive\\Desktop\\BrainTumorDetectionYolov\\BrainTumorDetectionYolov9\\test\\images\\volume_214_slice_68_jpg.rf.5b1fcb9ef665f576a57baa9abc53bb6a.jpg: 608x640 (no detections), 12.0ms\n",
      "Speed: 6.0ms preprocess, 12.0ms inference, 1.0ms postprocess per image at shape (1, 3, 608, 640)\n",
      "\n",
      "image 1/1 C:\\Users\\Mohit\\OneDrive\\Desktop\\BrainTumorDetectionYolov\\BrainTumorDetectionYolov9\\test\\images\\volume_214_slice_72_jpg.rf.759d44420ab745b3dc24817b8d56d9e9.jpg: 608x640 (no detections), 12.9ms\n",
      "Speed: 7.1ms preprocess, 12.9ms inference, 1.0ms postprocess per image at shape (1, 3, 608, 640)\n",
      "\n",
      "image 1/1 C:\\Users\\Mohit\\OneDrive\\Desktop\\BrainTumorDetectionYolov\\BrainTumorDetectionYolov9\\test\\images\\volume_215_slice_36_jpg.rf.c4c91374c1df20b1571d90486228ba2b.jpg: 608x640 (no detections), 14.0ms\n",
      "Speed: 6.0ms preprocess, 14.0ms inference, 1.0ms postprocess per image at shape (1, 3, 608, 640)\n",
      "\n",
      "image 1/1 C:\\Users\\Mohit\\OneDrive\\Desktop\\BrainTumorDetectionYolov\\BrainTumorDetectionYolov9\\test\\images\\volume_215_slice_56_jpg.rf.68d8bacb41cb95070e138bc0dedb619a.jpg: 608x640 (no detections), 13.0ms\n",
      "Speed: 7.0ms preprocess, 13.0ms inference, 1.0ms postprocess per image at shape (1, 3, 608, 640)\n",
      "\n",
      "image 1/1 C:\\Users\\Mohit\\OneDrive\\Desktop\\BrainTumorDetectionYolov\\BrainTumorDetectionYolov9\\test\\images\\volume_215_slice_60_jpg.rf.f91cdffbda4433be6b75b3e4023be5d7.jpg: 608x640 (no detections), 12.0ms\n",
      "Speed: 6.0ms preprocess, 12.0ms inference, 1.0ms postprocess per image at shape (1, 3, 608, 640)\n",
      "\n",
      "image 1/1 C:\\Users\\Mohit\\OneDrive\\Desktop\\BrainTumorDetectionYolov\\BrainTumorDetectionYolov9\\test\\images\\volume_216_slice_75_jpg.rf.36f533679875bda8b005e2effbe9864a.jpg: 608x640 (no detections), 14.7ms\n",
      "Speed: 5.4ms preprocess, 14.7ms inference, 1.0ms postprocess per image at shape (1, 3, 608, 640)\n",
      "\n",
      "image 1/1 C:\\Users\\Mohit\\OneDrive\\Desktop\\BrainTumorDetectionYolov\\BrainTumorDetectionYolov9\\test\\images\\volume_217_slice_19_jpg.rf.b73e0ddad34fe1e10c8471e852e5792b.jpg: 608x640 (no detections), 12.0ms\n",
      "Speed: 7.0ms preprocess, 12.0ms inference, 1.0ms postprocess per image at shape (1, 3, 608, 640)\n",
      "\n",
      "image 1/1 C:\\Users\\Mohit\\OneDrive\\Desktop\\BrainTumorDetectionYolov\\BrainTumorDetectionYolov9\\test\\images\\volume_217_slice_46_jpg.rf.f5e641cb70009e8fcddd17563597a1cb.jpg: 608x640 (no detections), 14.0ms\n",
      "Speed: 5.0ms preprocess, 14.0ms inference, 1.0ms postprocess per image at shape (1, 3, 608, 640)\n",
      "\n",
      "image 1/1 C:\\Users\\Mohit\\OneDrive\\Desktop\\BrainTumorDetectionYolov\\BrainTumorDetectionYolov9\\test\\images\\volume_217_slice_67_jpg.rf.49baef3afa8631af16980464ecd7dd9e.jpg: 608x640 (no detections), 14.0ms\n",
      "Speed: 7.0ms preprocess, 14.0ms inference, 1.0ms postprocess per image at shape (1, 3, 608, 640)\n",
      "\n",
      "image 1/1 C:\\Users\\Mohit\\OneDrive\\Desktop\\BrainTumorDetectionYolov\\BrainTumorDetectionYolov9\\test\\images\\volume_218_slice_39_jpg.rf.0adb740c8dd3d2d00f495356f70e6be7.jpg: 608x640 (no detections), 12.0ms\n",
      "Speed: 6.0ms preprocess, 12.0ms inference, 1.0ms postprocess per image at shape (1, 3, 608, 640)\n",
      "\n",
      "image 1/1 C:\\Users\\Mohit\\OneDrive\\Desktop\\BrainTumorDetectionYolov\\BrainTumorDetectionYolov9\\test\\images\\volume_218_slice_59_jpg.rf.b71a671f66c9dfe78d2eecfa2f5cf961.jpg: 608x640 (no detections), 12.0ms\n",
      "Speed: 6.0ms preprocess, 12.0ms inference, 2.0ms postprocess per image at shape (1, 3, 608, 640)\n",
      "\n",
      "image 1/1 C:\\Users\\Mohit\\OneDrive\\Desktop\\BrainTumorDetectionYolov\\BrainTumorDetectionYolov9\\test\\images\\volume_218_slice_64_jpg.rf.8a180d85a1f42a8d87c3fd47e424ba27.jpg: 608x640 (no detections), 16.6ms\n",
      "Speed: 7.0ms preprocess, 16.6ms inference, 1.0ms postprocess per image at shape (1, 3, 608, 640)\n",
      "\n",
      "image 1/1 C:\\Users\\Mohit\\OneDrive\\Desktop\\BrainTumorDetectionYolov\\BrainTumorDetectionYolov9\\test\\images\\volume_218_slice_75_jpg.rf.1a3d0dc7c259ecf3de88aeaa206c4418.jpg: 608x640 (no detections), 70.3ms\n",
      "Speed: 8.0ms preprocess, 70.3ms inference, 1.0ms postprocess per image at shape (1, 3, 608, 640)\n",
      "\n",
      "image 1/1 C:\\Users\\Mohit\\OneDrive\\Desktop\\BrainTumorDetectionYolov\\BrainTumorDetectionYolov9\\test\\images\\volume_218_slice_87_jpg.rf.018cc97b240f48bdd8da6e2e269751df.jpg: 608x640 (no detections), 18.5ms\n",
      "Speed: 7.0ms preprocess, 18.5ms inference, 1.0ms postprocess per image at shape (1, 3, 608, 640)\n",
      "\n",
      "image 1/1 C:\\Users\\Mohit\\OneDrive\\Desktop\\BrainTumorDetectionYolov\\BrainTumorDetectionYolov9\\test\\images\\volume_21_slice_98_jpg.rf.aae0784dad3891703f688a54c89dd66a.jpg: 608x640 (no detections), 15.0ms\n",
      "Speed: 7.0ms preprocess, 15.0ms inference, 1.0ms postprocess per image at shape (1, 3, 608, 640)\n",
      "\n",
      "image 1/1 C:\\Users\\Mohit\\OneDrive\\Desktop\\BrainTumorDetectionYolov\\BrainTumorDetectionYolov9\\test\\images\\volume_220_slice_69_jpg.rf.b9fec30977b1d0c7b10d58279f76b74a.jpg: 608x640 (no detections), 26.0ms\n",
      "Speed: 6.0ms preprocess, 26.0ms inference, 1.0ms postprocess per image at shape (1, 3, 608, 640)\n",
      "\n",
      "image 1/1 C:\\Users\\Mohit\\OneDrive\\Desktop\\BrainTumorDetectionYolov\\BrainTumorDetectionYolov9\\test\\images\\volume_220_slice_98_jpg.rf.a2a3983e3c847efc1e01df06112b02a8.jpg: 608x640 (no detections), 12.1ms\n",
      "Speed: 6.0ms preprocess, 12.1ms inference, 0.9ms postprocess per image at shape (1, 3, 608, 640)\n",
      "\n",
      "image 1/1 C:\\Users\\Mohit\\OneDrive\\Desktop\\BrainTumorDetectionYolov\\BrainTumorDetectionYolov9\\test\\images\\volume_221_slice_104_jpg.rf.ee58c6368aba61809c0348426b53a762.jpg: 608x640 (no detections), 17.9ms\n",
      "Speed: 7.0ms preprocess, 17.9ms inference, 1.0ms postprocess per image at shape (1, 3, 608, 640)\n",
      "\n",
      "image 1/1 C:\\Users\\Mohit\\OneDrive\\Desktop\\BrainTumorDetectionYolov\\BrainTumorDetectionYolov9\\test\\images\\volume_221_slice_39_jpg.rf.704a50890dc19c32dd1e51111939badc.jpg: 608x640 (no detections), 13.0ms\n",
      "Speed: 6.0ms preprocess, 13.0ms inference, 1.0ms postprocess per image at shape (1, 3, 608, 640)\n",
      "\n",
      "image 1/1 C:\\Users\\Mohit\\OneDrive\\Desktop\\BrainTumorDetectionYolov\\BrainTumorDetectionYolov9\\test\\images\\volume_221_slice_40_jpg.rf.601b19fccdc7c51e000c6c3b96da0955.jpg: 608x640 (no detections), 13.9ms\n",
      "Speed: 6.0ms preprocess, 13.9ms inference, 1.0ms postprocess per image at shape (1, 3, 608, 640)\n",
      "\n",
      "image 1/1 C:\\Users\\Mohit\\OneDrive\\Desktop\\BrainTumorDetectionYolov\\BrainTumorDetectionYolov9\\test\\images\\volume_221_slice_58_jpg.rf.4aba5b885408d795d285fa692e6683fd.jpg: 608x640 (no detections), 18.1ms\n",
      "Speed: 6.0ms preprocess, 18.1ms inference, 1.0ms postprocess per image at shape (1, 3, 608, 640)\n",
      "\n",
      "image 1/1 C:\\Users\\Mohit\\OneDrive\\Desktop\\BrainTumorDetectionYolov\\BrainTumorDetectionYolov9\\test\\images\\volume_221_slice_63_jpg.rf.d317918c2decc6b8e69a192c2a067c7b.jpg: 608x640 (no detections), 13.0ms\n",
      "Speed: 6.0ms preprocess, 13.0ms inference, 1.0ms postprocess per image at shape (1, 3, 608, 640)\n",
      "\n",
      "image 1/1 C:\\Users\\Mohit\\OneDrive\\Desktop\\BrainTumorDetectionYolov\\BrainTumorDetectionYolov9\\test\\images\\volume_221_slice_69_jpg.rf.96808b0ffefd2d7828336dbc316cf43f.jpg: 608x640 (no detections), 14.0ms\n",
      "Speed: 6.0ms preprocess, 14.0ms inference, 2.0ms postprocess per image at shape (1, 3, 608, 640)\n",
      "\n",
      "image 1/1 C:\\Users\\Mohit\\OneDrive\\Desktop\\BrainTumorDetectionYolov\\BrainTumorDetectionYolov9\\test\\images\\volume_221_slice_76_jpg.rf.1d895668649dca4917b0335d19b9e043.jpg: 608x640 (no detections), 35.0ms\n",
      "Speed: 9.0ms preprocess, 35.0ms inference, 2.0ms postprocess per image at shape (1, 3, 608, 640)\n",
      "\n",
      "image 1/1 C:\\Users\\Mohit\\OneDrive\\Desktop\\BrainTumorDetectionYolov\\BrainTumorDetectionYolov9\\test\\images\\volume_221_slice_89_jpg.rf.cf7fd5bcf141277c777b1426440d3169.jpg: 608x640 (no detections), 30.8ms\n",
      "Speed: 9.9ms preprocess, 30.8ms inference, 1.0ms postprocess per image at shape (1, 3, 608, 640)\n",
      "\n",
      "image 1/1 C:\\Users\\Mohit\\OneDrive\\Desktop\\BrainTumorDetectionYolov\\BrainTumorDetectionYolov9\\test\\images\\volume_221_slice_97_jpg.rf.f5db466d082386257a3a5c19a8aa7012.jpg: 608x640 (no detections), 11.0ms\n",
      "Speed: 6.0ms preprocess, 11.0ms inference, 2.0ms postprocess per image at shape (1, 3, 608, 640)\n",
      "\n",
      "image 1/1 C:\\Users\\Mohit\\OneDrive\\Desktop\\BrainTumorDetectionYolov\\BrainTumorDetectionYolov9\\test\\images\\volume_222_slice_106_jpg.rf.6323c179614e48f455d3e76551e4940c.jpg: 608x640 (no detections), 12.0ms\n",
      "Speed: 6.0ms preprocess, 12.0ms inference, 1.0ms postprocess per image at shape (1, 3, 608, 640)\n",
      "\n",
      "image 1/1 C:\\Users\\Mohit\\OneDrive\\Desktop\\BrainTumorDetectionYolov\\BrainTumorDetectionYolov9\\test\\images\\volume_222_slice_75_jpg.rf.56b7d7c739c88a2f68352f1b4c1ecf38.jpg: 608x640 (no detections), 21.4ms\n",
      "Speed: 8.0ms preprocess, 21.4ms inference, 1.0ms postprocess per image at shape (1, 3, 608, 640)\n",
      "\n",
      "image 1/1 C:\\Users\\Mohit\\OneDrive\\Desktop\\BrainTumorDetectionYolov\\BrainTumorDetectionYolov9\\test\\images\\volume_223_slice_79_jpg.rf.78a3305b2a775dc7ee821a835335ad12.jpg: 608x640 1 label1, 20.0ms\n",
      "Speed: 5.9ms preprocess, 20.0ms inference, 6.0ms postprocess per image at shape (1, 3, 608, 640)\n",
      "\n",
      "image 1/1 C:\\Users\\Mohit\\OneDrive\\Desktop\\BrainTumorDetectionYolov\\BrainTumorDetectionYolov9\\test\\images\\volume_223_slice_82_jpg.rf.5e9c351a3aa93646ed6c19a8fea66899.jpg: 608x640 1 label1, 16.2ms\n",
      "Speed: 8.0ms preprocess, 16.2ms inference, 6.0ms postprocess per image at shape (1, 3, 608, 640)\n",
      "\n",
      "image 1/1 C:\\Users\\Mohit\\OneDrive\\Desktop\\BrainTumorDetectionYolov\\BrainTumorDetectionYolov9\\test\\images\\volume_223_slice_88_jpg.rf.d9994898b46158985332d33da9771ac1.jpg: 608x640 1 label1, 24.0ms\n",
      "Speed: 8.0ms preprocess, 24.0ms inference, 7.0ms postprocess per image at shape (1, 3, 608, 640)\n",
      "\n",
      "image 1/1 C:\\Users\\Mohit\\OneDrive\\Desktop\\BrainTumorDetectionYolov\\BrainTumorDetectionYolov9\\test\\images\\volume_223_slice_89_jpg.rf.5326c2a759d32ba7442325fcf32c72f5.jpg: 608x640 1 label1, 13.0ms\n",
      "Speed: 6.0ms preprocess, 13.0ms inference, 3.0ms postprocess per image at shape (1, 3, 608, 640)\n",
      "\n",
      "image 1/1 C:\\Users\\Mohit\\OneDrive\\Desktop\\BrainTumorDetectionYolov\\BrainTumorDetectionYolov9\\test\\images\\volume_224_slice_48_jpg.rf.32de3b38b74161ce3be199d5db0a11e1.jpg: 608x640 (no detections), 18.9ms\n",
      "Speed: 9.1ms preprocess, 18.9ms inference, 3.0ms postprocess per image at shape (1, 3, 608, 640)\n",
      "\n",
      "image 1/1 C:\\Users\\Mohit\\OneDrive\\Desktop\\BrainTumorDetectionYolov\\BrainTumorDetectionYolov9\\test\\images\\volume_224_slice_63_jpg.rf.0d93e93e824af1b7589388b2cc548e3c.jpg: 608x640 (no detections), 15.0ms\n",
      "Speed: 6.0ms preprocess, 15.0ms inference, 1.0ms postprocess per image at shape (1, 3, 608, 640)\n",
      "\n",
      "image 1/1 C:\\Users\\Mohit\\OneDrive\\Desktop\\BrainTumorDetectionYolov\\BrainTumorDetectionYolov9\\test\\images\\volume_224_slice_78_jpg.rf.2405a105dd5e9fd6f978671d9bc5c66c.jpg: 608x640 (no detections), 16.0ms\n",
      "Speed: 7.0ms preprocess, 16.0ms inference, 1.0ms postprocess per image at shape (1, 3, 608, 640)\n",
      "\n",
      "image 1/1 C:\\Users\\Mohit\\OneDrive\\Desktop\\BrainTumorDetectionYolov\\BrainTumorDetectionYolov9\\test\\images\\volume_224_slice_97_jpg.rf.9d4401ccafcea459b273f5c9cb00e623.jpg: 608x640 (no detections), 11.0ms\n",
      "Speed: 6.9ms preprocess, 11.0ms inference, 2.0ms postprocess per image at shape (1, 3, 608, 640)\n",
      "\n",
      "image 1/1 C:\\Users\\Mohit\\OneDrive\\Desktop\\BrainTumorDetectionYolov\\BrainTumorDetectionYolov9\\test\\images\\volume_225_slice_109_jpg.rf.aad1a9e176ca8c40992bed6a495322eb.jpg: 608x640 (no detections), 12.0ms\n",
      "Speed: 9.0ms preprocess, 12.0ms inference, 1.0ms postprocess per image at shape (1, 3, 608, 640)\n",
      "\n",
      "image 1/1 C:\\Users\\Mohit\\OneDrive\\Desktop\\BrainTumorDetectionYolov\\BrainTumorDetectionYolov9\\test\\images\\volume_225_slice_134_jpg.rf.a741283488d4c09944aaed28682d8f4a.jpg: 608x640 (no detections), 33.0ms\n",
      "Speed: 71.1ms preprocess, 33.0ms inference, 1.0ms postprocess per image at shape (1, 3, 608, 640)\n",
      "\n",
      "image 1/1 C:\\Users\\Mohit\\OneDrive\\Desktop\\BrainTumorDetectionYolov\\BrainTumorDetectionYolov9\\test\\images\\volume_225_slice_95_jpg.rf.c17e2c3d948e1bb0f4af9a00981c48b5.jpg: 608x640 (no detections), 18.0ms\n",
      "Speed: 6.9ms preprocess, 18.0ms inference, 1.0ms postprocess per image at shape (1, 3, 608, 640)\n",
      "\n",
      "image 1/1 C:\\Users\\Mohit\\OneDrive\\Desktop\\BrainTumorDetectionYolov\\BrainTumorDetectionYolov9\\test\\images\\volume_225_slice_98_jpg.rf.f9cd032b57e80b57cd2d740be7792942.jpg: 608x640 (no detections), 12.0ms\n",
      "Speed: 7.0ms preprocess, 12.0ms inference, 1.0ms postprocess per image at shape (1, 3, 608, 640)\n",
      "\n",
      "image 1/1 C:\\Users\\Mohit\\OneDrive\\Desktop\\BrainTumorDetectionYolov\\BrainTumorDetectionYolov9\\test\\images\\volume_226_slice_57_jpg.rf.98012cef23de0821260a9c7bebda9c98.jpg: 608x640 (no detections), 12.0ms\n",
      "Speed: 6.0ms preprocess, 12.0ms inference, 1.0ms postprocess per image at shape (1, 3, 608, 640)\n",
      "\n",
      "image 1/1 C:\\Users\\Mohit\\OneDrive\\Desktop\\BrainTumorDetectionYolov\\BrainTumorDetectionYolov9\\test\\images\\volume_227_slice_47_jpg.rf.c1b6bfbb75200bed42e841b2c8190462.jpg: 608x640 (no detections), 16.0ms\n",
      "Speed: 6.0ms preprocess, 16.0ms inference, 2.0ms postprocess per image at shape (1, 3, 608, 640)\n",
      "\n",
      "image 1/1 C:\\Users\\Mohit\\OneDrive\\Desktop\\BrainTumorDetectionYolov\\BrainTumorDetectionYolov9\\test\\images\\volume_227_slice_66_jpg.rf.89eb4014bc96b3a89689ebce8def06c7.jpg: 608x640 (no detections), 13.0ms\n",
      "Speed: 5.0ms preprocess, 13.0ms inference, 1.0ms postprocess per image at shape (1, 3, 608, 640)\n",
      "\n",
      "image 1/1 C:\\Users\\Mohit\\OneDrive\\Desktop\\BrainTumorDetectionYolov\\BrainTumorDetectionYolov9\\test\\images\\volume_227_slice_74_jpg.rf.548daa8882cd7f9dccee4b2a08e6e7d6.jpg: 608x640 (no detections), 14.5ms\n",
      "Speed: 6.1ms preprocess, 14.5ms inference, 2.0ms postprocess per image at shape (1, 3, 608, 640)\n",
      "\n",
      "image 1/1 C:\\Users\\Mohit\\OneDrive\\Desktop\\BrainTumorDetectionYolov\\BrainTumorDetectionYolov9\\test\\images\\volume_227_slice_76_jpg.rf.e804732856a699b3d80e36b53e253a0f.jpg: 608x640 (no detections), 15.0ms\n",
      "Speed: 6.0ms preprocess, 15.0ms inference, 1.0ms postprocess per image at shape (1, 3, 608, 640)\n",
      "\n",
      "image 1/1 C:\\Users\\Mohit\\OneDrive\\Desktop\\BrainTumorDetectionYolov\\BrainTumorDetectionYolov9\\test\\images\\volume_228_slice_30_jpg.rf.7179b33ef6dc35067dd19e043f607127.jpg: 608x640 (no detections), 14.0ms\n",
      "Speed: 6.8ms preprocess, 14.0ms inference, 2.0ms postprocess per image at shape (1, 3, 608, 640)\n",
      "\n",
      "image 1/1 C:\\Users\\Mohit\\OneDrive\\Desktop\\BrainTumorDetectionYolov\\BrainTumorDetectionYolov9\\test\\images\\volume_228_slice_47_jpg.rf.02b0ead64fc6112fc1e420ed72d060a5.jpg: 608x640 (no detections), 20.9ms\n",
      "Speed: 7.1ms preprocess, 20.9ms inference, 1.0ms postprocess per image at shape (1, 3, 608, 640)\n",
      "\n",
      "image 1/1 C:\\Users\\Mohit\\OneDrive\\Desktop\\BrainTumorDetectionYolov\\BrainTumorDetectionYolov9\\test\\images\\volume_228_slice_62_jpg.rf.71f3518e1840fdc525d0b47a674bf5d1.jpg: 608x640 (no detections), 13.0ms\n",
      "Speed: 7.2ms preprocess, 13.0ms inference, 1.0ms postprocess per image at shape (1, 3, 608, 640)\n",
      "\n",
      "image 1/1 C:\\Users\\Mohit\\OneDrive\\Desktop\\BrainTumorDetectionYolov\\BrainTumorDetectionYolov9\\test\\images\\volume_228_slice_87_jpg.rf.d5081cd4ac23163273753696145d94d0.jpg: 608x640 (no detections), 24.0ms\n",
      "Speed: 6.0ms preprocess, 24.0ms inference, 2.0ms postprocess per image at shape (1, 3, 608, 640)\n",
      "\n",
      "image 1/1 C:\\Users\\Mohit\\OneDrive\\Desktop\\BrainTumorDetectionYolov\\BrainTumorDetectionYolov9\\test\\images\\volume_229_slice_100_jpg.rf.dd1a3b8db7c42e32e617236de34954e7.jpg: 608x640 1 label1, 14.0ms\n",
      "Speed: 7.0ms preprocess, 14.0ms inference, 4.1ms postprocess per image at shape (1, 3, 608, 640)\n",
      "\n",
      "image 1/1 C:\\Users\\Mohit\\OneDrive\\Desktop\\BrainTumorDetectionYolov\\BrainTumorDetectionYolov9\\test\\images\\volume_22_slice_65_jpg.rf.4c04eb2a752c2e470458c39834862ab8.jpg: 608x640 (no detections), 19.0ms\n",
      "Speed: 6.0ms preprocess, 19.0ms inference, 1.0ms postprocess per image at shape (1, 3, 608, 640)\n",
      "\n",
      "image 1/1 C:\\Users\\Mohit\\OneDrive\\Desktop\\BrainTumorDetectionYolov\\BrainTumorDetectionYolov9\\test\\images\\volume_22_slice_91_jpg.rf.ef28ebd252658fec8787b560ca6d3429.jpg: 608x640 (no detections), 13.0ms\n",
      "Speed: 9.0ms preprocess, 13.0ms inference, 1.0ms postprocess per image at shape (1, 3, 608, 640)\n",
      "\n",
      "image 1/1 C:\\Users\\Mohit\\OneDrive\\Desktop\\BrainTumorDetectionYolov\\BrainTumorDetectionYolov9\\test\\images\\volume_230_slice_125_jpg.rf.ed28cad8776344f05a69fa5c32c7d68a.jpg: 608x640 (no detections), 18.0ms\n",
      "Speed: 6.0ms preprocess, 18.0ms inference, 1.0ms postprocess per image at shape (1, 3, 608, 640)\n",
      "\n",
      "image 1/1 C:\\Users\\Mohit\\OneDrive\\Desktop\\BrainTumorDetectionYolov\\BrainTumorDetectionYolov9\\test\\images\\volume_230_slice_77_jpg.rf.a048328a18b5382c80f705d4d8ef299c.jpg: 608x640 (no detections), 13.0ms\n",
      "Speed: 8.0ms preprocess, 13.0ms inference, 1.0ms postprocess per image at shape (1, 3, 608, 640)\n",
      "\n",
      "image 1/1 C:\\Users\\Mohit\\OneDrive\\Desktop\\BrainTumorDetectionYolov\\BrainTumorDetectionYolov9\\test\\images\\volume_230_slice_90_jpg.rf.67c2100890b50cbcbdacd2662eef8e5b.jpg: 608x640 (no detections), 16.0ms\n",
      "Speed: 6.0ms preprocess, 16.0ms inference, 1.0ms postprocess per image at shape (1, 3, 608, 640)\n",
      "\n",
      "image 1/1 C:\\Users\\Mohit\\OneDrive\\Desktop\\BrainTumorDetectionYolov\\BrainTumorDetectionYolov9\\test\\images\\volume_230_slice_98_jpg.rf.700654e6dff862322afe349f236d0013.jpg: 608x640 (no detections), 12.0ms\n",
      "Speed: 6.0ms preprocess, 12.0ms inference, 1.0ms postprocess per image at shape (1, 3, 608, 640)\n",
      "\n",
      "image 1/1 C:\\Users\\Mohit\\OneDrive\\Desktop\\BrainTumorDetectionYolov\\BrainTumorDetectionYolov9\\test\\images\\volume_231_slice_112_jpg.rf.700d78f5985c7729f1d6cee313ee06e6.jpg: 608x640 (no detections), 21.0ms\n",
      "Speed: 6.0ms preprocess, 21.0ms inference, 1.0ms postprocess per image at shape (1, 3, 608, 640)\n",
      "\n",
      "image 1/1 C:\\Users\\Mohit\\OneDrive\\Desktop\\BrainTumorDetectionYolov\\BrainTumorDetectionYolov9\\test\\images\\volume_231_slice_62_jpg.rf.e28db2a14236a40de9a3c654e7477f25.jpg: 608x640 (no detections), 14.0ms\n",
      "Speed: 6.0ms preprocess, 14.0ms inference, 1.0ms postprocess per image at shape (1, 3, 608, 640)\n",
      "\n",
      "image 1/1 C:\\Users\\Mohit\\OneDrive\\Desktop\\BrainTumorDetectionYolov\\BrainTumorDetectionYolov9\\test\\images\\volume_231_slice_78_jpg.rf.756679b9d94994ad8d6d9c9347649de3.jpg: 608x640 1 label1, 11.0ms\n",
      "Speed: 7.8ms preprocess, 11.0ms inference, 3.0ms postprocess per image at shape (1, 3, 608, 640)\n",
      "\n",
      "image 1/1 C:\\Users\\Mohit\\OneDrive\\Desktop\\BrainTumorDetectionYolov\\BrainTumorDetectionYolov9\\test\\images\\volume_232_slice_37_jpg.rf.f6298cb15eaefbfcc867a43cb1cc22d8.jpg: 608x640 (no detections), 11.0ms\n",
      "Speed: 7.0ms preprocess, 11.0ms inference, 1.0ms postprocess per image at shape (1, 3, 608, 640)\n",
      "\n",
      "image 1/1 C:\\Users\\Mohit\\OneDrive\\Desktop\\BrainTumorDetectionYolov\\BrainTumorDetectionYolov9\\test\\images\\volume_232_slice_44_jpg.rf.62e9b465a51da6b26ee5d739b2128e5b.jpg: 608x640 (no detections), 13.0ms\n",
      "Speed: 8.0ms preprocess, 13.0ms inference, 1.0ms postprocess per image at shape (1, 3, 608, 640)\n",
      "\n",
      "image 1/1 C:\\Users\\Mohit\\OneDrive\\Desktop\\BrainTumorDetectionYolov\\BrainTumorDetectionYolov9\\test\\images\\volume_232_slice_50_jpg.rf.ebe5fb546b09e2328931ebd3d6755052.jpg: 608x640 (no detections), 11.0ms\n",
      "Speed: 6.0ms preprocess, 11.0ms inference, 1.0ms postprocess per image at shape (1, 3, 608, 640)\n",
      "\n",
      "image 1/1 C:\\Users\\Mohit\\OneDrive\\Desktop\\BrainTumorDetectionYolov\\BrainTumorDetectionYolov9\\test\\images\\volume_232_slice_53_jpg.rf.1d025be7d603ccc0802b96136c7a0196.jpg: 608x640 (no detections), 13.0ms\n",
      "Speed: 7.0ms preprocess, 13.0ms inference, 1.0ms postprocess per image at shape (1, 3, 608, 640)\n",
      "\n",
      "image 1/1 C:\\Users\\Mohit\\OneDrive\\Desktop\\BrainTumorDetectionYolov\\BrainTumorDetectionYolov9\\test\\images\\volume_232_slice_71_jpg.rf.98ed4e9cbe6b0af10aeda934609e27a9.jpg: 608x640 (no detections), 15.0ms\n",
      "Speed: 8.0ms preprocess, 15.0ms inference, 2.0ms postprocess per image at shape (1, 3, 608, 640)\n",
      "\n",
      "image 1/1 C:\\Users\\Mohit\\OneDrive\\Desktop\\BrainTumorDetectionYolov\\BrainTumorDetectionYolov9\\test\\images\\volume_232_slice_78_jpg.rf.90231473b446f663956f4fab5e2c05bd.jpg: 608x640 (no detections), 22.0ms\n",
      "Speed: 7.0ms preprocess, 22.0ms inference, 2.0ms postprocess per image at shape (1, 3, 608, 640)\n",
      "\n",
      "image 1/1 C:\\Users\\Mohit\\OneDrive\\Desktop\\BrainTumorDetectionYolov\\BrainTumorDetectionYolov9\\test\\images\\volume_232_slice_85_jpg.rf.31d6bafd34dd6cd649cd20d7afd60087.jpg: 608x640 (no detections), 13.0ms\n",
      "Speed: 6.0ms preprocess, 13.0ms inference, 1.0ms postprocess per image at shape (1, 3, 608, 640)\n",
      "\n",
      "image 1/1 C:\\Users\\Mohit\\OneDrive\\Desktop\\BrainTumorDetectionYolov\\BrainTumorDetectionYolov9\\test\\images\\volume_233_slice_107_jpg.rf.18a0547fcccf687c955f69632df899d3.jpg: 608x640 (no detections), 20.0ms\n",
      "Speed: 6.0ms preprocess, 20.0ms inference, 1.0ms postprocess per image at shape (1, 3, 608, 640)\n",
      "\n",
      "image 1/1 C:\\Users\\Mohit\\OneDrive\\Desktop\\BrainTumorDetectionYolov\\BrainTumorDetectionYolov9\\test\\images\\volume_234_slice_55_jpg.rf.601ea3cdb15d5d27b203d099e8c2a2ed.jpg: 608x640 (no detections), 16.0ms\n",
      "Speed: 7.0ms preprocess, 16.0ms inference, 1.0ms postprocess per image at shape (1, 3, 608, 640)\n",
      "\n",
      "image 1/1 C:\\Users\\Mohit\\OneDrive\\Desktop\\BrainTumorDetectionYolov\\BrainTumorDetectionYolov9\\test\\images\\volume_234_slice_67_jpg.rf.6607da22d757f39bedb012096f88bed2.jpg: 608x640 (no detections), 21.0ms\n",
      "Speed: 7.0ms preprocess, 21.0ms inference, 1.0ms postprocess per image at shape (1, 3, 608, 640)\n",
      "\n",
      "image 1/1 C:\\Users\\Mohit\\OneDrive\\Desktop\\BrainTumorDetectionYolov\\BrainTumorDetectionYolov9\\test\\images\\volume_234_slice_84_jpg.rf.8caa6e82546d9f603a8211882c5f2522.jpg: 608x640 (no detections), 12.0ms\n",
      "Speed: 6.0ms preprocess, 12.0ms inference, 1.0ms postprocess per image at shape (1, 3, 608, 640)\n",
      "\n",
      "image 1/1 C:\\Users\\Mohit\\OneDrive\\Desktop\\BrainTumorDetectionYolov\\BrainTumorDetectionYolov9\\test\\images\\volume_235_slice_116_jpg.rf.c5a4ada0172ff984351621adcf5ded89.jpg: 608x640 (no detections), 22.0ms\n",
      "Speed: 6.0ms preprocess, 22.0ms inference, 2.0ms postprocess per image at shape (1, 3, 608, 640)\n",
      "\n",
      "image 1/1 C:\\Users\\Mohit\\OneDrive\\Desktop\\BrainTumorDetectionYolov\\BrainTumorDetectionYolov9\\test\\images\\volume_235_slice_73_jpg.rf.2ac4b5ca69eee3e6b306d8577144f8bd.jpg: 608x640 (no detections), 20.0ms\n",
      "Speed: 7.0ms preprocess, 20.0ms inference, 2.0ms postprocess per image at shape (1, 3, 608, 640)\n",
      "\n",
      "image 1/1 C:\\Users\\Mohit\\OneDrive\\Desktop\\BrainTumorDetectionYolov\\BrainTumorDetectionYolov9\\test\\images\\volume_235_slice_74_jpg.rf.29b5171dd2e52b33d37e2f30ab41a7ef.jpg: 608x640 (no detections), 11.0ms\n",
      "Speed: 6.5ms preprocess, 11.0ms inference, 2.0ms postprocess per image at shape (1, 3, 608, 640)\n",
      "\n",
      "image 1/1 C:\\Users\\Mohit\\OneDrive\\Desktop\\BrainTumorDetectionYolov\\BrainTumorDetectionYolov9\\test\\images\\volume_236_slice_109_jpg.rf.a2d761deac94a8eaceeb342bcdc8267c.jpg: 608x640 (no detections), 22.0ms\n",
      "Speed: 6.0ms preprocess, 22.0ms inference, 1.0ms postprocess per image at shape (1, 3, 608, 640)\n",
      "\n",
      "image 1/1 C:\\Users\\Mohit\\OneDrive\\Desktop\\BrainTumorDetectionYolov\\BrainTumorDetectionYolov9\\test\\images\\volume_236_slice_79_jpg.rf.b7d4423f01a5c5a50d2284ea696b8a90.jpg: 608x640 (no detections), 12.0ms\n",
      "Speed: 6.0ms preprocess, 12.0ms inference, 1.0ms postprocess per image at shape (1, 3, 608, 640)\n",
      "\n",
      "image 1/1 C:\\Users\\Mohit\\OneDrive\\Desktop\\BrainTumorDetectionYolov\\BrainTumorDetectionYolov9\\test\\images\\volume_237_slice_90_jpg.rf.97052512fbe5d53432a3c58e985d400a.jpg: 608x640 (no detections), 15.5ms\n",
      "Speed: 6.0ms preprocess, 15.5ms inference, 1.0ms postprocess per image at shape (1, 3, 608, 640)\n",
      "\n",
      "image 1/1 C:\\Users\\Mohit\\OneDrive\\Desktop\\BrainTumorDetectionYolov\\BrainTumorDetectionYolov9\\test\\images\\volume_238_slice_79_jpg.rf.637d3ec15a5b6e5311fd77a192320e35.jpg: 608x640 (no detections), 11.9ms\n",
      "Speed: 6.5ms preprocess, 11.9ms inference, 2.0ms postprocess per image at shape (1, 3, 608, 640)\n",
      "\n",
      "image 1/1 C:\\Users\\Mohit\\OneDrive\\Desktop\\BrainTumorDetectionYolov\\BrainTumorDetectionYolov9\\test\\images\\volume_238_slice_80_jpg.rf.d9d67619e0d244124b9899a98942116e.jpg: 608x640 (no detections), 11.0ms\n",
      "Speed: 6.0ms preprocess, 11.0ms inference, 1.0ms postprocess per image at shape (1, 3, 608, 640)\n",
      "\n",
      "image 1/1 C:\\Users\\Mohit\\OneDrive\\Desktop\\BrainTumorDetectionYolov\\BrainTumorDetectionYolov9\\test\\images\\volume_239_slice_110_jpg.rf.505d8125c7849a11e79f545f975564ff.jpg: 608x640 (no detections), 19.5ms\n",
      "Speed: 6.0ms preprocess, 19.5ms inference, 1.0ms postprocess per image at shape (1, 3, 608, 640)\n",
      "\n",
      "image 1/1 C:\\Users\\Mohit\\OneDrive\\Desktop\\BrainTumorDetectionYolov\\BrainTumorDetectionYolov9\\test\\images\\volume_239_slice_117_jpg.rf.52858ee4cc9eff80247ceb5d5b574b71.jpg: 608x640 (no detections), 15.0ms\n",
      "Speed: 7.0ms preprocess, 15.0ms inference, 1.1ms postprocess per image at shape (1, 3, 608, 640)\n",
      "\n",
      "image 1/1 C:\\Users\\Mohit\\OneDrive\\Desktop\\BrainTumorDetectionYolov\\BrainTumorDetectionYolov9\\test\\images\\volume_239_slice_67_jpg.rf.9c9b318ff81282e01637885e2b6f5946.jpg: 608x640 (no detections), 18.9ms\n",
      "Speed: 7.3ms preprocess, 18.9ms inference, 1.0ms postprocess per image at shape (1, 3, 608, 640)\n",
      "\n",
      "image 1/1 C:\\Users\\Mohit\\OneDrive\\Desktop\\BrainTumorDetectionYolov\\BrainTumorDetectionYolov9\\test\\images\\volume_239_slice_97_jpg.rf.89026ce8a20fa6efafa7a0372afff274.jpg: 608x640 (no detections), 19.1ms\n",
      "Speed: 5.0ms preprocess, 19.1ms inference, 1.0ms postprocess per image at shape (1, 3, 608, 640)\n",
      "\n",
      "image 1/1 C:\\Users\\Mohit\\OneDrive\\Desktop\\BrainTumorDetectionYolov\\BrainTumorDetectionYolov9\\test\\images\\volume_23_slice_85_jpg.rf.61e55b3f82fb0265b790985b5ef7364b.jpg: 608x640 (no detections), 13.0ms\n",
      "Speed: 6.0ms preprocess, 13.0ms inference, 1.0ms postprocess per image at shape (1, 3, 608, 640)\n",
      "\n",
      "image 1/1 C:\\Users\\Mohit\\OneDrive\\Desktop\\BrainTumorDetectionYolov\\BrainTumorDetectionYolov9\\test\\images\\volume_241_slice_118_jpg.rf.2233f1e7be867c42a1344cc6c1ad956b.jpg: 608x640 (no detections), 12.0ms\n",
      "Speed: 5.7ms preprocess, 12.0ms inference, 1.0ms postprocess per image at shape (1, 3, 608, 640)\n",
      "\n",
      "image 1/1 C:\\Users\\Mohit\\OneDrive\\Desktop\\BrainTumorDetectionYolov\\BrainTumorDetectionYolov9\\test\\images\\volume_241_slice_119_jpg.rf.e70e0bbdf39eeb582e792377872a1cff.jpg: 608x640 (no detections), 18.9ms\n",
      "Speed: 7.1ms preprocess, 18.9ms inference, 1.0ms postprocess per image at shape (1, 3, 608, 640)\n",
      "\n",
      "image 1/1 C:\\Users\\Mohit\\OneDrive\\Desktop\\BrainTumorDetectionYolov\\BrainTumorDetectionYolov9\\test\\images\\volume_241_slice_59_jpg.rf.9baee298cc1a9ff06070ad5629011cb7.jpg: 608x640 (no detections), 12.1ms\n",
      "Speed: 6.3ms preprocess, 12.1ms inference, 1.0ms postprocess per image at shape (1, 3, 608, 640)\n",
      "\n",
      "image 1/1 C:\\Users\\Mohit\\OneDrive\\Desktop\\BrainTumorDetectionYolov\\BrainTumorDetectionYolov9\\test\\images\\volume_242_slice_25_jpg.rf.5309d218fc5e14b53a3600dff6306f82.jpg: 608x640 (no detections), 12.0ms\n",
      "Speed: 7.0ms preprocess, 12.0ms inference, 1.0ms postprocess per image at shape (1, 3, 608, 640)\n",
      "\n",
      "image 1/1 C:\\Users\\Mohit\\OneDrive\\Desktop\\BrainTumorDetectionYolov\\BrainTumorDetectionYolov9\\test\\images\\volume_242_slice_60_jpg.rf.ac1c504e1ba2435e9a547f53d31b97e6.jpg: 608x640 (no detections), 17.7ms\n",
      "Speed: 6.0ms preprocess, 17.7ms inference, 0.5ms postprocess per image at shape (1, 3, 608, 640)\n",
      "\n",
      "image 1/1 C:\\Users\\Mohit\\OneDrive\\Desktop\\BrainTumorDetectionYolov\\BrainTumorDetectionYolov9\\test\\images\\volume_243_slice_102_jpg.rf.ef82217cc987922ce9247d11a8f72079.jpg: 608x640 (no detections), 12.0ms\n",
      "Speed: 5.0ms preprocess, 12.0ms inference, 1.0ms postprocess per image at shape (1, 3, 608, 640)\n",
      "\n",
      "image 1/1 C:\\Users\\Mohit\\OneDrive\\Desktop\\BrainTumorDetectionYolov\\BrainTumorDetectionYolov9\\test\\images\\volume_243_slice_39_jpg.rf.71d4a417ede4fb537cb237d98bb9b336.jpg: 608x640 (no detections), 15.4ms\n",
      "Speed: 5.0ms preprocess, 15.4ms inference, 1.0ms postprocess per image at shape (1, 3, 608, 640)\n",
      "\n",
      "image 1/1 C:\\Users\\Mohit\\OneDrive\\Desktop\\BrainTumorDetectionYolov\\BrainTumorDetectionYolov9\\test\\images\\volume_243_slice_64_jpg.rf.b1e028a7c1bccc8a8bdef0ee66000e4c.jpg: 608x640 (no detections), 12.2ms\n",
      "Speed: 8.2ms preprocess, 12.2ms inference, 2.0ms postprocess per image at shape (1, 3, 608, 640)\n",
      "\n",
      "image 1/1 C:\\Users\\Mohit\\OneDrive\\Desktop\\BrainTumorDetectionYolov\\BrainTumorDetectionYolov9\\test\\images\\volume_244_slice_111_jpg.rf.a25a640fc83cbe0eea38c1227afa81f6.jpg: 608x640 (no detections), 34.0ms\n",
      "Speed: 54.3ms preprocess, 34.0ms inference, 2.0ms postprocess per image at shape (1, 3, 608, 640)\n",
      "\n",
      "image 1/1 C:\\Users\\Mohit\\OneDrive\\Desktop\\BrainTumorDetectionYolov\\BrainTumorDetectionYolov9\\test\\images\\volume_245_slice_64_jpg.rf.323016f2945f7ecab11296a03fd18df4.jpg: 608x640 (no detections), 20.0ms\n",
      "Speed: 11.9ms preprocess, 20.0ms inference, 1.0ms postprocess per image at shape (1, 3, 608, 640)\n",
      "\n",
      "image 1/1 C:\\Users\\Mohit\\OneDrive\\Desktop\\BrainTumorDetectionYolov\\BrainTumorDetectionYolov9\\test\\images\\volume_246_slice_45_jpg.rf.b662fbeb66b7333244f8138c749a762f.jpg: 608x640 (no detections), 14.3ms\n",
      "Speed: 6.0ms preprocess, 14.3ms inference, 2.0ms postprocess per image at shape (1, 3, 608, 640)\n",
      "\n",
      "image 1/1 C:\\Users\\Mohit\\OneDrive\\Desktop\\BrainTumorDetectionYolov\\BrainTumorDetectionYolov9\\test\\images\\volume_247_slice_39_jpg.rf.67ae5f60d9e0a1d00eaaa2dd4fa7c762.jpg: 608x640 (no detections), 23.2ms\n",
      "Speed: 7.0ms preprocess, 23.2ms inference, 2.0ms postprocess per image at shape (1, 3, 608, 640)\n",
      "\n",
      "image 1/1 C:\\Users\\Mohit\\OneDrive\\Desktop\\BrainTumorDetectionYolov\\BrainTumorDetectionYolov9\\test\\images\\volume_247_slice_54_jpg.rf.baef4b8036842d289b5021d0411e4322.jpg: 608x640 (no detections), 13.0ms\n",
      "Speed: 7.0ms preprocess, 13.0ms inference, 1.0ms postprocess per image at shape (1, 3, 608, 640)\n",
      "\n",
      "image 1/1 C:\\Users\\Mohit\\OneDrive\\Desktop\\BrainTumorDetectionYolov\\BrainTumorDetectionYolov9\\test\\images\\volume_247_slice_55_jpg.rf.ee839a1366d29bff0f8c37699b769fa4.jpg: 608x640 (no detections), 14.0ms\n",
      "Speed: 7.0ms preprocess, 14.0ms inference, 2.0ms postprocess per image at shape (1, 3, 608, 640)\n",
      "\n",
      "image 1/1 C:\\Users\\Mohit\\OneDrive\\Desktop\\BrainTumorDetectionYolov\\BrainTumorDetectionYolov9\\test\\images\\volume_248_slice_110_jpg.rf.14ddec06aa37699b9bcd3a02337daa37.jpg: 608x640 (no detections), 14.1ms\n",
      "Speed: 5.0ms preprocess, 14.1ms inference, 1.0ms postprocess per image at shape (1, 3, 608, 640)\n",
      "\n",
      "image 1/1 C:\\Users\\Mohit\\OneDrive\\Desktop\\BrainTumorDetectionYolov\\BrainTumorDetectionYolov9\\test\\images\\volume_248_slice_124_jpg.rf.9fc8544d4293285befb68ab077658817.jpg: 608x640 (no detections), 10.8ms\n",
      "Speed: 7.0ms preprocess, 10.8ms inference, 1.0ms postprocess per image at shape (1, 3, 608, 640)\n",
      "\n",
      "image 1/1 C:\\Users\\Mohit\\OneDrive\\Desktop\\BrainTumorDetectionYolov\\BrainTumorDetectionYolov9\\test\\images\\volume_24_slice_41_jpg.rf.765b9082e4d6f3e338be0378a5e53984.jpg: 608x640 (no detections), 14.5ms\n",
      "Speed: 6.0ms preprocess, 14.5ms inference, 1.0ms postprocess per image at shape (1, 3, 608, 640)\n",
      "\n",
      "image 1/1 C:\\Users\\Mohit\\OneDrive\\Desktop\\BrainTumorDetectionYolov\\BrainTumorDetectionYolov9\\test\\images\\volume_251_slice_62_jpg.rf.90b022717ee7a7bcf826a11441baa0d1.jpg: 608x640 (no detections), 11.0ms\n",
      "Speed: 6.0ms preprocess, 11.0ms inference, 1.0ms postprocess per image at shape (1, 3, 608, 640)\n",
      "\n",
      "image 1/1 C:\\Users\\Mohit\\OneDrive\\Desktop\\BrainTumorDetectionYolov\\BrainTumorDetectionYolov9\\test\\images\\volume_251_slice_78_jpg.rf.3db275028d7fe99231413aecad7c5d80.jpg: 608x640 1 label1, 17.1ms\n",
      "Speed: 16.5ms preprocess, 17.1ms inference, 3.0ms postprocess per image at shape (1, 3, 608, 640)\n",
      "\n",
      "image 1/1 C:\\Users\\Mohit\\OneDrive\\Desktop\\BrainTumorDetectionYolov\\BrainTumorDetectionYolov9\\test\\images\\volume_252_slice_48_jpg.rf.a4be325ce6867739327e70078df6a391.jpg: 608x640 (no detections), 12.0ms\n",
      "Speed: 6.0ms preprocess, 12.0ms inference, 2.0ms postprocess per image at shape (1, 3, 608, 640)\n",
      "\n",
      "image 1/1 C:\\Users\\Mohit\\OneDrive\\Desktop\\BrainTumorDetectionYolov\\BrainTumorDetectionYolov9\\test\\images\\volume_252_slice_68_jpg.rf.a137a4b14de1488e25f2994d78df5877.jpg: 608x640 (no detections), 12.0ms\n",
      "Speed: 6.0ms preprocess, 12.0ms inference, 1.0ms postprocess per image at shape (1, 3, 608, 640)\n",
      "\n",
      "image 1/1 C:\\Users\\Mohit\\OneDrive\\Desktop\\BrainTumorDetectionYolov\\BrainTumorDetectionYolov9\\test\\images\\volume_253_slice_41_jpg.rf.8e01cbc4988326fa8b45d8b168812773.jpg: 608x640 (no detections), 11.0ms\n",
      "Speed: 6.0ms preprocess, 11.0ms inference, 2.0ms postprocess per image at shape (1, 3, 608, 640)\n",
      "\n",
      "image 1/1 C:\\Users\\Mohit\\OneDrive\\Desktop\\BrainTumorDetectionYolov\\BrainTumorDetectionYolov9\\test\\images\\volume_253_slice_91_jpg.rf.fef2a8a552be1c39a87b393aa50c521a.jpg: 608x640 (no detections), 22.0ms\n",
      "Speed: 6.0ms preprocess, 22.0ms inference, 1.0ms postprocess per image at shape (1, 3, 608, 640)\n",
      "\n",
      "image 1/1 C:\\Users\\Mohit\\OneDrive\\Desktop\\BrainTumorDetectionYolov\\BrainTumorDetectionYolov9\\test\\images\\volume_254_slice_123_jpg.rf.02808d85ec33277934cd9b1a70e12eb6.jpg: 608x640 (no detections), 11.0ms\n",
      "Speed: 6.0ms preprocess, 11.0ms inference, 1.0ms postprocess per image at shape (1, 3, 608, 640)\n",
      "\n",
      "image 1/1 C:\\Users\\Mohit\\OneDrive\\Desktop\\BrainTumorDetectionYolov\\BrainTumorDetectionYolov9\\test\\images\\volume_254_slice_88_jpg.rf.88829a21feeb97fd4b946192deb8093d.jpg: 608x640 (no detections), 14.0ms\n",
      "Speed: 6.0ms preprocess, 14.0ms inference, 2.0ms postprocess per image at shape (1, 3, 608, 640)\n",
      "\n",
      "image 1/1 C:\\Users\\Mohit\\OneDrive\\Desktop\\BrainTumorDetectionYolov\\BrainTumorDetectionYolov9\\test\\images\\volume_255_slice_59_jpg.rf.a01cb2fffb899748825d374c3e2c6e26.jpg: 608x640 (no detections), 12.5ms\n",
      "Speed: 9.0ms preprocess, 12.5ms inference, 1.0ms postprocess per image at shape (1, 3, 608, 640)\n",
      "\n",
      "image 1/1 C:\\Users\\Mohit\\OneDrive\\Desktop\\BrainTumorDetectionYolov\\BrainTumorDetectionYolov9\\test\\images\\volume_256_slice_103_jpg.rf.757de496aae9a36dacb5f48a799f19df.jpg: 608x640 (no detections), 14.0ms\n",
      "Speed: 7.0ms preprocess, 14.0ms inference, 1.0ms postprocess per image at shape (1, 3, 608, 640)\n",
      "\n",
      "image 1/1 C:\\Users\\Mohit\\OneDrive\\Desktop\\BrainTumorDetectionYolov\\BrainTumorDetectionYolov9\\test\\images\\volume_256_slice_66_jpg.rf.7c533e9e07b8996c63f6d480aee916eb.jpg: 608x640 (no detections), 11.0ms\n",
      "Speed: 10.0ms preprocess, 11.0ms inference, 1.0ms postprocess per image at shape (1, 3, 608, 640)\n",
      "\n",
      "image 1/1 C:\\Users\\Mohit\\OneDrive\\Desktop\\BrainTumorDetectionYolov\\BrainTumorDetectionYolov9\\test\\images\\volume_257_slice_56_jpg.rf.7ff603c592f427bc76c8336f827f3443.jpg: 608x640 (no detections), 16.0ms\n",
      "Speed: 7.0ms preprocess, 16.0ms inference, 1.0ms postprocess per image at shape (1, 3, 608, 640)\n",
      "\n",
      "image 1/1 C:\\Users\\Mohit\\OneDrive\\Desktop\\BrainTumorDetectionYolov\\BrainTumorDetectionYolov9\\test\\images\\volume_257_slice_61_jpg.rf.eddfeefc6404478a52a990a72939fe1a.jpg: 608x640 (no detections), 12.0ms\n",
      "Speed: 8.0ms preprocess, 12.0ms inference, 1.0ms postprocess per image at shape (1, 3, 608, 640)\n",
      "\n",
      "image 1/1 C:\\Users\\Mohit\\OneDrive\\Desktop\\BrainTumorDetectionYolov\\BrainTumorDetectionYolov9\\test\\images\\volume_257_slice_84_jpg.rf.fd887893ed4c9344f71a4dea64ee7591.jpg: 608x640 1 label1, 11.0ms\n",
      "Speed: 6.0ms preprocess, 11.0ms inference, 3.0ms postprocess per image at shape (1, 3, 608, 640)\n",
      "\n",
      "image 1/1 C:\\Users\\Mohit\\OneDrive\\Desktop\\BrainTumorDetectionYolov\\BrainTumorDetectionYolov9\\test\\images\\volume_258_slice_106_jpg.rf.bbb1089d3fd5843318fc093ab8a291af.jpg: 608x640 1 label1, 11.0ms\n",
      "Speed: 6.0ms preprocess, 11.0ms inference, 3.0ms postprocess per image at shape (1, 3, 608, 640)\n",
      "\n",
      "image 1/1 C:\\Users\\Mohit\\OneDrive\\Desktop\\BrainTumorDetectionYolov\\BrainTumorDetectionYolov9\\test\\images\\volume_258_slice_113_jpg.rf.36a037b5ebe10bf36dd8ed5b7f6cd353.jpg: 608x640 (no detections), 18.0ms\n",
      "Speed: 7.0ms preprocess, 18.0ms inference, 1.0ms postprocess per image at shape (1, 3, 608, 640)\n",
      "\n",
      "image 1/1 C:\\Users\\Mohit\\OneDrive\\Desktop\\BrainTumorDetectionYolov\\BrainTumorDetectionYolov9\\test\\images\\volume_258_slice_61_jpg.rf.2e65e2edb2da676a47675a877c711f26.jpg: 608x640 (no detections), 11.0ms\n",
      "Speed: 6.0ms preprocess, 11.0ms inference, 1.0ms postprocess per image at shape (1, 3, 608, 640)\n",
      "\n",
      "image 1/1 C:\\Users\\Mohit\\OneDrive\\Desktop\\BrainTumorDetectionYolov\\BrainTumorDetectionYolov9\\test\\images\\volume_259_slice_116_jpg.rf.4c78265de7aeb4a99ae24e659049b423.jpg: 608x640 (no detections), 12.0ms\n",
      "Speed: 7.0ms preprocess, 12.0ms inference, 1.0ms postprocess per image at shape (1, 3, 608, 640)\n",
      "\n",
      "image 1/1 C:\\Users\\Mohit\\OneDrive\\Desktop\\BrainTumorDetectionYolov\\BrainTumorDetectionYolov9\\test\\images\\volume_259_slice_121_jpg.rf.583a65550b0812af1481298cedd7fc70.jpg: 608x640 (no detections), 97.4ms\n",
      "Speed: 7.0ms preprocess, 97.4ms inference, 1.0ms postprocess per image at shape (1, 3, 608, 640)\n",
      "\n",
      "image 1/1 C:\\Users\\Mohit\\OneDrive\\Desktop\\BrainTumorDetectionYolov\\BrainTumorDetectionYolov9\\test\\images\\volume_259_slice_65_jpg.rf.45def3f88309b13edc5d7a09d43d9be1.jpg: 608x640 (no detections), 15.0ms\n",
      "Speed: 15.0ms preprocess, 15.0ms inference, 1.0ms postprocess per image at shape (1, 3, 608, 640)\n",
      "\n",
      "image 1/1 C:\\Users\\Mohit\\OneDrive\\Desktop\\BrainTumorDetectionYolov\\BrainTumorDetectionYolov9\\test\\images\\volume_259_slice_94_jpg.rf.6912c68f0b2407cebf8991b28c84f44a.jpg: 608x640 1 label1, 17.0ms\n",
      "Speed: 6.0ms preprocess, 17.0ms inference, 3.0ms postprocess per image at shape (1, 3, 608, 640)\n",
      "\n",
      "image 1/1 C:\\Users\\Mohit\\OneDrive\\Desktop\\BrainTumorDetectionYolov\\BrainTumorDetectionYolov9\\test\\images\\volume_25_slice_103_jpg.rf.8041dbedb67ea337f37e8782899a375b.jpg: 608x640 1 label1, 11.0ms\n",
      "Speed: 6.0ms preprocess, 11.0ms inference, 3.0ms postprocess per image at shape (1, 3, 608, 640)\n",
      "\n",
      "image 1/1 C:\\Users\\Mohit\\OneDrive\\Desktop\\BrainTumorDetectionYolov\\BrainTumorDetectionYolov9\\test\\images\\volume_25_slice_114_jpg.rf.ff73951375c3eecf916c9bde06e4c701.jpg: 608x640 (no detections), 24.8ms\n",
      "Speed: 5.9ms preprocess, 24.8ms inference, 1.0ms postprocess per image at shape (1, 3, 608, 640)\n",
      "\n",
      "image 1/1 C:\\Users\\Mohit\\OneDrive\\Desktop\\BrainTumorDetectionYolov\\BrainTumorDetectionYolov9\\test\\images\\volume_25_slice_87_jpg.rf.81d9519624659b4d990244347d2abae4.jpg: 608x640 (no detections), 18.3ms\n",
      "Speed: 7.1ms preprocess, 18.3ms inference, 1.0ms postprocess per image at shape (1, 3, 608, 640)\n",
      "\n",
      "image 1/1 C:\\Users\\Mohit\\OneDrive\\Desktop\\BrainTumorDetectionYolov\\BrainTumorDetectionYolov9\\test\\images\\volume_260_slice_51_jpg.rf.474660801a03e03fa7d4b0b5227752f1.jpg: 608x640 (no detections), 14.0ms\n",
      "Speed: 5.0ms preprocess, 14.0ms inference, 1.0ms postprocess per image at shape (1, 3, 608, 640)\n",
      "\n",
      "image 1/1 C:\\Users\\Mohit\\OneDrive\\Desktop\\BrainTumorDetectionYolov\\BrainTumorDetectionYolov9\\test\\images\\volume_260_slice_69_jpg.rf.f7ed7211c2af2dcd847cc718f2e1bf4f.jpg: 608x640 (no detections), 18.6ms\n",
      "Speed: 7.0ms preprocess, 18.6ms inference, 1.0ms postprocess per image at shape (1, 3, 608, 640)\n",
      "\n",
      "image 1/1 C:\\Users\\Mohit\\OneDrive\\Desktop\\BrainTumorDetectionYolov\\BrainTumorDetectionYolov9\\test\\images\\volume_261_slice_108_jpg.rf.4bdf750b66d2166a754d9d5d9b49872d.jpg: 608x640 (no detections), 18.0ms\n",
      "Speed: 6.9ms preprocess, 18.0ms inference, 1.0ms postprocess per image at shape (1, 3, 608, 640)\n",
      "\n",
      "image 1/1 C:\\Users\\Mohit\\OneDrive\\Desktop\\BrainTumorDetectionYolov\\BrainTumorDetectionYolov9\\test\\images\\volume_261_slice_59_jpg.rf.589d73bf00f1f4cc3781e1d44bc56ebe.jpg: 608x640 (no detections), 11.0ms\n",
      "Speed: 6.0ms preprocess, 11.0ms inference, 2.0ms postprocess per image at shape (1, 3, 608, 640)\n",
      "\n",
      "image 1/1 C:\\Users\\Mohit\\OneDrive\\Desktop\\BrainTumorDetectionYolov\\BrainTumorDetectionYolov9\\test\\images\\volume_261_slice_70_jpg.rf.962fd39593bfca50f4e618d0d6cbbb29.jpg: 608x640 (no detections), 12.0ms\n",
      "Speed: 5.9ms preprocess, 12.0ms inference, 1.0ms postprocess per image at shape (1, 3, 608, 640)\n",
      "\n",
      "image 1/1 C:\\Users\\Mohit\\OneDrive\\Desktop\\BrainTumorDetectionYolov\\BrainTumorDetectionYolov9\\test\\images\\volume_261_slice_72_jpg.rf.dad8282389a01ec7f22eb7db3fe326e6.jpg: 608x640 (no detections), 16.5ms\n",
      "Speed: 6.0ms preprocess, 16.5ms inference, 1.0ms postprocess per image at shape (1, 3, 608, 640)\n",
      "\n",
      "image 1/1 C:\\Users\\Mohit\\OneDrive\\Desktop\\BrainTumorDetectionYolov\\BrainTumorDetectionYolov9\\test\\images\\volume_261_slice_80_jpg.rf.efb9215801361992e3f3a748493de352.jpg: 608x640 (no detections), 12.0ms\n",
      "Speed: 7.0ms preprocess, 12.0ms inference, 2.0ms postprocess per image at shape (1, 3, 608, 640)\n",
      "\n",
      "image 1/1 C:\\Users\\Mohit\\OneDrive\\Desktop\\BrainTumorDetectionYolov\\BrainTumorDetectionYolov9\\test\\images\\volume_262_slice_92_jpg.rf.94b01094b71d482d1c359e7c34016b7a.jpg: 608x640 1 label1, 14.0ms\n",
      "Speed: 6.0ms preprocess, 14.0ms inference, 4.0ms postprocess per image at shape (1, 3, 608, 640)\n",
      "\n",
      "image 1/1 C:\\Users\\Mohit\\OneDrive\\Desktop\\BrainTumorDetectionYolov\\BrainTumorDetectionYolov9\\test\\images\\volume_263_slice_127_jpg.rf.4a5a6e5ce1c8cb699b808728d75e3122.jpg: 608x640 (no detections), 14.4ms\n",
      "Speed: 6.0ms preprocess, 14.4ms inference, 1.0ms postprocess per image at shape (1, 3, 608, 640)\n",
      "\n",
      "image 1/1 C:\\Users\\Mohit\\OneDrive\\Desktop\\BrainTumorDetectionYolov\\BrainTumorDetectionYolov9\\test\\images\\volume_264_slice_90_jpg.rf.c1bb35dbc3e1c467800a2b1cb10186fc.jpg: 608x640 (no detections), 11.0ms\n",
      "Speed: 7.0ms preprocess, 11.0ms inference, 1.0ms postprocess per image at shape (1, 3, 608, 640)\n",
      "\n",
      "image 1/1 C:\\Users\\Mohit\\OneDrive\\Desktop\\BrainTumorDetectionYolov\\BrainTumorDetectionYolov9\\test\\images\\volume_265_slice_79_jpg.rf.895a6d1578d085b6e133ebcb2a10fc3f.jpg: 608x640 1 label1, 12.0ms\n",
      "Speed: 6.0ms preprocess, 12.0ms inference, 3.0ms postprocess per image at shape (1, 3, 608, 640)\n",
      "\n",
      "image 1/1 C:\\Users\\Mohit\\OneDrive\\Desktop\\BrainTumorDetectionYolov\\BrainTumorDetectionYolov9\\test\\images\\volume_266_slice_100_jpg.rf.f2170238217d7b0f04668ca70b089e71.jpg: 608x640 (no detections), 16.0ms\n",
      "Speed: 7.0ms preprocess, 16.0ms inference, 1.0ms postprocess per image at shape (1, 3, 608, 640)\n",
      "\n",
      "image 1/1 C:\\Users\\Mohit\\OneDrive\\Desktop\\BrainTumorDetectionYolov\\BrainTumorDetectionYolov9\\test\\images\\volume_268_slice_46_jpg.rf.f35fba1c4ee98c30a98d21c7959f1089.jpg: 608x640 (no detections), 21.2ms\n",
      "Speed: 6.0ms preprocess, 21.2ms inference, 2.5ms postprocess per image at shape (1, 3, 608, 640)\n",
      "\n",
      "image 1/1 C:\\Users\\Mohit\\OneDrive\\Desktop\\BrainTumorDetectionYolov\\BrainTumorDetectionYolov9\\test\\images\\volume_268_slice_56_jpg.rf.997bc065da6f3c471712b9a621bd462d.jpg: 608x640 (no detections), 22.3ms\n",
      "Speed: 6.0ms preprocess, 22.3ms inference, 1.0ms postprocess per image at shape (1, 3, 608, 640)\n",
      "\n",
      "image 1/1 C:\\Users\\Mohit\\OneDrive\\Desktop\\BrainTumorDetectionYolov\\BrainTumorDetectionYolov9\\test\\images\\volume_268_slice_59_jpg.rf.7a17fabba6d1d1fbdc5ee5ff87b76a70.jpg: 608x640 (no detections), 12.0ms\n",
      "Speed: 6.0ms preprocess, 12.0ms inference, 1.0ms postprocess per image at shape (1, 3, 608, 640)\n",
      "\n",
      "image 1/1 C:\\Users\\Mohit\\OneDrive\\Desktop\\BrainTumorDetectionYolov\\BrainTumorDetectionYolov9\\test\\images\\volume_269_slice_83_jpg.rf.f58ed2754d532a521da29ad0aeb96acf.jpg: 608x640 1 label1, 12.5ms\n",
      "Speed: 7.0ms preprocess, 12.5ms inference, 7.0ms postprocess per image at shape (1, 3, 608, 640)\n",
      "\n",
      "image 1/1 C:\\Users\\Mohit\\OneDrive\\Desktop\\BrainTumorDetectionYolov\\BrainTumorDetectionYolov9\\test\\images\\volume_26_slice_106_jpg.rf.e9ae6efd516e30d11fd23081c0a803e6.jpg: 608x640 (no detections), 22.5ms\n",
      "Speed: 6.2ms preprocess, 22.5ms inference, 1.0ms postprocess per image at shape (1, 3, 608, 640)\n",
      "\n",
      "image 1/1 C:\\Users\\Mohit\\OneDrive\\Desktop\\BrainTumorDetectionYolov\\BrainTumorDetectionYolov9\\test\\images\\volume_26_slice_32_jpg.rf.e0612ab80f950f99748805f63af9561a.jpg: 608x640 (no detections), 14.0ms\n",
      "Speed: 6.0ms preprocess, 14.0ms inference, 1.0ms postprocess per image at shape (1, 3, 608, 640)\n",
      "\n",
      "image 1/1 C:\\Users\\Mohit\\OneDrive\\Desktop\\BrainTumorDetectionYolov\\BrainTumorDetectionYolov9\\test\\images\\volume_26_slice_36_jpg.rf.cdfd2307dda89890d2ae56e5a4713db4.jpg: 608x640 (no detections), 15.9ms\n",
      "Speed: 7.1ms preprocess, 15.9ms inference, 1.0ms postprocess per image at shape (1, 3, 608, 640)\n",
      "\n",
      "image 1/1 C:\\Users\\Mohit\\OneDrive\\Desktop\\BrainTumorDetectionYolov\\BrainTumorDetectionYolov9\\test\\images\\volume_26_slice_56_jpg.rf.196ffeb569c32b90696adb9014315abd.jpg: 608x640 (no detections), 17.5ms\n",
      "Speed: 6.0ms preprocess, 17.5ms inference, 2.0ms postprocess per image at shape (1, 3, 608, 640)\n",
      "\n",
      "image 1/1 C:\\Users\\Mohit\\OneDrive\\Desktop\\BrainTumorDetectionYolov\\BrainTumorDetectionYolov9\\test\\images\\volume_270_slice_53_jpg.rf.d71ccc19e5f28a175aac993a73d60bc7.jpg: 608x640 (no detections), 31.1ms\n",
      "Speed: 6.0ms preprocess, 31.1ms inference, 1.0ms postprocess per image at shape (1, 3, 608, 640)\n",
      "\n",
      "image 1/1 C:\\Users\\Mohit\\OneDrive\\Desktop\\BrainTumorDetectionYolov\\BrainTumorDetectionYolov9\\test\\images\\volume_270_slice_68_jpg.rf.31982f1a9b5eedfa9310c4c05f584939.jpg: 608x640 (no detections), 14.9ms\n",
      "Speed: 6.1ms preprocess, 14.9ms inference, 1.0ms postprocess per image at shape (1, 3, 608, 640)\n",
      "\n",
      "image 1/1 C:\\Users\\Mohit\\OneDrive\\Desktop\\BrainTumorDetectionYolov\\BrainTumorDetectionYolov9\\test\\images\\volume_270_slice_89_jpg.rf.76560c41806da2d88171f4b3b0f53064.jpg: 608x640 (no detections), 12.9ms\n",
      "Speed: 7.1ms preprocess, 12.9ms inference, 1.0ms postprocess per image at shape (1, 3, 608, 640)\n",
      "\n",
      "image 1/1 C:\\Users\\Mohit\\OneDrive\\Desktop\\BrainTumorDetectionYolov\\BrainTumorDetectionYolov9\\test\\images\\volume_271_slice_46_jpg.rf.25e0faeb2627fb4e5a7771e300dd9407.jpg: 608x640 (no detections), 22.0ms\n",
      "Speed: 7.0ms preprocess, 22.0ms inference, 2.0ms postprocess per image at shape (1, 3, 608, 640)\n",
      "\n",
      "image 1/1 C:\\Users\\Mohit\\OneDrive\\Desktop\\BrainTumorDetectionYolov\\BrainTumorDetectionYolov9\\test\\images\\volume_271_slice_59_jpg.rf.e5925eba8e5677a3b85d4273033a5bd1.jpg: 608x640 (no detections), 13.0ms\n",
      "Speed: 6.0ms preprocess, 13.0ms inference, 1.0ms postprocess per image at shape (1, 3, 608, 640)\n",
      "\n",
      "image 1/1 C:\\Users\\Mohit\\OneDrive\\Desktop\\BrainTumorDetectionYolov\\BrainTumorDetectionYolov9\\test\\images\\volume_271_slice_61_jpg.rf.3da2aab4a8d68e3f57255c4656d328a1.jpg: 608x640 (no detections), 12.9ms\n",
      "Speed: 6.1ms preprocess, 12.9ms inference, 1.0ms postprocess per image at shape (1, 3, 608, 640)\n",
      "\n",
      "image 1/1 C:\\Users\\Mohit\\OneDrive\\Desktop\\BrainTumorDetectionYolov\\BrainTumorDetectionYolov9\\test\\images\\volume_271_slice_70_jpg.rf.66920b80ca073426dad6fba828750aaf.jpg: 608x640 1 label1, 21.2ms\n",
      "Speed: 6.0ms preprocess, 21.2ms inference, 5.0ms postprocess per image at shape (1, 3, 608, 640)\n",
      "\n",
      "image 1/1 C:\\Users\\Mohit\\OneDrive\\Desktop\\BrainTumorDetectionYolov\\BrainTumorDetectionYolov9\\test\\images\\volume_272_slice_106_jpg.rf.48db9ab1acdc679458c1a7230becd511.jpg: 608x640 (no detections), 12.0ms\n",
      "Speed: 6.0ms preprocess, 12.0ms inference, 1.0ms postprocess per image at shape (1, 3, 608, 640)\n",
      "\n",
      "image 1/1 C:\\Users\\Mohit\\OneDrive\\Desktop\\BrainTumorDetectionYolov\\BrainTumorDetectionYolov9\\test\\images\\volume_272_slice_30_jpg.rf.26512112ff4a278e36c0b21a732aee6c.jpg: 608x640 (no detections), 12.5ms\n",
      "Speed: 8.0ms preprocess, 12.5ms inference, 1.0ms postprocess per image at shape (1, 3, 608, 640)\n",
      "\n",
      "image 1/1 C:\\Users\\Mohit\\OneDrive\\Desktop\\BrainTumorDetectionYolov\\BrainTumorDetectionYolov9\\test\\images\\volume_272_slice_32_jpg.rf.aab4053c876ecb9795f0bb54f1fb150a.jpg: 608x640 (no detections), 13.0ms\n",
      "Speed: 7.0ms preprocess, 13.0ms inference, 1.0ms postprocess per image at shape (1, 3, 608, 640)\n",
      "\n",
      "image 1/1 C:\\Users\\Mohit\\OneDrive\\Desktop\\BrainTumorDetectionYolov\\BrainTumorDetectionYolov9\\test\\images\\volume_272_slice_33_jpg.rf.95bbd68e9f157a0e539fa394b3a5ebd5.jpg: 608x640 (no detections), 13.4ms\n",
      "Speed: 6.0ms preprocess, 13.4ms inference, 1.0ms postprocess per image at shape (1, 3, 608, 640)\n",
      "\n",
      "image 1/1 C:\\Users\\Mohit\\OneDrive\\Desktop\\BrainTumorDetectionYolov\\BrainTumorDetectionYolov9\\test\\images\\volume_272_slice_83_jpg.rf.6117ab44ab9e9169cd4ea02539577e2e.jpg: 608x640 (no detections), 16.0ms\n",
      "Speed: 6.0ms preprocess, 16.0ms inference, 1.0ms postprocess per image at shape (1, 3, 608, 640)\n",
      "\n",
      "image 1/1 C:\\Users\\Mohit\\OneDrive\\Desktop\\BrainTumorDetectionYolov\\BrainTumorDetectionYolov9\\test\\images\\volume_272_slice_84_jpg.rf.cb090c20083a137895559e322f129427.jpg: 608x640 (no detections), 13.0ms\n",
      "Speed: 7.0ms preprocess, 13.0ms inference, 1.0ms postprocess per image at shape (1, 3, 608, 640)\n",
      "\n",
      "image 1/1 C:\\Users\\Mohit\\OneDrive\\Desktop\\BrainTumorDetectionYolov\\BrainTumorDetectionYolov9\\test\\images\\volume_273_slice_110_jpg.rf.84fa25f5aff17ba7a4b5ff21dac845ed.jpg: 608x640 (no detections), 12.0ms\n",
      "Speed: 8.0ms preprocess, 12.0ms inference, 1.0ms postprocess per image at shape (1, 3, 608, 640)\n",
      "\n",
      "image 1/1 C:\\Users\\Mohit\\OneDrive\\Desktop\\BrainTumorDetectionYolov\\BrainTumorDetectionYolov9\\test\\images\\volume_274_slice_123_jpg.rf.903bba688a5a802781e59bb6d53c672e.jpg: 608x640 (no detections), 12.0ms\n",
      "Speed: 6.0ms preprocess, 12.0ms inference, 1.0ms postprocess per image at shape (1, 3, 608, 640)\n",
      "\n",
      "image 1/1 C:\\Users\\Mohit\\OneDrive\\Desktop\\BrainTumorDetectionYolov\\BrainTumorDetectionYolov9\\test\\images\\volume_274_slice_132_jpg.rf.41a11c42dfc91c699dd4a3e28eed04ee.jpg: 608x640 (no detections), 11.0ms\n",
      "Speed: 6.0ms preprocess, 11.0ms inference, 1.0ms postprocess per image at shape (1, 3, 608, 640)\n",
      "\n",
      "image 1/1 C:\\Users\\Mohit\\OneDrive\\Desktop\\BrainTumorDetectionYolov\\BrainTumorDetectionYolov9\\test\\images\\volume_274_slice_91_jpg.rf.8ca21c6bb555e34adacd4d1ce79ae7ad.jpg: 608x640 (no detections), 11.0ms\n",
      "Speed: 6.0ms preprocess, 11.0ms inference, 2.0ms postprocess per image at shape (1, 3, 608, 640)\n",
      "\n",
      "image 1/1 C:\\Users\\Mohit\\OneDrive\\Desktop\\BrainTumorDetectionYolov\\BrainTumorDetectionYolov9\\test\\images\\volume_274_slice_93_jpg.rf.342e78b0a612c2ad27da3afd40c921e0.jpg: 608x640 (no detections), 12.0ms\n",
      "Speed: 7.0ms preprocess, 12.0ms inference, 1.0ms postprocess per image at shape (1, 3, 608, 640)\n",
      "\n",
      "image 1/1 C:\\Users\\Mohit\\OneDrive\\Desktop\\BrainTumorDetectionYolov\\BrainTumorDetectionYolov9\\test\\images\\volume_275_slice_64_jpg.rf.a93b0e0794f1bbb87c6374d484a64d35.jpg: 608x640 (no detections), 13.0ms\n",
      "Speed: 6.0ms preprocess, 13.0ms inference, 1.0ms postprocess per image at shape (1, 3, 608, 640)\n",
      "\n",
      "image 1/1 C:\\Users\\Mohit\\OneDrive\\Desktop\\BrainTumorDetectionYolov\\BrainTumorDetectionYolov9\\test\\images\\volume_276_slice_71_jpg.rf.82df554d37c9b7b9e071e4998fa8d788.jpg: 608x640 (no detections), 19.0ms\n",
      "Speed: 6.0ms preprocess, 19.0ms inference, 1.0ms postprocess per image at shape (1, 3, 608, 640)\n",
      "\n",
      "image 1/1 C:\\Users\\Mohit\\OneDrive\\Desktop\\BrainTumorDetectionYolov\\BrainTumorDetectionYolov9\\test\\images\\volume_276_slice_94_jpg.rf.e0971eb7643eef63c111a7b5b59bdbe3.jpg: 608x640 (no detections), 12.0ms\n",
      "Speed: 5.0ms preprocess, 12.0ms inference, 1.0ms postprocess per image at shape (1, 3, 608, 640)\n",
      "\n",
      "image 1/1 C:\\Users\\Mohit\\OneDrive\\Desktop\\BrainTumorDetectionYolov\\BrainTumorDetectionYolov9\\test\\images\\volume_276_slice_99_jpg.rf.3dd76b93b1bb3673ba6e270634f7a15b.jpg: 608x640 (no detections), 11.0ms\n",
      "Speed: 6.0ms preprocess, 11.0ms inference, 2.0ms postprocess per image at shape (1, 3, 608, 640)\n",
      "\n",
      "image 1/1 C:\\Users\\Mohit\\OneDrive\\Desktop\\BrainTumorDetectionYolov\\BrainTumorDetectionYolov9\\test\\images\\volume_277_slice_86_jpg.rf.6a442b7a92a20757464baa14afef65ba.jpg: 608x640 (no detections), 19.9ms\n",
      "Speed: 6.0ms preprocess, 19.9ms inference, 1.0ms postprocess per image at shape (1, 3, 608, 640)\n",
      "\n",
      "image 1/1 C:\\Users\\Mohit\\OneDrive\\Desktop\\BrainTumorDetectionYolov\\BrainTumorDetectionYolov9\\test\\images\\volume_277_slice_97_jpg.rf.d2e32dba1dc4d75b700c8d2a6a678d93.jpg: 608x640 (no detections), 12.9ms\n",
      "Speed: 6.0ms preprocess, 12.9ms inference, 1.0ms postprocess per image at shape (1, 3, 608, 640)\n",
      "\n",
      "image 1/1 C:\\Users\\Mohit\\OneDrive\\Desktop\\BrainTumorDetectionYolov\\BrainTumorDetectionYolov9\\test\\images\\volume_278_slice_52_jpg.rf.f29c755a3c1b670897b01fefad43f8a1.jpg: 608x640 (no detections), 10.9ms\n",
      "Speed: 6.0ms preprocess, 10.9ms inference, 1.0ms postprocess per image at shape (1, 3, 608, 640)\n",
      "\n",
      "image 1/1 C:\\Users\\Mohit\\OneDrive\\Desktop\\BrainTumorDetectionYolov\\BrainTumorDetectionYolov9\\test\\images\\volume_279_slice_110_jpg.rf.60f8abc185f4c81d20d29b8ad60c5386.jpg: 608x640 (no detections), 16.0ms\n",
      "Speed: 7.0ms preprocess, 16.0ms inference, 1.0ms postprocess per image at shape (1, 3, 608, 640)\n",
      "\n",
      "image 1/1 C:\\Users\\Mohit\\OneDrive\\Desktop\\BrainTumorDetectionYolov\\BrainTumorDetectionYolov9\\test\\images\\volume_279_slice_123_jpg.rf.ecc4e16463fc8725532424b07a1d38da.jpg: 608x640 (no detections), 11.0ms\n",
      "Speed: 6.0ms preprocess, 11.0ms inference, 1.0ms postprocess per image at shape (1, 3, 608, 640)\n",
      "\n",
      "image 1/1 C:\\Users\\Mohit\\OneDrive\\Desktop\\BrainTumorDetectionYolov\\BrainTumorDetectionYolov9\\test\\images\\volume_279_slice_60_jpg.rf.6f17ef49bb2582e8dc0b9dc6952d8ccc.jpg: 608x640 (no detections), 13.0ms\n",
      "Speed: 5.0ms preprocess, 13.0ms inference, 1.0ms postprocess per image at shape (1, 3, 608, 640)\n",
      "\n",
      "image 1/1 C:\\Users\\Mohit\\OneDrive\\Desktop\\BrainTumorDetectionYolov\\BrainTumorDetectionYolov9\\test\\images\\volume_279_slice_70_jpg.rf.60b1ce9dd31772fd26cea28811e3c277.jpg: 608x640 (no detections), 12.0ms\n",
      "Speed: 6.0ms preprocess, 12.0ms inference, 1.0ms postprocess per image at shape (1, 3, 608, 640)\n",
      "\n",
      "image 1/1 C:\\Users\\Mohit\\OneDrive\\Desktop\\BrainTumorDetectionYolov\\BrainTumorDetectionYolov9\\test\\images\\volume_279_slice_84_jpg.rf.3066da1a7de5d779e2892941ead08aef.jpg: 608x640 1 label0, 1 label1, 13.0ms\n",
      "Speed: 6.0ms preprocess, 13.0ms inference, 3.0ms postprocess per image at shape (1, 3, 608, 640)\n",
      "\n",
      "image 1/1 C:\\Users\\Mohit\\OneDrive\\Desktop\\BrainTumorDetectionYolov\\BrainTumorDetectionYolov9\\test\\images\\volume_27_slice_44_jpg.rf.f1f6ce1f4e4447f2beafe6647c397532.jpg: 608x640 (no detections), 12.0ms\n",
      "Speed: 7.0ms preprocess, 12.0ms inference, 1.0ms postprocess per image at shape (1, 3, 608, 640)\n",
      "\n",
      "image 1/1 C:\\Users\\Mohit\\OneDrive\\Desktop\\BrainTumorDetectionYolov\\BrainTumorDetectionYolov9\\test\\images\\volume_27_slice_85_jpg.rf.1cdfc1275ca20f09d7ce6b288158ae29.jpg: 608x640 (no detections), 14.0ms\n",
      "Speed: 19.4ms preprocess, 14.0ms inference, 1.0ms postprocess per image at shape (1, 3, 608, 640)\n",
      "\n",
      "image 1/1 C:\\Users\\Mohit\\OneDrive\\Desktop\\BrainTumorDetectionYolov\\BrainTumorDetectionYolov9\\test\\images\\volume_280_slice_92_jpg.rf.06fa11287b95964c3eed962584d88e74.jpg: 608x640 (no detections), 13.0ms\n",
      "Speed: 7.0ms preprocess, 13.0ms inference, 1.0ms postprocess per image at shape (1, 3, 608, 640)\n",
      "\n",
      "image 1/1 C:\\Users\\Mohit\\OneDrive\\Desktop\\BrainTumorDetectionYolov\\BrainTumorDetectionYolov9\\test\\images\\volume_280_slice_94_jpg.rf.291a480697cd3ad24b6f7037ada76001.jpg: 608x640 (no detections), 12.5ms\n",
      "Speed: 6.0ms preprocess, 12.5ms inference, 1.0ms postprocess per image at shape (1, 3, 608, 640)\n",
      "\n",
      "image 1/1 C:\\Users\\Mohit\\OneDrive\\Desktop\\BrainTumorDetectionYolov\\BrainTumorDetectionYolov9\\test\\images\\volume_281_slice_100_jpg.rf.57533f01ff23384a73de2ae79a1bd2b6.jpg: 608x640 (no detections), 12.0ms\n",
      "Speed: 7.0ms preprocess, 12.0ms inference, 1.0ms postprocess per image at shape (1, 3, 608, 640)\n",
      "\n",
      "image 1/1 C:\\Users\\Mohit\\OneDrive\\Desktop\\BrainTumorDetectionYolov\\BrainTumorDetectionYolov9\\test\\images\\volume_281_slice_122_jpg.rf.669edb0d75cb9fb364934df437dcdcd3.jpg: 608x640 (no detections), 12.4ms\n",
      "Speed: 8.0ms preprocess, 12.4ms inference, 1.0ms postprocess per image at shape (1, 3, 608, 640)\n",
      "\n",
      "image 1/1 C:\\Users\\Mohit\\OneDrive\\Desktop\\BrainTumorDetectionYolov\\BrainTumorDetectionYolov9\\test\\images\\volume_281_slice_89_jpg.rf.166111e4d63c28aa8fd274ae162641df.jpg: 608x640 (no detections), 12.0ms\n",
      "Speed: 6.0ms preprocess, 12.0ms inference, 1.0ms postprocess per image at shape (1, 3, 608, 640)\n",
      "\n",
      "image 1/1 C:\\Users\\Mohit\\OneDrive\\Desktop\\BrainTumorDetectionYolov\\BrainTumorDetectionYolov9\\test\\images\\volume_282_slice_42_jpg.rf.04f3d7ae396ca2acf3fa0cf21b4c7421.jpg: 608x640 (no detections), 18.4ms\n",
      "Speed: 7.0ms preprocess, 18.4ms inference, 1.0ms postprocess per image at shape (1, 3, 608, 640)\n",
      "\n",
      "image 1/1 C:\\Users\\Mohit\\OneDrive\\Desktop\\BrainTumorDetectionYolov\\BrainTumorDetectionYolov9\\test\\images\\volume_283_slice_101_jpg.rf.26dfdbe36a726c725485f42b081232c8.jpg: 608x640 (no detections), 13.0ms\n",
      "Speed: 6.0ms preprocess, 13.0ms inference, 1.0ms postprocess per image at shape (1, 3, 608, 640)\n",
      "\n",
      "image 1/1 C:\\Users\\Mohit\\OneDrive\\Desktop\\BrainTumorDetectionYolov\\BrainTumorDetectionYolov9\\test\\images\\volume_283_slice_119_jpg.rf.c97a55b494bc80f76e385ddf91b3009c.jpg: 608x640 (no detections), 12.0ms\n",
      "Speed: 10.0ms preprocess, 12.0ms inference, 1.0ms postprocess per image at shape (1, 3, 608, 640)\n",
      "\n",
      "image 1/1 C:\\Users\\Mohit\\OneDrive\\Desktop\\BrainTumorDetectionYolov\\BrainTumorDetectionYolov9\\test\\images\\volume_284_slice_63_jpg.rf.3c66cf886e4e08f03204b3303cc7180c.jpg: 608x640 (no detections), 15.0ms\n",
      "Speed: 7.0ms preprocess, 15.0ms inference, 2.0ms postprocess per image at shape (1, 3, 608, 640)\n",
      "\n",
      "image 1/1 C:\\Users\\Mohit\\OneDrive\\Desktop\\BrainTumorDetectionYolov\\BrainTumorDetectionYolov9\\test\\images\\volume_284_slice_85_jpg.rf.1028017bf1e102da57df1390d76f8d95.jpg: 608x640 (no detections), 13.0ms\n",
      "Speed: 6.0ms preprocess, 13.0ms inference, 1.0ms postprocess per image at shape (1, 3, 608, 640)\n",
      "\n",
      "image 1/1 C:\\Users\\Mohit\\OneDrive\\Desktop\\BrainTumorDetectionYolov\\BrainTumorDetectionYolov9\\test\\images\\volume_284_slice_99_jpg.rf.2665962f0cc19e6c796546527df1e766.jpg: 608x640 (no detections), 13.0ms\n",
      "Speed: 6.0ms preprocess, 13.0ms inference, 1.0ms postprocess per image at shape (1, 3, 608, 640)\n",
      "\n",
      "image 1/1 C:\\Users\\Mohit\\OneDrive\\Desktop\\BrainTumorDetectionYolov\\BrainTumorDetectionYolov9\\test\\images\\volume_285_slice_113_jpg.rf.e2f4fe971841b191aaa67eb1a08a0eaf.jpg: 608x640 (no detections), 16.0ms\n",
      "Speed: 7.0ms preprocess, 16.0ms inference, 1.0ms postprocess per image at shape (1, 3, 608, 640)\n",
      "\n",
      "image 1/1 C:\\Users\\Mohit\\OneDrive\\Desktop\\BrainTumorDetectionYolov\\BrainTumorDetectionYolov9\\test\\images\\volume_285_slice_64_jpg.rf.333118832648c12aaaee26bd26f4473b.jpg: 608x640 (no detections), 14.3ms\n",
      "Speed: 8.0ms preprocess, 14.3ms inference, 1.0ms postprocess per image at shape (1, 3, 608, 640)\n",
      "\n",
      "image 1/1 C:\\Users\\Mohit\\OneDrive\\Desktop\\BrainTumorDetectionYolov\\BrainTumorDetectionYolov9\\test\\images\\volume_285_slice_78_jpg.rf.4611ecbc9f679533ab46667c84aac485.jpg: 608x640 1 label1, 13.0ms\n",
      "Speed: 7.0ms preprocess, 13.0ms inference, 4.0ms postprocess per image at shape (1, 3, 608, 640)\n",
      "\n",
      "image 1/1 C:\\Users\\Mohit\\OneDrive\\Desktop\\BrainTumorDetectionYolov\\BrainTumorDetectionYolov9\\test\\images\\volume_285_slice_83_jpg.rf.72e31f088f03f2b30802a553772d7b3f.jpg: 608x640 (no detections), 11.2ms\n",
      "Speed: 6.0ms preprocess, 11.2ms inference, 1.0ms postprocess per image at shape (1, 3, 608, 640)\n",
      "\n",
      "image 1/1 C:\\Users\\Mohit\\OneDrive\\Desktop\\BrainTumorDetectionYolov\\BrainTumorDetectionYolov9\\test\\images\\volume_286_slice_78_jpg.rf.cde6f2861a4771ea57f498a5a9326f8e.jpg: 608x640 (no detections), 13.0ms\n",
      "Speed: 7.0ms preprocess, 13.0ms inference, 2.0ms postprocess per image at shape (1, 3, 608, 640)\n",
      "\n",
      "image 1/1 C:\\Users\\Mohit\\OneDrive\\Desktop\\BrainTumorDetectionYolov\\BrainTumorDetectionYolov9\\test\\images\\volume_287_slice_120_jpg.rf.9f6654f04beccd2a0da98fcd959e57e1.jpg: 608x640 (no detections), 12.0ms\n",
      "Speed: 6.0ms preprocess, 12.0ms inference, 1.0ms postprocess per image at shape (1, 3, 608, 640)\n",
      "\n",
      "image 1/1 C:\\Users\\Mohit\\OneDrive\\Desktop\\BrainTumorDetectionYolov\\BrainTumorDetectionYolov9\\test\\images\\volume_288_slice_71_jpg.rf.ecd02342d715812640e36b25a7f0389f.jpg: 608x640 (no detections), 11.5ms\n",
      "Speed: 6.0ms preprocess, 11.5ms inference, 2.0ms postprocess per image at shape (1, 3, 608, 640)\n",
      "\n",
      "image 1/1 C:\\Users\\Mohit\\OneDrive\\Desktop\\BrainTumorDetectionYolov\\BrainTumorDetectionYolov9\\test\\images\\volume_289_slice_101_jpg.rf.821b14bbafc839803dd93d2ca11dbda6.jpg: 608x640 1 label1, 15.0ms\n",
      "Speed: 7.0ms preprocess, 15.0ms inference, 3.0ms postprocess per image at shape (1, 3, 608, 640)\n",
      "\n",
      "image 1/1 C:\\Users\\Mohit\\OneDrive\\Desktop\\BrainTumorDetectionYolov\\BrainTumorDetectionYolov9\\test\\images\\volume_289_slice_73_jpg.rf.3a1f7aec54ad0ec913c29539f08a5d50.jpg: 608x640 (no detections), 11.9ms\n",
      "Speed: 5.0ms preprocess, 11.9ms inference, 1.0ms postprocess per image at shape (1, 3, 608, 640)\n",
      "\n",
      "image 1/1 C:\\Users\\Mohit\\OneDrive\\Desktop\\BrainTumorDetectionYolov\\BrainTumorDetectionYolov9\\test\\images\\volume_289_slice_89_jpg.rf.84a68564b881eef1f838dd6d3f344930.jpg: 608x640 (no detections), 18.0ms\n",
      "Speed: 6.0ms preprocess, 18.0ms inference, 1.0ms postprocess per image at shape (1, 3, 608, 640)\n",
      "\n",
      "image 1/1 C:\\Users\\Mohit\\OneDrive\\Desktop\\BrainTumorDetectionYolov\\BrainTumorDetectionYolov9\\test\\images\\volume_28_slice_40_jpg.rf.208ffa7eaa3de3c359e13e6f2ac7b7a4.jpg: 608x640 (no detections), 11.0ms\n",
      "Speed: 8.0ms preprocess, 11.0ms inference, 2.0ms postprocess per image at shape (1, 3, 608, 640)\n",
      "\n",
      "image 1/1 C:\\Users\\Mohit\\OneDrive\\Desktop\\BrainTumorDetectionYolov\\BrainTumorDetectionYolov9\\test\\images\\volume_28_slice_74_jpg.rf.65c1dc61959ded041101450e15610d44.jpg: 608x640 (no detections), 12.0ms\n",
      "Speed: 6.0ms preprocess, 12.0ms inference, 1.0ms postprocess per image at shape (1, 3, 608, 640)\n",
      "\n",
      "image 1/1 C:\\Users\\Mohit\\OneDrive\\Desktop\\BrainTumorDetectionYolov\\BrainTumorDetectionYolov9\\test\\images\\volume_290_slice_107_jpg.rf.3f93f02d5fbe1102d82887b064ffda96.jpg: 608x640 (no detections), 12.5ms\n",
      "Speed: 7.0ms preprocess, 12.5ms inference, 1.0ms postprocess per image at shape (1, 3, 608, 640)\n",
      "\n",
      "image 1/1 C:\\Users\\Mohit\\OneDrive\\Desktop\\BrainTumorDetectionYolov\\BrainTumorDetectionYolov9\\test\\images\\volume_290_slice_66_jpg.rf.1fc6c38f6b7946a8be79a3f04bcfff7a.jpg: 608x640 (no detections), 20.0ms\n",
      "Speed: 6.0ms preprocess, 20.0ms inference, 1.0ms postprocess per image at shape (1, 3, 608, 640)\n",
      "\n",
      "image 1/1 C:\\Users\\Mohit\\OneDrive\\Desktop\\BrainTumorDetectionYolov\\BrainTumorDetectionYolov9\\test\\images\\volume_290_slice_72_jpg.rf.1443e3289a24424172a018526574cc32.jpg: 608x640 (no detections), 11.0ms\n",
      "Speed: 5.0ms preprocess, 11.0ms inference, 2.0ms postprocess per image at shape (1, 3, 608, 640)\n",
      "\n",
      "image 1/1 C:\\Users\\Mohit\\OneDrive\\Desktop\\BrainTumorDetectionYolov\\BrainTumorDetectionYolov9\\test\\images\\volume_290_slice_82_jpg.rf.5ffa421d0859311a15c56221b6dae4b3.jpg: 608x640 (no detections), 11.0ms\n",
      "Speed: 6.0ms preprocess, 11.0ms inference, 1.0ms postprocess per image at shape (1, 3, 608, 640)\n",
      "\n",
      "image 1/1 C:\\Users\\Mohit\\OneDrive\\Desktop\\BrainTumorDetectionYolov\\BrainTumorDetectionYolov9\\test\\images\\volume_291_slice_110_jpg.rf.eb8f330f1bf140d728fc4af9b2abda64.jpg: 608x640 (no detections), 13.0ms\n",
      "Speed: 6.0ms preprocess, 13.0ms inference, 1.0ms postprocess per image at shape (1, 3, 608, 640)\n",
      "\n",
      "image 1/1 C:\\Users\\Mohit\\OneDrive\\Desktop\\BrainTumorDetectionYolov\\BrainTumorDetectionYolov9\\test\\images\\volume_291_slice_43_jpg.rf.63b5dfb2158578d4b5cfd66007d94514.jpg: 608x640 (no detections), 24.0ms\n",
      "Speed: 7.0ms preprocess, 24.0ms inference, 1.0ms postprocess per image at shape (1, 3, 608, 640)\n",
      "\n",
      "image 1/1 C:\\Users\\Mohit\\OneDrive\\Desktop\\BrainTumorDetectionYolov\\BrainTumorDetectionYolov9\\test\\images\\volume_291_slice_48_jpg.rf.83118d0799fd9a4bbacd528f6af4cf3b.jpg: 608x640 (no detections), 18.0ms\n",
      "Speed: 6.0ms preprocess, 18.0ms inference, 1.0ms postprocess per image at shape (1, 3, 608, 640)\n",
      "\n",
      "image 1/1 C:\\Users\\Mohit\\OneDrive\\Desktop\\BrainTumorDetectionYolov\\BrainTumorDetectionYolov9\\test\\images\\volume_291_slice_66_jpg.rf.c86677785d66988c2344ee65dc42a5c7.jpg: 608x640 (no detections), 16.0ms\n",
      "Speed: 6.0ms preprocess, 16.0ms inference, 1.0ms postprocess per image at shape (1, 3, 608, 640)\n",
      "\n",
      "image 1/1 C:\\Users\\Mohit\\OneDrive\\Desktop\\BrainTumorDetectionYolov\\BrainTumorDetectionYolov9\\test\\images\\volume_291_slice_70_jpg.rf.8d9d1daaf5be85fa7ac61f4db13d2983.jpg: 608x640 (no detections), 13.0ms\n",
      "Speed: 6.0ms preprocess, 13.0ms inference, 1.0ms postprocess per image at shape (1, 3, 608, 640)\n",
      "\n",
      "image 1/1 C:\\Users\\Mohit\\OneDrive\\Desktop\\BrainTumorDetectionYolov\\BrainTumorDetectionYolov9\\test\\images\\volume_291_slice_71_jpg.rf.9f1740bf45c9fa66b091ed3c9248c3c6.jpg: 608x640 (no detections), 12.6ms\n",
      "Speed: 6.0ms preprocess, 12.6ms inference, 1.0ms postprocess per image at shape (1, 3, 608, 640)\n",
      "\n",
      "image 1/1 C:\\Users\\Mohit\\OneDrive\\Desktop\\BrainTumorDetectionYolov\\BrainTumorDetectionYolov9\\test\\images\\volume_291_slice_73_jpg.rf.a475496d293a79fef008a1e586554080.jpg: 608x640 (no detections), 13.9ms\n",
      "Speed: 7.1ms preprocess, 13.9ms inference, 2.0ms postprocess per image at shape (1, 3, 608, 640)\n",
      "\n",
      "image 1/1 C:\\Users\\Mohit\\OneDrive\\Desktop\\BrainTumorDetectionYolov\\BrainTumorDetectionYolov9\\test\\images\\volume_292_slice_54_jpg.rf.1a000e83f4a4c01509f4e77a25f46741.jpg: 608x640 (no detections), 14.1ms\n",
      "Speed: 6.0ms preprocess, 14.1ms inference, 1.0ms postprocess per image at shape (1, 3, 608, 640)\n",
      "\n",
      "image 1/1 C:\\Users\\Mohit\\OneDrive\\Desktop\\BrainTumorDetectionYolov\\BrainTumorDetectionYolov9\\test\\images\\volume_292_slice_89_jpg.rf.c1df5946e920d141ef97cf00279e9cc3.jpg: 608x640 (no detections), 18.0ms\n",
      "Speed: 6.0ms preprocess, 18.0ms inference, 1.0ms postprocess per image at shape (1, 3, 608, 640)\n",
      "\n",
      "image 1/1 C:\\Users\\Mohit\\OneDrive\\Desktop\\BrainTumorDetectionYolov\\BrainTumorDetectionYolov9\\test\\images\\volume_293_slice_71_jpg.rf.c2b49c4f72181fcb0e22d83a625f20b4.jpg: 608x640 (no detections), 15.0ms\n",
      "Speed: 6.0ms preprocess, 15.0ms inference, 1.0ms postprocess per image at shape (1, 3, 608, 640)\n",
      "\n",
      "image 1/1 C:\\Users\\Mohit\\OneDrive\\Desktop\\BrainTumorDetectionYolov\\BrainTumorDetectionYolov9\\test\\images\\volume_293_slice_91_jpg.rf.4a4e778400fe707a07ef571843c65254.jpg: 608x640 (no detections), 13.0ms\n",
      "Speed: 7.0ms preprocess, 13.0ms inference, 1.0ms postprocess per image at shape (1, 3, 608, 640)\n",
      "\n",
      "image 1/1 C:\\Users\\Mohit\\OneDrive\\Desktop\\BrainTumorDetectionYolov\\BrainTumorDetectionYolov9\\test\\images\\volume_293_slice_93_jpg.rf.88405096c0e3546bf041b29d7567817d.jpg: 608x640 (no detections), 13.2ms\n",
      "Speed: 6.0ms preprocess, 13.2ms inference, 2.0ms postprocess per image at shape (1, 3, 608, 640)\n",
      "\n",
      "image 1/1 C:\\Users\\Mohit\\OneDrive\\Desktop\\BrainTumorDetectionYolov\\BrainTumorDetectionYolov9\\test\\images\\volume_294_slice_36_jpg.rf.60c92899b29d0572e14f35eb3e090029.jpg: 608x640 (no detections), 15.2ms\n",
      "Speed: 7.0ms preprocess, 15.2ms inference, 1.0ms postprocess per image at shape (1, 3, 608, 640)\n",
      "\n",
      "image 1/1 C:\\Users\\Mohit\\OneDrive\\Desktop\\BrainTumorDetectionYolov\\BrainTumorDetectionYolov9\\test\\images\\volume_294_slice_44_jpg.rf.f77979365f5c6b7b3a1ff0b79e12510b.jpg: 608x640 (no detections), 12.0ms\n",
      "Speed: 7.0ms preprocess, 12.0ms inference, 1.0ms postprocess per image at shape (1, 3, 608, 640)\n",
      "\n",
      "image 1/1 C:\\Users\\Mohit\\OneDrive\\Desktop\\BrainTumorDetectionYolov\\BrainTumorDetectionYolov9\\test\\images\\volume_294_slice_69_jpg.rf.b9e9439b85bd855e9ba9344673a3ac5a.jpg: 608x640 (no detections), 14.0ms\n",
      "Speed: 6.0ms preprocess, 14.0ms inference, 1.0ms postprocess per image at shape (1, 3, 608, 640)\n",
      "\n",
      "image 1/1 C:\\Users\\Mohit\\OneDrive\\Desktop\\BrainTumorDetectionYolov\\BrainTumorDetectionYolov9\\test\\images\\volume_295_slice_102_jpg.rf.778625a920a06c59e2e28e56eb513f45.jpg: 608x640 (no detections), 13.0ms\n",
      "Speed: 6.0ms preprocess, 13.0ms inference, 1.0ms postprocess per image at shape (1, 3, 608, 640)\n",
      "\n",
      "image 1/1 C:\\Users\\Mohit\\OneDrive\\Desktop\\BrainTumorDetectionYolov\\BrainTumorDetectionYolov9\\test\\images\\volume_296_slice_49_jpg.rf.7743a81bf55ffa2c8bfab43ca12767e0.jpg: 608x640 (no detections), 15.0ms\n",
      "Speed: 7.0ms preprocess, 15.0ms inference, 1.0ms postprocess per image at shape (1, 3, 608, 640)\n",
      "\n",
      "image 1/1 C:\\Users\\Mohit\\OneDrive\\Desktop\\BrainTumorDetectionYolov\\BrainTumorDetectionYolov9\\test\\images\\volume_296_slice_67_jpg.rf.5d590c456cf2a6ebde7e63e11832fbe7.jpg: 608x640 (no detections), 11.0ms\n",
      "Speed: 8.0ms preprocess, 11.0ms inference, 1.0ms postprocess per image at shape (1, 3, 608, 640)\n",
      "\n",
      "image 1/1 C:\\Users\\Mohit\\OneDrive\\Desktop\\BrainTumorDetectionYolov\\BrainTumorDetectionYolov9\\test\\images\\volume_296_slice_72_jpg.rf.466890bae6c1a7de0c11a83ed2c52c2a.jpg: 608x640 (no detections), 11.0ms\n",
      "Speed: 7.0ms preprocess, 11.0ms inference, 1.0ms postprocess per image at shape (1, 3, 608, 640)\n",
      "\n",
      "image 1/1 C:\\Users\\Mohit\\OneDrive\\Desktop\\BrainTumorDetectionYolov\\BrainTumorDetectionYolov9\\test\\images\\volume_296_slice_76_jpg.rf.724ce391eeb0cac9883640f42bc985f5.jpg: 608x640 (no detections), 13.0ms\n",
      "Speed: 6.0ms preprocess, 13.0ms inference, 1.0ms postprocess per image at shape (1, 3, 608, 640)\n",
      "\n",
      "image 1/1 C:\\Users\\Mohit\\OneDrive\\Desktop\\BrainTumorDetectionYolov\\BrainTumorDetectionYolov9\\test\\images\\volume_296_slice_96_jpg.rf.d6de36478eea3be2494d606400787aef.jpg: 608x640 (no detections), 17.0ms\n",
      "Speed: 6.0ms preprocess, 17.0ms inference, 1.0ms postprocess per image at shape (1, 3, 608, 640)\n",
      "\n",
      "image 1/1 C:\\Users\\Mohit\\OneDrive\\Desktop\\BrainTumorDetectionYolov\\BrainTumorDetectionYolov9\\test\\images\\volume_297_slice_71_jpg.rf.b8dcc6a93afdb5e7e1ce10d2b546d5e8.jpg: 608x640 (no detections), 12.0ms\n",
      "Speed: 6.0ms preprocess, 12.0ms inference, 1.0ms postprocess per image at shape (1, 3, 608, 640)\n",
      "\n",
      "image 1/1 C:\\Users\\Mohit\\OneDrive\\Desktop\\BrainTumorDetectionYolov\\BrainTumorDetectionYolov9\\test\\images\\volume_298_slice_69_jpg.rf.0b8e7fbdb783d0b8f2b2d1ce66c8ae06.jpg: 608x640 (no detections), 13.0ms\n",
      "Speed: 9.0ms preprocess, 13.0ms inference, 1.0ms postprocess per image at shape (1, 3, 608, 640)\n",
      "\n",
      "image 1/1 C:\\Users\\Mohit\\OneDrive\\Desktop\\BrainTumorDetectionYolov\\BrainTumorDetectionYolov9\\test\\images\\volume_298_slice_76_jpg.rf.9bfac95d2d28b5a4af7594dd3c2d2125.jpg: 608x640 (no detections), 12.0ms\n",
      "Speed: 5.7ms preprocess, 12.0ms inference, 1.0ms postprocess per image at shape (1, 3, 608, 640)\n",
      "\n",
      "image 1/1 C:\\Users\\Mohit\\OneDrive\\Desktop\\BrainTumorDetectionYolov\\BrainTumorDetectionYolov9\\test\\images\\volume_298_slice_77_jpg.rf.f343bd5327dc2c5c22f12511015c2277.jpg: 608x640 (no detections), 13.4ms\n",
      "Speed: 7.0ms preprocess, 13.4ms inference, 1.0ms postprocess per image at shape (1, 3, 608, 640)\n",
      "\n",
      "image 1/1 C:\\Users\\Mohit\\OneDrive\\Desktop\\BrainTumorDetectionYolov\\BrainTumorDetectionYolov9\\test\\images\\volume_298_slice_87_jpg.rf.e0cca07fbd31fabfeecd2c0ea503ff43.jpg: 608x640 (no detections), 12.0ms\n",
      "Speed: 6.3ms preprocess, 12.0ms inference, 1.0ms postprocess per image at shape (1, 3, 608, 640)\n",
      "\n",
      "image 1/1 C:\\Users\\Mohit\\OneDrive\\Desktop\\BrainTumorDetectionYolov\\BrainTumorDetectionYolov9\\test\\images\\volume_299_slice_79_jpg.rf.baaa74657703d615e324014c0afbcb8c.jpg: 608x640 (no detections), 12.0ms\n",
      "Speed: 6.0ms preprocess, 12.0ms inference, 1.0ms postprocess per image at shape (1, 3, 608, 640)\n",
      "\n",
      "image 1/1 C:\\Users\\Mohit\\OneDrive\\Desktop\\BrainTumorDetectionYolov\\BrainTumorDetectionYolov9\\test\\images\\volume_29_slice_100_jpg.rf.20ef70c3f9ddda702c79771b75063a5e.jpg: 608x640 (no detections), 12.0ms\n",
      "Speed: 6.0ms preprocess, 12.0ms inference, 1.0ms postprocess per image at shape (1, 3, 608, 640)\n",
      "\n",
      "image 1/1 C:\\Users\\Mohit\\OneDrive\\Desktop\\BrainTumorDetectionYolov\\BrainTumorDetectionYolov9\\test\\images\\volume_29_slice_57_jpg.rf.8120fb1f72a9e52e7bd5ea00c95976b2.jpg: 608x640 (no detections), 23.0ms\n",
      "Speed: 6.0ms preprocess, 23.0ms inference, 1.0ms postprocess per image at shape (1, 3, 608, 640)\n",
      "\n",
      "image 1/1 C:\\Users\\Mohit\\OneDrive\\Desktop\\BrainTumorDetectionYolov\\BrainTumorDetectionYolov9\\test\\images\\volume_29_slice_58_jpg.rf.576e892044a364822e0940a45a41cebc.jpg: 608x640 (no detections), 14.1ms\n",
      "Speed: 6.4ms preprocess, 14.1ms inference, 1.0ms postprocess per image at shape (1, 3, 608, 640)\n",
      "\n",
      "image 1/1 C:\\Users\\Mohit\\OneDrive\\Desktop\\BrainTumorDetectionYolov\\BrainTumorDetectionYolov9\\test\\images\\volume_29_slice_59_jpg.rf.f0ab51b63d6f5e3ec7f3b73691035545.jpg: 608x640 (no detections), 28.0ms\n",
      "Speed: 7.0ms preprocess, 28.0ms inference, 2.0ms postprocess per image at shape (1, 3, 608, 640)\n",
      "\n",
      "image 1/1 C:\\Users\\Mohit\\OneDrive\\Desktop\\BrainTumorDetectionYolov\\BrainTumorDetectionYolov9\\test\\images\\volume_29_slice_60_jpg.rf.bb127f0b09366edcf653c3bf7c483b45.jpg: 608x640 (no detections), 31.0ms\n",
      "Speed: 21.0ms preprocess, 31.0ms inference, 1.0ms postprocess per image at shape (1, 3, 608, 640)\n",
      "\n",
      "image 1/1 C:\\Users\\Mohit\\OneDrive\\Desktop\\BrainTumorDetectionYolov\\BrainTumorDetectionYolov9\\test\\images\\volume_29_slice_62_jpg.rf.ad02d14f44d0db2045713234bc2b2ff6.jpg: 608x640 (no detections), 12.0ms\n",
      "Speed: 7.0ms preprocess, 12.0ms inference, 2.0ms postprocess per image at shape (1, 3, 608, 640)\n",
      "\n",
      "image 1/1 C:\\Users\\Mohit\\OneDrive\\Desktop\\BrainTumorDetectionYolov\\BrainTumorDetectionYolov9\\test\\images\\volume_29_slice_66_jpg.rf.204a94965cc9a58dcb9d9f13b339ad49.jpg: 608x640 (no detections), 11.0ms\n",
      "Speed: 6.0ms preprocess, 11.0ms inference, 1.0ms postprocess per image at shape (1, 3, 608, 640)\n",
      "\n",
      "image 1/1 C:\\Users\\Mohit\\OneDrive\\Desktop\\BrainTumorDetectionYolov\\BrainTumorDetectionYolov9\\test\\images\\volume_29_slice_72_jpg.rf.2492cb37a94a6ef53ea21197dd7cd553.jpg: 608x640 (no detections), 12.0ms\n",
      "Speed: 6.0ms preprocess, 12.0ms inference, 1.0ms postprocess per image at shape (1, 3, 608, 640)\n",
      "\n",
      "image 1/1 C:\\Users\\Mohit\\OneDrive\\Desktop\\BrainTumorDetectionYolov\\BrainTumorDetectionYolov9\\test\\images\\volume_2_slice_73_jpg.rf.902bada75838f45043e447b5c7c8716f.jpg: 608x640 (no detections), 13.5ms\n",
      "Speed: 6.0ms preprocess, 13.5ms inference, 2.0ms postprocess per image at shape (1, 3, 608, 640)\n",
      "\n",
      "image 1/1 C:\\Users\\Mohit\\OneDrive\\Desktop\\BrainTumorDetectionYolov\\BrainTumorDetectionYolov9\\test\\images\\volume_300_slice_120_jpg.rf.43d0baf1ec7682d95009645ea74adba4.jpg: 608x640 (no detections), 13.0ms\n",
      "Speed: 6.0ms preprocess, 13.0ms inference, 2.0ms postprocess per image at shape (1, 3, 608, 640)\n",
      "\n",
      "image 1/1 C:\\Users\\Mohit\\OneDrive\\Desktop\\BrainTumorDetectionYolov\\BrainTumorDetectionYolov9\\test\\images\\volume_300_slice_123_jpg.rf.952313349ad0138deaf77bf7b363e222.jpg: 608x640 (no detections), 15.0ms\n",
      "Speed: 7.0ms preprocess, 15.0ms inference, 1.0ms postprocess per image at shape (1, 3, 608, 640)\n",
      "\n",
      "image 1/1 C:\\Users\\Mohit\\OneDrive\\Desktop\\BrainTumorDetectionYolov\\BrainTumorDetectionYolov9\\test\\images\\volume_300_slice_66_jpg.rf.102d203393fb47456e09789e17b15e5c.jpg: 608x640 (no detections), 13.4ms\n",
      "Speed: 7.0ms preprocess, 13.4ms inference, 1.2ms postprocess per image at shape (1, 3, 608, 640)\n",
      "\n",
      "image 1/1 C:\\Users\\Mohit\\OneDrive\\Desktop\\BrainTumorDetectionYolov\\BrainTumorDetectionYolov9\\test\\images\\volume_300_slice_76_jpg.rf.0890c9c52b4c9aaa89774d90f3bb469b.jpg: 608x640 (no detections), 11.0ms\n",
      "Speed: 7.0ms preprocess, 11.0ms inference, 2.0ms postprocess per image at shape (1, 3, 608, 640)\n",
      "\n",
      "image 1/1 C:\\Users\\Mohit\\OneDrive\\Desktop\\BrainTumorDetectionYolov\\BrainTumorDetectionYolov9\\test\\images\\volume_300_slice_89_jpg.rf.28d9f3794b1461c828524a1cd9e0a633.jpg: 608x640 (no detections), 19.0ms\n",
      "Speed: 6.0ms preprocess, 19.0ms inference, 1.0ms postprocess per image at shape (1, 3, 608, 640)\n",
      "\n",
      "image 1/1 C:\\Users\\Mohit\\OneDrive\\Desktop\\BrainTumorDetectionYolov\\BrainTumorDetectionYolov9\\test\\images\\volume_301_slice_127_jpg.rf.996847f8d39b162396e8fefeef7e9645.jpg: 608x640 (no detections), 13.0ms\n",
      "Speed: 5.0ms preprocess, 13.0ms inference, 1.0ms postprocess per image at shape (1, 3, 608, 640)\n",
      "\n",
      "image 1/1 C:\\Users\\Mohit\\OneDrive\\Desktop\\BrainTumorDetectionYolov\\BrainTumorDetectionYolov9\\test\\images\\volume_301_slice_81_jpg.rf.78ece9d5c9d23a89438822f8defdc565.jpg: 608x640 (no detections), 12.0ms\n",
      "Speed: 6.0ms preprocess, 12.0ms inference, 1.0ms postprocess per image at shape (1, 3, 608, 640)\n",
      "\n",
      "image 1/1 C:\\Users\\Mohit\\OneDrive\\Desktop\\BrainTumorDetectionYolov\\BrainTumorDetectionYolov9\\test\\images\\volume_301_slice_83_jpg.rf.cce27510fa620aa56d084d68ab17f57f.jpg: 608x640 (no detections), 12.0ms\n",
      "Speed: 6.0ms preprocess, 12.0ms inference, 1.0ms postprocess per image at shape (1, 3, 608, 640)\n",
      "\n",
      "image 1/1 C:\\Users\\Mohit\\OneDrive\\Desktop\\BrainTumorDetectionYolov\\BrainTumorDetectionYolov9\\test\\images\\volume_301_slice_96_jpg.rf.ea2990d467c5f50e75a4c598d924318f.jpg: 608x640 (no detections), 12.0ms\n",
      "Speed: 7.0ms preprocess, 12.0ms inference, 1.0ms postprocess per image at shape (1, 3, 608, 640)\n",
      "\n",
      "image 1/1 C:\\Users\\Mohit\\OneDrive\\Desktop\\BrainTumorDetectionYolov\\BrainTumorDetectionYolov9\\test\\images\\volume_302_slice_100_jpg.rf.12181e3ccfcfa67d2cdc881cababa206.jpg: 608x640 (no detections), 13.1ms\n",
      "Speed: 6.4ms preprocess, 13.1ms inference, 1.0ms postprocess per image at shape (1, 3, 608, 640)\n",
      "\n",
      "image 1/1 C:\\Users\\Mohit\\OneDrive\\Desktop\\BrainTumorDetectionYolov\\BrainTumorDetectionYolov9\\test\\images\\volume_302_slice_65_jpg.rf.2e8fc183eb705ab5fa537a848dbc46ff.jpg: 608x640 (no detections), 17.0ms\n",
      "Speed: 7.0ms preprocess, 17.0ms inference, 1.0ms postprocess per image at shape (1, 3, 608, 640)\n",
      "\n",
      "image 1/1 C:\\Users\\Mohit\\OneDrive\\Desktop\\BrainTumorDetectionYolov\\BrainTumorDetectionYolov9\\test\\images\\volume_303_slice_108_jpg.rf.a42ad0d9ab13e259a37adadf42314cfe.jpg: 608x640 (no detections), 12.0ms\n",
      "Speed: 7.0ms preprocess, 12.0ms inference, 1.0ms postprocess per image at shape (1, 3, 608, 640)\n",
      "\n",
      "image 1/1 C:\\Users\\Mohit\\OneDrive\\Desktop\\BrainTumorDetectionYolov\\BrainTumorDetectionYolov9\\test\\images\\volume_303_slice_116_jpg.rf.781a005e63e2a21e05f232fb3b4d909f.jpg: 608x640 (no detections), 11.0ms\n",
      "Speed: 6.0ms preprocess, 11.0ms inference, 2.0ms postprocess per image at shape (1, 3, 608, 640)\n",
      "\n",
      "image 1/1 C:\\Users\\Mohit\\OneDrive\\Desktop\\BrainTumorDetectionYolov\\BrainTumorDetectionYolov9\\test\\images\\volume_304_slice_45_jpg.rf.4455b4ab992ca6cd7b25899d22c3b3a2.jpg: 608x640 (no detections), 14.0ms\n",
      "Speed: 6.0ms preprocess, 14.0ms inference, 1.0ms postprocess per image at shape (1, 3, 608, 640)\n",
      "\n",
      "image 1/1 C:\\Users\\Mohit\\OneDrive\\Desktop\\BrainTumorDetectionYolov\\BrainTumorDetectionYolov9\\test\\images\\volume_305_slice_134_jpg.rf.3c33701cb440184abe9b6dc93d41d829.jpg: 608x640 (no detections), 15.0ms\n",
      "Speed: 6.0ms preprocess, 15.0ms inference, 1.0ms postprocess per image at shape (1, 3, 608, 640)\n",
      "\n",
      "image 1/1 C:\\Users\\Mohit\\OneDrive\\Desktop\\BrainTumorDetectionYolov\\BrainTumorDetectionYolov9\\test\\images\\volume_305_slice_93_jpg.rf.8b345083491330ca38693e16952c6244.jpg: 608x640 1 label1, 13.0ms\n",
      "Speed: 7.0ms preprocess, 13.0ms inference, 3.0ms postprocess per image at shape (1, 3, 608, 640)\n",
      "\n",
      "image 1/1 C:\\Users\\Mohit\\OneDrive\\Desktop\\BrainTumorDetectionYolov\\BrainTumorDetectionYolov9\\test\\images\\volume_306_slice_56_jpg.rf.6bb9aa757b36e4b764b9b840bee5a00e.jpg: 608x640 (no detections), 12.0ms\n",
      "Speed: 7.0ms preprocess, 12.0ms inference, 2.0ms postprocess per image at shape (1, 3, 608, 640)\n",
      "\n",
      "image 1/1 C:\\Users\\Mohit\\OneDrive\\Desktop\\BrainTumorDetectionYolov\\BrainTumorDetectionYolov9\\test\\images\\volume_306_slice_58_jpg.rf.748914454851036f834b909eb48d544b.jpg: 608x640 (no detections), 13.0ms\n",
      "Speed: 6.0ms preprocess, 13.0ms inference, 1.0ms postprocess per image at shape (1, 3, 608, 640)\n",
      "\n",
      "image 1/1 C:\\Users\\Mohit\\OneDrive\\Desktop\\BrainTumorDetectionYolov\\BrainTumorDetectionYolov9\\test\\images\\volume_306_slice_75_jpg.rf.2f0a570ca89288eebbe1ef1a09fca480.jpg: 608x640 (no detections), 13.0ms\n",
      "Speed: 9.0ms preprocess, 13.0ms inference, 1.0ms postprocess per image at shape (1, 3, 608, 640)\n",
      "\n",
      "image 1/1 C:\\Users\\Mohit\\OneDrive\\Desktop\\BrainTumorDetectionYolov\\BrainTumorDetectionYolov9\\test\\images\\volume_306_slice_90_jpg.rf.31c0910dac58438709959b5b054c5b81.jpg: 608x640 (no detections), 16.0ms\n",
      "Speed: 6.0ms preprocess, 16.0ms inference, 1.0ms postprocess per image at shape (1, 3, 608, 640)\n",
      "\n",
      "image 1/1 C:\\Users\\Mohit\\OneDrive\\Desktop\\BrainTumorDetectionYolov\\BrainTumorDetectionYolov9\\test\\images\\volume_307_slice_44_jpg.rf.983752a7f21100fa10c7bed385014bfc.jpg: 608x640 (no detections), 70.5ms\n",
      "Speed: 8.0ms preprocess, 70.5ms inference, 1.0ms postprocess per image at shape (1, 3, 608, 640)\n",
      "\n",
      "image 1/1 C:\\Users\\Mohit\\OneDrive\\Desktop\\BrainTumorDetectionYolov\\BrainTumorDetectionYolov9\\test\\images\\volume_307_slice_60_jpg.rf.b2ca4b66e1bbb2c9f9b037e7482ca243.jpg: 608x640 (no detections), 18.1ms\n",
      "Speed: 6.0ms preprocess, 18.1ms inference, 2.0ms postprocess per image at shape (1, 3, 608, 640)\n",
      "\n",
      "image 1/1 C:\\Users\\Mohit\\OneDrive\\Desktop\\BrainTumorDetectionYolov\\BrainTumorDetectionYolov9\\test\\images\\volume_308_slice_102_jpg.rf.a34da331a24d47aad5a22b2e84a32b15.jpg: 608x640 (no detections), 34.0ms\n",
      "Speed: 15.0ms preprocess, 34.0ms inference, 2.0ms postprocess per image at shape (1, 3, 608, 640)\n",
      "\n",
      "image 1/1 C:\\Users\\Mohit\\OneDrive\\Desktop\\BrainTumorDetectionYolov\\BrainTumorDetectionYolov9\\test\\images\\volume_308_slice_126_jpg.rf.98ef6e32c26a1272475bd06660dfdd2f.jpg: 608x640 (no detections), 14.9ms\n",
      "Speed: 6.1ms preprocess, 14.9ms inference, 1.0ms postprocess per image at shape (1, 3, 608, 640)\n",
      "\n",
      "image 1/1 C:\\Users\\Mohit\\OneDrive\\Desktop\\BrainTumorDetectionYolov\\BrainTumorDetectionYolov9\\test\\images\\volume_308_slice_132_jpg.rf.44ff8b92f03f74a5819c83ed79d0f95b.jpg: 608x640 (no detections), 11.0ms\n",
      "Speed: 5.0ms preprocess, 11.0ms inference, 2.0ms postprocess per image at shape (1, 3, 608, 640)\n",
      "\n",
      "image 1/1 C:\\Users\\Mohit\\OneDrive\\Desktop\\BrainTumorDetectionYolov\\BrainTumorDetectionYolov9\\test\\images\\volume_308_slice_133_jpg.rf.ecb9fbcdf1a56fa8268f528623ed93d9.jpg: 608x640 (no detections), 11.0ms\n",
      "Speed: 7.0ms preprocess, 11.0ms inference, 1.0ms postprocess per image at shape (1, 3, 608, 640)\n",
      "\n",
      "image 1/1 C:\\Users\\Mohit\\OneDrive\\Desktop\\BrainTumorDetectionYolov\\BrainTumorDetectionYolov9\\test\\images\\volume_308_slice_64_jpg.rf.1e5d53fcac9d8cab2ca86132cf6c7d84.jpg: 608x640 (no detections), 11.0ms\n",
      "Speed: 6.0ms preprocess, 11.0ms inference, 1.0ms postprocess per image at shape (1, 3, 608, 640)\n",
      "\n",
      "image 1/1 C:\\Users\\Mohit\\OneDrive\\Desktop\\BrainTumorDetectionYolov\\BrainTumorDetectionYolov9\\test\\images\\volume_308_slice_88_jpg.rf.901450166883dad214acbb62c3be2ae5.jpg: 608x640 (no detections), 12.6ms\n",
      "Speed: 6.0ms preprocess, 12.6ms inference, 1.0ms postprocess per image at shape (1, 3, 608, 640)\n",
      "\n",
      "image 1/1 C:\\Users\\Mohit\\OneDrive\\Desktop\\BrainTumorDetectionYolov\\BrainTumorDetectionYolov9\\test\\images\\volume_309_slice_60_jpg.rf.008251384b27f595b811c8196e040979.jpg: 608x640 (no detections), 19.0ms\n",
      "Speed: 7.0ms preprocess, 19.0ms inference, 1.0ms postprocess per image at shape (1, 3, 608, 640)\n",
      "\n",
      "image 1/1 C:\\Users\\Mohit\\OneDrive\\Desktop\\BrainTumorDetectionYolov\\BrainTumorDetectionYolov9\\test\\images\\volume_309_slice_64_jpg.rf.9c49a8179542230d8a343b1b58592a1b.jpg: 608x640 (no detections), 16.0ms\n",
      "Speed: 6.0ms preprocess, 16.0ms inference, 1.0ms postprocess per image at shape (1, 3, 608, 640)\n",
      "\n",
      "image 1/1 C:\\Users\\Mohit\\OneDrive\\Desktop\\BrainTumorDetectionYolov\\BrainTumorDetectionYolov9\\test\\images\\volume_309_slice_81_jpg.rf.e31367ad73d3e7e120c851641f706449.jpg: 608x640 (no detections), 14.9ms\n",
      "Speed: 9.1ms preprocess, 14.9ms inference, 1.0ms postprocess per image at shape (1, 3, 608, 640)\n",
      "\n",
      "image 1/1 C:\\Users\\Mohit\\OneDrive\\Desktop\\BrainTumorDetectionYolov\\BrainTumorDetectionYolov9\\test\\images\\volume_30_slice_47_jpg.rf.1db4c8779912acfc4f8e8b33ada956ed.jpg: 608x640 (no detections), 12.0ms\n",
      "Speed: 7.0ms preprocess, 12.0ms inference, 1.0ms postprocess per image at shape (1, 3, 608, 640)\n",
      "\n",
      "image 1/1 C:\\Users\\Mohit\\OneDrive\\Desktop\\BrainTumorDetectionYolov\\BrainTumorDetectionYolov9\\test\\images\\volume_30_slice_50_jpg.rf.3b14f8c80df599ea62a65cf4629d698e.jpg: 608x640 (no detections), 13.0ms\n",
      "Speed: 6.0ms preprocess, 13.0ms inference, 2.0ms postprocess per image at shape (1, 3, 608, 640)\n",
      "\n",
      "image 1/1 C:\\Users\\Mohit\\OneDrive\\Desktop\\BrainTumorDetectionYolov\\BrainTumorDetectionYolov9\\test\\images\\volume_30_slice_80_jpg.rf.7ad1fab3a18a8fbd06f6c8565ad73848.jpg: 608x640 (no detections), 12.0ms\n",
      "Speed: 5.0ms preprocess, 12.0ms inference, 1.0ms postprocess per image at shape (1, 3, 608, 640)\n",
      "\n",
      "image 1/1 C:\\Users\\Mohit\\OneDrive\\Desktop\\BrainTumorDetectionYolov\\BrainTumorDetectionYolov9\\test\\images\\volume_30_slice_99_jpg.rf.08680f06d8c90fbee06fb784cc3845c5.jpg: 608x640 (no detections), 13.1ms\n",
      "Speed: 6.0ms preprocess, 13.1ms inference, 2.0ms postprocess per image at shape (1, 3, 608, 640)\n",
      "\n",
      "image 1/1 C:\\Users\\Mohit\\OneDrive\\Desktop\\BrainTumorDetectionYolov\\BrainTumorDetectionYolov9\\test\\images\\volume_310_slice_58_jpg.rf.4aea0946ef5d9396bafb5e9e698d2b7d.jpg: 608x640 (no detections), 13.0ms\n",
      "Speed: 5.0ms preprocess, 13.0ms inference, 1.0ms postprocess per image at shape (1, 3, 608, 640)\n",
      "\n",
      "image 1/1 C:\\Users\\Mohit\\OneDrive\\Desktop\\BrainTumorDetectionYolov\\BrainTumorDetectionYolov9\\test\\images\\volume_310_slice_74_jpg.rf.16fe440f2c3e8550ba2bbe2498a0ca83.jpg: 608x640 (no detections), 12.0ms\n",
      "Speed: 6.0ms preprocess, 12.0ms inference, 1.0ms postprocess per image at shape (1, 3, 608, 640)\n",
      "\n",
      "image 1/1 C:\\Users\\Mohit\\OneDrive\\Desktop\\BrainTumorDetectionYolov\\BrainTumorDetectionYolov9\\test\\images\\volume_310_slice_82_jpg.rf.238648f5ec6f3e0faa40470e5574bd35.jpg: 608x640 (no detections), 12.2ms\n",
      "Speed: 7.0ms preprocess, 12.2ms inference, 1.0ms postprocess per image at shape (1, 3, 608, 640)\n",
      "\n",
      "image 1/1 C:\\Users\\Mohit\\OneDrive\\Desktop\\BrainTumorDetectionYolov\\BrainTumorDetectionYolov9\\test\\images\\volume_310_slice_90_jpg.rf.c5fdbaa198cb0b4edfae24ce135080ec.jpg: 608x640 (no detections), 17.0ms\n",
      "Speed: 6.3ms preprocess, 17.0ms inference, 1.0ms postprocess per image at shape (1, 3, 608, 640)\n",
      "\n",
      "image 1/1 C:\\Users\\Mohit\\OneDrive\\Desktop\\BrainTumorDetectionYolov\\BrainTumorDetectionYolov9\\test\\images\\volume_311_slice_105_jpg.rf.887111f69ed61eba08d4a91e3ff852d4.jpg: 608x640 (no detections), 12.0ms\n",
      "Speed: 6.0ms preprocess, 12.0ms inference, 1.0ms postprocess per image at shape (1, 3, 608, 640)\n",
      "\n",
      "image 1/1 C:\\Users\\Mohit\\OneDrive\\Desktop\\BrainTumorDetectionYolov\\BrainTumorDetectionYolov9\\test\\images\\volume_311_slice_95_jpg.rf.6da749131810e0f9785a90b9380886fc.jpg: 608x640 (no detections), 12.0ms\n",
      "Speed: 8.0ms preprocess, 12.0ms inference, 1.0ms postprocess per image at shape (1, 3, 608, 640)\n",
      "\n",
      "image 1/1 C:\\Users\\Mohit\\OneDrive\\Desktop\\BrainTumorDetectionYolov\\BrainTumorDetectionYolov9\\test\\images\\volume_311_slice_96_jpg.rf.5d2ea7b434a0b1f6ac28d71051626d39.jpg: 608x640 (no detections), 13.0ms\n",
      "Speed: 6.0ms preprocess, 13.0ms inference, 1.0ms postprocess per image at shape (1, 3, 608, 640)\n",
      "\n",
      "image 1/1 C:\\Users\\Mohit\\OneDrive\\Desktop\\BrainTumorDetectionYolov\\BrainTumorDetectionYolov9\\test\\images\\volume_312_slice_104_jpg.rf.59131ab14ff9cde79170e6abe5c15c0c.jpg: 608x640 (no detections), 19.0ms\n",
      "Speed: 6.0ms preprocess, 19.0ms inference, 2.0ms postprocess per image at shape (1, 3, 608, 640)\n",
      "\n",
      "image 1/1 C:\\Users\\Mohit\\OneDrive\\Desktop\\BrainTumorDetectionYolov\\BrainTumorDetectionYolov9\\test\\images\\volume_312_slice_115_jpg.rf.cd4633d4de31c6523dd1a38c343beee8.jpg: 608x640 (no detections), 12.0ms\n",
      "Speed: 7.0ms preprocess, 12.0ms inference, 1.0ms postprocess per image at shape (1, 3, 608, 640)\n",
      "\n",
      "image 1/1 C:\\Users\\Mohit\\OneDrive\\Desktop\\BrainTumorDetectionYolov\\BrainTumorDetectionYolov9\\test\\images\\volume_313_slice_112_jpg.rf.6255b4057e7b54c2a40f4a0df3bbca65.jpg: 608x640 (no detections), 12.0ms\n",
      "Speed: 7.0ms preprocess, 12.0ms inference, 1.0ms postprocess per image at shape (1, 3, 608, 640)\n",
      "\n",
      "image 1/1 C:\\Users\\Mohit\\OneDrive\\Desktop\\BrainTumorDetectionYolov\\BrainTumorDetectionYolov9\\test\\images\\volume_313_slice_127_jpg.rf.fb48f7067500ab57bdf7d4fc702df0eb.jpg: 608x640 (no detections), 13.0ms\n",
      "Speed: 8.6ms preprocess, 13.0ms inference, 1.0ms postprocess per image at shape (1, 3, 608, 640)\n",
      "\n",
      "image 1/1 C:\\Users\\Mohit\\OneDrive\\Desktop\\BrainTumorDetectionYolov\\BrainTumorDetectionYolov9\\test\\images\\volume_313_slice_129_jpg.rf.baacb1ed7a9d2ab8e88fe8e7a2df9742.jpg: 608x640 (no detections), 12.0ms\n",
      "Speed: 7.0ms preprocess, 12.0ms inference, 1.0ms postprocess per image at shape (1, 3, 608, 640)\n",
      "\n",
      "image 1/1 C:\\Users\\Mohit\\OneDrive\\Desktop\\BrainTumorDetectionYolov\\BrainTumorDetectionYolov9\\test\\images\\volume_313_slice_67_jpg.rf.97560cad50577dff685bdf1d7e3f2801.jpg: 608x640 (no detections), 13.0ms\n",
      "Speed: 6.7ms preprocess, 13.0ms inference, 1.0ms postprocess per image at shape (1, 3, 608, 640)\n",
      "\n",
      "image 1/1 C:\\Users\\Mohit\\OneDrive\\Desktop\\BrainTumorDetectionYolov\\BrainTumorDetectionYolov9\\test\\images\\volume_313_slice_74_jpg.rf.5464558c0e5fd546ceee93ebde80bb8e.jpg: 608x640 (no detections), 72.1ms\n",
      "Speed: 7.0ms preprocess, 72.1ms inference, 1.0ms postprocess per image at shape (1, 3, 608, 640)\n",
      "\n",
      "image 1/1 C:\\Users\\Mohit\\OneDrive\\Desktop\\BrainTumorDetectionYolov\\BrainTumorDetectionYolov9\\test\\images\\volume_313_slice_79_jpg.rf.98f75d5b7cc95aa317c4049ea86365db.jpg: 608x640 (no detections), 29.0ms\n",
      "Speed: 15.0ms preprocess, 29.0ms inference, 2.0ms postprocess per image at shape (1, 3, 608, 640)\n",
      "\n",
      "image 1/1 C:\\Users\\Mohit\\OneDrive\\Desktop\\BrainTumorDetectionYolov\\BrainTumorDetectionYolov9\\test\\images\\volume_313_slice_80_jpg.rf.47995326950af9a231dc8a7e6604c752.jpg: 608x640 (no detections), 12.0ms\n",
      "Speed: 6.0ms preprocess, 12.0ms inference, 1.0ms postprocess per image at shape (1, 3, 608, 640)\n",
      "\n",
      "image 1/1 C:\\Users\\Mohit\\OneDrive\\Desktop\\BrainTumorDetectionYolov\\BrainTumorDetectionYolov9\\test\\images\\volume_313_slice_84_jpg.rf.833aa9fac30749be1d49becd48a9423e.jpg: 608x640 (no detections), 15.0ms\n",
      "Speed: 6.0ms preprocess, 15.0ms inference, 1.0ms postprocess per image at shape (1, 3, 608, 640)\n",
      "\n",
      "image 1/1 C:\\Users\\Mohit\\OneDrive\\Desktop\\BrainTumorDetectionYolov\\BrainTumorDetectionYolov9\\test\\images\\volume_314_slice_65_jpg.rf.e0bba42f8888f9af359ba23069fa2f4e.jpg: 608x640 (no detections), 15.2ms\n",
      "Speed: 6.0ms preprocess, 15.2ms inference, 1.0ms postprocess per image at shape (1, 3, 608, 640)\n",
      "\n",
      "image 1/1 C:\\Users\\Mohit\\OneDrive\\Desktop\\BrainTumorDetectionYolov\\BrainTumorDetectionYolov9\\test\\images\\volume_314_slice_83_jpg.rf.e8b8718c2dd6ac528136928200f9fc5f.jpg: 608x640 (no detections), 11.9ms\n",
      "Speed: 6.2ms preprocess, 11.9ms inference, 1.0ms postprocess per image at shape (1, 3, 608, 640)\n",
      "\n",
      "image 1/1 C:\\Users\\Mohit\\OneDrive\\Desktop\\BrainTumorDetectionYolov\\BrainTumorDetectionYolov9\\test\\images\\volume_314_slice_88_jpg.rf.0bdcd6ae0ce2092a7fc43d18ca266651.jpg: 608x640 (no detections), 14.0ms\n",
      "Speed: 8.0ms preprocess, 14.0ms inference, 2.0ms postprocess per image at shape (1, 3, 608, 640)\n",
      "\n",
      "image 1/1 C:\\Users\\Mohit\\OneDrive\\Desktop\\BrainTumorDetectionYolov\\BrainTumorDetectionYolov9\\test\\images\\volume_315_slice_86_jpg.rf.12e6baf1ad4a4015fdf325ffa3fa6871.jpg: 608x640 (no detections), 12.0ms\n",
      "Speed: 7.0ms preprocess, 12.0ms inference, 2.0ms postprocess per image at shape (1, 3, 608, 640)\n",
      "\n",
      "image 1/1 C:\\Users\\Mohit\\OneDrive\\Desktop\\BrainTumorDetectionYolov\\BrainTumorDetectionYolov9\\test\\images\\volume_316_slice_109_jpg.rf.3d2aec4b8f9847811b2c65fa566e656a.jpg: 608x640 (no detections), 12.1ms\n",
      "Speed: 6.0ms preprocess, 12.1ms inference, 1.0ms postprocess per image at shape (1, 3, 608, 640)\n",
      "\n",
      "image 1/1 C:\\Users\\Mohit\\OneDrive\\Desktop\\BrainTumorDetectionYolov\\BrainTumorDetectionYolov9\\test\\images\\volume_316_slice_44_jpg.rf.1e3315227347f6082f70c980696d5b15.jpg: 608x640 (no detections), 15.0ms\n",
      "Speed: 5.0ms preprocess, 15.0ms inference, 1.0ms postprocess per image at shape (1, 3, 608, 640)\n",
      "\n",
      "image 1/1 C:\\Users\\Mohit\\OneDrive\\Desktop\\BrainTumorDetectionYolov\\BrainTumorDetectionYolov9\\test\\images\\volume_316_slice_54_jpg.rf.3fb9de115fa24c753df0578a776022bc.jpg: 608x640 (no detections), 18.0ms\n",
      "Speed: 7.0ms preprocess, 18.0ms inference, 1.0ms postprocess per image at shape (1, 3, 608, 640)\n",
      "\n",
      "image 1/1 C:\\Users\\Mohit\\OneDrive\\Desktop\\BrainTumorDetectionYolov\\BrainTumorDetectionYolov9\\test\\images\\volume_316_slice_62_jpg.rf.cb019a3185ede6ce523fa578e483778e.jpg: 608x640 (no detections), 18.0ms\n",
      "Speed: 6.0ms preprocess, 18.0ms inference, 1.0ms postprocess per image at shape (1, 3, 608, 640)\n",
      "\n",
      "image 1/1 C:\\Users\\Mohit\\OneDrive\\Desktop\\BrainTumorDetectionYolov\\BrainTumorDetectionYolov9\\test\\images\\volume_316_slice_66_jpg.rf.7462e3bb64ef5e966887d40050dcb875.jpg: 608x640 (no detections), 14.5ms\n",
      "Speed: 6.0ms preprocess, 14.5ms inference, 1.0ms postprocess per image at shape (1, 3, 608, 640)\n",
      "\n",
      "image 1/1 C:\\Users\\Mohit\\OneDrive\\Desktop\\BrainTumorDetectionYolov\\BrainTumorDetectionYolov9\\test\\images\\volume_318_slice_55_jpg.rf.0d3495f2fea53ac3484fc7cb4ff23ae0.jpg: 608x640 (no detections), 12.0ms\n",
      "Speed: 5.0ms preprocess, 12.0ms inference, 1.0ms postprocess per image at shape (1, 3, 608, 640)\n",
      "\n",
      "image 1/1 C:\\Users\\Mohit\\OneDrive\\Desktop\\BrainTumorDetectionYolov\\BrainTumorDetectionYolov9\\test\\images\\volume_318_slice_60_jpg.rf.4ad49bd0d46ae61e6cef50a301f06713.jpg: 608x640 (no detections), 15.0ms\n",
      "Speed: 6.0ms preprocess, 15.0ms inference, 2.0ms postprocess per image at shape (1, 3, 608, 640)\n",
      "\n",
      "image 1/1 C:\\Users\\Mohit\\OneDrive\\Desktop\\BrainTumorDetectionYolov\\BrainTumorDetectionYolov9\\test\\images\\volume_318_slice_77_jpg.rf.f23dc02db83ec8acefec94d08ca9d885.jpg: 608x640 (no detections), 12.0ms\n",
      "Speed: 6.0ms preprocess, 12.0ms inference, 1.0ms postprocess per image at shape (1, 3, 608, 640)\n",
      "\n",
      "image 1/1 C:\\Users\\Mohit\\OneDrive\\Desktop\\BrainTumorDetectionYolov\\BrainTumorDetectionYolov9\\test\\images\\volume_319_slice_59_jpg.rf.935dacfa2a6801b034fc58163400621d.jpg: 608x640 (no detections), 12.0ms\n",
      "Speed: 6.0ms preprocess, 12.0ms inference, 1.0ms postprocess per image at shape (1, 3, 608, 640)\n",
      "\n",
      "image 1/1 C:\\Users\\Mohit\\OneDrive\\Desktop\\BrainTumorDetectionYolov\\BrainTumorDetectionYolov9\\test\\images\\volume_319_slice_69_jpg.rf.dee5080b0f87279d9cd6dd84773e2c53.jpg: 608x640 (no detections), 12.0ms\n",
      "Speed: 7.0ms preprocess, 12.0ms inference, 1.0ms postprocess per image at shape (1, 3, 608, 640)\n",
      "\n",
      "image 1/1 C:\\Users\\Mohit\\OneDrive\\Desktop\\BrainTumorDetectionYolov\\BrainTumorDetectionYolov9\\test\\images\\volume_31_slice_79_jpg.rf.88c7fdd9c7e93afe0ca4af4dc22b2e35.jpg: 608x640 (no detections), 13.0ms\n",
      "Speed: 5.0ms preprocess, 13.0ms inference, 1.0ms postprocess per image at shape (1, 3, 608, 640)\n",
      "\n",
      "image 1/1 C:\\Users\\Mohit\\OneDrive\\Desktop\\BrainTumorDetectionYolov\\BrainTumorDetectionYolov9\\test\\images\\volume_31_slice_92_jpg.rf.841d6c378aed3cf723eb3aeec072d47d.jpg: 608x640 (no detections), 12.0ms\n",
      "Speed: 7.0ms preprocess, 12.0ms inference, 1.0ms postprocess per image at shape (1, 3, 608, 640)\n",
      "\n",
      "image 1/1 C:\\Users\\Mohit\\OneDrive\\Desktop\\BrainTumorDetectionYolov\\BrainTumorDetectionYolov9\\test\\images\\volume_320_slice_112_jpg.rf.26d90a57ac016b919354b4a89cc5c892.jpg: 608x640 (no detections), 12.4ms\n",
      "Speed: 6.0ms preprocess, 12.4ms inference, 1.0ms postprocess per image at shape (1, 3, 608, 640)\n",
      "\n",
      "image 1/1 C:\\Users\\Mohit\\OneDrive\\Desktop\\BrainTumorDetectionYolov\\BrainTumorDetectionYolov9\\test\\images\\volume_320_slice_51_jpg.rf.f5f65b50c5d7f7836972aef657f13900.jpg: 608x640 (no detections), 12.0ms\n",
      "Speed: 5.7ms preprocess, 12.0ms inference, 2.0ms postprocess per image at shape (1, 3, 608, 640)\n",
      "\n",
      "image 1/1 C:\\Users\\Mohit\\OneDrive\\Desktop\\BrainTumorDetectionYolov\\BrainTumorDetectionYolov9\\test\\images\\volume_320_slice_77_jpg.rf.da804af3ca67ccf418c1a2749034fd8c.jpg: 608x640 (no detections), 15.0ms\n",
      "Speed: 6.0ms preprocess, 15.0ms inference, 1.0ms postprocess per image at shape (1, 3, 608, 640)\n",
      "\n",
      "image 1/1 C:\\Users\\Mohit\\OneDrive\\Desktop\\BrainTumorDetectionYolov\\BrainTumorDetectionYolov9\\test\\images\\volume_320_slice_98_jpg.rf.deda9fbcdb77bd13c83aff55dbdf1383.jpg: 608x640 (no detections), 12.0ms\n",
      "Speed: 6.0ms preprocess, 12.0ms inference, 1.0ms postprocess per image at shape (1, 3, 608, 640)\n",
      "\n",
      "image 1/1 C:\\Users\\Mohit\\OneDrive\\Desktop\\BrainTumorDetectionYolov\\BrainTumorDetectionYolov9\\test\\images\\volume_321_slice_112_jpg.rf.0ab8102cc42ca0886b0ae4385f867556.jpg: 608x640 (no detections), 11.0ms\n",
      "Speed: 6.0ms preprocess, 11.0ms inference, 1.0ms postprocess per image at shape (1, 3, 608, 640)\n",
      "\n",
      "image 1/1 C:\\Users\\Mohit\\OneDrive\\Desktop\\BrainTumorDetectionYolov\\BrainTumorDetectionYolov9\\test\\images\\volume_322_slice_25_jpg.rf.bf49c4b9b55cd4c50157456ff65f9eaf.jpg: 608x640 (no detections), 13.0ms\n",
      "Speed: 6.0ms preprocess, 13.0ms inference, 1.0ms postprocess per image at shape (1, 3, 608, 640)\n",
      "\n",
      "image 1/1 C:\\Users\\Mohit\\OneDrive\\Desktop\\BrainTumorDetectionYolov\\BrainTumorDetectionYolov9\\test\\images\\volume_322_slice_28_jpg.rf.ce7a50e30788e0f95fafd58072ad1d98.jpg: 608x640 (no detections), 85.5ms\n",
      "Speed: 6.0ms preprocess, 85.5ms inference, 1.5ms postprocess per image at shape (1, 3, 608, 640)\n",
      "\n",
      "image 1/1 C:\\Users\\Mohit\\OneDrive\\Desktop\\BrainTumorDetectionYolov\\BrainTumorDetectionYolov9\\test\\images\\volume_322_slice_49_jpg.rf.d527b0ca23b81590e3390103cd6399b4.jpg: 608x640 1 label1, 30.0ms\n",
      "Speed: 15.0ms preprocess, 30.0ms inference, 6.0ms postprocess per image at shape (1, 3, 608, 640)\n",
      "\n",
      "image 1/1 C:\\Users\\Mohit\\OneDrive\\Desktop\\BrainTumorDetectionYolov\\BrainTumorDetectionYolov9\\test\\images\\volume_323_slice_38_jpg.rf.cf5c59cbdfcaecd040182621a084a9f8.jpg: 608x640 (no detections), 28.0ms\n",
      "Speed: 9.0ms preprocess, 28.0ms inference, 1.0ms postprocess per image at shape (1, 3, 608, 640)\n",
      "\n",
      "image 1/1 C:\\Users\\Mohit\\OneDrive\\Desktop\\BrainTumorDetectionYolov\\BrainTumorDetectionYolov9\\test\\images\\volume_323_slice_49_jpg.rf.e017869d30439bc449127cde3d80d44a.jpg: 608x640 (no detections), 14.2ms\n",
      "Speed: 8.0ms preprocess, 14.2ms inference, 1.0ms postprocess per image at shape (1, 3, 608, 640)\n",
      "\n",
      "image 1/1 C:\\Users\\Mohit\\OneDrive\\Desktop\\BrainTumorDetectionYolov\\BrainTumorDetectionYolov9\\test\\images\\volume_323_slice_58_jpg.rf.b17f2a73589096f8efb4897dfc7f4ec0.jpg: 608x640 (no detections), 15.4ms\n",
      "Speed: 7.1ms preprocess, 15.4ms inference, 0.6ms postprocess per image at shape (1, 3, 608, 640)\n",
      "\n",
      "image 1/1 C:\\Users\\Mohit\\OneDrive\\Desktop\\BrainTumorDetectionYolov\\BrainTumorDetectionYolov9\\test\\images\\volume_323_slice_67_jpg.rf.73d1cca4eaec268b4bef8005e6fc38ba.jpg: 608x640 (no detections), 12.0ms\n",
      "Speed: 8.9ms preprocess, 12.0ms inference, 1.0ms postprocess per image at shape (1, 3, 608, 640)\n",
      "\n",
      "image 1/1 C:\\Users\\Mohit\\OneDrive\\Desktop\\BrainTumorDetectionYolov\\BrainTumorDetectionYolov9\\test\\images\\volume_324_slice_32_jpg.rf.90b8ad2a427a2e7e2e62e138b02c7900.jpg: 608x640 (no detections), 13.0ms\n",
      "Speed: 6.0ms preprocess, 13.0ms inference, 1.0ms postprocess per image at shape (1, 3, 608, 640)\n",
      "\n",
      "image 1/1 C:\\Users\\Mohit\\OneDrive\\Desktop\\BrainTumorDetectionYolov\\BrainTumorDetectionYolov9\\test\\images\\volume_324_slice_51_jpg.rf.1fcf3de70e569ddcfe6fc1e8f4ad0592.jpg: 608x640 (no detections), 12.0ms\n",
      "Speed: 7.0ms preprocess, 12.0ms inference, 1.0ms postprocess per image at shape (1, 3, 608, 640)\n",
      "\n",
      "image 1/1 C:\\Users\\Mohit\\OneDrive\\Desktop\\BrainTumorDetectionYolov\\BrainTumorDetectionYolov9\\test\\images\\volume_324_slice_61_jpg.rf.073f18ff5a3c1ec57e063beeca8312b4.jpg: 608x640 (no detections), 12.0ms\n",
      "Speed: 9.0ms preprocess, 12.0ms inference, 1.0ms postprocess per image at shape (1, 3, 608, 640)\n",
      "\n",
      "image 1/1 C:\\Users\\Mohit\\OneDrive\\Desktop\\BrainTumorDetectionYolov\\BrainTumorDetectionYolov9\\test\\images\\volume_324_slice_62_jpg.rf.9e2ea883e34d1866171a4cf07655a56d.jpg: 608x640 (no detections), 21.1ms\n",
      "Speed: 6.0ms preprocess, 21.1ms inference, 1.0ms postprocess per image at shape (1, 3, 608, 640)\n",
      "\n",
      "image 1/1 C:\\Users\\Mohit\\OneDrive\\Desktop\\BrainTumorDetectionYolov\\BrainTumorDetectionYolov9\\test\\images\\volume_325_slice_27_jpg.rf.551a72fb55658a9a509dc8f815d6ecee.jpg: 608x640 (no detections), 12.0ms\n",
      "Speed: 5.0ms preprocess, 12.0ms inference, 1.0ms postprocess per image at shape (1, 3, 608, 640)\n",
      "\n",
      "image 1/1 C:\\Users\\Mohit\\OneDrive\\Desktop\\BrainTumorDetectionYolov\\BrainTumorDetectionYolov9\\test\\images\\volume_325_slice_36_jpg.rf.142737b5d7c6a1818c2fb885c433a016.jpg: 608x640 (no detections), 12.0ms\n",
      "Speed: 6.0ms preprocess, 12.0ms inference, 1.0ms postprocess per image at shape (1, 3, 608, 640)\n",
      "\n",
      "image 1/1 C:\\Users\\Mohit\\OneDrive\\Desktop\\BrainTumorDetectionYolov\\BrainTumorDetectionYolov9\\test\\images\\volume_325_slice_40_jpg.rf.312b6fddc15a52daa9fd5b41f1ee7be7.jpg: 608x640 (no detections), 12.0ms\n",
      "Speed: 6.0ms preprocess, 12.0ms inference, 1.0ms postprocess per image at shape (1, 3, 608, 640)\n",
      "\n",
      "image 1/1 C:\\Users\\Mohit\\OneDrive\\Desktop\\BrainTumorDetectionYolov\\BrainTumorDetectionYolov9\\test\\images\\volume_326_slice_99_jpg.rf.e02eca02b12211dea9bb9b5dd4eb9b64.jpg: 608x640 1 label0, 12.0ms\n",
      "Speed: 7.0ms preprocess, 12.0ms inference, 3.0ms postprocess per image at shape (1, 3, 608, 640)\n",
      "\n",
      "image 1/1 C:\\Users\\Mohit\\OneDrive\\Desktop\\BrainTumorDetectionYolov\\BrainTumorDetectionYolov9\\test\\images\\volume_327_slice_60_jpg.rf.fc3f7f7d21aa1ca84a2ada776ba8d693.jpg: 608x640 (no detections), 12.0ms\n",
      "Speed: 6.0ms preprocess, 12.0ms inference, 1.0ms postprocess per image at shape (1, 3, 608, 640)\n",
      "\n",
      "image 1/1 C:\\Users\\Mohit\\OneDrive\\Desktop\\BrainTumorDetectionYolov\\BrainTumorDetectionYolov9\\test\\images\\volume_327_slice_63_jpg.rf.8314388fcfdd8669b4981a76b0807502.jpg: 608x640 (no detections), 11.0ms\n",
      "Speed: 8.0ms preprocess, 11.0ms inference, 1.0ms postprocess per image at shape (1, 3, 608, 640)\n",
      "\n",
      "image 1/1 C:\\Users\\Mohit\\OneDrive\\Desktop\\BrainTumorDetectionYolov\\BrainTumorDetectionYolov9\\test\\images\\volume_327_slice_67_jpg.rf.c1d594e423c162043d5c73d869b5aaec.jpg: 608x640 (no detections), 12.0ms\n",
      "Speed: 6.0ms preprocess, 12.0ms inference, 1.0ms postprocess per image at shape (1, 3, 608, 640)\n",
      "\n",
      "image 1/1 C:\\Users\\Mohit\\OneDrive\\Desktop\\BrainTumorDetectionYolov\\BrainTumorDetectionYolov9\\test\\images\\volume_327_slice_71_jpg.rf.ff5c01ffd2ead70ca22f798082fb5c0d.jpg: 608x640 (no detections), 15.8ms\n",
      "Speed: 6.0ms preprocess, 15.8ms inference, 1.0ms postprocess per image at shape (1, 3, 608, 640)\n",
      "\n",
      "image 1/1 C:\\Users\\Mohit\\OneDrive\\Desktop\\BrainTumorDetectionYolov\\BrainTumorDetectionYolov9\\test\\images\\volume_327_slice_77_jpg.rf.6447e6a2b89ec9fac6475e41068319a1.jpg: 608x640 (no detections), 24.0ms\n",
      "Speed: 6.0ms preprocess, 24.0ms inference, 1.0ms postprocess per image at shape (1, 3, 608, 640)\n",
      "\n",
      "image 1/1 C:\\Users\\Mohit\\OneDrive\\Desktop\\BrainTumorDetectionYolov\\BrainTumorDetectionYolov9\\test\\images\\volume_328_slice_101_jpg.rf.0e93e35adef13504e70b470010866d99.jpg: 608x640 (no detections), 13.0ms\n",
      "Speed: 6.0ms preprocess, 13.0ms inference, 1.0ms postprocess per image at shape (1, 3, 608, 640)\n",
      "\n",
      "image 1/1 C:\\Users\\Mohit\\OneDrive\\Desktop\\BrainTumorDetectionYolov\\BrainTumorDetectionYolov9\\test\\images\\volume_328_slice_119_jpg.rf.2e30b3ff11a4eddf4272868f62165816.jpg: 608x640 (no detections), 12.0ms\n",
      "Speed: 6.0ms preprocess, 12.0ms inference, 1.0ms postprocess per image at shape (1, 3, 608, 640)\n",
      "\n",
      "image 1/1 C:\\Users\\Mohit\\OneDrive\\Desktop\\BrainTumorDetectionYolov\\BrainTumorDetectionYolov9\\test\\images\\volume_328_slice_124_jpg.rf.0da590a6a1f93520ce1a269801ded44d.jpg: 608x640 (no detections), 12.0ms\n",
      "Speed: 6.0ms preprocess, 12.0ms inference, 1.0ms postprocess per image at shape (1, 3, 608, 640)\n",
      "\n",
      "image 1/1 C:\\Users\\Mohit\\OneDrive\\Desktop\\BrainTumorDetectionYolov\\BrainTumorDetectionYolov9\\test\\images\\volume_328_slice_31_jpg.rf.61afc21b5d00ba40094aea9cdf723a14.jpg: 608x640 (no detections), 19.0ms\n",
      "Speed: 8.0ms preprocess, 19.0ms inference, 2.0ms postprocess per image at shape (1, 3, 608, 640)\n",
      "\n",
      "image 1/1 C:\\Users\\Mohit\\OneDrive\\Desktop\\BrainTumorDetectionYolov\\BrainTumorDetectionYolov9\\test\\images\\volume_328_slice_34_jpg.rf.d093ce1b50df38fd9d59681a7173e932.jpg: 608x640 (no detections), 14.0ms\n",
      "Speed: 6.0ms preprocess, 14.0ms inference, 1.0ms postprocess per image at shape (1, 3, 608, 640)\n",
      "\n",
      "image 1/1 C:\\Users\\Mohit\\OneDrive\\Desktop\\BrainTumorDetectionYolov\\BrainTumorDetectionYolov9\\test\\images\\volume_328_slice_38_jpg.rf.31d3b3ed5bc8ed17dad28624d74d298f.jpg: 608x640 (no detections), 13.0ms\n",
      "Speed: 5.0ms preprocess, 13.0ms inference, 1.0ms postprocess per image at shape (1, 3, 608, 640)\n",
      "\n",
      "image 1/1 C:\\Users\\Mohit\\OneDrive\\Desktop\\BrainTumorDetectionYolov\\BrainTumorDetectionYolov9\\test\\images\\volume_328_slice_45_jpg.rf.6754aaaf4ad6b82ef0b3a122b0a2e2af.jpg: 608x640 (no detections), 12.0ms\n",
      "Speed: 7.0ms preprocess, 12.0ms inference, 1.0ms postprocess per image at shape (1, 3, 608, 640)\n",
      "\n",
      "image 1/1 C:\\Users\\Mohit\\OneDrive\\Desktop\\BrainTumorDetectionYolov\\BrainTumorDetectionYolov9\\test\\images\\volume_328_slice_87_jpg.rf.a541c2be24081a763fcff38349926d8a.jpg: 608x640 (no detections), 16.0ms\n",
      "Speed: 8.0ms preprocess, 16.0ms inference, 1.0ms postprocess per image at shape (1, 3, 608, 640)\n",
      "\n",
      "image 1/1 C:\\Users\\Mohit\\OneDrive\\Desktop\\BrainTumorDetectionYolov\\BrainTumorDetectionYolov9\\test\\images\\volume_329_slice_41_jpg.rf.91105c24fa2aca0b2546272d6a81f643.jpg: 608x640 (no detections), 13.5ms\n",
      "Speed: 8.0ms preprocess, 13.5ms inference, 1.0ms postprocess per image at shape (1, 3, 608, 640)\n",
      "\n",
      "image 1/1 C:\\Users\\Mohit\\OneDrive\\Desktop\\BrainTumorDetectionYolov\\BrainTumorDetectionYolov9\\test\\images\\volume_329_slice_77_jpg.rf.710c62fee1ffc61d7979ced8cec74f58.jpg: 608x640 (no detections), 30.0ms\n",
      "Speed: 10.0ms preprocess, 30.0ms inference, 6.0ms postprocess per image at shape (1, 3, 608, 640)\n",
      "\n",
      "image 1/1 C:\\Users\\Mohit\\OneDrive\\Desktop\\BrainTumorDetectionYolov\\BrainTumorDetectionYolov9\\test\\images\\volume_330_slice_39_jpg.rf.cad85baaab0bdc31aac4e98dd7595f3a.jpg: 608x640 (no detections), 30.6ms\n",
      "Speed: 10.0ms preprocess, 30.6ms inference, 1.0ms postprocess per image at shape (1, 3, 608, 640)\n",
      "\n",
      "image 1/1 C:\\Users\\Mohit\\OneDrive\\Desktop\\BrainTumorDetectionYolov\\BrainTumorDetectionYolov9\\test\\images\\volume_330_slice_50_jpg.rf.ca6f78882753089b3390cc667a4f6785.jpg: 608x640 (no detections), 15.0ms\n",
      "Speed: 6.9ms preprocess, 15.0ms inference, 2.0ms postprocess per image at shape (1, 3, 608, 640)\n",
      "\n",
      "image 1/1 C:\\Users\\Mohit\\OneDrive\\Desktop\\BrainTumorDetectionYolov\\BrainTumorDetectionYolov9\\test\\images\\volume_332_slice_119_jpg.rf.7faa54cd8331fc0898d144b0179f89f6.jpg: 608x640 (no detections), 11.0ms\n",
      "Speed: 7.0ms preprocess, 11.0ms inference, 1.0ms postprocess per image at shape (1, 3, 608, 640)\n",
      "\n",
      "image 1/1 C:\\Users\\Mohit\\OneDrive\\Desktop\\BrainTumorDetectionYolov\\BrainTumorDetectionYolov9\\test\\images\\volume_333_slice_93_jpg.rf.2e30b7a25f03cc3c5451021830f2b774.jpg: 608x640 1 label0, 14.0ms\n",
      "Speed: 6.0ms preprocess, 14.0ms inference, 3.0ms postprocess per image at shape (1, 3, 608, 640)\n",
      "\n",
      "image 1/1 C:\\Users\\Mohit\\OneDrive\\Desktop\\BrainTumorDetectionYolov\\BrainTumorDetectionYolov9\\test\\images\\volume_334_slice_53_jpg.rf.0d096755466afde80fea14b0c9bd29d9.jpg: 608x640 (no detections), 18.3ms\n",
      "Speed: 6.0ms preprocess, 18.3ms inference, 2.0ms postprocess per image at shape (1, 3, 608, 640)\n",
      "\n",
      "image 1/1 C:\\Users\\Mohit\\OneDrive\\Desktop\\BrainTumorDetectionYolov\\BrainTumorDetectionYolov9\\test\\images\\volume_334_slice_63_jpg.rf.f6a7362708d9210207eb2f999c6aa4ff.jpg: 608x640 (no detections), 13.0ms\n",
      "Speed: 6.0ms preprocess, 13.0ms inference, 1.0ms postprocess per image at shape (1, 3, 608, 640)\n",
      "\n",
      "image 1/1 C:\\Users\\Mohit\\OneDrive\\Desktop\\BrainTumorDetectionYolov\\BrainTumorDetectionYolov9\\test\\images\\volume_334_slice_68_jpg.rf.07caebc80432a0f17ea936333d6d29a1.jpg: 608x640 (no detections), 13.0ms\n",
      "Speed: 6.0ms preprocess, 13.0ms inference, 1.0ms postprocess per image at shape (1, 3, 608, 640)\n",
      "\n",
      "image 1/1 C:\\Users\\Mohit\\OneDrive\\Desktop\\BrainTumorDetectionYolov\\BrainTumorDetectionYolov9\\test\\images\\volume_334_slice_88_jpg.rf.333eb95c6588eb1de8b737ee0383b7f6.jpg: 608x640 (no detections), 13.0ms\n",
      "Speed: 7.0ms preprocess, 13.0ms inference, 1.0ms postprocess per image at shape (1, 3, 608, 640)\n",
      "\n",
      "image 1/1 C:\\Users\\Mohit\\OneDrive\\Desktop\\BrainTumorDetectionYolov\\BrainTumorDetectionYolov9\\test\\images\\volume_335_slice_32_jpg.rf.4ed83fb691d993237e3f9c1f8a7a2f39.jpg: 608x640 (no detections), 17.0ms\n",
      "Speed: 6.0ms preprocess, 17.0ms inference, 2.0ms postprocess per image at shape (1, 3, 608, 640)\n",
      "\n",
      "image 1/1 C:\\Users\\Mohit\\OneDrive\\Desktop\\BrainTumorDetectionYolov\\BrainTumorDetectionYolov9\\test\\images\\volume_335_slice_53_jpg.rf.85f33bbcb2a327b790846cb6366e4487.jpg: 608x640 (no detections), 19.0ms\n",
      "Speed: 6.6ms preprocess, 19.0ms inference, 2.0ms postprocess per image at shape (1, 3, 608, 640)\n",
      "\n",
      "image 1/1 C:\\Users\\Mohit\\OneDrive\\Desktop\\BrainTumorDetectionYolov\\BrainTumorDetectionYolov9\\test\\images\\volume_335_slice_91_jpg.rf.5dad117a4eb041ad8abfa4acf476d853.jpg: 608x640 (no detections), 13.1ms\n",
      "Speed: 7.5ms preprocess, 13.1ms inference, 2.0ms postprocess per image at shape (1, 3, 608, 640)\n",
      "\n",
      "image 1/1 C:\\Users\\Mohit\\OneDrive\\Desktop\\BrainTumorDetectionYolov\\BrainTumorDetectionYolov9\\test\\images\\volume_336_slice_103_jpg.rf.a7d522824b00cf59f847852297397d04.jpg: 608x640 1 label1, 18.0ms\n",
      "Speed: 8.6ms preprocess, 18.0ms inference, 3.0ms postprocess per image at shape (1, 3, 608, 640)\n",
      "\n",
      "image 1/1 C:\\Users\\Mohit\\OneDrive\\Desktop\\BrainTumorDetectionYolov\\BrainTumorDetectionYolov9\\test\\images\\volume_336_slice_106_jpg.rf.9672b03cda1146a8dbd6cece7f62e2f1.jpg: 608x640 (no detections), 11.0ms\n",
      "Speed: 6.0ms preprocess, 11.0ms inference, 2.0ms postprocess per image at shape (1, 3, 608, 640)\n",
      "\n",
      "image 1/1 C:\\Users\\Mohit\\OneDrive\\Desktop\\BrainTumorDetectionYolov\\BrainTumorDetectionYolov9\\test\\images\\volume_336_slice_109_jpg.rf.d1fe710b09ba4a80eb10e885bfb27021.jpg: 608x640 (no detections), 12.0ms\n",
      "Speed: 7.0ms preprocess, 12.0ms inference, 1.0ms postprocess per image at shape (1, 3, 608, 640)\n",
      "\n",
      "image 1/1 C:\\Users\\Mohit\\OneDrive\\Desktop\\BrainTumorDetectionYolov\\BrainTumorDetectionYolov9\\test\\images\\volume_336_slice_51_jpg.rf.626105591e0650880845e50921bf7579.jpg: 608x640 (no detections), 17.3ms\n",
      "Speed: 7.0ms preprocess, 17.3ms inference, 2.0ms postprocess per image at shape (1, 3, 608, 640)\n",
      "\n",
      "image 1/1 C:\\Users\\Mohit\\OneDrive\\Desktop\\BrainTumorDetectionYolov\\BrainTumorDetectionYolov9\\test\\images\\volume_336_slice_64_jpg.rf.15f48c843fcbaee46a57ca6f1dfe9bb4.jpg: 608x640 (no detections), 12.0ms\n",
      "Speed: 8.0ms preprocess, 12.0ms inference, 2.0ms postprocess per image at shape (1, 3, 608, 640)\n",
      "\n",
      "image 1/1 C:\\Users\\Mohit\\OneDrive\\Desktop\\BrainTumorDetectionYolov\\BrainTumorDetectionYolov9\\test\\images\\volume_336_slice_75_jpg.rf.1c7ee40aed16b0052b1061ef2376f693.jpg: 608x640 (no detections), 11.0ms\n",
      "Speed: 7.0ms preprocess, 11.0ms inference, 1.0ms postprocess per image at shape (1, 3, 608, 640)\n",
      "\n",
      "image 1/1 C:\\Users\\Mohit\\OneDrive\\Desktop\\BrainTumorDetectionYolov\\BrainTumorDetectionYolov9\\test\\images\\volume_336_slice_81_jpg.rf.89ff5b85d858d7d6a4d1b88d25410887.jpg: 608x640 (no detections), 21.4ms\n",
      "Speed: 6.2ms preprocess, 21.4ms inference, 1.0ms postprocess per image at shape (1, 3, 608, 640)\n",
      "\n",
      "image 1/1 C:\\Users\\Mohit\\OneDrive\\Desktop\\BrainTumorDetectionYolov\\BrainTumorDetectionYolov9\\test\\images\\volume_337_slice_66_jpg.rf.34232b9699c978243913729123f28cd7.jpg: 608x640 (no detections), 11.3ms\n",
      "Speed: 7.0ms preprocess, 11.3ms inference, 1.0ms postprocess per image at shape (1, 3, 608, 640)\n",
      "\n",
      "image 1/1 C:\\Users\\Mohit\\OneDrive\\Desktop\\BrainTumorDetectionYolov\\BrainTumorDetectionYolov9\\test\\images\\volume_338_slice_92_jpg.rf.ae5b7d842b48abac4fa3679dc9383961.jpg: 608x640 (no detections), 14.0ms\n",
      "Speed: 7.0ms preprocess, 14.0ms inference, 1.0ms postprocess per image at shape (1, 3, 608, 640)\n",
      "\n",
      "image 1/1 C:\\Users\\Mohit\\OneDrive\\Desktop\\BrainTumorDetectionYolov\\BrainTumorDetectionYolov9\\test\\images\\volume_339_slice_58_jpg.rf.787891d883ef84acff94a4d68b49c5b8.jpg: 608x640 (no detections), 13.9ms\n",
      "Speed: 6.1ms preprocess, 13.9ms inference, 1.0ms postprocess per image at shape (1, 3, 608, 640)\n",
      "\n",
      "image 1/1 C:\\Users\\Mohit\\OneDrive\\Desktop\\BrainTumorDetectionYolov\\BrainTumorDetectionYolov9\\test\\images\\volume_339_slice_72_jpg.rf.dc6ea096c529be2ebb1922786bde80af.jpg: 608x640 1 label1, 11.0ms\n",
      "Speed: 6.0ms preprocess, 11.0ms inference, 3.0ms postprocess per image at shape (1, 3, 608, 640)\n",
      "\n",
      "image 1/1 C:\\Users\\Mohit\\OneDrive\\Desktop\\BrainTumorDetectionYolov\\BrainTumorDetectionYolov9\\test\\images\\volume_33_slice_104_jpg.rf.88f0e3966b72de7ae62c36c791578045.jpg: 608x640 1 label1, 13.5ms\n",
      "Speed: 8.0ms preprocess, 13.5ms inference, 4.1ms postprocess per image at shape (1, 3, 608, 640)\n",
      "\n",
      "image 1/1 C:\\Users\\Mohit\\OneDrive\\Desktop\\BrainTumorDetectionYolov\\BrainTumorDetectionYolov9\\test\\images\\volume_33_slice_73_jpg.rf.26c0c8503ab8395e39561eee9a54bd5c.jpg: 608x640 (no detections), 12.0ms\n",
      "Speed: 7.0ms preprocess, 12.0ms inference, 56.0ms postprocess per image at shape (1, 3, 608, 640)\n",
      "\n",
      "image 1/1 C:\\Users\\Mohit\\OneDrive\\Desktop\\BrainTumorDetectionYolov\\BrainTumorDetectionYolov9\\test\\images\\volume_340_slice_112_jpg.rf.239abdc9ab8f90ce86f686b9b6ba973d.jpg: 608x640 (no detections), 13.0ms\n",
      "Speed: 6.1ms preprocess, 13.0ms inference, 1.0ms postprocess per image at shape (1, 3, 608, 640)\n",
      "\n",
      "image 1/1 C:\\Users\\Mohit\\OneDrive\\Desktop\\BrainTumorDetectionYolov\\BrainTumorDetectionYolov9\\test\\images\\volume_340_slice_123_jpg.rf.45828bc0b1c7a2b7cb61b1c2a02b632c.jpg: 608x640 (no detections), 14.0ms\n",
      "Speed: 7.0ms preprocess, 14.0ms inference, 2.0ms postprocess per image at shape (1, 3, 608, 640)\n",
      "\n",
      "image 1/1 C:\\Users\\Mohit\\OneDrive\\Desktop\\BrainTumorDetectionYolov\\BrainTumorDetectionYolov9\\test\\images\\volume_340_slice_69_jpg.rf.7d3410678bbec2bd184112c6b5212bf5.jpg: 608x640 (no detections), 12.0ms\n",
      "Speed: 9.0ms preprocess, 12.0ms inference, 1.0ms postprocess per image at shape (1, 3, 608, 640)\n",
      "\n",
      "image 1/1 C:\\Users\\Mohit\\OneDrive\\Desktop\\BrainTumorDetectionYolov\\BrainTumorDetectionYolov9\\test\\images\\volume_341_slice_73_jpg.rf.ab29d11cf541aa8289e008acf7440be8.jpg: 608x640 (no detections), 13.0ms\n",
      "Speed: 6.0ms preprocess, 13.0ms inference, 1.0ms postprocess per image at shape (1, 3, 608, 640)\n",
      "\n",
      "image 1/1 C:\\Users\\Mohit\\OneDrive\\Desktop\\BrainTumorDetectionYolov\\BrainTumorDetectionYolov9\\test\\images\\volume_342_slice_72_jpg.rf.6ea8e3264e899be4005f2f18e27cf53a.jpg: 608x640 (no detections), 12.0ms\n",
      "Speed: 7.0ms preprocess, 12.0ms inference, 1.0ms postprocess per image at shape (1, 3, 608, 640)\n",
      "\n",
      "image 1/1 C:\\Users\\Mohit\\OneDrive\\Desktop\\BrainTumorDetectionYolov\\BrainTumorDetectionYolov9\\test\\images\\volume_342_slice_86_jpg.rf.58c1f111254e4ad0acc26ea65b425065.jpg: 608x640 (no detections), 13.0ms\n",
      "Speed: 6.0ms preprocess, 13.0ms inference, 1.0ms postprocess per image at shape (1, 3, 608, 640)\n",
      "\n",
      "image 1/1 C:\\Users\\Mohit\\OneDrive\\Desktop\\BrainTumorDetectionYolov\\BrainTumorDetectionYolov9\\test\\images\\volume_343_slice_57_jpg.rf.abfa2f26316ee263886ec76f88a11534.jpg: 608x640 (no detections), 11.0ms\n",
      "Speed: 7.0ms preprocess, 11.0ms inference, 1.0ms postprocess per image at shape (1, 3, 608, 640)\n",
      "\n",
      "image 1/1 C:\\Users\\Mohit\\OneDrive\\Desktop\\BrainTumorDetectionYolov\\BrainTumorDetectionYolov9\\test\\images\\volume_343_slice_59_jpg.rf.d83b460cbcd039d1b2b8e509199eb4a2.jpg: 608x640 (no detections), 15.0ms\n",
      "Speed: 6.0ms preprocess, 15.0ms inference, 1.0ms postprocess per image at shape (1, 3, 608, 640)\n",
      "\n",
      "image 1/1 C:\\Users\\Mohit\\OneDrive\\Desktop\\BrainTumorDetectionYolov\\BrainTumorDetectionYolov9\\test\\images\\volume_344_slice_40_jpg.rf.157fb219ac55cca17bafc771cbc9f41b.jpg: 608x640 (no detections), 12.0ms\n",
      "Speed: 6.0ms preprocess, 12.0ms inference, 1.0ms postprocess per image at shape (1, 3, 608, 640)\n",
      "\n",
      "image 1/1 C:\\Users\\Mohit\\OneDrive\\Desktop\\BrainTumorDetectionYolov\\BrainTumorDetectionYolov9\\test\\images\\volume_344_slice_55_jpg.rf.8debd84e543c49267a8426d04426563f.jpg: 608x640 (no detections), 12.0ms\n",
      "Speed: 6.0ms preprocess, 12.0ms inference, 1.0ms postprocess per image at shape (1, 3, 608, 640)\n",
      "\n",
      "image 1/1 C:\\Users\\Mohit\\OneDrive\\Desktop\\BrainTumorDetectionYolov\\BrainTumorDetectionYolov9\\test\\images\\volume_344_slice_77_jpg.rf.d0d9f9f601d3b577fefa8eab24aad7d2.jpg: 608x640 (no detections), 14.0ms\n",
      "Speed: 6.0ms preprocess, 14.0ms inference, 1.0ms postprocess per image at shape (1, 3, 608, 640)\n",
      "\n",
      "image 1/1 C:\\Users\\Mohit\\OneDrive\\Desktop\\BrainTumorDetectionYolov\\BrainTumorDetectionYolov9\\test\\images\\volume_344_slice_79_jpg.rf.795afd3a8af553767afff253a634911c.jpg: 608x640 1 label1, 11.0ms\n",
      "Speed: 7.0ms preprocess, 11.0ms inference, 4.0ms postprocess per image at shape (1, 3, 608, 640)\n",
      "\n",
      "image 1/1 C:\\Users\\Mohit\\OneDrive\\Desktop\\BrainTumorDetectionYolov\\BrainTumorDetectionYolov9\\test\\images\\volume_344_slice_84_jpg.rf.6800702d847676e153c3aec3085a4e6e.jpg: 608x640 (no detections), 17.0ms\n",
      "Speed: 6.0ms preprocess, 17.0ms inference, 1.0ms postprocess per image at shape (1, 3, 608, 640)\n",
      "\n",
      "image 1/1 C:\\Users\\Mohit\\OneDrive\\Desktop\\BrainTumorDetectionYolov\\BrainTumorDetectionYolov9\\test\\images\\volume_345_slice_101_jpg.rf.3b8517c797c9b743ed5db488104e3895.jpg: 608x640 (no detections), 18.0ms\n",
      "Speed: 5.0ms preprocess, 18.0ms inference, 1.0ms postprocess per image at shape (1, 3, 608, 640)\n",
      "\n",
      "image 1/1 C:\\Users\\Mohit\\OneDrive\\Desktop\\BrainTumorDetectionYolov\\BrainTumorDetectionYolov9\\test\\images\\volume_345_slice_115_jpg.rf.61e24af5cc8e970151e5ef3cdd99dc39.jpg: 608x640 (no detections), 13.0ms\n",
      "Speed: 6.0ms preprocess, 13.0ms inference, 2.4ms postprocess per image at shape (1, 3, 608, 640)\n",
      "\n",
      "image 1/1 C:\\Users\\Mohit\\OneDrive\\Desktop\\BrainTumorDetectionYolov\\BrainTumorDetectionYolov9\\test\\images\\volume_345_slice_45_jpg.rf.661e73683301694dd538e3131b430ca4.jpg: 608x640 (no detections), 16.0ms\n",
      "Speed: 6.0ms preprocess, 16.0ms inference, 1.0ms postprocess per image at shape (1, 3, 608, 640)\n",
      "\n",
      "image 1/1 C:\\Users\\Mohit\\OneDrive\\Desktop\\BrainTumorDetectionYolov\\BrainTumorDetectionYolov9\\test\\images\\volume_345_slice_63_jpg.rf.a009db0c6018e5994b159d20bb467765.jpg: 608x640 (no detections), 11.0ms\n",
      "Speed: 6.0ms preprocess, 11.0ms inference, 1.0ms postprocess per image at shape (1, 3, 608, 640)\n",
      "\n",
      "image 1/1 C:\\Users\\Mohit\\OneDrive\\Desktop\\BrainTumorDetectionYolov\\BrainTumorDetectionYolov9\\test\\images\\volume_346_slice_111_jpg.rf.e6cdcef8ead08215f86f595de92e8d45.jpg: 608x640 (no detections), 12.0ms\n",
      "Speed: 7.0ms preprocess, 12.0ms inference, 2.0ms postprocess per image at shape (1, 3, 608, 640)\n",
      "\n",
      "image 1/1 C:\\Users\\Mohit\\OneDrive\\Desktop\\BrainTumorDetectionYolov\\BrainTumorDetectionYolov9\\test\\images\\volume_346_slice_120_jpg.rf.69af2f8d4ce4827db4f518357f2c749b.jpg: 608x640 (no detections), 15.1ms\n",
      "Speed: 8.0ms preprocess, 15.1ms inference, 1.8ms postprocess per image at shape (1, 3, 608, 640)\n",
      "\n",
      "image 1/1 C:\\Users\\Mohit\\OneDrive\\Desktop\\BrainTumorDetectionYolov\\BrainTumorDetectionYolov9\\test\\images\\volume_346_slice_62_jpg.rf.6e4ee02765d7af24ad53fab651b88e72.jpg: 608x640 (no detections), 12.1ms\n",
      "Speed: 6.1ms preprocess, 12.1ms inference, 2.0ms postprocess per image at shape (1, 3, 608, 640)\n",
      "\n",
      "image 1/1 C:\\Users\\Mohit\\OneDrive\\Desktop\\BrainTumorDetectionYolov\\BrainTumorDetectionYolov9\\test\\images\\volume_347_slice_129_jpg.rf.a05ff3b5d8bb8b4aaccd997b7271b2c0.jpg: 608x640 (no detections), 16.0ms\n",
      "Speed: 6.0ms preprocess, 16.0ms inference, 1.0ms postprocess per image at shape (1, 3, 608, 640)\n",
      "\n",
      "image 1/1 C:\\Users\\Mohit\\OneDrive\\Desktop\\BrainTumorDetectionYolov\\BrainTumorDetectionYolov9\\test\\images\\volume_347_slice_80_jpg.rf.bdd83e6245cacadd0bd25f6f94d11609.jpg: 608x640 (no detections), 12.0ms\n",
      "Speed: 5.0ms preprocess, 12.0ms inference, 1.0ms postprocess per image at shape (1, 3, 608, 640)\n",
      "\n",
      "image 1/1 C:\\Users\\Mohit\\OneDrive\\Desktop\\BrainTumorDetectionYolov\\BrainTumorDetectionYolov9\\test\\images\\volume_347_slice_82_jpg.rf.38cc1087ef4e417c57de2de5f547fc13.jpg: 608x640 1 label1, 14.0ms\n",
      "Speed: 6.0ms preprocess, 14.0ms inference, 4.0ms postprocess per image at shape (1, 3, 608, 640)\n",
      "\n",
      "image 1/1 C:\\Users\\Mohit\\OneDrive\\Desktop\\BrainTumorDetectionYolov\\BrainTumorDetectionYolov9\\test\\images\\volume_347_slice_87_jpg.rf.202e1c6f915fdd7ffd93defc1f2c81cc.jpg: 608x640 1 label1, 23.0ms\n",
      "Speed: 6.0ms preprocess, 23.0ms inference, 3.0ms postprocess per image at shape (1, 3, 608, 640)\n",
      "\n",
      "image 1/1 C:\\Users\\Mohit\\OneDrive\\Desktop\\BrainTumorDetectionYolov\\BrainTumorDetectionYolov9\\test\\images\\volume_348_slice_101_jpg.rf.2c2cb4d41d9ee72171c8e276e2cf3ac9.jpg: 608x640 (no detections), 16.0ms\n",
      "Speed: 6.0ms preprocess, 16.0ms inference, 1.0ms postprocess per image at shape (1, 3, 608, 640)\n",
      "\n",
      "image 1/1 C:\\Users\\Mohit\\OneDrive\\Desktop\\BrainTumorDetectionYolov\\BrainTumorDetectionYolov9\\test\\images\\volume_348_slice_115_jpg.rf.692ba47c98cc086fea9d80ce2c8a9a5a.jpg: 608x640 (no detections), 15.2ms\n",
      "Speed: 6.0ms preprocess, 15.2ms inference, 1.0ms postprocess per image at shape (1, 3, 608, 640)\n",
      "\n",
      "image 1/1 C:\\Users\\Mohit\\OneDrive\\Desktop\\BrainTumorDetectionYolov\\BrainTumorDetectionYolov9\\test\\images\\volume_348_slice_95_jpg.rf.6ede296c3f96ca1c24c8760314d8db61.jpg: 608x640 1 label1, 15.0ms\n",
      "Speed: 5.9ms preprocess, 15.0ms inference, 6.0ms postprocess per image at shape (1, 3, 608, 640)\n",
      "\n",
      "image 1/1 C:\\Users\\Mohit\\OneDrive\\Desktop\\BrainTumorDetectionYolov\\BrainTumorDetectionYolov9\\test\\images\\volume_348_slice_99_jpg.rf.8416f9fed2697b95a0da9c531f6bc455.jpg: 608x640 (no detections), 13.0ms\n",
      "Speed: 6.0ms preprocess, 13.0ms inference, 1.0ms postprocess per image at shape (1, 3, 608, 640)\n",
      "\n",
      "image 1/1 C:\\Users\\Mohit\\OneDrive\\Desktop\\BrainTumorDetectionYolov\\BrainTumorDetectionYolov9\\test\\images\\volume_349_slice_69_jpg.rf.db22ffa532950876a4490ae9a66830af.jpg: 608x640 (no detections), 23.0ms\n",
      "Speed: 6.0ms preprocess, 23.0ms inference, 1.0ms postprocess per image at shape (1, 3, 608, 640)\n",
      "\n",
      "image 1/1 C:\\Users\\Mohit\\OneDrive\\Desktop\\BrainTumorDetectionYolov\\BrainTumorDetectionYolov9\\test\\images\\volume_349_slice_70_jpg.rf.e2f32b75a08694b79aae49a0152ac551.jpg: 608x640 (no detections), 11.0ms\n",
      "Speed: 6.0ms preprocess, 11.0ms inference, 2.0ms postprocess per image at shape (1, 3, 608, 640)\n",
      "\n",
      "image 1/1 C:\\Users\\Mohit\\OneDrive\\Desktop\\BrainTumorDetectionYolov\\BrainTumorDetectionYolov9\\test\\images\\volume_34_slice_109_jpg.rf.51d2247ee7fed9c4ea91a6df61b3a8cc.jpg: 608x640 (no detections), 15.0ms\n",
      "Speed: 17.0ms preprocess, 15.0ms inference, 1.0ms postprocess per image at shape (1, 3, 608, 640)\n",
      "\n",
      "image 1/1 C:\\Users\\Mohit\\OneDrive\\Desktop\\BrainTumorDetectionYolov\\BrainTumorDetectionYolov9\\test\\images\\volume_34_slice_90_jpg.rf.41d3eec190a5bcc8ca585f0e6c60ed08.jpg: 608x640 (no detections), 11.0ms\n",
      "Speed: 7.0ms preprocess, 11.0ms inference, 1.0ms postprocess per image at shape (1, 3, 608, 640)\n",
      "\n",
      "image 1/1 C:\\Users\\Mohit\\OneDrive\\Desktop\\BrainTumorDetectionYolov\\BrainTumorDetectionYolov9\\test\\images\\volume_34_slice_94_jpg.rf.0a3d92fd67b684e610a82dd51a82b6e2.jpg: 608x640 (no detections), 11.0ms\n",
      "Speed: 7.0ms preprocess, 11.0ms inference, 1.0ms postprocess per image at shape (1, 3, 608, 640)\n",
      "\n",
      "image 1/1 C:\\Users\\Mohit\\OneDrive\\Desktop\\BrainTumorDetectionYolov\\BrainTumorDetectionYolov9\\test\\images\\volume_350_slice_86_jpg.rf.c853416b3cd090b245522dc8423bc6e9.jpg: 608x640 (no detections), 15.0ms\n",
      "Speed: 7.2ms preprocess, 15.0ms inference, 1.0ms postprocess per image at shape (1, 3, 608, 640)\n",
      "\n",
      "image 1/1 C:\\Users\\Mohit\\OneDrive\\Desktop\\BrainTumorDetectionYolov\\BrainTumorDetectionYolov9\\test\\images\\volume_351_slice_37_jpg.rf.270e824096724a45eeb87b9502befb46.jpg: 608x640 (no detections), 12.0ms\n",
      "Speed: 6.0ms preprocess, 12.0ms inference, 1.0ms postprocess per image at shape (1, 3, 608, 640)\n",
      "\n",
      "image 1/1 C:\\Users\\Mohit\\OneDrive\\Desktop\\BrainTumorDetectionYolov\\BrainTumorDetectionYolov9\\test\\images\\volume_351_slice_44_jpg.rf.5a27af5d2ecc53fcb706e2518d738bc3.jpg: 608x640 (no detections), 11.0ms\n",
      "Speed: 6.0ms preprocess, 11.0ms inference, 2.0ms postprocess per image at shape (1, 3, 608, 640)\n",
      "\n",
      "image 1/1 C:\\Users\\Mohit\\OneDrive\\Desktop\\BrainTumorDetectionYolov\\BrainTumorDetectionYolov9\\test\\images\\volume_351_slice_66_jpg.rf.21aa23cdf00de2d08e2444387fdeb758.jpg: 608x640 (no detections), 13.4ms\n",
      "Speed: 7.0ms preprocess, 13.4ms inference, 2.0ms postprocess per image at shape (1, 3, 608, 640)\n",
      "\n",
      "image 1/1 C:\\Users\\Mohit\\OneDrive\\Desktop\\BrainTumorDetectionYolov\\BrainTumorDetectionYolov9\\test\\images\\volume_351_slice_69_jpg.rf.8a5b33547242a1c406541922cb11f7b6.jpg: 608x640 1 label1, 15.0ms\n",
      "Speed: 6.0ms preprocess, 15.0ms inference, 3.0ms postprocess per image at shape (1, 3, 608, 640)\n",
      "\n",
      "image 1/1 C:\\Users\\Mohit\\OneDrive\\Desktop\\BrainTumorDetectionYolov\\BrainTumorDetectionYolov9\\test\\images\\volume_351_slice_72_jpg.rf.8e15af6869a3d418397675e09f7dcd40.jpg: 608x640 1 label1, 16.0ms\n",
      "Speed: 7.0ms preprocess, 16.0ms inference, 3.0ms postprocess per image at shape (1, 3, 608, 640)\n",
      "\n",
      "image 1/1 C:\\Users\\Mohit\\OneDrive\\Desktop\\BrainTumorDetectionYolov\\BrainTumorDetectionYolov9\\test\\images\\volume_352_slice_107_jpg.rf.77bfb01167d51c37d757a64b1498b251.jpg: 608x640 (no detections), 13.0ms\n",
      "Speed: 6.0ms preprocess, 13.0ms inference, 1.0ms postprocess per image at shape (1, 3, 608, 640)\n",
      "\n",
      "image 1/1 C:\\Users\\Mohit\\OneDrive\\Desktop\\BrainTumorDetectionYolov\\BrainTumorDetectionYolov9\\test\\images\\volume_352_slice_86_jpg.rf.d3cad64da440a543925e82f590d20a82.jpg: 608x640 (no detections), 11.2ms\n",
      "Speed: 6.0ms preprocess, 11.2ms inference, 1.0ms postprocess per image at shape (1, 3, 608, 640)\n",
      "\n",
      "image 1/1 C:\\Users\\Mohit\\OneDrive\\Desktop\\BrainTumorDetectionYolov\\BrainTumorDetectionYolov9\\test\\images\\volume_353_slice_33_jpg.rf.648a92110b6aed0c4ee3c1b6cf70872d.jpg: 608x640 (no detections), 22.5ms\n",
      "Speed: 6.0ms preprocess, 22.5ms inference, 1.0ms postprocess per image at shape (1, 3, 608, 640)\n",
      "\n",
      "image 1/1 C:\\Users\\Mohit\\OneDrive\\Desktop\\BrainTumorDetectionYolov\\BrainTumorDetectionYolov9\\test\\images\\volume_353_slice_47_jpg.rf.9d59bbed40b52c4e4dc7dbb94a2dc35e.jpg: 608x640 1 label1, 11.0ms\n",
      "Speed: 8.0ms preprocess, 11.0ms inference, 3.0ms postprocess per image at shape (1, 3, 608, 640)\n",
      "\n",
      "image 1/1 C:\\Users\\Mohit\\OneDrive\\Desktop\\BrainTumorDetectionYolov\\BrainTumorDetectionYolov9\\test\\images\\volume_353_slice_61_jpg.rf.f52ef19526beabdac3621ed644f8f0b2.jpg: 608x640 (no detections), 13.0ms\n",
      "Speed: 6.0ms preprocess, 13.0ms inference, 1.0ms postprocess per image at shape (1, 3, 608, 640)\n",
      "\n",
      "image 1/1 C:\\Users\\Mohit\\OneDrive\\Desktop\\BrainTumorDetectionYolov\\BrainTumorDetectionYolov9\\test\\images\\volume_354_slice_115_jpg.rf.ea9ced494eda47c3ef00fa4f16e87eaf.jpg: 608x640 (no detections), 12.0ms\n",
      "Speed: 6.0ms preprocess, 12.0ms inference, 1.0ms postprocess per image at shape (1, 3, 608, 640)\n",
      "\n",
      "image 1/1 C:\\Users\\Mohit\\OneDrive\\Desktop\\BrainTumorDetectionYolov\\BrainTumorDetectionYolov9\\test\\images\\volume_355_slice_94_jpg.rf.a53c75fc04e5c763e553d79b7922f386.jpg: 608x640 1 label1, 13.0ms\n",
      "Speed: 6.0ms preprocess, 13.0ms inference, 3.0ms postprocess per image at shape (1, 3, 608, 640)\n",
      "\n",
      "image 1/1 C:\\Users\\Mohit\\OneDrive\\Desktop\\BrainTumorDetectionYolov\\BrainTumorDetectionYolov9\\test\\images\\volume_357_slice_99_jpg.rf.f343a978caab6aa748df2e1c96782fd3.jpg: 608x640 (no detections), 18.0ms\n",
      "Speed: 7.0ms preprocess, 18.0ms inference, 1.0ms postprocess per image at shape (1, 3, 608, 640)\n",
      "\n",
      "image 1/1 C:\\Users\\Mohit\\OneDrive\\Desktop\\BrainTumorDetectionYolov\\BrainTumorDetectionYolov9\\test\\images\\volume_358_slice_103_jpg.rf.2cd08293b54dd8d95e70872e750a3d05.jpg: 608x640 (no detections), 13.5ms\n",
      "Speed: 5.0ms preprocess, 13.5ms inference, 2.0ms postprocess per image at shape (1, 3, 608, 640)\n",
      "\n",
      "image 1/1 C:\\Users\\Mohit\\OneDrive\\Desktop\\BrainTumorDetectionYolov\\BrainTumorDetectionYolov9\\test\\images\\volume_358_slice_108_jpg.rf.b0d3c20943034f494af54b968312b091.jpg: 608x640 (no detections), 12.0ms\n",
      "Speed: 6.0ms preprocess, 12.0ms inference, 1.0ms postprocess per image at shape (1, 3, 608, 640)\n",
      "\n",
      "image 1/1 C:\\Users\\Mohit\\OneDrive\\Desktop\\BrainTumorDetectionYolov\\BrainTumorDetectionYolov9\\test\\images\\volume_358_slice_40_jpg.rf.7daf13bb8c7e997dff81aca9221ca54c.jpg: 608x640 (no detections), 21.0ms\n",
      "Speed: 10.0ms preprocess, 21.0ms inference, 1.0ms postprocess per image at shape (1, 3, 608, 640)\n",
      "\n",
      "image 1/1 C:\\Users\\Mohit\\OneDrive\\Desktop\\BrainTumorDetectionYolov\\BrainTumorDetectionYolov9\\test\\images\\volume_358_slice_58_jpg.rf.adb6f58c3fdf6227cb76ff22bcfc99d6.jpg: 608x640 (no detections), 15.0ms\n",
      "Speed: 6.0ms preprocess, 15.0ms inference, 1.0ms postprocess per image at shape (1, 3, 608, 640)\n",
      "\n",
      "image 1/1 C:\\Users\\Mohit\\OneDrive\\Desktop\\BrainTumorDetectionYolov\\BrainTumorDetectionYolov9\\test\\images\\volume_358_slice_98_jpg.rf.256c157bb922abdce7bf6a1146a7510b.jpg: 608x640 (no detections), 12.0ms\n",
      "Speed: 6.0ms preprocess, 12.0ms inference, 1.0ms postprocess per image at shape (1, 3, 608, 640)\n",
      "\n",
      "image 1/1 C:\\Users\\Mohit\\OneDrive\\Desktop\\BrainTumorDetectionYolov\\BrainTumorDetectionYolov9\\test\\images\\volume_359_slice_86_jpg.rf.3e874de6266858712f19fb6d482380d8.jpg: 608x640 (no detections), 14.9ms\n",
      "Speed: 5.0ms preprocess, 14.9ms inference, 2.0ms postprocess per image at shape (1, 3, 608, 640)\n",
      "\n",
      "image 1/1 C:\\Users\\Mohit\\OneDrive\\Desktop\\BrainTumorDetectionYolov\\BrainTumorDetectionYolov9\\test\\images\\volume_359_slice_89_jpg.rf.81bc3b82113b67c3921881ca10e4c22e.jpg: 608x640 (no detections), 11.0ms\n",
      "Speed: 9.0ms preprocess, 11.0ms inference, 1.0ms postprocess per image at shape (1, 3, 608, 640)\n",
      "\n",
      "image 1/1 C:\\Users\\Mohit\\OneDrive\\Desktop\\BrainTumorDetectionYolov\\BrainTumorDetectionYolov9\\test\\images\\volume_35_slice_28_jpg.rf.7547612e218089431641e28a02215f9f.jpg: 608x640 (no detections), 12.0ms\n",
      "Speed: 6.0ms preprocess, 12.0ms inference, 2.0ms postprocess per image at shape (1, 3, 608, 640)\n",
      "\n",
      "image 1/1 C:\\Users\\Mohit\\OneDrive\\Desktop\\BrainTumorDetectionYolov\\BrainTumorDetectionYolov9\\test\\images\\volume_35_slice_46_jpg.rf.ee5d1bb43350aeebc1d414476c6908d3.jpg: 608x640 (no detections), 17.3ms\n",
      "Speed: 7.0ms preprocess, 17.3ms inference, 1.0ms postprocess per image at shape (1, 3, 608, 640)\n",
      "\n",
      "image 1/1 C:\\Users\\Mohit\\OneDrive\\Desktop\\BrainTumorDetectionYolov\\BrainTumorDetectionYolov9\\test\\images\\volume_35_slice_47_jpg.rf.348a0bfb80e6e580313eaf947edf65e4.jpg: 608x640 (no detections), 14.0ms\n",
      "Speed: 6.1ms preprocess, 14.0ms inference, 1.0ms postprocess per image at shape (1, 3, 608, 640)\n",
      "\n",
      "image 1/1 C:\\Users\\Mohit\\OneDrive\\Desktop\\BrainTumorDetectionYolov\\BrainTumorDetectionYolov9\\test\\images\\volume_35_slice_67_jpg.rf.7384859eeed01d11d90f3e1f9b64bb9f.jpg: 608x640 (no detections), 96.0ms\n",
      "Speed: 7.0ms preprocess, 96.0ms inference, 1.0ms postprocess per image at shape (1, 3, 608, 640)\n",
      "\n",
      "image 1/1 C:\\Users\\Mohit\\OneDrive\\Desktop\\BrainTumorDetectionYolov\\BrainTumorDetectionYolov9\\test\\images\\volume_360_slice_126_jpg.rf.ca417696c56dac6cb6d78bfc68c5d562.jpg: 608x640 (no detections), 36.2ms\n",
      "Speed: 6.8ms preprocess, 36.2ms inference, 1.0ms postprocess per image at shape (1, 3, 608, 640)\n",
      "\n",
      "image 1/1 C:\\Users\\Mohit\\OneDrive\\Desktop\\BrainTumorDetectionYolov\\BrainTumorDetectionYolov9\\test\\images\\volume_360_slice_87_jpg.rf.910135f195b3947f1b0ba8de147e172c.jpg: 608x640 (no detections), 11.0ms\n",
      "Speed: 6.0ms preprocess, 11.0ms inference, 2.0ms postprocess per image at shape (1, 3, 608, 640)\n",
      "\n",
      "image 1/1 C:\\Users\\Mohit\\OneDrive\\Desktop\\BrainTumorDetectionYolov\\BrainTumorDetectionYolov9\\test\\images\\volume_360_slice_99_jpg.rf.06dfd48b0f3e227fc3c23d9dbfc8cc2a.jpg: 608x640 (no detections), 11.0ms\n",
      "Speed: 6.0ms preprocess, 11.0ms inference, 1.0ms postprocess per image at shape (1, 3, 608, 640)\n",
      "\n",
      "image 1/1 C:\\Users\\Mohit\\OneDrive\\Desktop\\BrainTumorDetectionYolov\\BrainTumorDetectionYolov9\\test\\images\\volume_361_slice_100_jpg.rf.5d73f29a4a1f6ff1478b9581d0a0fffc.jpg: 608x640 1 label1, 17.0ms\n",
      "Speed: 6.0ms preprocess, 17.0ms inference, 3.0ms postprocess per image at shape (1, 3, 608, 640)\n",
      "\n",
      "image 1/1 C:\\Users\\Mohit\\OneDrive\\Desktop\\BrainTumorDetectionYolov\\BrainTumorDetectionYolov9\\test\\images\\volume_361_slice_123_jpg.rf.88fd6c3932ff25f7ff8535b3de61b2df.jpg: 608x640 (no detections), 21.0ms\n",
      "Speed: 7.0ms preprocess, 21.0ms inference, 2.0ms postprocess per image at shape (1, 3, 608, 640)\n",
      "\n",
      "image 1/1 C:\\Users\\Mohit\\OneDrive\\Desktop\\BrainTumorDetectionYolov\\BrainTumorDetectionYolov9\\test\\images\\volume_362_slice_33_jpg.rf.fd77fe70f543dbf873ca72b5147ffd9f.jpg: 608x640 (no detections), 13.0ms\n",
      "Speed: 6.0ms preprocess, 13.0ms inference, 1.0ms postprocess per image at shape (1, 3, 608, 640)\n",
      "\n",
      "image 1/1 C:\\Users\\Mohit\\OneDrive\\Desktop\\BrainTumorDetectionYolov\\BrainTumorDetectionYolov9\\test\\images\\volume_362_slice_40_jpg.rf.1d2238602b3e37a6dddd123a6365cb0d.jpg: 608x640 (no detections), 12.0ms\n",
      "Speed: 5.0ms preprocess, 12.0ms inference, 1.0ms postprocess per image at shape (1, 3, 608, 640)\n",
      "\n",
      "image 1/1 C:\\Users\\Mohit\\OneDrive\\Desktop\\BrainTumorDetectionYolov\\BrainTumorDetectionYolov9\\test\\images\\volume_362_slice_49_jpg.rf.6e9a2f79fa41d39876de7c78e3eef0a1.jpg: 608x640 (no detections), 11.0ms\n",
      "Speed: 6.0ms preprocess, 11.0ms inference, 1.0ms postprocess per image at shape (1, 3, 608, 640)\n",
      "\n",
      "image 1/1 C:\\Users\\Mohit\\OneDrive\\Desktop\\BrainTumorDetectionYolov\\BrainTumorDetectionYolov9\\test\\images\\volume_362_slice_51_jpg.rf.7b9ab2ac4c4e305fb4b82ba3bc49c2fd.jpg: 608x640 (no detections), 16.0ms\n",
      "Speed: 6.0ms preprocess, 16.0ms inference, 1.0ms postprocess per image at shape (1, 3, 608, 640)\n",
      "\n",
      "image 1/1 C:\\Users\\Mohit\\OneDrive\\Desktop\\BrainTumorDetectionYolov\\BrainTumorDetectionYolov9\\test\\images\\volume_362_slice_89_jpg.rf.5993f861f64856c4e3936b2f996e0a39.jpg: 608x640 1 label1, 11.0ms\n",
      "Speed: 7.0ms preprocess, 11.0ms inference, 3.0ms postprocess per image at shape (1, 3, 608, 640)\n",
      "\n",
      "image 1/1 C:\\Users\\Mohit\\OneDrive\\Desktop\\BrainTumorDetectionYolov\\BrainTumorDetectionYolov9\\test\\images\\volume_362_slice_90_jpg.rf.43ce184e261b1f60f95b6680fac086f9.jpg: 608x640 (no detections), 18.0ms\n",
      "Speed: 6.0ms preprocess, 18.0ms inference, 1.0ms postprocess per image at shape (1, 3, 608, 640)\n",
      "\n",
      "image 1/1 C:\\Users\\Mohit\\OneDrive\\Desktop\\BrainTumorDetectionYolov\\BrainTumorDetectionYolov9\\test\\images\\volume_363_slice_97_jpg.rf.5f08603e55af8a17987c09c2c9ddeace.jpg: 608x640 (no detections), 18.0ms\n",
      "Speed: 6.0ms preprocess, 18.0ms inference, 2.0ms postprocess per image at shape (1, 3, 608, 640)\n",
      "\n",
      "image 1/1 C:\\Users\\Mohit\\OneDrive\\Desktop\\BrainTumorDetectionYolov\\BrainTumorDetectionYolov9\\test\\images\\volume_364_slice_59_jpg.rf.fc1f94e7d0956e244a8e7629971aca04.jpg: 608x640 (no detections), 15.5ms\n",
      "Speed: 6.0ms preprocess, 15.5ms inference, 1.0ms postprocess per image at shape (1, 3, 608, 640)\n",
      "\n",
      "image 1/1 C:\\Users\\Mohit\\OneDrive\\Desktop\\BrainTumorDetectionYolov\\BrainTumorDetectionYolov9\\test\\images\\volume_364_slice_76_jpg.rf.b08b199e7c812b41f591226f74d8518e.jpg: 608x640 (no detections), 14.0ms\n",
      "Speed: 6.0ms preprocess, 14.0ms inference, 1.0ms postprocess per image at shape (1, 3, 608, 640)\n",
      "\n",
      "image 1/1 C:\\Users\\Mohit\\OneDrive\\Desktop\\BrainTumorDetectionYolov\\BrainTumorDetectionYolov9\\test\\images\\volume_365_slice_117_jpg.rf.4dab106d13662aaaa02c9d16ccef99a4.jpg: 608x640 (no detections), 16.0ms\n",
      "Speed: 8.0ms preprocess, 16.0ms inference, 2.0ms postprocess per image at shape (1, 3, 608, 640)\n",
      "\n",
      "image 1/1 C:\\Users\\Mohit\\OneDrive\\Desktop\\BrainTumorDetectionYolov\\BrainTumorDetectionYolov9\\test\\images\\volume_367_slice_106_jpg.rf.9509440afb8a8b02df264611ce76dcbe.jpg: 608x640 (no detections), 13.0ms\n",
      "Speed: 6.5ms preprocess, 13.0ms inference, 1.0ms postprocess per image at shape (1, 3, 608, 640)\n",
      "\n",
      "image 1/1 C:\\Users\\Mohit\\OneDrive\\Desktop\\BrainTumorDetectionYolov\\BrainTumorDetectionYolov9\\test\\images\\volume_367_slice_71_jpg.rf.188573ee0fcebd0330239b5c3449b0e8.jpg: 608x640 (no detections), 13.0ms\n",
      "Speed: 6.0ms preprocess, 13.0ms inference, 1.0ms postprocess per image at shape (1, 3, 608, 640)\n",
      "\n",
      "image 1/1 C:\\Users\\Mohit\\OneDrive\\Desktop\\BrainTumorDetectionYolov\\BrainTumorDetectionYolov9\\test\\images\\volume_367_slice_86_jpg.rf.ee1a89782994ee08b8a1df7ec1ce3457.jpg: 608x640 1 label1, 12.0ms\n",
      "Speed: 6.0ms preprocess, 12.0ms inference, 3.0ms postprocess per image at shape (1, 3, 608, 640)\n",
      "\n",
      "image 1/1 C:\\Users\\Mohit\\OneDrive\\Desktop\\BrainTumorDetectionYolov\\BrainTumorDetectionYolov9\\test\\images\\volume_367_slice_96_jpg.rf.56f9df5ba8a17f8bafa03a63133ef843.jpg: 608x640 (no detections), 12.0ms\n",
      "Speed: 6.0ms preprocess, 12.0ms inference, 1.0ms postprocess per image at shape (1, 3, 608, 640)\n",
      "\n",
      "image 1/1 C:\\Users\\Mohit\\OneDrive\\Desktop\\BrainTumorDetectionYolov\\BrainTumorDetectionYolov9\\test\\images\\volume_368_slice_107_jpg.rf.d61ee92be94107509ee25c5b39ac2057.jpg: 608x640 1 label1, 14.0ms\n",
      "Speed: 6.0ms preprocess, 14.0ms inference, 3.0ms postprocess per image at shape (1, 3, 608, 640)\n",
      "\n",
      "image 1/1 C:\\Users\\Mohit\\OneDrive\\Desktop\\BrainTumorDetectionYolov\\BrainTumorDetectionYolov9\\test\\images\\volume_369_slice_123_jpg.rf.868abf0a663ac30231c4d41e8f075bee.jpg: 608x640 (no detections), 12.0ms\n",
      "Speed: 5.0ms preprocess, 12.0ms inference, 1.0ms postprocess per image at shape (1, 3, 608, 640)\n",
      "\n",
      "image 1/1 C:\\Users\\Mohit\\OneDrive\\Desktop\\BrainTumorDetectionYolov\\BrainTumorDetectionYolov9\\test\\images\\volume_37_slice_50_jpg.rf.73516401ab1d2d69bac098b2ffe6fe34.jpg: 608x640 (no detections), 12.0ms\n",
      "Speed: 7.0ms preprocess, 12.0ms inference, 2.0ms postprocess per image at shape (1, 3, 608, 640)\n",
      "\n",
      "image 1/1 C:\\Users\\Mohit\\OneDrive\\Desktop\\BrainTumorDetectionYolov\\BrainTumorDetectionYolov9\\test\\images\\volume_37_slice_59_jpg.rf.07dd96fa9a1b448aa1fae4c594b41fbb.jpg: 608x640 (no detections), 13.0ms\n",
      "Speed: 7.0ms preprocess, 13.0ms inference, 1.0ms postprocess per image at shape (1, 3, 608, 640)\n",
      "\n",
      "image 1/1 C:\\Users\\Mohit\\OneDrive\\Desktop\\BrainTumorDetectionYolov\\BrainTumorDetectionYolov9\\test\\images\\volume_37_slice_77_jpg.rf.772c30063476f328d307e95915318a4d.jpg: 608x640 (no detections), 16.0ms\n",
      "Speed: 6.0ms preprocess, 16.0ms inference, 1.0ms postprocess per image at shape (1, 3, 608, 640)\n",
      "\n",
      "image 1/1 C:\\Users\\Mohit\\OneDrive\\Desktop\\BrainTumorDetectionYolov\\BrainTumorDetectionYolov9\\test\\images\\volume_38_slice_109_jpg.rf.1855a7504636b2b14f1c567ed39c286a.jpg: 608x640 (no detections), 12.0ms\n",
      "Speed: 6.0ms preprocess, 12.0ms inference, 2.0ms postprocess per image at shape (1, 3, 608, 640)\n",
      "\n",
      "image 1/1 C:\\Users\\Mohit\\OneDrive\\Desktop\\BrainTumorDetectionYolov\\BrainTumorDetectionYolov9\\test\\images\\volume_38_slice_65_jpg.rf.c655ed8b23cff5376883cbefb5c3dadb.jpg: 608x640 (no detections), 13.0ms\n",
      "Speed: 7.0ms preprocess, 13.0ms inference, 1.0ms postprocess per image at shape (1, 3, 608, 640)\n",
      "\n",
      "image 1/1 C:\\Users\\Mohit\\OneDrive\\Desktop\\BrainTumorDetectionYolov\\BrainTumorDetectionYolov9\\test\\images\\volume_38_slice_75_jpg.rf.42ba96115a5b3f586b3340c54dc28228.jpg: 608x640 (no detections), 11.0ms\n",
      "Speed: 6.0ms preprocess, 11.0ms inference, 1.0ms postprocess per image at shape (1, 3, 608, 640)\n",
      "\n",
      "image 1/1 C:\\Users\\Mohit\\OneDrive\\Desktop\\BrainTumorDetectionYolov\\BrainTumorDetectionYolov9\\test\\images\\volume_38_slice_91_jpg.rf.46cd609ec25c95d42ef6ddab79a12c26.jpg: 608x640 (no detections), 15.0ms\n",
      "Speed: 6.0ms preprocess, 15.0ms inference, 1.0ms postprocess per image at shape (1, 3, 608, 640)\n",
      "\n",
      "image 1/1 C:\\Users\\Mohit\\OneDrive\\Desktop\\BrainTumorDetectionYolov\\BrainTumorDetectionYolov9\\test\\images\\volume_39_slice_66_jpg.rf.935082ef431e3ae1f87a599ea45556ff.jpg: 608x640 (no detections), 18.0ms\n",
      "Speed: 6.0ms preprocess, 18.0ms inference, 1.0ms postprocess per image at shape (1, 3, 608, 640)\n",
      "\n",
      "image 1/1 C:\\Users\\Mohit\\OneDrive\\Desktop\\BrainTumorDetectionYolov\\BrainTumorDetectionYolov9\\test\\images\\volume_39_slice_67_jpg.rf.832be5cd4ab1075bb54198e9ee3681ed.jpg: 608x640 (no detections), 11.0ms\n",
      "Speed: 6.0ms preprocess, 11.0ms inference, 1.0ms postprocess per image at shape (1, 3, 608, 640)\n",
      "\n",
      "image 1/1 C:\\Users\\Mohit\\OneDrive\\Desktop\\BrainTumorDetectionYolov\\BrainTumorDetectionYolov9\\test\\images\\volume_39_slice_77_jpg.rf.455ad48277fdf6e7e105f8a5280aec8f.jpg: 608x640 (no detections), 73.3ms\n",
      "Speed: 7.0ms preprocess, 73.3ms inference, 2.0ms postprocess per image at shape (1, 3, 608, 640)\n",
      "\n",
      "image 1/1 C:\\Users\\Mohit\\OneDrive\\Desktop\\BrainTumorDetectionYolov\\BrainTumorDetectionYolov9\\test\\images\\volume_3_slice_75_jpg.rf.83cec40230d530694954e935e6ac2293.jpg: 608x640 (no detections), 12.4ms\n",
      "Speed: 7.0ms preprocess, 12.4ms inference, 1.0ms postprocess per image at shape (1, 3, 608, 640)\n",
      "\n",
      "image 1/1 C:\\Users\\Mohit\\OneDrive\\Desktop\\BrainTumorDetectionYolov\\BrainTumorDetectionYolov9\\test\\images\\volume_41_slice_64_jpg.rf.e83d1e2dd56708fea95397acf41dab42.jpg: 608x640 (no detections), 20.0ms\n",
      "Speed: 8.0ms preprocess, 20.0ms inference, 1.0ms postprocess per image at shape (1, 3, 608, 640)\n",
      "\n",
      "image 1/1 C:\\Users\\Mohit\\OneDrive\\Desktop\\BrainTumorDetectionYolov\\BrainTumorDetectionYolov9\\test\\images\\volume_41_slice_65_jpg.rf.41e83041d757416c266dc4c7362e34e2.jpg: 608x640 (no detections), 12.0ms\n",
      "Speed: 8.0ms preprocess, 12.0ms inference, 1.0ms postprocess per image at shape (1, 3, 608, 640)\n",
      "\n",
      "image 1/1 C:\\Users\\Mohit\\OneDrive\\Desktop\\BrainTumorDetectionYolov\\BrainTumorDetectionYolov9\\test\\images\\volume_41_slice_75_jpg.rf.005a83bf781039454ca2901144e0d4fc.jpg: 608x640 1 label1, 13.0ms\n",
      "Speed: 6.9ms preprocess, 13.0ms inference, 4.0ms postprocess per image at shape (1, 3, 608, 640)\n",
      "\n",
      "image 1/1 C:\\Users\\Mohit\\OneDrive\\Desktop\\BrainTumorDetectionYolov\\BrainTumorDetectionYolov9\\test\\images\\volume_41_slice_98_jpg.rf.2a3bc8a58a9d7f687d4bc0b06ef1808b.jpg: 608x640 (no detections), 18.0ms\n",
      "Speed: 6.0ms preprocess, 18.0ms inference, 1.0ms postprocess per image at shape (1, 3, 608, 640)\n",
      "\n",
      "image 1/1 C:\\Users\\Mohit\\OneDrive\\Desktop\\BrainTumorDetectionYolov\\BrainTumorDetectionYolov9\\test\\images\\volume_42_slice_104_jpg.rf.3e947ea69e7641bb077c9bba81f0f977.jpg: 608x640 (no detections), 16.0ms\n",
      "Speed: 6.1ms preprocess, 16.0ms inference, 2.0ms postprocess per image at shape (1, 3, 608, 640)\n",
      "\n",
      "image 1/1 C:\\Users\\Mohit\\OneDrive\\Desktop\\BrainTumorDetectionYolov\\BrainTumorDetectionYolov9\\test\\images\\volume_42_slice_108_jpg.rf.815c4eca4f6361becbc45a158f4ae427.jpg: 608x640 (no detections), 13.3ms\n",
      "Speed: 6.0ms preprocess, 13.3ms inference, 1.0ms postprocess per image at shape (1, 3, 608, 640)\n",
      "\n",
      "image 1/1 C:\\Users\\Mohit\\OneDrive\\Desktop\\BrainTumorDetectionYolov\\BrainTumorDetectionYolov9\\test\\images\\volume_42_slice_75_jpg.rf.8e69a9ea37f82f05e93f109e5645a537.jpg: 608x640 (no detections), 11.0ms\n",
      "Speed: 6.8ms preprocess, 11.0ms inference, 2.0ms postprocess per image at shape (1, 3, 608, 640)\n",
      "\n",
      "image 1/1 C:\\Users\\Mohit\\OneDrive\\Desktop\\BrainTumorDetectionYolov\\BrainTumorDetectionYolov9\\test\\images\\volume_42_slice_85_jpg.rf.3e7c03638df43e0564fc4795e1ad3a13.jpg: 608x640 (no detections), 11.0ms\n",
      "Speed: 6.9ms preprocess, 11.0ms inference, 1.0ms postprocess per image at shape (1, 3, 608, 640)\n",
      "\n",
      "image 1/1 C:\\Users\\Mohit\\OneDrive\\Desktop\\BrainTumorDetectionYolov\\BrainTumorDetectionYolov9\\test\\images\\volume_42_slice_97_jpg.rf.2bd9444db466d9cc01a5eb6a46cd4ee8.jpg: 608x640 (no detections), 13.0ms\n",
      "Speed: 5.0ms preprocess, 13.0ms inference, 1.0ms postprocess per image at shape (1, 3, 608, 640)\n",
      "\n",
      "image 1/1 C:\\Users\\Mohit\\OneDrive\\Desktop\\BrainTumorDetectionYolov\\BrainTumorDetectionYolov9\\test\\images\\volume_43_slice_29_jpg.rf.e13f749c45baa3c18437d529bb0394f4.jpg: 608x640 (no detections), 10.0ms\n",
      "Speed: 6.5ms preprocess, 10.0ms inference, 1.0ms postprocess per image at shape (1, 3, 608, 640)\n",
      "\n",
      "image 1/1 C:\\Users\\Mohit\\OneDrive\\Desktop\\BrainTumorDetectionYolov\\BrainTumorDetectionYolov9\\test\\images\\volume_43_slice_68_jpg.rf.8575760d9146f754dd2efcd1ccbd2505.jpg: 608x640 (no detections), 11.9ms\n",
      "Speed: 6.0ms preprocess, 11.9ms inference, 1.0ms postprocess per image at shape (1, 3, 608, 640)\n",
      "\n",
      "image 1/1 C:\\Users\\Mohit\\OneDrive\\Desktop\\BrainTumorDetectionYolov\\BrainTumorDetectionYolov9\\test\\images\\volume_45_slice_116_jpg.rf.407da8dd42db5b4be449231c460fe516.jpg: 608x640 (no detections), 11.9ms\n",
      "Speed: 6.1ms preprocess, 11.9ms inference, 1.0ms postprocess per image at shape (1, 3, 608, 640)\n",
      "\n",
      "image 1/1 C:\\Users\\Mohit\\OneDrive\\Desktop\\BrainTumorDetectionYolov\\BrainTumorDetectionYolov9\\test\\images\\volume_45_slice_62_jpg.rf.4c7bc56fce479d6416cc7b36aec86579.jpg: 608x640 (no detections), 12.0ms\n",
      "Speed: 5.0ms preprocess, 12.0ms inference, 2.0ms postprocess per image at shape (1, 3, 608, 640)\n",
      "\n",
      "image 1/1 C:\\Users\\Mohit\\OneDrive\\Desktop\\BrainTumorDetectionYolov\\BrainTumorDetectionYolov9\\test\\images\\volume_45_slice_78_jpg.rf.be9fa4f83197a6541d54d21920834702.jpg: 608x640 (no detections), 12.7ms\n",
      "Speed: 7.1ms preprocess, 12.7ms inference, 2.0ms postprocess per image at shape (1, 3, 608, 640)\n",
      "\n",
      "image 1/1 C:\\Users\\Mohit\\OneDrive\\Desktop\\BrainTumorDetectionYolov\\BrainTumorDetectionYolov9\\test\\images\\volume_46_slice_45_jpg.rf.c75139694ea269ab4ad52da51079e2ff.jpg: 608x640 (no detections), 22.0ms\n",
      "Speed: 9.0ms preprocess, 22.0ms inference, 2.0ms postprocess per image at shape (1, 3, 608, 640)\n",
      "\n",
      "image 1/1 C:\\Users\\Mohit\\OneDrive\\Desktop\\BrainTumorDetectionYolov\\BrainTumorDetectionYolov9\\test\\images\\volume_46_slice_50_jpg.rf.e3db337c768e1b1cae27c2544537ec13.jpg: 608x640 (no detections), 12.0ms\n",
      "Speed: 7.0ms preprocess, 12.0ms inference, 1.0ms postprocess per image at shape (1, 3, 608, 640)\n",
      "\n",
      "image 1/1 C:\\Users\\Mohit\\OneDrive\\Desktop\\BrainTumorDetectionYolov\\BrainTumorDetectionYolov9\\test\\images\\volume_46_slice_73_jpg.rf.285ec1a0f002f5c81f213685194f1935.jpg: 608x640 (no detections), 22.0ms\n",
      "Speed: 5.9ms preprocess, 22.0ms inference, 1.0ms postprocess per image at shape (1, 3, 608, 640)\n",
      "\n",
      "image 1/1 C:\\Users\\Mohit\\OneDrive\\Desktop\\BrainTumorDetectionYolov\\BrainTumorDetectionYolov9\\test\\images\\volume_47_slice_113_jpg.rf.734e512837afb8abe08eca9f1b1a59d8.jpg: 608x640 (no detections), 11.0ms\n",
      "Speed: 6.0ms preprocess, 11.0ms inference, 1.0ms postprocess per image at shape (1, 3, 608, 640)\n",
      "\n",
      "image 1/1 C:\\Users\\Mohit\\OneDrive\\Desktop\\BrainTumorDetectionYolov\\BrainTumorDetectionYolov9\\test\\images\\volume_47_slice_79_jpg.rf.5320ff2098a797055162bb5490fcf421.jpg: 608x640 (no detections), 14.0ms\n",
      "Speed: 6.0ms preprocess, 14.0ms inference, 2.0ms postprocess per image at shape (1, 3, 608, 640)\n",
      "\n",
      "image 1/1 C:\\Users\\Mohit\\OneDrive\\Desktop\\BrainTumorDetectionYolov\\BrainTumorDetectionYolov9\\test\\images\\volume_47_slice_98_jpg.rf.515246d46b43f46b40cb342dd7f1c1f2.jpg: 608x640 (no detections), 21.0ms\n",
      "Speed: 6.0ms preprocess, 21.0ms inference, 2.4ms postprocess per image at shape (1, 3, 608, 640)\n",
      "\n",
      "image 1/1 C:\\Users\\Mohit\\OneDrive\\Desktop\\BrainTumorDetectionYolov\\BrainTumorDetectionYolov9\\test\\images\\volume_48_slice_28_jpg.rf.aa99892628f164eb380d114a2005aa60.jpg: 608x640 (no detections), 12.0ms\n",
      "Speed: 6.0ms preprocess, 12.0ms inference, 1.0ms postprocess per image at shape (1, 3, 608, 640)\n",
      "\n",
      "image 1/1 C:\\Users\\Mohit\\OneDrive\\Desktop\\BrainTumorDetectionYolov\\BrainTumorDetectionYolov9\\test\\images\\volume_48_slice_37_jpg.rf.07018346509e55e7b7b214d82f38c685.jpg: 608x640 (no detections), 10.0ms\n",
      "Speed: 6.0ms preprocess, 10.0ms inference, 2.0ms postprocess per image at shape (1, 3, 608, 640)\n",
      "\n",
      "image 1/1 C:\\Users\\Mohit\\OneDrive\\Desktop\\BrainTumorDetectionYolov\\BrainTumorDetectionYolov9\\test\\images\\volume_48_slice_48_jpg.rf.7548974565d0102eaa1718a202954346.jpg: 608x640 (no detections), 23.0ms\n",
      "Speed: 7.0ms preprocess, 23.0ms inference, 1.0ms postprocess per image at shape (1, 3, 608, 640)\n",
      "\n",
      "image 1/1 C:\\Users\\Mohit\\OneDrive\\Desktop\\BrainTumorDetectionYolov\\BrainTumorDetectionYolov9\\test\\images\\volume_48_slice_63_jpg.rf.4daf3d8f38a1813d6e55cbdd4e301a93.jpg: 608x640 (no detections), 11.0ms\n",
      "Speed: 6.0ms preprocess, 11.0ms inference, 1.0ms postprocess per image at shape (1, 3, 608, 640)\n",
      "\n",
      "image 1/1 C:\\Users\\Mohit\\OneDrive\\Desktop\\BrainTumorDetectionYolov\\BrainTumorDetectionYolov9\\test\\images\\volume_49_slice_104_jpg.rf.e48aaad6bc6c4fb3fd6b4d97ff224175.jpg: 608x640 (no detections), 11.0ms\n",
      "Speed: 7.0ms preprocess, 11.0ms inference, 2.0ms postprocess per image at shape (1, 3, 608, 640)\n",
      "\n",
      "image 1/1 C:\\Users\\Mohit\\OneDrive\\Desktop\\BrainTumorDetectionYolov\\BrainTumorDetectionYolov9\\test\\images\\volume_49_slice_106_jpg.rf.a96bee479474d41a1d21e2beb2bd9d3b.jpg: 608x640 (no detections), 14.0ms\n",
      "Speed: 5.0ms preprocess, 14.0ms inference, 1.0ms postprocess per image at shape (1, 3, 608, 640)\n",
      "\n",
      "image 1/1 C:\\Users\\Mohit\\OneDrive\\Desktop\\BrainTumorDetectionYolov\\BrainTumorDetectionYolov9\\test\\images\\volume_49_slice_118_jpg.rf.bf5fdd1f981aa8f400f57bb746e4a4f8.jpg: 608x640 (no detections), 21.5ms\n",
      "Speed: 6.0ms preprocess, 21.5ms inference, 2.0ms postprocess per image at shape (1, 3, 608, 640)\n",
      "\n",
      "image 1/1 C:\\Users\\Mohit\\OneDrive\\Desktop\\BrainTumorDetectionYolov\\BrainTumorDetectionYolov9\\test\\images\\volume_4_slice_110_jpg.rf.fb941918686f5defc28cf4d73d602d27.jpg: 608x640 (no detections), 11.0ms\n",
      "Speed: 8.0ms preprocess, 11.0ms inference, 2.0ms postprocess per image at shape (1, 3, 608, 640)\n",
      "\n",
      "image 1/1 C:\\Users\\Mohit\\OneDrive\\Desktop\\BrainTumorDetectionYolov\\BrainTumorDetectionYolov9\\test\\images\\volume_4_slice_59_jpg.rf.6f76df3e1d6e9e8bab3d0a144f4817d0.jpg: 608x640 (no detections), 60.3ms\n",
      "Speed: 6.0ms preprocess, 60.3ms inference, 3.0ms postprocess per image at shape (1, 3, 608, 640)\n",
      "\n",
      "image 1/1 C:\\Users\\Mohit\\OneDrive\\Desktop\\BrainTumorDetectionYolov\\BrainTumorDetectionYolov9\\test\\images\\volume_4_slice_89_jpg.rf.22ba86f43f25d2e2810cfbf7ca5d5a4a.jpg: 608x640 1 label1, 10.2ms\n",
      "Speed: 6.0ms preprocess, 10.2ms inference, 3.0ms postprocess per image at shape (1, 3, 608, 640)\n",
      "\n",
      "image 1/1 C:\\Users\\Mohit\\OneDrive\\Desktop\\BrainTumorDetectionYolov\\BrainTumorDetectionYolov9\\test\\images\\volume_4_slice_94_jpg.rf.6bf6c77ad738481760a782b1412bb1c3.jpg: 608x640 1 label1, 39.0ms\n",
      "Speed: 10.0ms preprocess, 39.0ms inference, 6.0ms postprocess per image at shape (1, 3, 608, 640)\n",
      "\n",
      "image 1/1 C:\\Users\\Mohit\\OneDrive\\Desktop\\BrainTumorDetectionYolov\\BrainTumorDetectionYolov9\\test\\images\\volume_50_slice_39_jpg.rf.7fd24e9388cf64ccd363de00f0f22219.jpg: 608x640 (no detections), 13.1ms\n",
      "Speed: 10.0ms preprocess, 13.1ms inference, 1.0ms postprocess per image at shape (1, 3, 608, 640)\n",
      "\n",
      "image 1/1 C:\\Users\\Mohit\\OneDrive\\Desktop\\BrainTumorDetectionYolov\\BrainTumorDetectionYolov9\\test\\images\\volume_50_slice_41_jpg.rf.47d556900fa7ce4ba2f69be56ed94ac7.jpg: 608x640 (no detections), 12.3ms\n",
      "Speed: 6.0ms preprocess, 12.3ms inference, 1.0ms postprocess per image at shape (1, 3, 608, 640)\n",
      "\n",
      "image 1/1 C:\\Users\\Mohit\\OneDrive\\Desktop\\BrainTumorDetectionYolov\\BrainTumorDetectionYolov9\\test\\images\\volume_50_slice_44_jpg.rf.dad57633940b40abb95a5ecda391c52e.jpg: 608x640 (no detections), 17.0ms\n",
      "Speed: 5.9ms preprocess, 17.0ms inference, 2.0ms postprocess per image at shape (1, 3, 608, 640)\n",
      "\n",
      "image 1/1 C:\\Users\\Mohit\\OneDrive\\Desktop\\BrainTumorDetectionYolov\\BrainTumorDetectionYolov9\\test\\images\\volume_50_slice_48_jpg.rf.8d24064596274df7241582e4cbbbfabf.jpg: 608x640 (no detections), 14.1ms\n",
      "Speed: 6.1ms preprocess, 14.1ms inference, 1.0ms postprocess per image at shape (1, 3, 608, 640)\n",
      "\n",
      "image 1/1 C:\\Users\\Mohit\\OneDrive\\Desktop\\BrainTumorDetectionYolov\\BrainTumorDetectionYolov9\\test\\images\\volume_50_slice_79_jpg.rf.016c745181ca1bf64ef20726d8a9f0c7.jpg: 608x640 (no detections), 14.0ms\n",
      "Speed: 7.0ms preprocess, 14.0ms inference, 2.0ms postprocess per image at shape (1, 3, 608, 640)\n",
      "\n",
      "image 1/1 C:\\Users\\Mohit\\OneDrive\\Desktop\\BrainTumorDetectionYolov\\BrainTumorDetectionYolov9\\test\\images\\volume_51_slice_103_jpg.rf.4905f21a9086f84399a07b693ecb957b.jpg: 608x640 1 label1, 10.9ms\n",
      "Speed: 7.1ms preprocess, 10.9ms inference, 3.0ms postprocess per image at shape (1, 3, 608, 640)\n",
      "\n",
      "image 1/1 C:\\Users\\Mohit\\OneDrive\\Desktop\\BrainTumorDetectionYolov\\BrainTumorDetectionYolov9\\test\\images\\volume_51_slice_111_jpg.rf.0c010af32f4618147a0715ba25baca87.jpg: 608x640 1 label1, 12.5ms\n",
      "Speed: 6.0ms preprocess, 12.5ms inference, 3.0ms postprocess per image at shape (1, 3, 608, 640)\n",
      "\n",
      "image 1/1 C:\\Users\\Mohit\\OneDrive\\Desktop\\BrainTumorDetectionYolov\\BrainTumorDetectionYolov9\\test\\images\\volume_51_slice_114_jpg.rf.5c4b6b858cf0db9f237fcb22bf1b93f9.jpg: 608x640 1 label1, 16.0ms\n",
      "Speed: 7.0ms preprocess, 16.0ms inference, 4.0ms postprocess per image at shape (1, 3, 608, 640)\n",
      "\n",
      "image 1/1 C:\\Users\\Mohit\\OneDrive\\Desktop\\BrainTumorDetectionYolov\\BrainTumorDetectionYolov9\\test\\images\\volume_52_slice_116_jpg.rf.044ae6e783bca73fd99c0363f3f94299.jpg: 608x640 (no detections), 12.0ms\n",
      "Speed: 6.0ms preprocess, 12.0ms inference, 1.0ms postprocess per image at shape (1, 3, 608, 640)\n",
      "\n",
      "image 1/1 C:\\Users\\Mohit\\OneDrive\\Desktop\\BrainTumorDetectionYolov\\BrainTumorDetectionYolov9\\test\\images\\volume_52_slice_72_jpg.rf.c9238b6c403587e4f737a1c76c6e5f74.jpg: 608x640 (no detections), 11.0ms\n",
      "Speed: 6.0ms preprocess, 11.0ms inference, 1.0ms postprocess per image at shape (1, 3, 608, 640)\n",
      "\n",
      "image 1/1 C:\\Users\\Mohit\\OneDrive\\Desktop\\BrainTumorDetectionYolov\\BrainTumorDetectionYolov9\\test\\images\\volume_53_slice_121_jpg.rf.4a18e9fb65fca14ee9a91faeb66b31c0.jpg: 608x640 (no detections), 11.0ms\n",
      "Speed: 7.0ms preprocess, 11.0ms inference, 2.0ms postprocess per image at shape (1, 3, 608, 640)\n",
      "\n",
      "image 1/1 C:\\Users\\Mohit\\OneDrive\\Desktop\\BrainTumorDetectionYolov\\BrainTumorDetectionYolov9\\test\\images\\volume_53_slice_122_jpg.rf.7a10b8f16c43a215b25fce325a610ef8.jpg: 608x640 (no detections), 11.0ms\n",
      "Speed: 7.0ms preprocess, 11.0ms inference, 1.0ms postprocess per image at shape (1, 3, 608, 640)\n",
      "\n",
      "image 1/1 C:\\Users\\Mohit\\OneDrive\\Desktop\\BrainTumorDetectionYolov\\BrainTumorDetectionYolov9\\test\\images\\volume_53_slice_125_jpg.rf.8f5d10be5533a30ae9ff3431f845a836.jpg: 608x640 (no detections), 12.0ms\n",
      "Speed: 6.0ms preprocess, 12.0ms inference, 1.0ms postprocess per image at shape (1, 3, 608, 640)\n",
      "\n",
      "image 1/1 C:\\Users\\Mohit\\OneDrive\\Desktop\\BrainTumorDetectionYolov\\BrainTumorDetectionYolov9\\test\\images\\volume_53_slice_62_jpg.rf.f13c281807683f43f58302f6e638ab49.jpg: 608x640 1 label1, 20.0ms\n",
      "Speed: 8.0ms preprocess, 20.0ms inference, 4.0ms postprocess per image at shape (1, 3, 608, 640)\n",
      "\n",
      "image 1/1 C:\\Users\\Mohit\\OneDrive\\Desktop\\BrainTumorDetectionYolov\\BrainTumorDetectionYolov9\\test\\images\\volume_54_slice_101_jpg.rf.d8f62161ba10227f4f542951e8f8d590.jpg: 608x640 (no detections), 13.0ms\n",
      "Speed: 6.0ms preprocess, 13.0ms inference, 1.0ms postprocess per image at shape (1, 3, 608, 640)\n",
      "\n",
      "image 1/1 C:\\Users\\Mohit\\OneDrive\\Desktop\\BrainTumorDetectionYolov\\BrainTumorDetectionYolov9\\test\\images\\volume_54_slice_102_jpg.rf.42b933400fc04501438373551d36e3b8.jpg: 608x640 (no detections), 11.4ms\n",
      "Speed: 6.5ms preprocess, 11.4ms inference, 1.0ms postprocess per image at shape (1, 3, 608, 640)\n",
      "\n",
      "image 1/1 C:\\Users\\Mohit\\OneDrive\\Desktop\\BrainTumorDetectionYolov\\BrainTumorDetectionYolov9\\test\\images\\volume_54_slice_38_jpg.rf.e721f4b5bd820ceddffd83164fce660c.jpg: 608x640 (no detections), 13.0ms\n",
      "Speed: 7.5ms preprocess, 13.0ms inference, 1.0ms postprocess per image at shape (1, 3, 608, 640)\n",
      "\n",
      "image 1/1 C:\\Users\\Mohit\\OneDrive\\Desktop\\BrainTumorDetectionYolov\\BrainTumorDetectionYolov9\\test\\images\\volume_54_slice_50_jpg.rf.9acb9bc50668dde690f9809120c38a26.jpg: 608x640 (no detections), 13.0ms\n",
      "Speed: 6.0ms preprocess, 13.0ms inference, 1.0ms postprocess per image at shape (1, 3, 608, 640)\n",
      "\n",
      "image 1/1 C:\\Users\\Mohit\\OneDrive\\Desktop\\BrainTumorDetectionYolov\\BrainTumorDetectionYolov9\\test\\images\\volume_54_slice_79_jpg.rf.aa4eb018a64d56d646f17f4eaaaa773e.jpg: 608x640 (no detections), 12.0ms\n",
      "Speed: 6.0ms preprocess, 12.0ms inference, 1.0ms postprocess per image at shape (1, 3, 608, 640)\n",
      "\n",
      "image 1/1 C:\\Users\\Mohit\\OneDrive\\Desktop\\BrainTumorDetectionYolov\\BrainTumorDetectionYolov9\\test\\images\\volume_55_slice_42_jpg.rf.5168ef9c3c1566e90f45865b1288778a.jpg: 608x640 (no detections), 13.0ms\n",
      "Speed: 6.0ms preprocess, 13.0ms inference, 1.0ms postprocess per image at shape (1, 3, 608, 640)\n",
      "\n",
      "image 1/1 C:\\Users\\Mohit\\OneDrive\\Desktop\\BrainTumorDetectionYolov\\BrainTumorDetectionYolov9\\test\\images\\volume_55_slice_48_jpg.rf.4ef737b089c6e9a808a4bcfa0c700f65.jpg: 608x640 (no detections), 11.0ms\n",
      "Speed: 10.0ms preprocess, 11.0ms inference, 2.0ms postprocess per image at shape (1, 3, 608, 640)\n",
      "\n",
      "image 1/1 C:\\Users\\Mohit\\OneDrive\\Desktop\\BrainTumorDetectionYolov\\BrainTumorDetectionYolov9\\test\\images\\volume_56_slice_110_jpg.rf.613bb94d4dd2dfd25a02d659f2e5ad03.jpg: 608x640 (no detections), 17.0ms\n",
      "Speed: 7.0ms preprocess, 17.0ms inference, 1.0ms postprocess per image at shape (1, 3, 608, 640)\n",
      "\n",
      "image 1/1 C:\\Users\\Mohit\\OneDrive\\Desktop\\BrainTumorDetectionYolov\\BrainTumorDetectionYolov9\\test\\images\\volume_56_slice_133_jpg.rf.6db1901024fdbd9c40b784d03f2661e0.jpg: 608x640 (no detections), 11.0ms\n",
      "Speed: 10.0ms preprocess, 11.0ms inference, 2.0ms postprocess per image at shape (1, 3, 608, 640)\n",
      "\n",
      "image 1/1 C:\\Users\\Mohit\\OneDrive\\Desktop\\BrainTumorDetectionYolov\\BrainTumorDetectionYolov9\\test\\images\\volume_56_slice_92_jpg.rf.47c7b1a33eeedbb3b31911a73aa98006.jpg: 608x640 (no detections), 12.0ms\n",
      "Speed: 6.0ms preprocess, 12.0ms inference, 1.0ms postprocess per image at shape (1, 3, 608, 640)\n",
      "\n",
      "image 1/1 C:\\Users\\Mohit\\OneDrive\\Desktop\\BrainTumorDetectionYolov\\BrainTumorDetectionYolov9\\test\\images\\volume_57_slice_120_jpg.rf.50b6b0465b3945e96631847132f84309.jpg: 608x640 (no detections), 12.3ms\n",
      "Speed: 6.0ms preprocess, 12.3ms inference, 1.0ms postprocess per image at shape (1, 3, 608, 640)\n",
      "\n",
      "image 1/1 C:\\Users\\Mohit\\OneDrive\\Desktop\\BrainTumorDetectionYolov\\BrainTumorDetectionYolov9\\test\\images\\volume_58_slice_63_jpg.rf.7c6d6bd8f7131bb8b31a4a3d1b8648b9.jpg: 608x640 (no detections), 12.0ms\n",
      "Speed: 7.0ms preprocess, 12.0ms inference, 2.0ms postprocess per image at shape (1, 3, 608, 640)\n",
      "\n",
      "image 1/1 C:\\Users\\Mohit\\OneDrive\\Desktop\\BrainTumorDetectionYolov\\BrainTumorDetectionYolov9\\test\\images\\volume_59_slice_41_jpg.rf.0dc605fc7101da1e97f22f82cf4aa620.jpg: 608x640 (no detections), 21.0ms\n",
      "Speed: 7.0ms preprocess, 21.0ms inference, 1.0ms postprocess per image at shape (1, 3, 608, 640)\n",
      "\n",
      "image 1/1 C:\\Users\\Mohit\\OneDrive\\Desktop\\BrainTumorDetectionYolov\\BrainTumorDetectionYolov9\\test\\images\\volume_59_slice_44_jpg.rf.fe4387bb07f07691b7f1c33e350f6e6b.jpg: 608x640 (no detections), 27.0ms\n",
      "Speed: 5.5ms preprocess, 27.0ms inference, 3.0ms postprocess per image at shape (1, 3, 608, 640)\n",
      "\n",
      "image 1/1 C:\\Users\\Mohit\\OneDrive\\Desktop\\BrainTumorDetectionYolov\\BrainTumorDetectionYolov9\\test\\images\\volume_5_slice_107_jpg.rf.e1519dc98d8e3058cee5f5d6ac41a5d4.jpg: 608x640 (no detections), 30.0ms\n",
      "Speed: 9.0ms preprocess, 30.0ms inference, 2.0ms postprocess per image at shape (1, 3, 608, 640)\n",
      "\n",
      "image 1/1 C:\\Users\\Mohit\\OneDrive\\Desktop\\BrainTumorDetectionYolov\\BrainTumorDetectionYolov9\\test\\images\\volume_5_slice_120_jpg.rf.82f0cbed7cc3b39ee45d484a6135d5fb.jpg: 608x640 (no detections), 13.4ms\n",
      "Speed: 7.1ms preprocess, 13.4ms inference, 1.0ms postprocess per image at shape (1, 3, 608, 640)\n",
      "\n",
      "image 1/1 C:\\Users\\Mohit\\OneDrive\\Desktop\\BrainTumorDetectionYolov\\BrainTumorDetectionYolov9\\test\\images\\volume_5_slice_95_jpg.rf.3d8bc7dad6a039fe794e57a4c14cbdc9.jpg: 608x640 (no detections), 21.9ms\n",
      "Speed: 7.1ms preprocess, 21.9ms inference, 2.0ms postprocess per image at shape (1, 3, 608, 640)\n",
      "\n",
      "image 1/1 C:\\Users\\Mohit\\OneDrive\\Desktop\\BrainTumorDetectionYolov\\BrainTumorDetectionYolov9\\test\\images\\volume_60_slice_63_jpg.rf.62c0cb3e5a1481519e24351247e3aea5.jpg: 608x640 (no detections), 13.0ms\n",
      "Speed: 5.4ms preprocess, 13.0ms inference, 1.0ms postprocess per image at shape (1, 3, 608, 640)\n",
      "\n",
      "image 1/1 C:\\Users\\Mohit\\OneDrive\\Desktop\\BrainTumorDetectionYolov\\BrainTumorDetectionYolov9\\test\\images\\volume_60_slice_83_jpg.rf.d644cb7f9c51ef4377d3db9bfe28e72d.jpg: 608x640 (no detections), 18.0ms\n",
      "Speed: 7.0ms preprocess, 18.0ms inference, 2.0ms postprocess per image at shape (1, 3, 608, 640)\n",
      "\n",
      "image 1/1 C:\\Users\\Mohit\\OneDrive\\Desktop\\BrainTumorDetectionYolov\\BrainTumorDetectionYolov9\\test\\images\\volume_61_slice_55_jpg.rf.524fac2f1e59ee5d3167eaa128c62251.jpg: 608x640 (no detections), 12.0ms\n",
      "Speed: 6.0ms preprocess, 12.0ms inference, 2.0ms postprocess per image at shape (1, 3, 608, 640)\n",
      "\n",
      "image 1/1 C:\\Users\\Mohit\\OneDrive\\Desktop\\BrainTumorDetectionYolov\\BrainTumorDetectionYolov9\\test\\images\\volume_61_slice_65_jpg.rf.90298ffaef9bc6ca14e500118aaf5db4.jpg: 608x640 (no detections), 14.1ms\n",
      "Speed: 7.0ms preprocess, 14.1ms inference, 1.0ms postprocess per image at shape (1, 3, 608, 640)\n",
      "\n",
      "image 1/1 C:\\Users\\Mohit\\OneDrive\\Desktop\\BrainTumorDetectionYolov\\BrainTumorDetectionYolov9\\test\\images\\volume_61_slice_67_jpg.rf.a242cd1897f6fb69fbba7484993472ab.jpg: 608x640 (no detections), 16.0ms\n",
      "Speed: 7.0ms preprocess, 16.0ms inference, 1.0ms postprocess per image at shape (1, 3, 608, 640)\n",
      "\n",
      "image 1/1 C:\\Users\\Mohit\\OneDrive\\Desktop\\BrainTumorDetectionYolov\\BrainTumorDetectionYolov9\\test\\images\\volume_62_slice_141_jpg.rf.ab78bd7efbd0c20631dd83fd1a5a8b1a.jpg: 608x640 (no detections), 10.9ms\n",
      "Speed: 8.3ms preprocess, 10.9ms inference, 1.0ms postprocess per image at shape (1, 3, 608, 640)\n",
      "\n",
      "image 1/1 C:\\Users\\Mohit\\OneDrive\\Desktop\\BrainTumorDetectionYolov\\BrainTumorDetectionYolov9\\test\\images\\volume_62_slice_75_jpg.rf.349d64c7bfab55df403283f8ee27f629.jpg: 608x640 (no detections), 11.0ms\n",
      "Speed: 7.0ms preprocess, 11.0ms inference, 2.0ms postprocess per image at shape (1, 3, 608, 640)\n",
      "\n",
      "image 1/1 C:\\Users\\Mohit\\OneDrive\\Desktop\\BrainTumorDetectionYolov\\BrainTumorDetectionYolov9\\test\\images\\volume_62_slice_99_jpg.rf.ceed8c3cccd96dbfb50af8812af28a02.jpg: 608x640 (no detections), 11.5ms\n",
      "Speed: 6.1ms preprocess, 11.5ms inference, 1.0ms postprocess per image at shape (1, 3, 608, 640)\n",
      "\n",
      "image 1/1 C:\\Users\\Mohit\\OneDrive\\Desktop\\BrainTumorDetectionYolov\\BrainTumorDetectionYolov9\\test\\images\\volume_64_slice_110_jpg.rf.944b337a917811575493c77a935f5c02.jpg: 608x640 (no detections), 11.0ms\n",
      "Speed: 5.9ms preprocess, 11.0ms inference, 1.0ms postprocess per image at shape (1, 3, 608, 640)\n",
      "\n",
      "image 1/1 C:\\Users\\Mohit\\OneDrive\\Desktop\\BrainTumorDetectionYolov\\BrainTumorDetectionYolov9\\test\\images\\volume_64_slice_112_jpg.rf.c751ac3092de8d92c2c9e486d7ba740b.jpg: 608x640 (no detections), 23.3ms\n",
      "Speed: 5.6ms preprocess, 23.3ms inference, 1.0ms postprocess per image at shape (1, 3, 608, 640)\n",
      "\n",
      "image 1/1 C:\\Users\\Mohit\\OneDrive\\Desktop\\BrainTumorDetectionYolov\\BrainTumorDetectionYolov9\\test\\images\\volume_64_slice_32_jpg.rf.6ae3644f0d2474b54d221871dd1c8495.jpg: 608x640 (no detections), 12.9ms\n",
      "Speed: 7.1ms preprocess, 12.9ms inference, 1.0ms postprocess per image at shape (1, 3, 608, 640)\n",
      "\n",
      "image 1/1 C:\\Users\\Mohit\\OneDrive\\Desktop\\BrainTumorDetectionYolov\\BrainTumorDetectionYolov9\\test\\images\\volume_64_slice_66_jpg.rf.d4402dd00f35318a59095f0a8c20b782.jpg: 608x640 (no detections), 13.0ms\n",
      "Speed: 7.0ms preprocess, 13.0ms inference, 2.0ms postprocess per image at shape (1, 3, 608, 640)\n",
      "\n",
      "image 1/1 C:\\Users\\Mohit\\OneDrive\\Desktop\\BrainTumorDetectionYolov\\BrainTumorDetectionYolov9\\test\\images\\volume_65_slice_49_jpg.rf.d84854580e689f5209d63d5d645b8119.jpg: 608x640 (no detections), 12.0ms\n",
      "Speed: 5.9ms preprocess, 12.0ms inference, 1.0ms postprocess per image at shape (1, 3, 608, 640)\n",
      "\n",
      "image 1/1 C:\\Users\\Mohit\\OneDrive\\Desktop\\BrainTumorDetectionYolov\\BrainTumorDetectionYolov9\\test\\images\\volume_65_slice_76_jpg.rf.1db129e59db0e498dfa147f25a4ff3ef.jpg: 608x640 (no detections), 13.0ms\n",
      "Speed: 6.0ms preprocess, 13.0ms inference, 1.0ms postprocess per image at shape (1, 3, 608, 640)\n",
      "\n",
      "image 1/1 C:\\Users\\Mohit\\OneDrive\\Desktop\\BrainTumorDetectionYolov\\BrainTumorDetectionYolov9\\test\\images\\volume_66_slice_135_jpg.rf.8a885cdec05966a649918a2586ff0753.jpg: 608x640 (no detections), 13.0ms\n",
      "Speed: 5.9ms preprocess, 13.0ms inference, 1.0ms postprocess per image at shape (1, 3, 608, 640)\n",
      "\n",
      "image 1/1 C:\\Users\\Mohit\\OneDrive\\Desktop\\BrainTumorDetectionYolov\\BrainTumorDetectionYolov9\\test\\images\\volume_66_slice_71_jpg.rf.e31e02a142a9dd36b5050828b867f3eb.jpg: 608x640 (no detections), 11.9ms\n",
      "Speed: 6.0ms preprocess, 11.9ms inference, 1.0ms postprocess per image at shape (1, 3, 608, 640)\n",
      "\n",
      "image 1/1 C:\\Users\\Mohit\\OneDrive\\Desktop\\BrainTumorDetectionYolov\\BrainTumorDetectionYolov9\\test\\images\\volume_66_slice_76_jpg.rf.a7c4cdee6989745aecc9f31e0d805ca9.jpg: 608x640 (no detections), 14.0ms\n",
      "Speed: 5.0ms preprocess, 14.0ms inference, 1.0ms postprocess per image at shape (1, 3, 608, 640)\n",
      "\n",
      "image 1/1 C:\\Users\\Mohit\\OneDrive\\Desktop\\BrainTumorDetectionYolov\\BrainTumorDetectionYolov9\\test\\images\\volume_66_slice_99_jpg.rf.cef433befc31a6260a8b22454939c053.jpg: 608x640 (no detections), 11.9ms\n",
      "Speed: 5.1ms preprocess, 11.9ms inference, 1.0ms postprocess per image at shape (1, 3, 608, 640)\n",
      "\n",
      "image 1/1 C:\\Users\\Mohit\\OneDrive\\Desktop\\BrainTumorDetectionYolov\\BrainTumorDetectionYolov9\\test\\images\\volume_67_slice_59_jpg.rf.e0bc5671219d310ccb01bcbb80589349.jpg: 608x640 (no detections), 13.0ms\n",
      "Speed: 7.0ms preprocess, 13.0ms inference, 1.0ms postprocess per image at shape (1, 3, 608, 640)\n",
      "\n",
      "image 1/1 C:\\Users\\Mohit\\OneDrive\\Desktop\\BrainTumorDetectionYolov\\BrainTumorDetectionYolov9\\test\\images\\volume_67_slice_71_jpg.rf.ecc27a22c850cf74257aff5a3eecbf66.jpg: 608x640 (no detections), 14.0ms\n",
      "Speed: 7.0ms preprocess, 14.0ms inference, 1.0ms postprocess per image at shape (1, 3, 608, 640)\n",
      "\n",
      "image 1/1 C:\\Users\\Mohit\\OneDrive\\Desktop\\BrainTumorDetectionYolov\\BrainTumorDetectionYolov9\\test\\images\\volume_67_slice_82_jpg.rf.062e6300e7560fd94ce183f3dacb18de.jpg: 608x640 (no detections), 11.0ms\n",
      "Speed: 7.0ms preprocess, 11.0ms inference, 1.0ms postprocess per image at shape (1, 3, 608, 640)\n",
      "\n",
      "image 1/1 C:\\Users\\Mohit\\OneDrive\\Desktop\\BrainTumorDetectionYolov\\BrainTumorDetectionYolov9\\test\\images\\volume_68_slice_52_jpg.rf.66173893cb22e8b367f44efd4eac7e5c.jpg: 608x640 (no detections), 12.0ms\n",
      "Speed: 7.0ms preprocess, 12.0ms inference, 1.0ms postprocess per image at shape (1, 3, 608, 640)\n",
      "\n",
      "image 1/1 C:\\Users\\Mohit\\OneDrive\\Desktop\\BrainTumorDetectionYolov\\BrainTumorDetectionYolov9\\test\\images\\volume_68_slice_63_jpg.rf.b811a431010e50551bfd1002c45fe8a7.jpg: 608x640 (no detections), 18.1ms\n",
      "Speed: 6.0ms preprocess, 18.1ms inference, 1.0ms postprocess per image at shape (1, 3, 608, 640)\n",
      "\n",
      "image 1/1 C:\\Users\\Mohit\\OneDrive\\Desktop\\BrainTumorDetectionYolov\\BrainTumorDetectionYolov9\\test\\images\\volume_69_slice_107_jpg.rf.c3cf5454aed2be27de7b6dfb3185918b.jpg: 608x640 1 label1, 20.0ms\n",
      "Speed: 7.0ms preprocess, 20.0ms inference, 3.0ms postprocess per image at shape (1, 3, 608, 640)\n",
      "\n",
      "image 1/1 C:\\Users\\Mohit\\OneDrive\\Desktop\\BrainTumorDetectionYolov\\BrainTumorDetectionYolov9\\test\\images\\volume_69_slice_110_jpg.rf.67481d537f2d2eb9a79fc3ed62b01950.jpg: 608x640 (no detections), 14.0ms\n",
      "Speed: 6.0ms preprocess, 14.0ms inference, 76.4ms postprocess per image at shape (1, 3, 608, 640)\n",
      "\n",
      "image 1/1 C:\\Users\\Mohit\\OneDrive\\Desktop\\BrainTumorDetectionYolov\\BrainTumorDetectionYolov9\\test\\images\\volume_69_slice_131_jpg.rf.5e748e353381a8e5a0d6b193daa22dac.jpg: 608x640 (no detections), 13.0ms\n",
      "Speed: 10.0ms preprocess, 13.0ms inference, 2.0ms postprocess per image at shape (1, 3, 608, 640)\n",
      "\n",
      "image 1/1 C:\\Users\\Mohit\\OneDrive\\Desktop\\BrainTumorDetectionYolov\\BrainTumorDetectionYolov9\\test\\images\\volume_69_slice_132_jpg.rf.e1f2bb793714a29f9753139b990c2030.jpg: 608x640 (no detections), 14.0ms\n",
      "Speed: 8.0ms preprocess, 14.0ms inference, 1.0ms postprocess per image at shape (1, 3, 608, 640)\n",
      "\n",
      "image 1/1 C:\\Users\\Mohit\\OneDrive\\Desktop\\BrainTumorDetectionYolov\\BrainTumorDetectionYolov9\\test\\images\\volume_6_slice_125_jpg.rf.5d6c427a9563f8714c899bee2230b871.jpg: 608x640 (no detections), 12.0ms\n",
      "Speed: 6.0ms preprocess, 12.0ms inference, 1.0ms postprocess per image at shape (1, 3, 608, 640)\n",
      "\n",
      "image 1/1 C:\\Users\\Mohit\\OneDrive\\Desktop\\BrainTumorDetectionYolov\\BrainTumorDetectionYolov9\\test\\images\\volume_6_slice_126_jpg.rf.3db7726d3ef26a2db6110c92f786879f.jpg: 608x640 (no detections), 12.0ms\n",
      "Speed: 6.0ms preprocess, 12.0ms inference, 1.0ms postprocess per image at shape (1, 3, 608, 640)\n",
      "\n",
      "image 1/1 C:\\Users\\Mohit\\OneDrive\\Desktop\\BrainTumorDetectionYolov\\BrainTumorDetectionYolov9\\test\\images\\volume_6_slice_133_jpg.rf.5ef37d8fd879f66839e35946be532010.jpg: 608x640 (no detections), 15.0ms\n",
      "Speed: 7.0ms preprocess, 15.0ms inference, 1.0ms postprocess per image at shape (1, 3, 608, 640)\n",
      "\n",
      "image 1/1 C:\\Users\\Mohit\\OneDrive\\Desktop\\BrainTumorDetectionYolov\\BrainTumorDetectionYolov9\\test\\images\\volume_6_slice_66_jpg.rf.0c261d1f5e4a7cbe35860e44eed2d8df.jpg: 608x640 (no detections), 12.0ms\n",
      "Speed: 6.0ms preprocess, 12.0ms inference, 1.0ms postprocess per image at shape (1, 3, 608, 640)\n",
      "\n",
      "image 1/1 C:\\Users\\Mohit\\OneDrive\\Desktop\\BrainTumorDetectionYolov\\BrainTumorDetectionYolov9\\test\\images\\volume_70_slice_126_jpg.rf.f378611a1f95ccc427d476dc80ebc316.jpg: 608x640 (no detections), 13.0ms\n",
      "Speed: 6.0ms preprocess, 13.0ms inference, 1.0ms postprocess per image at shape (1, 3, 608, 640)\n",
      "\n",
      "image 1/1 C:\\Users\\Mohit\\OneDrive\\Desktop\\BrainTumorDetectionYolov\\BrainTumorDetectionYolov9\\test\\images\\volume_70_slice_36_jpg.rf.62c3dbc28d450a1b5ed553763bd126fb.jpg: 608x640 (no detections), 11.0ms\n",
      "Speed: 9.0ms preprocess, 11.0ms inference, 1.0ms postprocess per image at shape (1, 3, 608, 640)\n",
      "\n",
      "image 1/1 C:\\Users\\Mohit\\OneDrive\\Desktop\\BrainTumorDetectionYolov\\BrainTumorDetectionYolov9\\test\\images\\volume_70_slice_73_jpg.rf.2e5ae37c2ca955d97f82def2841854e1.jpg: 608x640 (no detections), 13.0ms\n",
      "Speed: 6.0ms preprocess, 13.0ms inference, 1.0ms postprocess per image at shape (1, 3, 608, 640)\n",
      "\n",
      "image 1/1 C:\\Users\\Mohit\\OneDrive\\Desktop\\BrainTumorDetectionYolov\\BrainTumorDetectionYolov9\\test\\images\\volume_71_slice_104_jpg.rf.c09942b3efd852a1a81829090d8edd57.jpg: 608x640 1 label1, 10.0ms\n",
      "Speed: 7.0ms preprocess, 10.0ms inference, 3.0ms postprocess per image at shape (1, 3, 608, 640)\n",
      "\n",
      "image 1/1 C:\\Users\\Mohit\\OneDrive\\Desktop\\BrainTumorDetectionYolov\\BrainTumorDetectionYolov9\\test\\images\\volume_71_slice_112_jpg.rf.155a9ba162022c319e9233fadabc6966.jpg: 608x640 1 label1, 11.0ms\n",
      "Speed: 7.0ms preprocess, 11.0ms inference, 3.0ms postprocess per image at shape (1, 3, 608, 640)\n",
      "\n",
      "image 1/1 C:\\Users\\Mohit\\OneDrive\\Desktop\\BrainTumorDetectionYolov\\BrainTumorDetectionYolov9\\test\\images\\volume_71_slice_115_jpg.rf.51dbc2bb5964db8067081dc96b95883e.jpg: 608x640 (no detections), 13.0ms\n",
      "Speed: 7.0ms preprocess, 13.0ms inference, 1.0ms postprocess per image at shape (1, 3, 608, 640)\n",
      "\n",
      "image 1/1 C:\\Users\\Mohit\\OneDrive\\Desktop\\BrainTumorDetectionYolov\\BrainTumorDetectionYolov9\\test\\images\\volume_71_slice_127_jpg.rf.8577c231225ce098a110ae46edc4ca3e.jpg: 608x640 (no detections), 16.0ms\n",
      "Speed: 8.0ms preprocess, 16.0ms inference, 1.0ms postprocess per image at shape (1, 3, 608, 640)\n",
      "\n",
      "image 1/1 C:\\Users\\Mohit\\OneDrive\\Desktop\\BrainTumorDetectionYolov\\BrainTumorDetectionYolov9\\test\\images\\volume_71_slice_128_jpg.rf.9002c1cf3f815997eaf22e5a5de72791.jpg: 608x640 (no detections), 13.0ms\n",
      "Speed: 6.0ms preprocess, 13.0ms inference, 1.0ms postprocess per image at shape (1, 3, 608, 640)\n",
      "\n",
      "image 1/1 C:\\Users\\Mohit\\OneDrive\\Desktop\\BrainTumorDetectionYolov\\BrainTumorDetectionYolov9\\test\\images\\volume_71_slice_131_jpg.rf.5daab10056f8a6d46c10ee0a259ff269.jpg: 608x640 (no detections), 11.0ms\n",
      "Speed: 7.0ms preprocess, 11.0ms inference, 1.0ms postprocess per image at shape (1, 3, 608, 640)\n",
      "\n",
      "image 1/1 C:\\Users\\Mohit\\OneDrive\\Desktop\\BrainTumorDetectionYolov\\BrainTumorDetectionYolov9\\test\\images\\volume_71_slice_70_jpg.rf.9365fe31577d63b03725e338b1dbaf79.jpg: 608x640 (no detections), 16.0ms\n",
      "Speed: 7.0ms preprocess, 16.0ms inference, 2.0ms postprocess per image at shape (1, 3, 608, 640)\n",
      "\n",
      "image 1/1 C:\\Users\\Mohit\\OneDrive\\Desktop\\BrainTumorDetectionYolov\\BrainTumorDetectionYolov9\\test\\images\\volume_71_slice_76_jpg.rf.9fc9eddc973fb0b3d7a18d2bbbdadbcf.jpg: 608x640 (no detections), 12.0ms\n",
      "Speed: 6.0ms preprocess, 12.0ms inference, 2.0ms postprocess per image at shape (1, 3, 608, 640)\n",
      "\n",
      "image 1/1 C:\\Users\\Mohit\\OneDrive\\Desktop\\BrainTumorDetectionYolov\\BrainTumorDetectionYolov9\\test\\images\\volume_72_slice_108_jpg.rf.a004d79e829320f28798d1a6efd05163.jpg: 608x640 (no detections), 12.0ms\n",
      "Speed: 9.0ms preprocess, 12.0ms inference, 1.0ms postprocess per image at shape (1, 3, 608, 640)\n",
      "\n",
      "image 1/1 C:\\Users\\Mohit\\OneDrive\\Desktop\\BrainTumorDetectionYolov\\BrainTumorDetectionYolov9\\test\\images\\volume_72_slice_109_jpg.rf.05883c23baee9756bfc83e458b634ad9.jpg: 608x640 (no detections), 12.0ms\n",
      "Speed: 7.0ms preprocess, 12.0ms inference, 1.0ms postprocess per image at shape (1, 3, 608, 640)\n",
      "\n",
      "image 1/1 C:\\Users\\Mohit\\OneDrive\\Desktop\\BrainTumorDetectionYolov\\BrainTumorDetectionYolov9\\test\\images\\volume_72_slice_118_jpg.rf.7fa915815adf79ae3a2913c68fa2ad68.jpg: 608x640 (no detections), 12.0ms\n",
      "Speed: 7.0ms preprocess, 12.0ms inference, 1.8ms postprocess per image at shape (1, 3, 608, 640)\n",
      "\n",
      "image 1/1 C:\\Users\\Mohit\\OneDrive\\Desktop\\BrainTumorDetectionYolov\\BrainTumorDetectionYolov9\\test\\images\\volume_72_slice_123_jpg.rf.606a948437d9218e22d9506bc28bb36a.jpg: 608x640 (no detections), 16.0ms\n",
      "Speed: 8.0ms preprocess, 16.0ms inference, 2.0ms postprocess per image at shape (1, 3, 608, 640)\n",
      "\n",
      "image 1/1 C:\\Users\\Mohit\\OneDrive\\Desktop\\BrainTumorDetectionYolov\\BrainTumorDetectionYolov9\\test\\images\\volume_72_slice_68_jpg.rf.2176f2819c064687ecc725685bc94a5e.jpg: 608x640 (no detections), 12.0ms\n",
      "Speed: 6.0ms preprocess, 12.0ms inference, 1.0ms postprocess per image at shape (1, 3, 608, 640)\n",
      "\n",
      "image 1/1 C:\\Users\\Mohit\\OneDrive\\Desktop\\BrainTumorDetectionYolov\\BrainTumorDetectionYolov9\\test\\images\\volume_72_slice_81_jpg.rf.728dab401c2da53f79e38d89931c82d3.jpg: 608x640 (no detections), 12.0ms\n",
      "Speed: 6.0ms preprocess, 12.0ms inference, 1.0ms postprocess per image at shape (1, 3, 608, 640)\n",
      "\n",
      "image 1/1 C:\\Users\\Mohit\\OneDrive\\Desktop\\BrainTumorDetectionYolov\\BrainTumorDetectionYolov9\\test\\images\\volume_72_slice_97_jpg.rf.5c57d837197acf64ef9a9cb5c0babefd.jpg: 608x640 (no detections), 12.0ms\n",
      "Speed: 7.0ms preprocess, 12.0ms inference, 1.0ms postprocess per image at shape (1, 3, 608, 640)\n",
      "\n",
      "image 1/1 C:\\Users\\Mohit\\OneDrive\\Desktop\\BrainTumorDetectionYolov\\BrainTumorDetectionYolov9\\test\\images\\volume_72_slice_98_jpg.rf.3c2586f7cfc03a02c3f3f9e29bedc760.jpg: 608x640 (no detections), 12.0ms\n",
      "Speed: 8.0ms preprocess, 12.0ms inference, 1.0ms postprocess per image at shape (1, 3, 608, 640)\n",
      "\n",
      "image 1/1 C:\\Users\\Mohit\\OneDrive\\Desktop\\BrainTumorDetectionYolov\\BrainTumorDetectionYolov9\\test\\images\\volume_73_slice_86_jpg.rf.ebe326831176959956efdd8dceae783d.jpg: 608x640 1 label1, 17.0ms\n",
      "Speed: 7.0ms preprocess, 17.0ms inference, 3.0ms postprocess per image at shape (1, 3, 608, 640)\n",
      "\n",
      "image 1/1 C:\\Users\\Mohit\\OneDrive\\Desktop\\BrainTumorDetectionYolov\\BrainTumorDetectionYolov9\\test\\images\\volume_74_slice_51_jpg.rf.db21ed30826335dbde4cab7a49a78a3c.jpg: 608x640 (no detections), 12.0ms\n",
      "Speed: 6.0ms preprocess, 12.0ms inference, 1.0ms postprocess per image at shape (1, 3, 608, 640)\n",
      "\n",
      "image 1/1 C:\\Users\\Mohit\\OneDrive\\Desktop\\BrainTumorDetectionYolov\\BrainTumorDetectionYolov9\\test\\images\\volume_74_slice_63_jpg.rf.0cde0681b28ec3a61d6ad5cfe281a312.jpg: 608x640 (no detections), 14.0ms\n",
      "Speed: 6.0ms preprocess, 14.0ms inference, 2.0ms postprocess per image at shape (1, 3, 608, 640)\n",
      "\n",
      "image 1/1 C:\\Users\\Mohit\\OneDrive\\Desktop\\BrainTumorDetectionYolov\\BrainTumorDetectionYolov9\\test\\images\\volume_74_slice_66_jpg.rf.3cc7a83dadda91296371e6bcc6b7ee18.jpg: 608x640 (no detections), 13.0ms\n",
      "Speed: 6.0ms preprocess, 13.0ms inference, 2.0ms postprocess per image at shape (1, 3, 608, 640)\n",
      "\n",
      "image 1/1 C:\\Users\\Mohit\\OneDrive\\Desktop\\BrainTumorDetectionYolov\\BrainTumorDetectionYolov9\\test\\images\\volume_74_slice_95_jpg.rf.cd0d6fc03eb752e4122c26179c5cf399.jpg: 608x640 (no detections), 17.0ms\n",
      "Speed: 6.0ms preprocess, 17.0ms inference, 1.0ms postprocess per image at shape (1, 3, 608, 640)\n",
      "\n",
      "image 1/1 C:\\Users\\Mohit\\OneDrive\\Desktop\\BrainTumorDetectionYolov\\BrainTumorDetectionYolov9\\test\\images\\volume_75_slice_32_jpg.rf.671a3241d896a17508c526c41d029f55.jpg: 608x640 (no detections), 13.0ms\n",
      "Speed: 6.0ms preprocess, 13.0ms inference, 1.0ms postprocess per image at shape (1, 3, 608, 640)\n",
      "\n",
      "image 1/1 C:\\Users\\Mohit\\OneDrive\\Desktop\\BrainTumorDetectionYolov\\BrainTumorDetectionYolov9\\test\\images\\volume_75_slice_34_jpg.rf.51069fbfae23b9bed803e25fbe02eaa1.jpg: 608x640 (no detections), 13.0ms\n",
      "Speed: 6.0ms preprocess, 13.0ms inference, 1.0ms postprocess per image at shape (1, 3, 608, 640)\n",
      "\n",
      "image 1/1 C:\\Users\\Mohit\\OneDrive\\Desktop\\BrainTumorDetectionYolov\\BrainTumorDetectionYolov9\\test\\images\\volume_75_slice_46_jpg.rf.869dbe805dc36e40f152f9a816147918.jpg: 608x640 (no detections), 14.0ms\n",
      "Speed: 7.1ms preprocess, 14.0ms inference, 1.0ms postprocess per image at shape (1, 3, 608, 640)\n",
      "\n",
      "image 1/1 C:\\Users\\Mohit\\OneDrive\\Desktop\\BrainTumorDetectionYolov\\BrainTumorDetectionYolov9\\test\\images\\volume_75_slice_61_jpg.rf.b5bc8e3c51266abc3b83299e75e5b407.jpg: 608x640 (no detections), 16.8ms\n",
      "Speed: 6.0ms preprocess, 16.8ms inference, 1.0ms postprocess per image at shape (1, 3, 608, 640)\n",
      "\n",
      "image 1/1 C:\\Users\\Mohit\\OneDrive\\Desktop\\BrainTumorDetectionYolov\\BrainTumorDetectionYolov9\\test\\images\\volume_75_slice_66_jpg.rf.b116303f083a9c2b71f09571b5f16954.jpg: 608x640 (no detections), 23.9ms\n",
      "Speed: 7.1ms preprocess, 23.9ms inference, 9.0ms postprocess per image at shape (1, 3, 608, 640)\n",
      "\n",
      "image 1/1 C:\\Users\\Mohit\\OneDrive\\Desktop\\BrainTumorDetectionYolov\\BrainTumorDetectionYolov9\\test\\images\\volume_75_slice_95_jpg.rf.90eb9a15c7993ce822077671f90bf906.jpg: 608x640 (no detections), 14.0ms\n",
      "Speed: 6.0ms preprocess, 14.0ms inference, 1.0ms postprocess per image at shape (1, 3, 608, 640)\n",
      "\n",
      "image 1/1 C:\\Users\\Mohit\\OneDrive\\Desktop\\BrainTumorDetectionYolov\\BrainTumorDetectionYolov9\\test\\images\\volume_75_slice_96_jpg.rf.bbfcd78950690119fcaf9ac3352373ef.jpg: 608x640 (no detections), 12.0ms\n",
      "Speed: 8.0ms preprocess, 12.0ms inference, 1.0ms postprocess per image at shape (1, 3, 608, 640)\n",
      "\n",
      "image 1/1 C:\\Users\\Mohit\\OneDrive\\Desktop\\BrainTumorDetectionYolov\\BrainTumorDetectionYolov9\\test\\images\\volume_76_slice_100_jpg.rf.d3595daed98f8cc94bd33c84afdcb520.jpg: 608x640 (no detections), 12.9ms\n",
      "Speed: 6.0ms preprocess, 12.9ms inference, 1.0ms postprocess per image at shape (1, 3, 608, 640)\n",
      "\n",
      "image 1/1 C:\\Users\\Mohit\\OneDrive\\Desktop\\BrainTumorDetectionYolov\\BrainTumorDetectionYolov9\\test\\images\\volume_76_slice_119_jpg.rf.a8013ad6d856b0148d0d15f6b8e3faeb.jpg: 608x640 (no detections), 12.0ms\n",
      "Speed: 6.0ms preprocess, 12.0ms inference, 1.0ms postprocess per image at shape (1, 3, 608, 640)\n",
      "\n",
      "image 1/1 C:\\Users\\Mohit\\OneDrive\\Desktop\\BrainTumorDetectionYolov\\BrainTumorDetectionYolov9\\test\\images\\volume_76_slice_122_jpg.rf.ba7770cb511a3d8f373f28fed3b82909.jpg: 608x640 (no detections), 20.5ms\n",
      "Speed: 6.0ms preprocess, 20.5ms inference, 1.0ms postprocess per image at shape (1, 3, 608, 640)\n",
      "\n",
      "image 1/1 C:\\Users\\Mohit\\OneDrive\\Desktop\\BrainTumorDetectionYolov\\BrainTumorDetectionYolov9\\test\\images\\volume_76_slice_86_jpg.rf.6c33c68c3935b06e2978b27b236abd8c.jpg: 608x640 (no detections), 12.5ms\n",
      "Speed: 7.0ms preprocess, 12.5ms inference, 1.0ms postprocess per image at shape (1, 3, 608, 640)\n",
      "\n",
      "image 1/1 C:\\Users\\Mohit\\OneDrive\\Desktop\\BrainTumorDetectionYolov\\BrainTumorDetectionYolov9\\test\\images\\volume_76_slice_88_jpg.rf.dbb0e01a04c110d2e667d080a41ae310.jpg: 608x640 (no detections), 11.9ms\n",
      "Speed: 7.1ms preprocess, 11.9ms inference, 2.0ms postprocess per image at shape (1, 3, 608, 640)\n",
      "\n",
      "image 1/1 C:\\Users\\Mohit\\OneDrive\\Desktop\\BrainTumorDetectionYolov\\BrainTumorDetectionYolov9\\test\\images\\volume_76_slice_90_jpg.rf.e851329c4f999059a4b1b5a8a612d3b5.jpg: 608x640 (no detections), 13.9ms\n",
      "Speed: 7.1ms preprocess, 13.9ms inference, 1.0ms postprocess per image at shape (1, 3, 608, 640)\n",
      "\n",
      "image 1/1 C:\\Users\\Mohit\\OneDrive\\Desktop\\BrainTumorDetectionYolov\\BrainTumorDetectionYolov9\\test\\images\\volume_76_slice_98_jpg.rf.706710e38a33b4e75d51dd69f7f3ca47.jpg: 608x640 1 label1, 12.0ms\n",
      "Speed: 8.9ms preprocess, 12.0ms inference, 3.0ms postprocess per image at shape (1, 3, 608, 640)\n",
      "\n",
      "image 1/1 C:\\Users\\Mohit\\OneDrive\\Desktop\\BrainTumorDetectionYolov\\BrainTumorDetectionYolov9\\test\\images\\volume_77_slice_80_jpg.rf.532ec372da041b0cbcc0bf49931cbcc4.jpg: 608x640 1 label1, 20.0ms\n",
      "Speed: 7.0ms preprocess, 20.0ms inference, 3.0ms postprocess per image at shape (1, 3, 608, 640)\n",
      "\n",
      "image 1/1 C:\\Users\\Mohit\\OneDrive\\Desktop\\BrainTumorDetectionYolov\\BrainTumorDetectionYolov9\\test\\images\\volume_78_slice_33_jpg.rf.493b8e719d92a691b2f9d7b97421e8ab.jpg: 608x640 (no detections), 12.0ms\n",
      "Speed: 6.0ms preprocess, 12.0ms inference, 1.0ms postprocess per image at shape (1, 3, 608, 640)\n",
      "\n",
      "image 1/1 C:\\Users\\Mohit\\OneDrive\\Desktop\\BrainTumorDetectionYolov\\BrainTumorDetectionYolov9\\test\\images\\volume_78_slice_34_jpg.rf.f4a566903141ba7502b2d8958af1b648.jpg: 608x640 (no detections), 14.0ms\n",
      "Speed: 6.0ms preprocess, 14.0ms inference, 1.0ms postprocess per image at shape (1, 3, 608, 640)\n",
      "\n",
      "image 1/1 C:\\Users\\Mohit\\OneDrive\\Desktop\\BrainTumorDetectionYolov\\BrainTumorDetectionYolov9\\test\\images\\volume_79_slice_108_jpg.rf.4b5bec7377fecad0b799b2a9dfa682ad.jpg: 608x640 (no detections), 13.0ms\n",
      "Speed: 5.9ms preprocess, 13.0ms inference, 1.0ms postprocess per image at shape (1, 3, 608, 640)\n",
      "\n",
      "image 1/1 C:\\Users\\Mohit\\OneDrive\\Desktop\\BrainTumorDetectionYolov\\BrainTumorDetectionYolov9\\test\\images\\volume_79_slice_109_jpg.rf.1e4f0cb4a0e44e438c7fd0ccb5dc9507.jpg: 608x640 (no detections), 13.4ms\n",
      "Speed: 7.1ms preprocess, 13.4ms inference, 1.0ms postprocess per image at shape (1, 3, 608, 640)\n",
      "\n",
      "image 1/1 C:\\Users\\Mohit\\OneDrive\\Desktop\\BrainTumorDetectionYolov\\BrainTumorDetectionYolov9\\test\\images\\volume_79_slice_126_jpg.rf.c8d19178681e5d415d0561ffa711d8e7.jpg: 608x640 (no detections), 15.3ms\n",
      "Speed: 5.9ms preprocess, 15.3ms inference, 2.0ms postprocess per image at shape (1, 3, 608, 640)\n",
      "\n",
      "image 1/1 C:\\Users\\Mohit\\OneDrive\\Desktop\\BrainTumorDetectionYolov\\BrainTumorDetectionYolov9\\test\\images\\volume_7_slice_49_jpg.rf.6b5dea062160d2d435a4d07463e898e1.jpg: 608x640 (no detections), 16.0ms\n",
      "Speed: 7.0ms preprocess, 16.0ms inference, 2.0ms postprocess per image at shape (1, 3, 608, 640)\n",
      "\n",
      "image 1/1 C:\\Users\\Mohit\\OneDrive\\Desktop\\BrainTumorDetectionYolov\\BrainTumorDetectionYolov9\\test\\images\\volume_7_slice_73_jpg.rf.3da278af2a7272f47074d40f273e3c28.jpg: 608x640 (no detections), 14.0ms\n",
      "Speed: 7.0ms preprocess, 14.0ms inference, 2.0ms postprocess per image at shape (1, 3, 608, 640)\n",
      "\n",
      "image 1/1 C:\\Users\\Mohit\\OneDrive\\Desktop\\BrainTumorDetectionYolov\\BrainTumorDetectionYolov9\\test\\images\\volume_7_slice_78_jpg.rf.5ab3084d4ca7797a7346bbdd507456f4.jpg: 608x640 (no detections), 12.0ms\n",
      "Speed: 7.0ms preprocess, 12.0ms inference, 1.0ms postprocess per image at shape (1, 3, 608, 640)\n",
      "\n",
      "image 1/1 C:\\Users\\Mohit\\OneDrive\\Desktop\\BrainTumorDetectionYolov\\BrainTumorDetectionYolov9\\test\\images\\volume_80_slice_47_jpg.rf.1fc2e20a5c99a2180d932477d6b6b730.jpg: 608x640 (no detections), 13.0ms\n",
      "Speed: 6.0ms preprocess, 13.0ms inference, 1.0ms postprocess per image at shape (1, 3, 608, 640)\n",
      "\n",
      "image 1/1 C:\\Users\\Mohit\\OneDrive\\Desktop\\BrainTumorDetectionYolov\\BrainTumorDetectionYolov9\\test\\images\\volume_82_slice_52_jpg.rf.93e5fc93f8b3c7e1ce3e8e3320bb2913.jpg: 608x640 (no detections), 12.0ms\n",
      "Speed: 7.0ms preprocess, 12.0ms inference, 1.0ms postprocess per image at shape (1, 3, 608, 640)\n",
      "\n",
      "image 1/1 C:\\Users\\Mohit\\OneDrive\\Desktop\\BrainTumorDetectionYolov\\BrainTumorDetectionYolov9\\test\\images\\volume_83_slice_41_jpg.rf.95fc2822ba10c1c44441a9d930e9d449.jpg: 608x640 (no detections), 12.0ms\n",
      "Speed: 7.0ms preprocess, 12.0ms inference, 1.0ms postprocess per image at shape (1, 3, 608, 640)\n",
      "\n",
      "image 1/1 C:\\Users\\Mohit\\OneDrive\\Desktop\\BrainTumorDetectionYolov\\BrainTumorDetectionYolov9\\test\\images\\volume_83_slice_46_jpg.rf.6f4c026c1e5ffde5e98f473849b10e6f.jpg: 608x640 (no detections), 21.0ms\n",
      "Speed: 7.0ms preprocess, 21.0ms inference, 1.0ms postprocess per image at shape (1, 3, 608, 640)\n",
      "\n",
      "image 1/1 C:\\Users\\Mohit\\OneDrive\\Desktop\\BrainTumorDetectionYolov\\BrainTumorDetectionYolov9\\test\\images\\volume_83_slice_55_jpg.rf.b4c1d0151a06bf2a3bcc93df693a1589.jpg: 608x640 (no detections), 12.0ms\n",
      "Speed: 6.0ms preprocess, 12.0ms inference, 1.0ms postprocess per image at shape (1, 3, 608, 640)\n",
      "\n",
      "image 1/1 C:\\Users\\Mohit\\OneDrive\\Desktop\\BrainTumorDetectionYolov\\BrainTumorDetectionYolov9\\test\\images\\volume_83_slice_60_jpg.rf.000c57a3316324513990ab42ad4804aa.jpg: 608x640 (no detections), 16.7ms\n",
      "Speed: 6.0ms preprocess, 16.7ms inference, 1.0ms postprocess per image at shape (1, 3, 608, 640)\n",
      "\n",
      "image 1/1 C:\\Users\\Mohit\\OneDrive\\Desktop\\BrainTumorDetectionYolov\\BrainTumorDetectionYolov9\\test\\images\\volume_83_slice_81_jpg.rf.737fb8484af54509dc333fb43d0895bd.jpg: 608x640 (no detections), 16.0ms\n",
      "Speed: 7.0ms preprocess, 16.0ms inference, 1.0ms postprocess per image at shape (1, 3, 608, 640)\n",
      "\n",
      "image 1/1 C:\\Users\\Mohit\\OneDrive\\Desktop\\BrainTumorDetectionYolov\\BrainTumorDetectionYolov9\\test\\images\\volume_84_slice_39_jpg.rf.97041638205e15bdc45635cb2a695dcb.jpg: 608x640 (no detections), 21.0ms\n",
      "Speed: 7.0ms preprocess, 21.0ms inference, 1.0ms postprocess per image at shape (1, 3, 608, 640)\n",
      "\n",
      "image 1/1 C:\\Users\\Mohit\\OneDrive\\Desktop\\BrainTumorDetectionYolov\\BrainTumorDetectionYolov9\\test\\images\\volume_84_slice_62_jpg.rf.bcdca1dbf85d879029cba11e5b261c80.jpg: 608x640 1 label1, 12.9ms\n",
      "Speed: 8.1ms preprocess, 12.9ms inference, 3.0ms postprocess per image at shape (1, 3, 608, 640)\n",
      "\n",
      "image 1/1 C:\\Users\\Mohit\\OneDrive\\Desktop\\BrainTumorDetectionYolov\\BrainTumorDetectionYolov9\\test\\images\\volume_85_slice_111_jpg.rf.7725768a07642fc6a75c2354b3160022.jpg: 608x640 (no detections), 11.9ms\n",
      "Speed: 7.1ms preprocess, 11.9ms inference, 1.0ms postprocess per image at shape (1, 3, 608, 640)\n",
      "\n",
      "image 1/1 C:\\Users\\Mohit\\OneDrive\\Desktop\\BrainTumorDetectionYolov\\BrainTumorDetectionYolov9\\test\\images\\volume_86_slice_47_jpg.rf.eac2c0924c87bb8200cf785ae7bfaa37.jpg: 608x640 (no detections), 13.0ms\n",
      "Speed: 7.0ms preprocess, 13.0ms inference, 2.0ms postprocess per image at shape (1, 3, 608, 640)\n",
      "\n",
      "image 1/1 C:\\Users\\Mohit\\OneDrive\\Desktop\\BrainTumorDetectionYolov\\BrainTumorDetectionYolov9\\test\\images\\volume_87_slice_58_jpg.rf.07848e1d75186c1fbe43c145cd65ea0c.jpg: 608x640 (no detections), 20.4ms\n",
      "Speed: 6.0ms preprocess, 20.4ms inference, 1.0ms postprocess per image at shape (1, 3, 608, 640)\n",
      "\n",
      "image 1/1 C:\\Users\\Mohit\\OneDrive\\Desktop\\BrainTumorDetectionYolov\\BrainTumorDetectionYolov9\\test\\images\\volume_87_slice_73_jpg.rf.d93973bf846d75e43ecb1f453d90651e.jpg: 608x640 (no detections), 14.0ms\n",
      "Speed: 7.0ms preprocess, 14.0ms inference, 2.0ms postprocess per image at shape (1, 3, 608, 640)\n",
      "\n",
      "image 1/1 C:\\Users\\Mohit\\OneDrive\\Desktop\\BrainTumorDetectionYolov\\BrainTumorDetectionYolov9\\test\\images\\volume_87_slice_90_jpg.rf.b83e44936aec4069075ff7aafd341986.jpg: 608x640 (no detections), 22.0ms\n",
      "Speed: 6.0ms preprocess, 22.0ms inference, 1.0ms postprocess per image at shape (1, 3, 608, 640)\n",
      "\n",
      "image 1/1 C:\\Users\\Mohit\\OneDrive\\Desktop\\BrainTumorDetectionYolov\\BrainTumorDetectionYolov9\\test\\images\\volume_88_slice_46_jpg.rf.0c8fb22920562ee43bb317f7e593a95d.jpg: 608x640 (no detections), 114.0ms\n",
      "Speed: 8.0ms preprocess, 114.0ms inference, 1.0ms postprocess per image at shape (1, 3, 608, 640)\n",
      "\n",
      "image 1/1 C:\\Users\\Mohit\\OneDrive\\Desktop\\BrainTumorDetectionYolov\\BrainTumorDetectionYolov9\\test\\images\\volume_88_slice_54_jpg.rf.9dd5f1aceca811b756d97195bfd5ead2.jpg: 608x640 (no detections), 25.0ms\n",
      "Speed: 5.0ms preprocess, 25.0ms inference, 2.0ms postprocess per image at shape (1, 3, 608, 640)\n",
      "\n",
      "image 1/1 C:\\Users\\Mohit\\OneDrive\\Desktop\\BrainTumorDetectionYolov\\BrainTumorDetectionYolov9\\test\\images\\volume_88_slice_72_jpg.rf.8ad4342c099d978cf88b40d0ac4fda95.jpg: 608x640 (no detections), 36.0ms\n",
      "Speed: 9.0ms preprocess, 36.0ms inference, 2.0ms postprocess per image at shape (1, 3, 608, 640)\n",
      "\n",
      "image 1/1 C:\\Users\\Mohit\\OneDrive\\Desktop\\BrainTumorDetectionYolov\\BrainTumorDetectionYolov9\\test\\images\\volume_89_slice_37_jpg.rf.f6e3adcae0c76af9dde0a0059e8a0bfb.jpg: 608x640 (no detections), 33.9ms\n",
      "Speed: 6.2ms preprocess, 33.9ms inference, 1.0ms postprocess per image at shape (1, 3, 608, 640)\n",
      "\n",
      "image 1/1 C:\\Users\\Mohit\\OneDrive\\Desktop\\BrainTumorDetectionYolov\\BrainTumorDetectionYolov9\\test\\images\\volume_8_slice_33_jpg.rf.ae2521228d37ad3d82da8d40b3f38a2d.jpg: 608x640 (no detections), 13.0ms\n",
      "Speed: 6.0ms preprocess, 13.0ms inference, 1.0ms postprocess per image at shape (1, 3, 608, 640)\n",
      "\n",
      "image 1/1 C:\\Users\\Mohit\\OneDrive\\Desktop\\BrainTumorDetectionYolov\\BrainTumorDetectionYolov9\\test\\images\\volume_8_slice_41_jpg.rf.43c40923f8b24054147308fecbf7d6f6.jpg: 608x640 (no detections), 13.0ms\n",
      "Speed: 7.0ms preprocess, 13.0ms inference, 1.0ms postprocess per image at shape (1, 3, 608, 640)\n",
      "\n",
      "image 1/1 C:\\Users\\Mohit\\OneDrive\\Desktop\\BrainTumorDetectionYolov\\BrainTumorDetectionYolov9\\test\\images\\volume_8_slice_56_jpg.rf.b58bdd1e47eb89ea98b77bf3ec73a37a.jpg: 608x640 (no detections), 17.0ms\n",
      "Speed: 6.0ms preprocess, 17.0ms inference, 2.0ms postprocess per image at shape (1, 3, 608, 640)\n",
      "\n",
      "image 1/1 C:\\Users\\Mohit\\OneDrive\\Desktop\\BrainTumorDetectionYolov\\BrainTumorDetectionYolov9\\test\\images\\volume_90_slice_83_jpg.rf.657d0e82e29cc089add001513e9ca914.jpg: 608x640 (no detections), 14.0ms\n",
      "Speed: 7.0ms preprocess, 14.0ms inference, 1.0ms postprocess per image at shape (1, 3, 608, 640)\n",
      "\n",
      "image 1/1 C:\\Users\\Mohit\\OneDrive\\Desktop\\BrainTumorDetectionYolov\\BrainTumorDetectionYolov9\\test\\images\\volume_91_slice_100_jpg.rf.85c903e5ef097536de5b94eb86cc966c.jpg: 608x640 (no detections), 13.0ms\n",
      "Speed: 6.0ms preprocess, 13.0ms inference, 2.0ms postprocess per image at shape (1, 3, 608, 640)\n",
      "\n",
      "image 1/1 C:\\Users\\Mohit\\OneDrive\\Desktop\\BrainTumorDetectionYolov\\BrainTumorDetectionYolov9\\test\\images\\volume_91_slice_114_jpg.rf.78f500dd935cbb1a0202724d9171e262.jpg: 608x640 (no detections), 12.0ms\n",
      "Speed: 6.0ms preprocess, 12.0ms inference, 1.0ms postprocess per image at shape (1, 3, 608, 640)\n",
      "\n",
      "image 1/1 C:\\Users\\Mohit\\OneDrive\\Desktop\\BrainTumorDetectionYolov\\BrainTumorDetectionYolov9\\test\\images\\volume_91_slice_126_jpg.rf.171b98cca601a597afcf38ed86ff00a6.jpg: 608x640 (no detections), 14.0ms\n",
      "Speed: 6.0ms preprocess, 14.0ms inference, 1.0ms postprocess per image at shape (1, 3, 608, 640)\n",
      "\n",
      "image 1/1 C:\\Users\\Mohit\\OneDrive\\Desktop\\BrainTumorDetectionYolov\\BrainTumorDetectionYolov9\\test\\images\\volume_91_slice_80_jpg.rf.0384ac06271588854a6c5ac88fe0ae1a.jpg: 608x640 (no detections), 12.0ms\n",
      "Speed: 6.0ms preprocess, 12.0ms inference, 1.0ms postprocess per image at shape (1, 3, 608, 640)\n",
      "\n",
      "image 1/1 C:\\Users\\Mohit\\OneDrive\\Desktop\\BrainTumorDetectionYolov\\BrainTumorDetectionYolov9\\test\\images\\volume_91_slice_84_jpg.rf.98716587cb9eec37b01d3ddc9093abc9.jpg: 608x640 (no detections), 12.0ms\n",
      "Speed: 7.0ms preprocess, 12.0ms inference, 1.0ms postprocess per image at shape (1, 3, 608, 640)\n",
      "\n",
      "image 1/1 C:\\Users\\Mohit\\OneDrive\\Desktop\\BrainTumorDetectionYolov\\BrainTumorDetectionYolov9\\test\\images\\volume_92_slice_56_jpg.rf.384cf6ca074a3bce97a27df35205f588.jpg: 608x640 (no detections), 14.0ms\n",
      "Speed: 6.0ms preprocess, 14.0ms inference, 2.0ms postprocess per image at shape (1, 3, 608, 640)\n",
      "\n",
      "image 1/1 C:\\Users\\Mohit\\OneDrive\\Desktop\\BrainTumorDetectionYolov\\BrainTumorDetectionYolov9\\test\\images\\volume_93_slice_33_jpg.rf.20a0ed52bfc6b7a7470604434e61cef0.jpg: 608x640 (no detections), 13.0ms\n",
      "Speed: 6.0ms preprocess, 13.0ms inference, 1.0ms postprocess per image at shape (1, 3, 608, 640)\n",
      "\n",
      "image 1/1 C:\\Users\\Mohit\\OneDrive\\Desktop\\BrainTumorDetectionYolov\\BrainTumorDetectionYolov9\\test\\images\\volume_93_slice_50_jpg.rf.eecab6a1c91c9ec8ba8cd70638a32011.jpg: 608x640 1 label1, 12.0ms\n",
      "Speed: 7.0ms preprocess, 12.0ms inference, 3.0ms postprocess per image at shape (1, 3, 608, 640)\n",
      "\n",
      "image 1/1 C:\\Users\\Mohit\\OneDrive\\Desktop\\BrainTumorDetectionYolov\\BrainTumorDetectionYolov9\\test\\images\\volume_93_slice_56_jpg.rf.b4116d966e8af306030e990d37a1eb34.jpg: 608x640 (no detections), 16.0ms\n",
      "Speed: 6.0ms preprocess, 16.0ms inference, 1.0ms postprocess per image at shape (1, 3, 608, 640)\n",
      "\n",
      "image 1/1 C:\\Users\\Mohit\\OneDrive\\Desktop\\BrainTumorDetectionYolov\\BrainTumorDetectionYolov9\\test\\images\\volume_93_slice_78_jpg.rf.b408eeccd21f4c8865f927285d11b4d5.jpg: 608x640 1 label1, 12.0ms\n",
      "Speed: 6.0ms preprocess, 12.0ms inference, 3.0ms postprocess per image at shape (1, 3, 608, 640)\n",
      "\n",
      "image 1/1 C:\\Users\\Mohit\\OneDrive\\Desktop\\BrainTumorDetectionYolov\\BrainTumorDetectionYolov9\\test\\images\\volume_94_slice_44_jpg.rf.1db89c0bcbc786f95007233d10187e14.jpg: 608x640 (no detections), 13.0ms\n",
      "Speed: 7.0ms preprocess, 13.0ms inference, 1.0ms postprocess per image at shape (1, 3, 608, 640)\n",
      "\n",
      "image 1/1 C:\\Users\\Mohit\\OneDrive\\Desktop\\BrainTumorDetectionYolov\\BrainTumorDetectionYolov9\\test\\images\\volume_95_slice_119_jpg.rf.f3a8f94ec3ae03c6f331aaa2ce8f5202.jpg: 608x640 (no detections), 12.0ms\n",
      "Speed: 7.0ms preprocess, 12.0ms inference, 1.0ms postprocess per image at shape (1, 3, 608, 640)\n",
      "\n",
      "image 1/1 C:\\Users\\Mohit\\OneDrive\\Desktop\\BrainTumorDetectionYolov\\BrainTumorDetectionYolov9\\test\\images\\volume_95_slice_123_jpg.rf.0f1ce77483adb2713d6966be57cc7215.jpg: 608x640 (no detections), 16.0ms\n",
      "Speed: 7.0ms preprocess, 16.0ms inference, 1.0ms postprocess per image at shape (1, 3, 608, 640)\n",
      "\n",
      "image 1/1 C:\\Users\\Mohit\\OneDrive\\Desktop\\BrainTumorDetectionYolov\\BrainTumorDetectionYolov9\\test\\images\\volume_95_slice_92_jpg.rf.681989d99438586bcf08155d1654bec8.jpg: 608x640 (no detections), 15.7ms\n",
      "Speed: 7.3ms preprocess, 15.7ms inference, 2.0ms postprocess per image at shape (1, 3, 608, 640)\n",
      "\n",
      "image 1/1 C:\\Users\\Mohit\\OneDrive\\Desktop\\BrainTumorDetectionYolov\\BrainTumorDetectionYolov9\\test\\images\\volume_96_slice_62_jpg.rf.7762a6d7804f19179ca1bab785c313ca.jpg: 608x640 (no detections), 21.0ms\n",
      "Speed: 6.0ms preprocess, 21.0ms inference, 2.0ms postprocess per image at shape (1, 3, 608, 640)\n",
      "\n",
      "image 1/1 C:\\Users\\Mohit\\OneDrive\\Desktop\\BrainTumorDetectionYolov\\BrainTumorDetectionYolov9\\test\\images\\volume_96_slice_70_jpg.rf.eeafbbdb966284fce2817fb9975f0990.jpg: 608x640 (no detections), 11.0ms\n",
      "Speed: 5.5ms preprocess, 11.0ms inference, 1.0ms postprocess per image at shape (1, 3, 608, 640)\n",
      "\n",
      "image 1/1 C:\\Users\\Mohit\\OneDrive\\Desktop\\BrainTumorDetectionYolov\\BrainTumorDetectionYolov9\\test\\images\\volume_96_slice_92_jpg.rf.a3215fe045ae9015190df2462dcc4d98.jpg: 608x640 (no detections), 12.0ms\n",
      "Speed: 6.0ms preprocess, 12.0ms inference, 1.0ms postprocess per image at shape (1, 3, 608, 640)\n",
      "\n",
      "image 1/1 C:\\Users\\Mohit\\OneDrive\\Desktop\\BrainTumorDetectionYolov\\BrainTumorDetectionYolov9\\test\\images\\volume_96_slice_99_jpg.rf.a51881651805a2a2d1ed0bd7b4644a01.jpg: 608x640 (no detections), 11.0ms\n",
      "Speed: 6.0ms preprocess, 11.0ms inference, 3.0ms postprocess per image at shape (1, 3, 608, 640)\n",
      "\n",
      "image 1/1 C:\\Users\\Mohit\\OneDrive\\Desktop\\BrainTumorDetectionYolov\\BrainTumorDetectionYolov9\\test\\images\\volume_97_slice_60_jpg.rf.68709702b35ad63ae3ac582119278d06.jpg: 608x640 (no detections), 16.0ms\n",
      "Speed: 7.0ms preprocess, 16.0ms inference, 1.0ms postprocess per image at shape (1, 3, 608, 640)\n",
      "\n",
      "image 1/1 C:\\Users\\Mohit\\OneDrive\\Desktop\\BrainTumorDetectionYolov\\BrainTumorDetectionYolov9\\test\\images\\volume_97_slice_93_jpg.rf.4eb724aff073dab9d15f8442b2f36b8e.jpg: 608x640 (no detections), 12.0ms\n",
      "Speed: 6.0ms preprocess, 12.0ms inference, 1.0ms postprocess per image at shape (1, 3, 608, 640)\n",
      "\n",
      "image 1/1 C:\\Users\\Mohit\\OneDrive\\Desktop\\BrainTumorDetectionYolov\\BrainTumorDetectionYolov9\\test\\images\\volume_98_slice_107_jpg.rf.81591a2e97b88ab991bbb40167d63bfb.jpg: 608x640 (no detections), 14.0ms\n",
      "Speed: 7.0ms preprocess, 14.0ms inference, 1.0ms postprocess per image at shape (1, 3, 608, 640)\n",
      "\n",
      "image 1/1 C:\\Users\\Mohit\\OneDrive\\Desktop\\BrainTumorDetectionYolov\\BrainTumorDetectionYolov9\\test\\images\\volume_9_slice_62_jpg.rf.3851629330ac792b57dd9e2cb2fcdda7.jpg: 608x640 1 label1, 16.0ms\n",
      "Speed: 6.0ms preprocess, 16.0ms inference, 3.0ms postprocess per image at shape (1, 3, 608, 640)\n",
      "Accuracy: 0.9202020202020202\n",
      "Precision: 1.0\n",
      "Recall: 0.9202020202020202\n",
      "F1-Score: 0.9584429247764334\n"
     ]
    }
   ],
   "source": [
    "import os\n",
    "from sklearn.metrics import precision_score, recall_score, f1_score, accuracy_score\n",
    "\n",
    "# Path to test images\n",
    "test_images_folder = r\"C:\\Users\\Mohit\\OneDrive\\Desktop\\BrainTumorDetectionYolov\\BrainTumorDetectionYolov9\\test\\images\"\n",
    "\n",
    "# Load the images for testing\n",
    "test_images = [os.path.join(test_images_folder, img) for img in os.listdir(test_images_folder)]\n",
    "\n",
    "# Initialize results list and true/predicted labels\n",
    "results = []\n",
    "y_true = []\n",
    "y_pred = []\n",
    "\n",
    "# Define confidence threshold and NMS IoU threshold\n",
    "CONF_THRESHOLD = 0.92 # Lower confidence threshold to allow more predictions\n",
    "NMS_IOU_THRESHOLD = 0.5 # Adjust NMS IoU to retain overlapping boxes\n",
    "\n",
    "# Run inference on each test image\n",
    "for img_path in test_images:\n",
    "    # Load ground truth labels\n",
    "    if 'tumor' in img_path:\n",
    "        y_true.append(1)  # Tumor present\n",
    "    else:\n",
    "        y_true.append(0)  # No tumor present\n",
    "    \n",
    "    # Run inference with updated thresholds\n",
    "    result = model(img_path, conf=CONF_THRESHOLD, iou=NMS_IOU_THRESHOLD)\n",
    "    \n",
    "    # Append the result to your list\n",
    "    results.append(result)\n",
    "    \n",
    "    # Extract predicted labels based on confidence and NMS\n",
    "    if len(result[0].boxes) > 0:\n",
    "        # If predictions are made, extract the first predicted class with the highest confidence\n",
    "        predicted_class = int(result[0].boxes.cls.cpu().numpy()[0])\n",
    "    else:\n",
    "        # If no prediction is made, assume it's 'no tumor' (class 0)\n",
    "        predicted_class = 0\n",
    "    \n",
    "    y_pred.append(predicted_class)\n",
    "    \n",
    "    # Visualize results\n",
    "    for res in result:\n",
    "        res.plot()  # Display the image with bounding boxes\n",
    "\n",
    "# Now calculate metrics\n",
    "accuracy = accuracy_score(y_true, y_pred)\n",
    "precision = precision_score(y_true, y_pred, average='weighted')\n",
    "recall = recall_score(y_true, y_pred, average='weighted', zero_division=1)\n",
    "f1 = f1_score(y_true, y_pred, average='weighted')\n",
    "\n",
    "# Print the metrics\n",
    "print(f'Accuracy: {accuracy}')\n",
    "print(f'Precision: {precision}')\n",
    "print(f'Recall: {recall}')\n",
    "print(f'F1-Score: {f1}')\n"
   ]
  },
  {
   "cell_type": "code",
   "execution_count": 38,
   "id": "8d9ef295-8450-426d-87dd-063f37da7c37",
   "metadata": {},
   "outputs": [
    {
     "data": {
      "text/html": [
       "<style type=\"text/css\">\n",
       "#T_3d674 th {\n",
       "  border: 1px dotted black;\n",
       "}\n",
       "#T_3d674 td {\n",
       "  border: 1px dotted black;\n",
       "}\n",
       "</style>\n",
       "<table id=\"T_3d674\" style=\"border: 1px dotted black; border-collapse: collapse;\">\n",
       "  <thead>\n",
       "    <tr>\n",
       "      <th id=\"T_3d674_level0_col0\" class=\"col_heading level0 col0\" >Metric</th>\n",
       "      <th id=\"T_3d674_level0_col1\" class=\"col_heading level0 col1\" >Value</th>\n",
       "    </tr>\n",
       "  </thead>\n",
       "  <tbody>\n",
       "    <tr>\n",
       "      <td id=\"T_3d674_row0_col0\" class=\"data row0 col0\" >Accuracy</td>\n",
       "      <td id=\"T_3d674_row0_col1\" class=\"data row0 col1\" >0.920202</td>\n",
       "    </tr>\n",
       "    <tr>\n",
       "      <td id=\"T_3d674_row1_col0\" class=\"data row1 col0\" >Precision</td>\n",
       "      <td id=\"T_3d674_row1_col1\" class=\"data row1 col1\" >1.000000</td>\n",
       "    </tr>\n",
       "    <tr>\n",
       "      <td id=\"T_3d674_row2_col0\" class=\"data row2 col0\" >Recall</td>\n",
       "      <td id=\"T_3d674_row2_col1\" class=\"data row2 col1\" >0.920202</td>\n",
       "    </tr>\n",
       "    <tr>\n",
       "      <td id=\"T_3d674_row3_col0\" class=\"data row3 col0\" >F1 Score</td>\n",
       "      <td id=\"T_3d674_row3_col1\" class=\"data row3 col1\" >0.958443</td>\n",
       "    </tr>\n",
       "  </tbody>\n",
       "</table>\n"
      ],
      "text/plain": [
       "<pandas.io.formats.style.Styler at 0x277861ad610>"
      ]
     },
     "execution_count": 38,
     "metadata": {},
     "output_type": "execute_result"
    }
   ],
   "source": [
    "import pandas as pd\n",
    "\n",
    "# Define the metrics\n",
    "metrics = {\n",
    "    \"Metric\": [\"Accuracy\", \"Precision\", \"Recall\", \"F1 Score\"],\n",
    "    \"Value\": [accuracy, precision, recall, f1]\n",
    "}\n",
    "\n",
    "# Create a DataFrame\n",
    "metrics_df = pd.DataFrame(metrics)\n",
    "\n",
    "# Display the DataFrame with no index and a dotted border\n",
    "styled_df = metrics_df.style.set_table_attributes('style=\"border: 1px dotted black; border-collapse: collapse;\"') \\\n",
    "    .set_table_styles([{\n",
    "        'selector': 'th',\n",
    "        'props': [('border', '1px dotted black')],\n",
    "    }, {\n",
    "        'selector': 'td',\n",
    "        'props': [('border', '1px dotted black')],\n",
    "    }])\n",
    "\n",
    "# Display the styled DataFrame without the index\n",
    "styled_df.hide(axis='index')  # Hides the index\n",
    "\n",
    "# Show the styled DataFrame\n",
    "styled_df\n"
   ]
  },
  {
   "cell_type": "code",
   "execution_count": 40,
   "id": "03b6c461-2a0c-423f-8931-52f8e75bdac6",
   "metadata": {},
   "outputs": [
    {
     "data": {
      "image/png": "[encoded data removed]",
      "text/plain": [
       "<Figure size 640x480 with 1 Axes>"
      ]
     },
     "metadata": {},
     "output_type": "display_data"
    }
   ],
   "source": [
    "import matplotlib.pyplot as plt\n",
    "\n",
    "# Metrics\n",
    "metrics = ['Accuracy', 'Precision', 'Recall', 'F1-Score']\n",
    "values = [accuracy, precision, recall, f1]\n",
    "\n",
    "# Create bar chart\n",
    "plt.bar(metrics, values, color=['blue', 'green', 'red', 'purple'])\n",
    "plt.title('Model Performance Metrics')\n",
    "plt.ylabel('Score')\n",
    "plt.show()\n"
   ]
  },
  {
   "cell_type": "code",
   "execution_count": 43,
   "id": "2561c29e-01f4-46dc-8d53-3048d3297e05",
   "metadata": {},
   "outputs": [
    {
     "name": "stdout",
     "output_type": "stream",
     "text": [
      "Image uploaded: C:/Users/Mohit/OneDrive/Desktop/BrainTumorDetectionYolov/BrainTumorDetectionYolov9/test/images/volume_5_slice_107_jpg.rf.e1519dc98d8e3058cee5f5d6ac41a5d4.jpg\n",
      "Processing the uploaded image...\n",
      "\n",
      "0: 608x640 1 label1, 2 label2s, 26.0ms\n",
      "Speed: 5.0ms preprocess, 26.0ms inference, 7.0ms postprocess per image at shape (1, 3, 608, 640)\n",
      "Inference completed.\n"
     ]
    },
    {
     "data": {
      "image/png": "[encoded data removed]",
      "text/plain": [
       "<Figure size 800x800 with 1 Axes>"
      ]
     },
     "metadata": {},
     "output_type": "display_data"
    },
    {
     "name": "stdout",
     "output_type": "stream",
     "text": [
      "Image processed successfully!\n",
      "Image uploaded: C:/Users/Mohit/OneDrive/Desktop/BrainTumorDetectionYolov/BrainTumorDetectionYolov9/test/images/volume_364_slice_76_jpg.rf.b08b199e7c812b41f591226f74d8518e.jpg\n",
      "Processing the uploaded image...\n",
      "\n",
      "0: 608x640 1 label1, 25.8ms\n",
      "Speed: 6.8ms preprocess, 25.8ms inference, 3.3ms postprocess per image at shape (1, 3, 608, 640)\n",
      "Inference completed.\n"
     ]
    },
    {
     "data": {
      "image/png": "[encoded data removed]",
      "text/plain": [
       "<Figure size 800x800 with 1 Axes>"
      ]
     },
     "metadata": {},
     "output_type": "display_data"
    },
    {
     "name": "stdout",
     "output_type": "stream",
     "text": [
      "Image processed successfully!\n",
      "Image uploaded: C:/Users/Mohit/OneDrive/Desktop/BrainTumorDetectionYolov/BrainTumorDetectionYolov9/test/images/volume_4_slice_59_jpg.rf.6f76df3e1d6e9e8bab3d0a144f4817d0.jpg\n",
      "Processing the uploaded image...\n",
      "\n",
      "0: 608x640 2 label1s, 26.3ms\n",
      "Speed: 5.6ms preprocess, 26.3ms inference, 2.0ms postprocess per image at shape (1, 3, 608, 640)\n",
      "Inference completed.\n"
     ]
    },
    {
     "data": {
      "image/png": "[encoded data removed]",
      "text/plain": [
       "<Figure size 800x800 with 1 Axes>"
      ]
     },
     "metadata": {},
     "output_type": "display_data"
    },
    {
     "name": "stdout",
     "output_type": "stream",
     "text": [
      "Image processed successfully!\n",
      "Image uploaded: C:/Users/Mohit/OneDrive/Desktop/BrainTumorDetectionYolov/BrainTumorDetectionYolov9/test/images/volume_1_slice_100_jpg.rf.ede22f04cdff52f80737eaec905f3c15.jpg\n",
      "Processing the uploaded image...\n",
      "\n",
      "0: 608x640 1 label1, 25.2ms\n",
      "Speed: 7.0ms preprocess, 25.2ms inference, 3.0ms postprocess per image at shape (1, 3, 608, 640)\n",
      "Inference completed.\n"
     ]
    },
    {
     "data": {
      "image/png": "[encoded data removed]",
      "text/plain": [
       "<Figure size 800x800 with 1 Axes>"
      ]
     },
     "metadata": {},
     "output_type": "display_data"
    },
    {
     "name": "stdout",
     "output_type": "stream",
     "text": [
      "Image processed successfully!\n",
      "Image uploaded: C:/Users/Mohit/OneDrive/Desktop/BrainTumorDetectionYolov/BrainTumorDetectionYolov9/test/images/volume_4_slice_110_jpg.rf.fb941918686f5defc28cf4d73d602d27.jpg\n",
      "Processing the uploaded image...\n",
      "\n",
      "0: 608x640 1 label1, 34.1ms\n",
      "Speed: 4.1ms preprocess, 34.1ms inference, 2.0ms postprocess per image at shape (1, 3, 608, 640)\n",
      "Inference completed.\n"
     ]
    },
    {
     "data": {
      "image/png": "[encoded data removed]",
      "text/plain": [
       "<Figure size 800x800 with 1 Axes>"
      ]
     },
     "metadata": {},
     "output_type": "display_data"
    },
    {
     "name": "stdout",
     "output_type": "stream",
     "text": [
      "Image processed successfully!\n",
      "Image uploaded: C:/Users/Mohit/OneDrive/Desktop/BrainTumorDetectionYolov/BrainTumorDetectionYolov9/test/images/volume_5_slice_120_jpg.rf.82f0cbed7cc3b39ee45d484a6135d5fb.jpg\n",
      "Processing the uploaded image...\n",
      "\n",
      "0: 608x640 (no detections), 25.0ms\n",
      "Speed: 6.0ms preprocess, 25.0ms inference, 8.0ms postprocess per image at shape (1, 3, 608, 640)\n",
      "Inference completed.\n",
      "No tumor detected.\n"
     ]
    }
   ],
   "source": [
    "import cv2\n",
    "import matplotlib.pyplot as plt\n",
    "from ultralytics import YOLO\n",
    "from tkinter import filedialog, Tk, Button, Label\n",
    "import numpy as np\n",
    "\n",
    "# Initialize Tkinter root window\n",
    "root = Tk()\n",
    "root.title(\"Brain Tumor Detection\")\n",
    "root.geometry(\"300x200\")  # Set the size of the window\n",
    "\n",
    "# Function to upload an image\n",
    "def upload_image():\n",
    "    file_path = filedialog.askopenfilename(title=\"Select an Image\", filetypes=[(\"Image Files\", \"*.jpg;*.jpeg;*.png\")])\n",
    "    if file_path:\n",
    "        print(f\"Image uploaded: {file_path}\")\n",
    "        detect_tumor(file_path)  # Call detection function\n",
    "\n",
    "# Function to perform inference on the uploaded image\n",
    "def detect_tumor(image_path):\n",
    "    print(\"Processing the uploaded image...\")\n",
    "    \n",
    "    # Read image using OpenCV\n",
    "    image = cv2.imread(image_path)\n",
    "    \n",
    "    # Perform inference using YOLOv8 model\n",
    "    results = model(image)\n",
    "    print(\"Inference completed.\")\n",
    "\n",
    "    # Get detections (bounding boxes, confidence, and class labels)\n",
    "    detections = results[0].boxes.xyxy  # Bounding boxes\n",
    "    confidences = results[0].boxes.conf  # Confidence scores\n",
    "    classes = results[0].boxes.cls  # Class labels (0 for tumor)\n",
    "\n",
    "    # If no detection, display message\n",
    "    if len(detections) == 0:\n",
    "        print(\"No tumor detected.\")\n",
    "        return\n",
    "    \n",
    "    # Define colors\n",
    "    hacker_green = (0, 255, 0)  # Bounding box color\n",
    "    sky_blue = (255, 87, 51)     # Text color\n",
    "\n",
    "    # Draw bounding boxes and display accuracy (confidence)\n",
    "    for i, box in enumerate(detections):\n",
    "        x1, y1, x2, y2 = map(int, box)  # Convert to integer coordinates\n",
    "        confidence = confidences[i]\n",
    "        precision = confidence  # Assuming precision is same as confidence for demonstration\n",
    "        \n",
    "        # Draw a bounding box with hacker green color\n",
    "        thickness = 1  # Thickness of the bounding box\n",
    "        \n",
    "        # Draw rectangle (bounding box)\n",
    "        cv2.rectangle(image, (x1, y1), (x2, y2), hacker_green, thickness)\n",
    "        \n",
    "        # Display accuracy and precision above the box\n",
    "        font_scale = 0.5  # Font size\n",
    "        label = f\"Acc: {confidence:.2f}, Prec: {precision:.2f}\"\n",
    "        cv2.putText(image, label, (x1, y1 - 10), cv2.FONT_HERSHEY_SIMPLEX, font_scale, sky_blue, 1)  # Text thickness set to 1\n",
    "\n",
    "    # Convert image from BGR to RGB for displaying\n",
    "    detected_image_rgb = cv2.cvtColor(image, cv2.COLOR_BGR2RGB)\n",
    "\n",
    "    # Display the image with bounding box and accuracy\n",
    "    plt.figure(figsize=(8, 8))\n",
    "    plt.imshow(detected_image_rgb)\n",
    "    plt.axis('off')\n",
    "    plt.title(\"Detected Tumor\")\n",
    "    plt.show()\n",
    "    \n",
    "    print(\"Image processed successfully!\")\n",
    "\n",
    "# Create upload button\n",
    "upload_button = Button(root, text=\"Upload Image\", command=upload_image, width=20, height=2)\n",
    "upload_button.pack(pady=30)\n",
    "\n",
    "# Create status label\n",
    "status_label = Label(root, text=\"Upload an image to detect brain tumors.\", wraplength=250)\n",
    "status_label.pack(pady=10)\n",
    "\n",
    "# Run the Tkinter event loop\n",
    "root.mainloop()\n"
   ]
  },
  {
   "cell_type": "code",
   "execution_count": null,
   "id": "a2d2c5ff-4702-4389-bfa0-3bdabec3da3d",
   "metadata": {},
   "outputs": [],
   "source": []
  }
 ],
 "metadata": {
  "kernelspec": {
   "display_name": "Python 3 (ipykernel)",
   "language": "python",
   "name": "python3"
  },
  "language_info": {
   "codemirror_mode": {
    "name": "ipython",
    "version": 3
   },
   "file_extension": ".py",
   "mimetype": "text/x-python",
   "name": "python",
   "nbconvert_exporter": "python",
   "pygments_lexer": "ipython3",
   "version": "3.12.6"
  }
 },
 "nbformat": 4,
 "nbformat_minor": 5
}
